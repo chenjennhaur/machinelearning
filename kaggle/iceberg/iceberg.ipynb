{
 "cells": [
  {
   "cell_type": "markdown",
   "metadata": {},
   "source": [
    "### Ideas\n",
    "* Data Augmentation\n",
    "* Fine Tuning CNN models with ResNet - Resize Images\n",
    "* Use Grey Scale (i.e. duplicate HH over 3 channels and HV over 3 channels)\n",
    "* Colour Composite - HH, HV , HH:HV\n",
    "* Optimization -- Try RMSProp / Learning Rate\n",
    "* Normalization\n",
    "* Semi Supervised Learning\n",
    "* Remote Sensing in Image Classification\n",
    "* EDA : HH - HV relation to incident angle\n",
    "* Use Edge Detection / Active Contour / Morphology\n",
    "* How to identify Rough Seas\n",
    "* Try Log Loss ? \n"
   ]
  },
  {
   "cell_type": "code",
   "execution_count": 39,
   "metadata": {},
   "outputs": [],
   "source": [
    "import numpy as np\n",
    "import pandas as pd\n",
    "from sklearn.model_selection import train_test_split\n",
    "from sklearn.metrics import log_loss\n",
    "from sklearn.model_selection import StratifiedKFold, StratifiedShuffleSplit\n",
    "from sklearn.preprocessing import StandardScaler\n",
    "\n",
    "import seaborn as sb\n",
    "\n",
    "from os.path import join as opj\n",
    "from matplotlib import pyplot as plt\n",
    "from mpl_toolkits.mplot3d import Axes3D\n",
    "import pylab\n",
    "plt.rcParams['figure.figsize'] = 10, 10\n",
    "%matplotlib inline\n",
    "\n",
    "#Import Keras.\n",
    "from matplotlib import pyplot\n",
    "\n",
    "from keras.preprocessing.image import ImageDataGenerator\n",
    "from keras.layers import Conv2D, MaxPooling2D, Dense, Dropout, Input, Flatten, Activation, GlobalMaxPooling2D\n",
    "from keras.layers.merge import Concatenate\n",
    "from keras.layers.normalization import BatchNormalization\n",
    "from keras.models import Model, Sequential\n",
    "from keras import initializers\n",
    "from keras.optimizers import RMSprop, Adam, SGD\n",
    "from keras.layers.advanced_activations import LeakyReLU, PReLU\n",
    "from keras.utils import to_categorical\n",
    "from keras.callbacks import ModelCheckpoint, Callback, EarlyStopping,ReduceLROnPlateau\n",
    "\n",
    "from keras.applications.vgg16 import VGG16\n",
    "from keras.applications.vgg16 import preprocess_input\n",
    "from keras.models import load_model"
   ]
  },
  {
   "cell_type": "code",
   "execution_count": 16,
   "metadata": {
    "collapsed": true
   },
   "outputs": [],
   "source": [
    "train = pd.read_json(\"data/processed/train.json\")\n",
    "test = pd.read_json(\"data/processed/test.json\")"
   ]
  },
  {
   "cell_type": "code",
   "execution_count": 17,
   "metadata": {},
   "outputs": [
    {
     "data": {
      "text/plain": [
       "0    851\n",
       "1    753\n",
       "Name: is_iceberg, dtype: int64"
      ]
     },
     "execution_count": 17,
     "metadata": {},
     "output_type": "execute_result"
    }
   ],
   "source": [
    "train.head(3)\n",
    "train[\"is_iceberg\"].value_counts()"
   ]
  },
  {
   "cell_type": "code",
   "execution_count": 22,
   "metadata": {},
   "outputs": [],
   "source": [
    "# icebergs = train[train.is_iceberg==1].sample(n=9,random_state=123)\n",
    "# ships = train[train.is_iceberg==0].sample(n=9,random_state=456)\n",
    "# icebergs['band_1'][733]"
   ]
  },
  {
   "cell_type": "code",
   "execution_count": 19,
   "metadata": {},
   "outputs": [],
   "source": [
    "# Plot band_2\n",
    "# fig = plt.figure(1,figsize=(15,15))\n",
    "# for i in range(9):\n",
    "#     ax = fig.add_subplot(3,3,i+1)\n",
    "#     arr = np.reshape(np.array(ships.iloc[i,1]),(75,75))\n",
    "#     ax.imshow(arr,cmap='inferno')\n",
    "    \n",
    "# plt.show()"
   ]
  },
  {
   "cell_type": "code",
   "execution_count": 20,
   "metadata": {},
   "outputs": [],
   "source": [
    "# Plot band_2\n",
    "# fig = plt.figure(1,figsize=(15,15))\n",
    "# for i in range(9):\n",
    "#     ax = fig.add_subplot(3,3,i+1)\n",
    "#     arr = np.reshape(np.array(icebergs.iloc[i,1]),(75,75))\n",
    "#     ax.imshow(arr,cmap='inferno')\n",
    "    \n",
    "# plt.show()"
   ]
  },
  {
   "cell_type": "code",
   "execution_count": 23,
   "metadata": {},
   "outputs": [
    {
     "name": "stdout",
     "output_type": "stream",
     "text": [
      "1604 8424\n"
     ]
    }
   ],
   "source": [
    "print(len(train),len(test))"
   ]
  },
  {
   "cell_type": "code",
   "execution_count": 24,
   "metadata": {
    "collapsed": true
   },
   "outputs": [],
   "source": [
    "#Generate the training data\n",
    "X_band_1=np.array([np.array(band).astype(np.float32).reshape(75, 75) for band in train[\"band_1\"]])\n",
    "X_band_2=np.array([np.array(band).astype(np.float32).reshape(75, 75) for band in train[\"band_2\"]])\n",
    "X_band_3=(X_band_1+X_band_2)/2\n",
    "# Axis = 1 refers to adding based on the last dimension\n",
    "train_image = np.concatenate([X_band_1[:, :, :, np.newaxis]\n",
    "                          , X_band_2[:, :, :, np.newaxis]\n",
    "                         , X_band_3[:, :, :, np.newaxis]], axis=-1)\n",
    "\n",
    "train_target =train['is_iceberg']\n",
    "train_angle = train['inc_angle']"
   ]
  },
  {
   "cell_type": "code",
   "execution_count": 25,
   "metadata": {
    "collapsed": true
   },
   "outputs": [],
   "source": [
    "X_band_test_1=np.array([np.array(band).astype(np.float32).reshape(75, 75) for band in test[\"band_1\"]])\n",
    "X_band_test_2=np.array([np.array(band).astype(np.float32).reshape(75, 75) for band in test[\"band_2\"]])\n",
    "X_band_test_3=(X_band_test_1+X_band_test_2)/2\n",
    "test_image = np.concatenate([X_band_test_1[:, :, :, np.newaxis]\n",
    "                          , X_band_test_2[:, :, :, np.newaxis]\n",
    "                         , X_band_test_3[:, :, :, np.newaxis]], axis=-1)\n",
    "\n",
    "test_angle = test['inc_angle']"
   ]
  },
  {
   "cell_type": "code",
   "execution_count": 26,
   "metadata": {},
   "outputs": [
    {
     "name": "stdout",
     "output_type": "stream",
     "text": [
      "(1604, 75, 75, 3) (1604, 75, 75) (75, 75, 3)\n"
     ]
    }
   ],
   "source": [
    "print(train_image.shape,X_band_1.shape,train_image.shape[1:])"
   ]
  },
  {
   "cell_type": "code",
   "execution_count": 27,
   "metadata": {
    "collapsed": true
   },
   "outputs": [],
   "source": [
    "# from keras.applications.resnet50 import ResNet50\n",
    "\n",
    "# def getResNetModel():\n",
    "#     model = ResNet50(weights='imagenet')\n",
    "#     return model\n",
    "\n",
    "# resmodel = getResNetModel()\n",
    "# resmodel.summary()"
   ]
  },
  {
   "cell_type": "code",
   "execution_count": 29,
   "metadata": {
    "collapsed": true
   },
   "outputs": [],
   "source": [
    "def getVggModel():\n",
    "    input_1 = Input(shape=train_image.shape[1:],name='pic')\n",
    "    input_2 = Input(shape=[1], name=\"angle\")\n",
    "    # Do batch normalization\n",
    "    \n",
    "    \n",
    "    base_model = VGG16(weights='imagenet', include_top=False)\n",
    "    \n",
    "    x = base_model.get_layer('block5_pool').output\n",
    "    x = GlobalMaxPooling2D()(x)\n",
    "    x = Dense(100)(x)\n",
    "    x = BatchNormalization()(x)\n",
    "    x = Activation('relu')(x)\n",
    "    predictions = Dense(1, activation='sigmoid')(x)\n",
    "    \n",
    "    model = Model(base_model.input,predictions)\n",
    "    \n",
    "    model.compile(loss='binary_crossentropy',optimizer=Adam(lr=0.001, decay=0.0),metrics=['accuracy'])    \n",
    "#     model.compile(loss='categorical_crossentropy',optimizer=Adam(),metrics=['accuracy'])\n",
    "    return model\n",
    "\n",
    "# Debugging\n",
    "# for layers in testmodel.layers:\n",
    "#     print(layers)"
   ]
  },
  {
   "cell_type": "code",
   "execution_count": null,
   "metadata": {
    "collapsed": true
   },
   "outputs": [],
   "source": [
    "def getModel():\n",
    "    #Build keras model\n",
    "    \n",
    "    model=Sequential()\n",
    "    \n",
    "    # CNN 1\n",
    "    model.add(Conv2D(64, kernel_size=(3, 3),activation='relu', input_shape=(75, 75, 3)))\n",
    "    model.add(MaxPooling2D(pool_size=(3, 3), strides=(2, 2)))\n",
    "    model.add(Dropout(0.2))\n",
    "\n",
    "    # CNN 2\n",
    "    model.add(Conv2D(128, kernel_size=(3, 3), activation='relu' ))\n",
    "    model.add(MaxPooling2D(pool_size=(2, 2), strides=(2, 2)))\n",
    "    model.add(Dropout(0.2))\n",
    "\n",
    "    # CNN 3\n",
    "    model.add(Conv2D(128, kernel_size=(3, 3), activation='relu'))\n",
    "    model.add(MaxPooling2D(pool_size=(2, 2), strides=(2, 2)))\n",
    "    model.add(Dropout(0.2))\n",
    "\n",
    "    #CNN 4\n",
    "    model.add(Conv2D(64, kernel_size=(3, 3), activation='relu'))\n",
    "    model.add(MaxPooling2D(pool_size=(2, 2), strides=(2, 2)))\n",
    "    model.add(Dropout(0.2))\n",
    "\n",
    "    # You must flatten the data for the dense layers\n",
    "    model.add(Flatten())\n",
    "\n",
    "    #Dense 1\n",
    "    model.add(Dense(512))\n",
    "    model.add(BatchNormalization())\n",
    "    model.add(Activation('relu'))\n",
    "#     model.add(Dense(512, activation='relu'))\n",
    "    model.add(Dropout(0.2))\n",
    "\n",
    "    #Dense 2\n",
    "    model.add(Dense(256, activation='relu'))\n",
    "    model.add(Dropout(0.2))\n",
    "\n",
    "    # Output \n",
    "    model.add(Dense(1, activation=\"sigmoid\"))\n",
    "\n",
    "    optimizer = Adam(lr=0.001, decay=0.0)\n",
    "    model.compile(loss='binary_crossentropy', optimizer=optimizer, metrics=['accuracy'])\n",
    "    \n",
    "    return model\n",
    "\n",
    "    "
   ]
  },
  {
   "cell_type": "markdown",
   "metadata": {},
   "source": [
    "## Option 1\n",
    "* Learning Rate - Set low than move on to high than reduce when starting to overfit\n",
    "* Add more Data\n",
    "* Data Augmentation\n",
    "* Batch Normalization\n",
    "* Add Dropout / Regularization"
   ]
  },
  {
   "cell_type": "code",
   "execution_count": null,
   "metadata": {
    "collapsed": true
   },
   "outputs": [],
   "source": [
    "# Splitting to test set and training set -- Option 1\n",
    "\n",
    "indices = np.arange(X_train.shape[0])\n",
    "np.random.shuffle(indices)\n",
    "X_train = X_train[indices]\n",
    "y_train = target_train[indices]\n",
    "nb_validations_samples = int(0.3*X_train.shape[0])\n",
    "X_val = X_train[-nb_validations_samples:]\n",
    "# y_val = to_categorical(y_train[-nb_validations_samples:])\n",
    "y_val = y_train[-nb_validations_samples:]\n",
    "\n",
    "X_train = X_train[:-nb_validations_samples]\n",
    "# y_train = to_categorical(y_train[:-nb_validations_samples])\n",
    "y_train = y_train[:-nb_validations_samples]"
   ]
  },
  {
   "cell_type": "code",
   "execution_count": null,
   "metadata": {
    "collapsed": true
   },
   "outputs": [],
   "source": [
    "# Splitting to test set and training set -- Option 2\n",
    "\n",
    "from sklearn.model_selection import train_test_split\n",
    "\n",
    "# X_train, X_valid, X_angle_train, X_angle_valid, y_train, y_valid = train_test_split(X_train,\n",
    "#                                     X_angle_train, y_train, random_state=123, train_size=0.75)\n",
    "\n",
    "\n",
    "X_train, X_val, X_ang,X_ang_val,y_train, y_val = train_test_split(train_image,train_angle,train_target,random_state=123,test_size=0.3)"
   ]
  },
  {
   "cell_type": "code",
   "execution_count": null,
   "metadata": {
    "collapsed": true
   },
   "outputs": [],
   "source": [
    "gen = ImageDataGenerator(rotation_range = 10)"
   ]
  },
  {
   "cell_type": "code",
   "execution_count": null,
   "metadata": {
    "collapsed": true
   },
   "outputs": [],
   "source": [
    "BATCH_SIZE = 64\n",
    "# STEPS_PER_EPOCH = X_train.shape[0] // BATCH_SIZE\n",
    "STEPS_PER_EPOCH = 100\n",
    "model = getVggModel()\n",
    "model.fit_generator(gen.flow(X_train,y_train,batch_size=BATCH_SIZE)\n",
    "                    ,steps_per_epoch=STEPS_PER_EPOCH,epochs=5,verbose=1,validation_data=(X_val, y_val))"
   ]
  },
  {
   "cell_type": "code",
   "execution_count": null,
   "metadata": {
    "collapsed": true
   },
   "outputs": [],
   "source": [
    "model.optimizer.lr = 1e-4"
   ]
  },
  {
   "cell_type": "code",
   "execution_count": 86,
   "metadata": {},
   "outputs": [
    {
     "name": "stdout",
     "output_type": "stream",
     "text": [
      "Epoch 1/5\n",
      "100/100 [==============================] - 14s - loss: 0.2252 - acc: 0.9096 - val_loss: 0.2143 - val_acc: 0.9044\n",
      "Epoch 2/5\n",
      "100/100 [==============================] - 14s - loss: 0.2095 - acc: 0.9143 - val_loss: 0.3369 - val_acc: 0.8711\n",
      "Epoch 3/5\n",
      "100/100 [==============================] - 14s - loss: 0.2002 - acc: 0.9210 - val_loss: 0.2279 - val_acc: 0.9044\n",
      "Epoch 4/5\n",
      "100/100 [==============================] - 14s - loss: 0.1955 - acc: 0.9202 - val_loss: 0.2128 - val_acc: 0.9064\n",
      "Epoch 5/5\n",
      "100/100 [==============================] - 15s - loss: 0.1901 - acc: 0.9239 - val_loss: 0.2429 - val_acc: 0.9064\n"
     ]
    },
    {
     "data": {
      "text/plain": [
       "<keras.callbacks.History at 0x7f7d41e47780>"
      ]
     },
     "execution_count": 86,
     "metadata": {},
     "output_type": "execute_result"
    }
   ],
   "source": [
    "model.fit_generator(gen.flow(X_train,y_train,batch_size=BATCH_SIZE)\n",
    "                    ,steps_per_epoch=STEPS_PER_EPOCH,epochs=5,verbose=1,validation_data=(X_val, y_val)\n",
    "                    ,callbacks=callbacks)"
   ]
  },
  {
   "cell_type": "code",
   "execution_count": 88,
   "metadata": {
    "collapsed": true
   },
   "outputs": [],
   "source": [
    "preds = model.predict(X_test)\n",
    "preds = preds.reshape(preds.shape[0])"
   ]
  },
  {
   "cell_type": "code",
   "execution_count": 101,
   "metadata": {},
   "outputs": [
    {
     "data": {
      "text/plain": [
       "<matplotlib.axes._subplots.AxesSubplot at 0x7f7d416657b8>"
      ]
     },
     "execution_count": 101,
     "metadata": {},
     "output_type": "execute_result"
    },
    {
     "data": {
      "image/png": "[encoded data removed]",
      "text/plain": [
       "<matplotlib.figure.Figure at 0x7f7d426f48d0>"
      ]
     },
     "metadata": {},
     "output_type": "display_data"
    }
   ],
   "source": [
    "import seaborn as sb\n",
    "sb.distplot(preds)"
   ]
  },
  {
   "cell_type": "code",
   "execution_count": 40,
   "metadata": {
    "collapsed": true
   },
   "outputs": [],
   "source": [
    "#Submission for each day.\n",
    "submission = pd.DataFrame()\n",
    "submission['id']=test['id']\n",
    "submission['is_iceberg']=preds\n",
    "submission.to_csv('sub.csv', index=False)"
   ]
  },
  {
   "cell_type": "markdown",
   "metadata": {},
   "source": [
    "## Option 2\n",
    "* loss: 0.1170 - acc: 0.9533 - val_loss: 0.2760 - val_acc: 0.9077\n",
    "* Try different Image Augmentation\n",
    "* Try different Models"
   ]
  },
  {
   "cell_type": "code",
   "execution_count": null,
   "metadata": {
    "collapsed": true
   },
   "outputs": [],
   "source": [
    "# TODO\n",
    "# Scale Images\n",
    "# scaler = StandardScaler()\n",
    "# scaler.fit_transform(train_image+test_image)"
   ]
  },
  {
   "cell_type": "code",
   "execution_count": 54,
   "metadata": {
    "collapsed": true
   },
   "outputs": [],
   "source": [
    "NUM_EPOCH = 80\n",
    "STEPS_PER_EPOCH = 100\n",
    "BATCH_SIZE = 32\n",
    "\n",
    "gen = ImageDataGenerator(horizontal_flip = False,\n",
    "                         vertical_flip = False,\n",
    "                         width_shift_range = 0.,\n",
    "                         height_shift_range = 0.,\n",
    "                         channel_shift_range=0.,\n",
    "                         zoom_range = 0.1,\n",
    "                         rotation_range = 15)\n",
    "\n",
    "\n",
    "#base CV structure\n",
    "def get_callbacks(filepath, patience=10):\n",
    "    es = EarlyStopping('val_loss', patience=10, mode=\"min\")\n",
    "    msave = ModelCheckpoint(filepath, save_best_only=True,monitor='val_loss', mode='min')\n",
    "    reduce_lr_loss = ReduceLROnPlateau(monitor='val_loss', factor=0.1, patience=7, verbose=1, epsilon=1e-4, mode='min')\n",
    "    return [es, msave,reduce_lr_loss]\n",
    "def myBaseCrossTrain(feature, target, model):\n",
    "    folds = list(StratifiedKFold(n_splits=4, shuffle=True, random_state=16).split(feature, target))\n",
    "    y_test_pred_log = 0\n",
    "    y_valid_pred_log = np.zeros(feature.shape[0])\n",
    "    for j, (train_idx, valid_idx) in enumerate(folds):\n",
    "        print('\\n===================FOLD=',j)\n",
    "        X_train_cv = feature[train_idx]\n",
    "        y_train_cv = target[train_idx]\n",
    "        X_holdout = feature[valid_idx]\n",
    "        Y_holdout= target[valid_idx]\n",
    "        file_path = \"%s_model_weights.hdf5\"%j\n",
    "        callbacks = get_callbacks(filepath=file_path, patience=10)\n",
    "        \n",
    "        \n",
    "        model.fit_generator(gen.flow(X_train_cv,y_train_cv,batch_size=BATCH_SIZE),\n",
    "                  steps_per_epoch=STEPS_PER_EPOCH,\n",
    "                  epochs=NUM_EPOCH,\n",
    "                  verbose=1,\n",
    "                  validation_data=(X_holdout, Y_holdout),\n",
    "                  callbacks=callbacks)\n",
    "\n",
    "        #Getting the Best Model in this fold\n",
    "        model.load_weights(filepath=file_path)\n",
    "        \n",
    "        #Getting Training Score\n",
    "        score = model.evaluate(X_train_cv, y_train_cv, verbose=0)\n",
    "        print('Train loss:', score[0])\n",
    "        print('Train accuracy:', score[1])\n",
    "        #Getting Test Score\n",
    "        score = model.evaluate(X_holdout, Y_holdout, verbose=0)\n",
    "        print('Validation loss:', score[0])\n",
    "        print('Validation accuracy:', score[1])\n",
    "\n",
    "        #Getting validation Score.\n",
    "        pred_valid=model.predict(X_holdout)\n",
    "        y_valid_pred_log[valid_idx] = pred_valid.reshape(pred_valid.shape[0])\n",
    "\n",
    "        #Getting Test Scores\n",
    "        single_fold_test = model.predict(test_image)\n",
    "        y_test_pred_log+=single_fold_test.reshape(single_fold_test.shape[0])\n",
    "    \n",
    "    # Get the average prediction score from the 4 models with cross validation\n",
    "    y_test_pred_log=y_test_pred_log/4\n",
    "\n",
    "    print('\\nLog Loss Validation= ',log_loss(target, y_valid_pred_log))\n",
    "    return y_test_pred_log"
   ]
  },
  {
   "cell_type": "code",
   "execution_count": null,
   "metadata": {
    "scrolled": false
   },
   "outputs": [
    {
     "name": "stdout",
     "output_type": "stream",
     "text": [
      "\n",
      "===================FOLD= 0\n",
      "Epoch 1/80\n",
      "100/100 [==============================] - 10s - loss: 0.5124 - acc: 0.7395 - val_loss: 5.2409 - val_acc: 0.5299\n",
      "Epoch 2/80\n",
      "100/100 [==============================] - 9s - loss: 0.4145 - acc: 0.8134 - val_loss: 0.6622 - val_acc: 0.7612\n",
      "Epoch 3/80\n",
      "100/100 [==============================] - 9s - loss: 0.3539 - acc: 0.8465 - val_loss: 2.3056 - val_acc: 0.5473\n",
      "Epoch 4/80\n",
      "100/100 [==============================] - 10s - loss: 0.2973 - acc: 0.8714 - val_loss: 0.3007 - val_acc: 0.8756\n",
      "Epoch 5/80\n",
      "100/100 [==============================] - 8s - loss: 0.2703 - acc: 0.8799 - val_loss: 0.3115 - val_acc: 0.8905\n",
      "Epoch 6/80\n",
      "100/100 [==============================] - 9s - loss: 0.2547 - acc: 0.8954 - val_loss: 0.2755 - val_acc: 0.8930\n",
      "Epoch 7/80\n",
      "100/100 [==============================] - 9s - loss: 0.2351 - acc: 0.9075 - val_loss: 0.2929 - val_acc: 0.9030\n",
      "Epoch 8/80\n",
      "100/100 [==============================] - 9s - loss: 0.2188 - acc: 0.9129 - val_loss: 0.2663 - val_acc: 0.8856\n",
      "Epoch 9/80\n",
      " 32/100 [========>.....................] - ETA: 6s - loss: 0.2182 - acc: 0.9199"
     ]
    }
   ],
   "source": [
    "preds=myBaseCrossTrain(train_image, train_target,model=getVggModel())"
   ]
  },
  {
   "cell_type": "code",
   "execution_count": null,
   "metadata": {
    "collapsed": true
   },
   "outputs": [],
   "source": [
    "#0.1639 on the public leaderboard\n",
    "gen = ImageDataGenerator(horizontal_flip = True,vertical_flip = True,width_shift_range = 0.,height_shift_range = 0.,channel_shift_range=0,zoom_range = 0.2,rotation_range = 10)\n",
    "galaxyModel.fit(X_train_cv, y_train_cv,batch_size=24,epochs=80,verbose=1,validation_data=(X_holdout, Y_holdout),callbacks=callbacks)\n",
    "\n",
    "Train loss: 0.0793685312089\n",
    "Train accuracy: 0.975913620866\n",
    "Test loss: 0.258395348191\n",
    "Test accuracy: 0.895\n",
    "\n",
    "Log Loss Validation=  0.211045624827"
   ]
  },
  {
   "cell_type": "code",
   "execution_count": null,
   "metadata": {
    "collapsed": true
   },
   "outputs": [],
   "source": [
    "#Submission for each day.\n",
    "submission = pd.DataFrame()\n",
    "submission['id']=test['id']\n",
    "submission['is_iceberg']=preds\n",
    "submission.to_csv('sub.csv', index=False)"
   ]
  }
 ],
 "metadata": {
  "anaconda-cloud": {},
  "kernelspec": {
   "display_name": "Python [tensorflow]",
   "language": "python",
   "name": "Python [tensorflow]"
  },
  "language_info": {
   "codemirror_mode": {
    "name": "ipython",
    "version": 3
   },
   "file_extension": ".py",
   "mimetype": "text/x-python",
   "name": "python",
   "nbconvert_exporter": "python",
   "pygments_lexer": "ipython3",
   "version": "3.6.3"
  }
 },
 "nbformat": 4,
 "nbformat_minor": 1
}
