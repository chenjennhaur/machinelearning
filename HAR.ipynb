{
 "cells": [
  {
   "cell_type": "code",
   "execution_count": 54,
   "metadata": {
    "collapsed": false
   },
   "outputs": [],
   "source": [
    "import pandas as pd\n",
    "import numpy as np\n",
    "import seaborn as sb\n",
    "import matplotlib.pyplot as plt  \n",
    "from ipywidgets import widgets\n",
    "from sklearn.tree import DecisionTreeClassifier\n",
    "from sklearn.cross_validation import train_test_split\n",
    "from sklearn.metrics import classification_report\n",
    "from sklearn.pipeline import Pipeline\n",
    "from sklearn.grid_search import GridSearchCV\n",
    "from sklearn.ensemble import RandomForestClassifier\n",
    "from sklearn.ensemble import AdaBoostClassifier\n",
    "from sklearn import tree\n",
    "\n",
    "%matplotlib inline"
   ]
  },
  {
   "cell_type": "code",
   "execution_count": 2,
   "metadata": {
    "collapsed": false
   },
   "outputs": [
    {
     "name": "stderr",
     "output_type": "stream",
     "text": [
      "C:\\Users\\jennhaur\\AppData\\Local\\Continuum\\Anaconda3\\lib\\site-packages\\IPython\\core\\interactiveshell.py:2902: DtypeWarning: Columns (17) have mixed types. Specify dtype option on import or set low_memory=False.\n",
      "  interactivity=interactivity, compiler=compiler, result=result)\n"
     ]
    }
   ],
   "source": [
    "har_ds = pd.read_table('dataset-har-pair-fb.csv',sep=';')"
   ]
  },
  {
   "cell_type": "code",
   "execution_count": 3,
   "metadata": {
    "collapsed": false
   },
   "outputs": [],
   "source": [
    "#f = lambda x : x[0]+x[1]\n",
    "#har_ds['height'] = har_ds['how_tall_in_meters'].str.split(\",\").apply(f).astype(int)\n",
    "har_ds['height'] = har_ds['how_tall_in_meters'].str.split(\",\").apply(lambda x : x[0]+x[1]).astype(int)\n",
    "del har_ds['how_tall_in_meters']"
   ]
  },
  {
   "cell_type": "code",
   "execution_count": 4,
   "metadata": {
    "collapsed": false
   },
   "outputs": [],
   "source": [
    "#f = lambda x : int(x[0])+int(x[1])/10\n",
    "#har_ds['body_mass_index'].str.split(\",\").apply(lambda x : int(x[0])+int(x[1])/10)\n",
    "har_ds['bmi'] = har_ds['body_mass_index'].str.split(\",\").apply(lambda x : int(x[0])+int(x[1])/10)\n",
    "del har_ds['body_mass_index']"
   ]
  },
  {
   "cell_type": "code",
   "execution_count": 5,
   "metadata": {
    "collapsed": false
   },
   "outputs": [
    {
     "name": "stderr",
     "output_type": "stream",
     "text": [
      "C:\\Users\\jennhaur\\AppData\\Local\\Continuum\\Anaconda3\\lib\\site-packages\\ipykernel\\__main__.py:5: FutureWarning: convert_objects is deprecated.  Use the data-type specific converters pd.to_datetime, pd.to_timedelta and pd.to_numeric.\n"
     ]
    },
    {
     "data": {
      "text/plain": [
       "user       object\n",
       "gender     object\n",
       "age         int64\n",
       "weight      int64\n",
       "x1          int64\n",
       "y1          int64\n",
       "z1          int64\n",
       "x2          int64\n",
       "y2          int64\n",
       "z2          int64\n",
       "x3          int64\n",
       "y3          int64\n",
       "z3          int64\n",
       "x4          int64\n",
       "y4          int64\n",
       "z4        float64\n",
       "class      object\n",
       "height      int32\n",
       "bmi       float64\n",
       "dtype: object"
      ]
     },
     "execution_count": 5,
     "metadata": {},
     "output_type": "execute_result"
    }
   ],
   "source": [
    "#pd.unique(har_ds['z4'])\n",
    "#har_ds['z4'].to_numeric()\n",
    "#har_ds['z4'].astype(int)\n",
    "\n",
    "har_ds['z4'] = har_ds['z4'].convert_objects(convert_numeric=True)\n",
    "har_ds.dtypes\n"
   ]
  },
  {
   "cell_type": "code",
   "execution_count": null,
   "metadata": {
    "collapsed": false
   },
   "outputs": [],
   "source": [
    "\n",
    "\n",
    "#Option 1\n",
    "#fig, ax = plt.subplots(5,1,sharex=True)\n",
    "#har_ds[['class','x1']].groupby('class').boxplot(subplots=True,layout=(1,5),figsize=(15,3),sym=\"\")\n",
    "\n",
    "#Option 2\n",
    "#show outliers\n",
    "#har_ds[['class','x1']].boxplot(by='class',sym=\"k.\")\n",
    "#ignore outliers\n",
    "har_ds[['class','x1']].boxplot(by='class',sym=\"\")\n",
    "har_ds[['class','x2']].boxplot(by='class',sym=\"\")\n",
    "har_ds[['class','x3']].boxplot(by='class',sym=\"\")\n",
    "har_ds[['class','x4']].boxplot(by='class',sym=\"\")\n",
    "har_ds[['class','x1','x2','x3','x4']].boxplot(by='class',sym=\"\")\n",
    "\n",
    "#Option 3\n",
    "#df = har_ds[['class','x1']]\n",
    "#df2 = df.pivot(columns=df.columns[0])\n",
    "#df2.boxplot()\n",
    "        "
   ]
  },
  {
   "cell_type": "code",
   "execution_count": null,
   "metadata": {
    "collapsed": false,
    "scrolled": false
   },
   "outputs": [],
   "source": [
    "df = har_ds[['class','x1','x2']]\n",
    "groups = df[(df['class'] == \"sitting\") | (df['class'] == \"standing\")].groupby('class')\n",
    "\n",
    "groups.plot(x=groups['x1'],y=groups['x2'],kind='scatter',subplots=True,layout=(1,2),figsize=(15,30),legends=True)\n",
    "\n",
    "#Option 2\n",
    "#fig, ax = plt.subplots()\n",
    "# ax.margins(0.05) # Optional, just adds 5% padding to the autoscaling\n",
    "# for name, group in groups:\n",
    "#     ax.plot(group.x1, group.x2, marker='o', linestyle='', ms=12, label=name)\n",
    "# ax.legend()\n",
    "# plt.show()\n",
    "\n",
    "#har_ds.plot.scatter(x='x1',y='x2')\n",
    "#har_ds[['class','x1','x2']].groupby('class').plot.scatter(subplots=True,layout=(1,5),figsize=(15,3),sym=\"\")\n",
    "\n"
   ]
  },
  {
   "cell_type": "code",
   "execution_count": 53,
   "metadata": {
    "collapsed": false
   },
   "outputs": [
    {
     "data": {
      "text/plain": [
       "<seaborn.axisgrid.FacetGrid at 0xf1fd750>"
      ]
     },
     "execution_count": 53,
     "metadata": {},
     "output_type": "execute_result"
    },
    {
     "data": {
      "image/png": "[encoded data removed]",
      "text/plain": [
       "<matplotlib.figure.Figure at 0x93c7770>"
      ]
     },
     "metadata": {},
     "output_type": "display_data"
    }
   ],
   "source": [
    "#x1 = waist, x2 = thigh, x3 = ankle, x4 = arm\n",
    "\n",
    "#g = sb.FacetGrid(har_ds,col='class')\n",
    "#g.map(plt.scatter,\"x1\",\"x2\")\n",
    "#g.map(plt.hist,\"x1\")\n",
    "\n",
    "# g1 = sb.FacetGrid(har_ds,col='class',row='gender',margin_titles=True)\n",
    "# g1.map(plt.scatter,'x1','x2')\n",
    "# g1.add_legend()\n",
    "\n",
    "# g2 = sb.FacetGrid(har_ds,col='class',sharey=False,margin_titles=True)\n",
    "# g2.map(sb.boxplot,'gender','x1')\n",
    "# g2.add_legend()\n",
    "\n",
    "#Stacking\n",
    "df = har_ds.set_index(['user','gender','class','weight','bmi','height','age'])\n",
    "df = df.stack().reset_index()\n",
    "df.columns = ['user','gender','class','weight','bmi','height','age','s_axis','s_value']\n",
    "df['s_loc'] = df['s_axis'].apply(lambda x: x[1:2])\n",
    "df['s_ax'] = df['s_axis'].apply(lambda x: x[:1])\n",
    "\n",
    "#dff = df[(df['s_ax'] == \"x\")]\n",
    "g3 = sb.FacetGrid(df,col='class',row='s_ax',sharey=True,margin_titles=True)\n",
    "g3.map(sb.boxplot,'s_loc','s_value',sym=\"\")\n",
    "g3.add_legend()"
   ]
  },
  {
   "cell_type": "code",
   "execution_count": 7,
   "metadata": {
    "collapsed": false
   },
   "outputs": [
    {
     "data": {
      "text/plain": [
       "user      False\n",
       "gender    False\n",
       "age       False\n",
       "weight    False\n",
       "x1        False\n",
       "y1        False\n",
       "z1        False\n",
       "x2        False\n",
       "y2        False\n",
       "z2        False\n",
       "x3        False\n",
       "y3        False\n",
       "z3        False\n",
       "x4        False\n",
       "y4        False\n",
       "z4        False\n",
       "class     False\n",
       "height    False\n",
       "bmi       False\n",
       "dtype: bool"
      ]
     },
     "execution_count": 7,
     "metadata": {},
     "output_type": "execute_result"
    }
   ],
   "source": [
    "#Data Cleansing NaN\n",
    "# %timeit har_ds.isnull().any()\n",
    "#har_ds.isnull().sum()\n",
    "\n",
    "har_ds.isnull().any()\n",
    "har_ds.loc[har_ds['z4'].isnull().nonzero()]\n",
    "\n",
    "har_ds_new = har_ds.drop(har_ds.index[122076])\n",
    "#har_ds_new.loc[har_ds_new['z4'].isnull().nonzero()]\n",
    "har_ds_new.isnull().any()"
   ]
  },
  {
   "cell_type": "code",
   "execution_count": 8,
   "metadata": {
    "collapsed": false
   },
   "outputs": [],
   "source": [
    "#Pandas Dummies to change Classes to One-Hot Encoding\n",
    "har_ds_oh = pd.get_dummies(har_ds_new)"
   ]
  },
  {
   "cell_type": "code",
   "execution_count": 9,
   "metadata": {
    "collapsed": false
   },
   "outputs": [
    {
     "data": {
      "text/plain": [
       "array(['age', 'weight', 'x1', 'y1', 'z1', 'x2', 'y2', 'z2', 'x3', 'y3',\n",
       "       'z3', 'x4', 'y4', 'z4', 'height', 'bmi', 'user_debora',\n",
       "       'user_jose_carlos', 'user_katia', 'user_wallace', 'gender_Man',\n",
       "       'gender_Woman', 'class_sitting', 'class_sittingdown',\n",
       "       'class_standing', 'class_standingup', 'class_walking'], dtype=object)"
      ]
     },
     "execution_count": 9,
     "metadata": {},
     "output_type": "execute_result"
    }
   ],
   "source": [
    "pd.unique(har_ds['user'])\n",
    "har_ds_oh.columns.values"
   ]
  },
  {
   "cell_type": "markdown",
   "metadata": {
    "collapsed": true
   },
   "source": [
    "C4.5 Decision Tree / ID3 / Adaboost ? Adaboost with 10 iteration, C4.5 confidence factor 0.25\n",
    "http://scikit-learn.org/stable/modules/tree.html#tree-algorithms-id3-c4-5-c5-0-and-cart\n",
    "http://scikit-learn.org/stable/modules/generated/sklearn.tree.DecisionTreeClassifier.html\n",
    "http://scikit-learn.org/stable/auto_examples/tree/plot_iris.html#example-tree-plot-iris-py\n",
    "http://scikit-learn.org/stable/auto_examples/ensemble/plot_adaboost_hastie_10_2.html#example-ensemble-plot-adaboost-hastie-10-2-py\n"
   ]
  },
  {
   "cell_type": "code",
   "execution_count": 37,
   "metadata": {
    "collapsed": false
   },
   "outputs": [
    {
     "name": "stdout",
     "output_type": "stream",
     "text": [
      "Fitting 3 folds for each of 8 candidates, totalling 24 fits\n",
      "Best score: 0.983\n",
      "Best parameters set:\n",
      "\tclf__max_depth: 20\n",
      "\tclf__min_samples_leaf: 1\n",
      "\tclf__min_samples_split: 1\n",
      "             precision    recall  f1-score   support\n",
      "\n",
      "          0       1.00      1.00      1.00     12716\n",
      "          1       0.95      0.96      0.96      2963\n",
      "          2       0.99      0.99      0.99     11727\n",
      "          3       0.95      0.94      0.94      3140\n",
      "          4       0.99      0.98      0.98     10862\n",
      "\n",
      "avg / total       0.99      0.99      0.99     41408\n",
      "\n"
     ]
    },
    {
     "name": "stderr",
     "output_type": "stream",
     "text": [
      "[Parallel(n_jobs=-1)]: Done  24 out of  24 | elapsed:   22.7s finished\n"
     ]
    }
   ],
   "source": [
    "# Decision Tree - Entropy\n",
    "\n",
    "# 99.4% using 10-fold cross validation (sitting 100%, sitting down 96.9% , standing 99.8% , standing up 96.9% walking 99.8%)\n",
    "# Confusion Matrix\n",
    "\n",
    "\n",
    "X = har_ds_oh[['age', 'weight', 'x1', 'y1', 'z1', 'x2', 'y2', 'z2', 'x3', 'y3','z3', 'x4', 'y4', 'z4', 'height', 'bmi',\n",
    "               'gender_Man','gender_Woman']].values\n",
    "y = har_ds_oh[['class_sitting', 'class_sittingdown','class_standing', 'class_standingup', 'class_walking']].values\n",
    "X_train, X_test, y_train , y_test = train_test_split(X,y)\n",
    "pipeline = Pipeline([('clf',DecisionTreeClassifier(criterion='entropy'))])\n",
    "parameters = {\n",
    "    'clf__max_depth' : [15,20],\n",
    "    'clf__min_samples_split' : [1,2],\n",
    "    'clf__min_samples_leaf' : [1,2]\n",
    "}\n",
    "\n",
    "grid_search = GridSearchCV(pipeline,parameters,n_jobs=-1,verbose=1,scoring='f1',cv=3)\n",
    "grid_search.fit(X_train,y_train)\n",
    "\n",
    "print('Best score: %0.3f' % grid_search.best_score_)\n",
    "print ('Best parameters set:')\n",
    "best_parameters = grid_search.best_estimator_.get_params()\n",
    "for param_name in sorted(parameters.keys()):\n",
    "  print('\\t%s: %r' % (param_name, best_parameters[param_name]))\n",
    "\n",
    "predictions = grid_search.predict(X_test)\n",
    "print(classification_report(y_test, predictions))\n",
    "#y_test[:,1].sum()\n",
    "# Class 0 - 'class_sitting'\n",
    "#'Class 1 - class_sittingdown'\n",
    "#'Class 2 - class_standing'\n",
    "#'Class 3 - class_standingup'\n",
    "#'Class 4 - class_walking'\n",
    "\n",
    "\n",
    "# dt = DecisionTreeClassifier(criterion='entropy',max_depth=5)\n",
    "# dt.fit(X_train,y_train)\n",
    "# dt_pred = dt.predict(X_test)\n",
    "# print(classification_report(y_test, dt_pred))\n",
    "# print(dt.feature_importances_)\n",
    "# print(dt.feature_importances_[np.argmax(dt.feature_importances_)])"
   ]
  },
  {
   "cell_type": "code",
   "execution_count": 52,
   "metadata": {
    "collapsed": false
   },
   "outputs": [
    {
     "name": "stdout",
     "output_type": "stream",
     "text": [
      "             precision    recall  f1-score   support\n",
      "\n",
      "          0       0.98      0.98      0.98     12716\n",
      "          1       0.87      0.13      0.23      2963\n",
      "          2       0.93      0.71      0.80     11727\n",
      "          3       1.00      0.01      0.02      3140\n",
      "          4       0.84      0.79      0.82     10862\n",
      "\n",
      "avg / total       0.93      0.72      0.76     41408\n",
      "\n",
      "[ 0.00055394  0.00068419  0.00042398  0.05810458  0.39790539  0.00130456\n",
      "  0.12168208  0.12718474  0.04053625  0.15597824  0.04750721  0.00517959\n",
      "  0.          0.04295525  0.          0.          0.          0.          0.\n",
      "  0.          0.          0.        ]\n",
      "0.397905387561\n"
     ]
    }
   ],
   "source": [
    "#Test running on a single tree\n",
    "#The most important factor seems to be the waist \n",
    "\n",
    "\n",
    "#tree.export_graphviz(dt,out_file='tree.dot')  \n",
    "#pipeline.named_steps['clf'].feature_importances_\n",
    "#tree.export_graphviz(pipeline.named_steps['clf'],out_file='tree.dot')  \n"
   ]
  },
  {
   "cell_type": "code",
   "execution_count": 89,
   "metadata": {
    "collapsed": false
   },
   "outputs": [
    {
     "name": "stdout",
     "output_type": "stream",
     "text": [
      "             precision    recall  f1-score   support\n",
      "\n",
      "          0       1.00      1.00      1.00     12570\n",
      "          1       0.99      0.99      0.99      3037\n",
      "          2       1.00      1.00      1.00     11767\n",
      "          3       0.99      0.99      0.99      3162\n",
      "          4       1.00      1.00      1.00     10872\n",
      "\n",
      "avg / total       1.00      1.00      1.00     41408\n",
      "\n",
      "[ 0.01318239  0.0065145          nan         nan  0.09342602         nan\n",
      "  0.09344103         nan  0.07909927         nan         nan         nan\n",
      "  0.07255894         nan  0.00541656  0.00650988  0.00475261  0.00136151\n",
      "  0.00362301  0.0016793   0.00135099  0.00152325]\n",
      "nan\n"
     ]
    }
   ],
   "source": [
    "#Decision Tree with Adaboost \n",
    "\n",
    "\n",
    "X = har_ds_oh[['age', 'weight', 'x1', 'y1', 'z1', 'x2', 'y2', 'z2', 'x3', 'y3','z3', 'x4', 'y4', 'z4', 'height', 'bmi', \n",
    "    'gender_Man','gender_Woman']].values\n",
    "y = har_ds_new['class'].astype('category').cat.codes\n",
    "X_train, X_test, y_train , y_test = train_test_split(X,y)\n",
    "\n",
    "dtc = DecisionTreeClassifier(criterion='entropy',max_depth=20)\n",
    "bdt = AdaBoostClassifier(base_estimator = dtc,n_estimators=600,learning_rate=1)\n",
    "\n",
    "bdt_parameters = {\n",
    "    'base_estimator__max_depth' : [20],\n",
    "    'n_estimators' : [200],\n",
    "    'learning_rate' : [0.5,1,1.5]\n",
    "}\n",
    "\n",
    "\n",
    "gs_bdt = GridSearchCV(bdt,bdt_parameters,n_jobs=-1)\n",
    "gs_bdt.fit(X_train,y_train)\n",
    "\n",
    "print('Best score: %0.3f' % gs_bdt.best_score_)\n",
    "print ('Best parameters set:')\n",
    "gs_bdt_bp = gs_bdt.best_estimator_.get_params()\n",
    "for param_name in sorted(bdt_parameters.keys()):\n",
    "  print('\\t%s: %r' % (param_name, gs_bdt_bp[param_name]))\n",
    "\n",
    "bdt_pred = g_bdt.predict(X_test)\n",
    "print(classification_report(y_test, bdt_pred))\n",
    "\n",
    "\n",
    "# Single Fitting\n",
    "# bdt.fit(X_train,y_train)\n",
    "# bdt_pred = bdt.predict(X_test)\n",
    "# print(classification_report(y_test, bdt_pred))\n",
    "# print(bdt.feature_importances_)\n",
    "# print(bdt.feature_importances_[np.argmax(bdt.feature_importances_)])\n",
    "# Interesting to note that \n",
    "\n",
    "\n",
    "#print tree graph"
   ]
  },
  {
   "cell_type": "code",
   "execution_count": 88,
   "metadata": {
    "collapsed": false
   },
   "outputs": [
    {
     "data": {
      "text/plain": [
       "dtype('int8')"
      ]
     },
     "execution_count": 88,
     "metadata": {},
     "output_type": "execute_result"
    }
   ],
   "source": [
    "#Random Forest\n",
    "\n",
    "X = har_ds_oh[['age', 'weight', 'x1', 'y1', 'z1', 'x2', 'y2', 'z2', 'x3', 'y3','z3', 'x4', 'y4', 'z4', 'height', 'bmi', \n",
    "    'gender_Man','gender_Woman']].values\n",
    "y = har_ds_oh[['class_sitting', 'class_sittingdown','class_standing', 'class_standingup', 'class_walking']].values\n",
    "X_train, X_test, y_train , y_test = train_test_split(X,y)\n",
    "\n",
    "pipeline_rf = Pipeline([('rf', RandomForestClassifier(criterion='entropy'))])\n",
    "parameters_rf = {\n",
    "  'rf__n_estimators': (5, 10, 20, 50),\n",
    "  'rf__max_depth': (50, 150, 250),\n",
    "  'rf__min_samples_split': (1, 2, 3),\n",
    "  'rf__min_samples_leaf': (1, 2, 3)\n",
    "}\n",
    "\n",
    "rf_gs = GridSearchCV(pipeline_rf,parameters_rf,n_jobs=-1)\n",
    "rf_gs.fit(X_train,y_train)\n",
    "\n",
    "print('Best score: %0.3f' % rf_gs.best_score_)\n",
    "print ('Best parameters set:')\n",
    "best_parameters_rf = rf_gs.best_estimator_.get_params()\n",
    "for param_name in sorted(parameters_rf.keys()):\n",
    "  print('\\t%s: %r' % (param_name, best_parameters_rf[param_name]))\n",
    "\n",
    "rf_pred = rf_gs.predict(X_test)\n",
    "print(classification_report(y_test, rf_pred))"
   ]
  },
  {
   "cell_type": "markdown",
   "metadata": {},
   "source": [
    "Learning -- Only at the very end, then i realize i have been doing ML on the user!"
   ]
  }
 ],
 "metadata": {
  "kernelspec": {
   "display_name": "Python 3",
   "language": "python",
   "name": "python3"
  },
  "language_info": {
   "codemirror_mode": {
    "name": "ipython",
    "version": 3
   },
   "file_extension": ".py",
   "mimetype": "text/x-python",
   "name": "python",
   "nbconvert_exporter": "python",
   "pygments_lexer": "ipython3",
   "version": "3.5.1"
  }
 },
 "nbformat": 4,
 "nbformat_minor": 0
}
