{
 "cells": [
  {
   "cell_type": "code",
   "execution_count": 29,
   "metadata": {
    "collapsed": true
   },
   "outputs": [],
   "source": [
    "import logging, gensim\n",
    "from gensim import corpora, models, similarities,matutils\n",
    "import seaborn as sb\n",
    "import matplotlib.pyplot as plt\n",
    "import sklearn.datasets\n",
    "import nltk\n",
    "# nltk.download()\n",
    "from nltk import word_tokenize\n",
    "from nltk import sent_tokenize\n",
    "import numpy as np\n",
    "from scipy.spatial import distance\n",
    "from sklearn.feature_extraction.text import TfidfVectorizer\n",
    "from sklearn.feature_extraction.text import CountVectorizer\n",
    "from nltk.tokenize import RegexpTokenizer\n",
    "from nltk.corpus import stopwords\n",
    "\n",
    "\n",
    "%matplotlib inline\n",
    "\n",
    "logging.basicConfig(format='%(asctime)s : %(levelname)s : %(message)s',level=logging.INFO)"
   ]
  },
  {
   "cell_type": "code",
   "execution_count": 2,
   "metadata": {
    "collapsed": true
   },
   "outputs": [],
   "source": [
    "# Load Data\n",
    "corpus = corpora.MmCorpus('20newsgroup.mm')\n",
    "dictionary = corpora.Dictionary.load('20newsgroup.dict')"
   ]
  },
  {
   "cell_type": "code",
   "execution_count": 134,
   "metadata": {
    "collapsed": true
   },
   "outputs": [],
   "source": [
    "# ap.dat - Each document is one line with - N fieldId1:fieldValue1 fieldId2:fieldValue2 ... fieldIdN:fieldValueN\n",
    "# The vocabulary is a file with words, one word per line; word at line K has an implicit id=K.\n",
    "corpus = corpora.BleiCorpus('ap.dat','vocab.txt')"
   ]
  },
  {
   "cell_type": "code",
   "execution_count": 3,
   "metadata": {
    "collapsed": false
   },
   "outputs": [
    {
     "name": "stderr",
     "output_type": "stream",
     "text": [
      "WARNING:gensim.models.ldamodel:too few updates, training might not converge; consider increasing the number of passes or iterations to improve accuracy\n"
     ]
    }
   ],
   "source": [
    "# Smaller alpha will result in fewer topics for each document\n",
    "model = models.ldamodel.LdaModel(corpus,num_topics=100,id2word=corpus.id2word,alpha=1)"
   ]
  },
  {
   "cell_type": "code",
   "execution_count": 136,
   "metadata": {
    "collapsed": false
   },
   "outputs": [
    {
     "name": "stdout",
     "output_type": "stream",
     "text": [
      "<gensim.corpora.bleicorpus.BleiCorpus object at 0x000002A2D60E9630>\n"
     ]
    }
   ],
   "source": [
    "print(corpus)\n",
    "# doc = corpus.docbyoffset(0)\n",
    "# topics = model[doc]\n",
    "# print(topics)"
   ]
  },
  {
   "cell_type": "code",
   "execution_count": 5,
   "metadata": {
    "collapsed": false
   },
   "outputs": [],
   "source": [
    "num_topics_used = [len(model[doc]) for doc in corpus]"
   ]
  },
  {
   "cell_type": "code",
   "execution_count": 6,
   "metadata": {
    "collapsed": false
   },
   "outputs": [
    {
     "data": {
      "text/plain": [
       "(array([  56.,   89.,  224.,  424.,  764.,  484.,  144.,   44.,   11.,    6.]),\n",
       " array([  1. ,   5.7,  10.4,  15.1,  19.8,  24.5,  29.2,  33.9,  38.6,\n",
       "         43.3,  48. ]),\n",
       " <a list of 10 Patch objects>)"
      ]
     },
     "execution_count": 6,
     "metadata": {},
     "output_type": "execute_result"
    },
    {
     "data": {
      "image/png": "[encoded data removed]",
      "text/plain": [
       "<matplotlib.figure.Figure at 0x2a2d4c95d30>"
      ]
     },
     "metadata": {},
     "output_type": "display_data"
    }
   ],
   "source": [
    "plt.hist(num_topics_used)"
   ]
  },
  {
   "cell_type": "code",
   "execution_count": 4,
   "metadata": {
    "collapsed": true
   },
   "outputs": [],
   "source": [
    "#train = sklearn.datasets.fetch_20newsgroups(subset='train',remove=('headers'))\n",
    "train = sklearn.datasets.fetch_20newsgroups(subset='train')\n",
    "test = sklearn.datasets.fetch_20newsgroups(subset='test')"
   ]
  },
  {
   "cell_type": "code",
   "execution_count": 98,
   "metadata": {
    "collapsed": false
   },
   "outputs": [],
   "source": [
    "#train.target_names\n",
    "#train.filenames\n",
    "#train.target[:10]\n",
    "documents = train.data"
   ]
  },
  {
   "cell_type": "code",
   "execution_count": null,
   "metadata": {
    "collapsed": false
   },
   "outputs": [],
   "source": [
    "# nltk.download()\n",
    "# test = word_tokenize(documents[1])\n",
    "tokenizer = RegexpTokenizer(r'\\w+')\n",
    "s = nltk.stem.SnowballStemmer('english')\n",
    "stop = stopwords.words('english')\n",
    "texts = []\n",
    "\n",
    "# [texts.append(set([s.stem(word) for sent in sent_tokenize(doc) for word in tokenizer.tokenize(sent) if word.lower() not in stop])) for doc in documents]\n",
    "\n",
    "# stopwords are in lower case ... \n",
    "# for doc in documents:\n",
    "#     for sent in sent_tokenize(doc):\n",
    "#         texts.append([s.stem(word) for word in tokenizer.tokenize(sent) if word.lower() not in stop])\n",
    "\n",
    "for doc in documents:\n",
    "    texts.append([s.stem(word) for word in tokenizer.tokenize(doc) if word.lower() not in stop])"
   ]
  },
  {
   "cell_type": "code",
   "execution_count": null,
   "metadata": {
    "collapsed": false
   },
   "outputs": [],
   "source": [
    "# dictionary = corpora.Dictionary(line.lower().split() for line in open('mycorpus.txt'))\n",
    "# Maps a word to a ID\n",
    "dictionary = corpora.Dictionary(texts)\n",
    "dictionary.save('20newsgroup.dict') # store the dictionary, for future reference\n",
    "# print(dictionary)\n",
    "# print(dictionary.token2id)"
   ]
  },
  {
   "cell_type": "code",
   "execution_count": 83,
   "metadata": {
    "collapsed": false
   },
   "outputs": [
    {
     "name": "stdout",
     "output_type": "stream",
     "text": [
      "MmCorpus(10 documents, 736 features, 956 non-zero entries)\n"
     ]
    }
   ],
   "source": [
    "corpus = [dictionary.doc2bow(text) for text in texts]\n",
    "corpora.MmCorpus.serialize('20newsgroup.mm', corpus) # store to disk, for later use\n",
    "mm = corpora.MmCorpus('20newsgroup.mm')\n",
    "# Word ID , Frequency for each document\n",
    "print(mm)"
   ]
  },
  {
   "cell_type": "code",
   "execution_count": 84,
   "metadata": {
    "collapsed": false
   },
   "outputs": [
    {
     "name": "stderr",
     "output_type": "stream",
     "text": [
      "WARNING:gensim.models.ldamodel:too few updates, training might not converge; consider increasing the number of passes or iterations to improve accuracy\n"
     ]
    }
   ],
   "source": [
    "tfidf = models.TfidfModel(corpus) # Initialize Tfidf\n",
    "corpus_tfidf = tfidf[corpus] # Transform Test Corpus\n",
    "\n",
    "# lsi = models.LsiModel(corpus_tfidf, id2word=dictionary, num_topics=2) # initialize an LSI transformation\n",
    "# corpus_lsi = lsi[corpus_tfidf] # create a double wrapper over the original corpus: corpus->tfidf->fold-in-lsi\n",
    "\n",
    "lda_model = models.ldamodel.LdaModel(corpus_tfidf, id2word=dictionary, num_topics=100)\n",
    "# model = hdpmodel.HdpModel(bow_corpus, id2word=dictionary)"
   ]
  },
  {
   "cell_type": "code",
   "execution_count": 85,
   "metadata": {
    "collapsed": false
   },
   "outputs": [],
   "source": [
    "topics = lda_model[corpus_tfidf]"
   ]
  },
  {
   "cell_type": "code",
   "execution_count": 97,
   "metadata": {
    "collapsed": false
   },
   "outputs": [
    {
     "name": "stdout",
     "output_type": "stream",
     "text": [
      "keyword\n",
      "From: lerxst@wam.umd.edu (where's my thing)\n",
      "Subject: WHAT car is this!?\n",
      "Nntp-Posting-Host: rac3.wam.umd.edu\n",
      "Organization: University of Maryland, College Park\n",
      "Lines: 15\n",
      "\n",
      " I was wondering if anyone out there could enlighten me on this car I saw\n",
      "the other day. It was a 2-door sports car, looked to be from the late 60s/\n",
      "early 70s. It was called a Bricklin. The doors were really small. In addition,\n",
      "the front bumper was separate from the rest of the body. This is \n",
      "all I know. If anyone can tellme a model name, engine specs, years\n",
      "of production, where this car is made, history, or whatever info you\n",
      "have on this funky looking car, please e-mail.\n",
      "\n",
      "Thanks,\n",
      "- IL\n",
      "   ---- brought to you by your neighborhood Lerxst ----\n",
      "\n",
      "\n",
      "\n",
      "\n",
      "\n",
      "oscil\n",
      "From: guykuo@carson.u.washington.edu (Guy Kuo)\n",
      "Subject: SI Clock Poll - Final Call\n",
      "Summary: Final call for SI clock reports\n",
      "Keywords: SI,acceleration,clock,upgrade\n",
      "Article-I.D.: shelley.1qvfo9INNc3s\n",
      "Organization: University of Washington\n",
      "Lines: 11\n",
      "NNTP-Posting-Host: carson.u.washington.edu\n",
      "\n",
      "A fair number of brave souls who upgraded their SI clock oscillator have\n",
      "shared their experiences for this poll. Please send a brief message detailing\n",
      "your experiences with the procedure. Top speed attained, CPU rated speed,\n",
      "add on cards and adapters, heat sinks, hour of usage per day, floppy disk\n",
      "functionality with 800 and 1.4 m floppies are especially requested.\n",
      "\n",
      "I will be summarizing in the next two days, so please add to the network\n",
      "knowledge base if you have done the clock upgrade and haven't answered this\n",
      "poll. Thanks.\n",
      "\n",
      "Guy Kuo <guykuo@u.washington.edu>\n",
      "\n",
      "look\n",
      "From: twillis@ec.ecn.purdue.edu (Thomas E Willis)\n",
      "Subject: PB questions...\n",
      "Organization: Purdue University Engineering Computer Network\n",
      "Distribution: usa\n",
      "Lines: 36\n",
      "\n",
      "well folks, my mac plus finally gave up the ghost this weekend after\n",
      "starting life as a 512k way back in 1985.  sooo, i'm in the market for a\n",
      "new machine a bit sooner than i intended to be...\n",
      "\n",
      "i'm looking into picking up a powerbook 160 or maybe 180 and have a bunch\n",
      "of questions that (hopefully) somebody can answer:\n",
      "\n",
      "* does anybody know any dirt on when the next round of powerbook\n",
      "introductions are expected?  i'd heard the 185c was supposed to make an\n",
      "appearence \"this summer\" but haven't heard anymore on it - and since i\n",
      "don't have access to macleak, i was wondering if anybody out there had\n",
      "more info...\n",
      "\n",
      "* has anybody heard rumors about price drops to the powerbook line like the\n",
      "ones the duo's just went through recently?\n",
      "\n",
      "* what's the impression of the display on the 180?  i could probably swing\n",
      "a 180 if i got the 80Mb disk rather than the 120, but i don't really have\n",
      "a feel for how much \"better\" the display is (yea, it looks great in the\n",
      "store, but is that all \"wow\" or is it really that good?).  could i solicit\n",
      "some opinions of people who use the 160 and 180 day-to-day on if its worth\n",
      "taking the disk size and money hit to get the active display?  (i realize\n",
      "this is a real subjective question, but i've only played around with the\n",
      "machines in a computer store breifly and figured the opinions of somebody\n",
      "who actually uses the machine daily might prove helpful).\n",
      "\n",
      "* how well does hellcats perform?  ;)\n",
      "\n",
      "thanks a bunch in advance for any info - if you could email, i'll post a\n",
      "summary (news reading time is at a premium with finals just around the\n",
      "corner... :( )\n",
      "--\n",
      "Tom Willis  \\  twillis@ecn.purdue.edu    \\    Purdue Electrical Engineering\n",
      "---------------------------------------------------------------------------\n",
      "\"Convictions are more dangerous enemies of truth than lies.\"  - F. W.\n",
      "Nietzsche\n",
      "\n",
      "knowledg\n",
      "From: jgreen@amber (Joe Green)\n",
      "Subject: Re: Weitek P9000 ?\n",
      "Organization: Harris Computer Systems Division\n",
      "Lines: 14\n",
      "Distribution: world\n",
      "NNTP-Posting-Host: amber.ssd.csd.harris.com\n",
      "X-Newsreader: TIN [version 1.1 PL9]\n",
      "\n",
      "Robert J.C. Kyanko (rob@rjck.UUCP) wrote:\n",
      "> abraxis@iastate.edu writes in article <abraxis.734340159@class1.iastate.edu>:\n",
      "> > Anyone know about the Weitek P9000 graphics chip?\n",
      "> As far as the low-level stuff goes, it looks pretty nice.  It's got this\n",
      "> quadrilateral fill command that requires just the four points.\n",
      "\n",
      "Do you have Weitek's address/phone number?  I'd like to get some information\n",
      "about this chip.\n",
      "\n",
      "--\n",
      "Joe Green\t\t\t\tHarris Corporation\n",
      "jgreen@csd.harris.com\t\t\tComputer Systems Division\n",
      "\"The only thing that really scares me is a person with no sense of humor.\"\n",
      "\t\t\t\t\t\t-- Jonathan Winters\n",
      "\n",
      "thank\n",
      "From: jcm@head-cfa.harvard.edu (Jonathan McDowell)\n",
      "Subject: Re: Shuttle Launch Question\n",
      "Organization: Smithsonian Astrophysical Observatory, Cambridge, MA,  USA\n",
      "Distribution: sci\n",
      "Lines: 23\n",
      "\n",
      "From article <C5owCB.n3p@world.std.com>, by tombaker@world.std.com (Tom A Baker):\n",
      ">>In article <C5JLwx.4H9.1@cs.cmu.edu>, ETRAT@ttacs1.ttu.edu (Pack Rat) writes...\n",
      ">>>\"Clear caution & warning memory.  Verify no unexpected\n",
      ">>>errors. ...\".  I am wondering what an \"expected error\" might\n",
      ">>>be.  Sorry if this is a really dumb question, but\n",
      "> \n",
      "> Parity errors in memory or previously known conditions that were waivered.\n",
      ">    \"Yes that is an error, but we already knew about it\"\n",
      "> I'd be curious as to what the real meaning of the quote is.\n",
      "> \n",
      "> tom\n",
      "\n",
      "\n",
      "My understanding is that the 'expected errors' are basically\n",
      "known bugs in the warning system software - things are checked\n",
      "that don't have the right values in yet because they aren't\n",
      "set till after launch, and suchlike. Rather than fix the code\n",
      "and possibly introduce new bugs, they just tell the crew\n",
      "'ok, if you see a warning no. 213 before liftoff, ignore it'.\n",
      "\n",
      " - Jonathan\n",
      "\n",
      "\n",
      "\n",
      "thing\n",
      "From: dfo@vttoulu.tko.vtt.fi (Foxvog Douglas)\n",
      "Subject: Re: Rewording the Second Amendment (ideas)\n",
      "Organization: VTT\n",
      "Lines: 58\n",
      "\n",
      "In article <1r1eu1$4t@transfer.stratus.com> cdt@sw.stratus.com (C. D. Tavares) writes:\n",
      ">In article <1993Apr20.083057.16899@ousrvr.oulu.fi>, dfo@vttoulu.tko.vtt.fi (Foxvog Douglas) writes:\n",
      ">> In article <1qv87v$4j3@transfer.stratus.com> cdt@sw.stratus.com (C. D. Tavares) writes:\n",
      ">> >In article <C5n3GI.F8F@ulowell.ulowell.edu>, jrutledg@cs.ulowell.edu (John Lawrence Rutledge) writes:\n",
      ">\n",
      ">> >> The massive destructive power of many modern weapons, makes the\n",
      ">> >> cost of an accidental or crimial usage of these weapons to great.\n",
      ">> >> The weapons of mass destruction need to be in the control of\n",
      ">> >> the government only.  Individual access would result in the\n",
      ">> >> needless deaths of millions.  This makes the right of the people\n",
      ">> >> to keep and bear many modern weapons non-existant.\n",
      "\n",
      ">> >Thanks for stating where you're coming from.  Needless to say, I\n",
      ">> >disagree on every count.\n",
      "\n",
      ">> You believe that individuals should have the right to own weapons of\n",
      ">> mass destruction?  I find it hard to believe that you would support a \n",
      ">> neighbor's right to keep nuclear weapons, biological weapons, and nerve\n",
      ">> gas on his/her property.  \n",
      "\n",
      ">> If we cannot even agree on keeping weapons of mass destruction out of\n",
      ">> the hands of individuals, can there be any hope for us?\n",
      "\n",
      ">I don't sign any blank checks.\n",
      "\n",
      "Of course.  The term must be rigidly defined in any bill.\n",
      "\n",
      ">When Doug Foxvog says \"weapons of mass destruction,\" he means CBW and\n",
      ">nukes.  When Sarah Brady says \"weapons of mass destruction\" she means\n",
      ">Street Sweeper shotguns and semi-automatic SKS rifles.  \n",
      "\n",
      "I doubt she uses this term for that.  You are using a quote allegedly\n",
      "from her, can you back it up?\n",
      "\n",
      ">When John\n",
      ">Lawrence Rutledge says \"weapons of mass destruction,\" and then immediately\n",
      ">follows it with:\n",
      "\n",
      ">>> The US has thousands of people killed each year by handguns,\n",
      ">>> this number can easily be reduced by putting reasonable restrictions\n",
      ">>> on them.\n",
      "\n",
      ">...what does Rutledge mean by the term?\n",
      "\n",
      "I read the article as presenting first an argument about weapons of mass\n",
      "destruction (as commonly understood) and then switching to other topics.\n",
      "The first point evidently was to show that not all weapons should be\n",
      "allowed, and then the later analysis was, given this understanding, to\n",
      "consider another class.\n",
      "\n",
      ">cdt@rocket.sw.stratus.com   --If you believe that I speak for my company,\n",
      ">OR cdt@vos.stratus.com        write today for my special Investors' Packet...\n",
      "\n",
      "\n",
      "\n",
      "-- \n",
      "doug foxvog\n",
      "douglas.foxvog@vtt.fi\n",
      "\n",
      "car\n",
      "From: bmdelane@quads.uchicago.edu (brian manning delaney)\n",
      "Subject: Brain Tumor Treatment (thanks)\n",
      "Reply-To: bmdelane@midway.uchicago.edu\n",
      "Organization: University of Chicago\n",
      "Lines: 12\n",
      "\n",
      "There were a few people who responded to my request for info on\n",
      "treatment for astrocytomas through email, whom I couldn't thank\n",
      "directly because of mail-bouncing probs (Sean, Debra, and Sharon).  So\n",
      "I thought I'd publicly thank everyone.\n",
      "\n",
      "Thanks! \n",
      "\n",
      "(I'm sure glad I accidentally hit \"rn\" instead of \"rm\" when I was\n",
      "trying to delete a file last September. \"Hmmm... 'News?' What's\n",
      "this?\"....)\n",
      "\n",
      "-Brian\n",
      "\n",
      "knowledg\n",
      "From: bgrubb@dante.nmsu.edu (GRUBB)\n",
      "Subject: Re: IDE vs SCSI\n",
      "Organization: New Mexico State University, Las Cruces, NM\n",
      "Lines: 44\n",
      "Distribution: world\n",
      "NNTP-Posting-Host: dante.nmsu.edu\n",
      "\n",
      "DXB132@psuvm.psu.edu writes:\n",
      ">In article <1qlbrlINN7rk@dns1.NMSU.Edu>, bgrubb@dante.nmsu.edu (GRUBB) says:\n",
      ">>In PC Magazine April 27, 1993:29 \"Although SCSI is twice as fasst as ESDI,\n",
      ">>20% faster than IDE, and support up to 7 devices its acceptance ...has   \n",
      ">>long been stalled by incompatability problems and installation headaches.\"\n",
      "                                                                      \n",
      ">I love it when magazine writers make stupid statements like that re:      \n",
      ">performance. Where do they get those numbers? I'll list the actual\n",
      ">performance ranges, which should convince anyone that such a               \n",
      ">statement is absurd:                                                     \n",
      ">SCSI-I ranges from 0-5MB/s.                                                \n",
      ">SCSI-II ranges from 0-40MB/s.            \n",
      ">IDE ranges from 0-8.3MB/s.                          \n",
      ">ESDI is always 1.25MB/s (although there are some non-standard versions)\n",
      "ALL this shows is that YOU don't know much about SCSI.\n",
      "\n",
      "SCSI-1 {with a SCSI-1 controler chip} range is indeed 0-5MB/s\n",
      "and that is ALL you have right about SCSI\n",
      "SCSI-1 {With a SCSI-2 controller chip}: 4-6MB/s with 10MB/s burst {8-bit}\n",
      " Note the INCREASE in SPEED, the Mac Quadra uses this version of SCSI-1\n",
      " so it DOES exist. Some PC use this set up too.\n",
      "SCSI-2 {8-bit/SCSI-1 mode}:          4-6MB/s with 10MB/s burst\n",
      "SCSI-2 {16-bit/wide or fast mode}:  8-12MB/s with 20MB/s burst\n",
      "SCSI-2 {32-bit/wide AND fast}:     15-20MB/s with 40MB/s burst\n",
      " \n",
      "By your OWN data the \"Although SCSI is twice as fast as ESDI\" is correct\n",
      "With a SCSI-2 controller chip SCSI-1 can reach 10MB/s which is indeed\n",
      "\"20% faster than IDE\" {120% of 8.3 is 9.96}. ALL these SCSI facts have been\n",
      "posted to this newsgroup in my Mac & IBM info sheet {available by FTP on \n",
      "sumex-aim.stanford.edu (36.44.0.6) in the info-mac/report as \n",
      "mac-ibm-compare[version #].txt (It should be 173 but 161 may still be there)}\n",
      "\n",
      "Part of this problem is both Mac and IBM PC are inconsiant about what SCSI\n",
      "is which.  Though it is WELL documented that the Quadra has a SCSI-2 chip\n",
      "an Apple salesperson said \"it uses a fast SCSI-1 chip\" {Not at a 6MB/s,\n",
      "10MB/s burst it does not. SCSI-1 is 5MB/s maximum synchronous and Quadra\n",
      "uses ANsynchronous SCSI which is SLOWER}  It seems that Mac and IBM see\n",
      "SCSI-1 interface and think 'SCSI-1' when it maybe a SCSI-1 interface driven\n",
      "in the machine by a SCSi-2 controller chip in 8-bit mode {Which is MUCH\n",
      "FASTER then true SCSI-1 can go}.\n",
      "\n",
      "Don't slam an article because you don't understand what is going on.\n",
      "One reference for the Quadra's SCSI-2 controller chip is \n",
      "(Digital Review, Oct 21, 1991 v8 n33 p8(1)).\n",
      "\n",
      "look\n",
      "From: holmes7000@iscsvax.uni.edu\n",
      "Subject: WIn 3.0 ICON HELP PLEASE!\n",
      "Organization: University of Northern Iowa\n",
      "Lines: 10\n",
      "\n",
      "I have win 3.0 and downloaded several icons and BMP's but I can't figure out\n",
      "how to change the \"wallpaper\" or use the icons.  Any help would be appreciated.\n",
      "\n",
      "\n",
      "Thanx,\n",
      "\n",
      "-Brando\n",
      "\n",
      "PS Please E-mail me\n",
      "\n",
      "\n",
      "look\n",
      "From: kerr@ux1.cso.uiuc.edu (Stan Kerr)\n",
      "Subject: Re: Sigma Designs Double up??\n",
      "Article-I.D.: ux1.C52u8x.B62\n",
      "Organization: University of Illinois at Urbana\n",
      "Lines: 29\n",
      "\n",
      "jap10@po.CWRU.Edu (Joseph A. Pellettiere) writes:\n",
      "\n",
      "\n",
      ">\tI am looking for any information about the Sigma Designs\n",
      ">\tdouble up board.  All I can figure out is that it is a\n",
      ">\thardware compression board that works with AutoDoubler, but\n",
      ">\tI am not sure about this.  Also how much would one cost?\n",
      "\n",
      "I've had the board for over a year, and it does work with Diskdoubler,\n",
      "but not with Autodoubler, due to a licensing problem with Stac Technologies,\n",
      "the owners of the board's compression technology. (I'm writing this\n",
      "from memory; I've lost the reference. Please correct me if I'm wrong.)\n",
      "\n",
      "Using the board, I've had problems with file icons being lost, but it's\n",
      "hard to say whether it's the board's fault or something else; however,\n",
      "if I decompress the troubled file and recompress it without the board,\n",
      "the icon usually reappears. Because of the above mentioned licensing\n",
      "problem, the freeware expansion utility DD Expand will not decompress\n",
      "a board-compressed file unless you have the board installed.\n",
      "\n",
      "Since Stac has its own product now, it seems unlikely that the holes\n",
      "in Autodoubler/Diskdoubler related to the board will be fixed.\n",
      "Which is sad, and makes me very reluctant to buy Stac's product since\n",
      "they're being so stinky. (But hey, that's competition.)\n",
      "-- \n",
      "\n",
      "Stan Kerr    \n",
      "Computing & Communications Services Office, U of Illinois/Urbana\n",
      "Phone: 217-333-5217  Email: stankerr@uiuc.edu   \n",
      "\n"
     ]
    }
   ],
   "source": [
    "for i,t in enumerate(topics):\n",
    "    print(dictionary.id2token[t[0][0]])\n",
    "    print(documents[i])"
   ]
  },
  {
   "cell_type": "code",
   "execution_count": 164,
   "metadata": {
    "collapsed": false
   },
   "outputs": [
    {
     "data": {
      "text/plain": [
       "(array([ 8.,  0.,  0.,  0.,  0.,  0.,  0.,  0.,  0.,  2.]),\n",
       " array([ 1. ,  1.1,  1.2,  1.3,  1.4,  1.5,  1.6,  1.7,  1.8,  1.9,  2. ]),\n",
       " <a list of 10 Patch objects>)"
      ]
     },
     "execution_count": 164,
     "metadata": {},
     "output_type": "execute_result"
    },
    {
     "data": {
      "image/png": "[encoded data removed]",
      "text/plain": [
       "<matplotlib.figure.Figure at 0x2a2d4bf4d68>"
      ]
     },
     "metadata": {},
     "output_type": "display_data"
    }
   ],
   "source": [
    "num_topics = [len(lda_model[doc]) for doc in corpus_tfidf]\n",
    "plt.hist(num_topics)"
   ]
  },
  {
   "cell_type": "code",
   "execution_count": null,
   "metadata": {
    "collapsed": true
   },
   "outputs": [],
   "source": []
  },
  {
   "cell_type": "code",
   "execution_count": 86,
   "metadata": {
    "collapsed": false
   },
   "outputs": [
    {
     "name": "stdout",
     "output_type": "stream",
     "text": [
      "x  (2, 2)\n"
     ]
    }
   ],
   "source": [
    "# x = np.array([[1,2],[2,4]])\n",
    "# print(\"x \",x.shape) - 2,2\n",
    "# y = np.array([[1,2],[2,4]])\n",
    "# print(\"x \",y.shape) "
   ]
  },
  {
   "cell_type": "code",
   "execution_count": 59,
   "metadata": {
    "collapsed": false
   },
   "outputs": [],
   "source": [
    "# s = nltk.stem.SnowballStemmer('english')\n",
    "# class StemmedTfidfVectorizer(TfidfVectorizer):\n",
    "#     def build_analyzer(self):\n",
    "#         #StemmedCountVectorizer will return CountVectorizer build_analyzer code\n",
    "#         analyzer = super(TfidfVectorizer,self).build_analyzer()\n",
    "#         return lambda doc: (s.stem(w) for w in analyzer(doc))\n",
    "\n",
    "# # default min_df = 1, max_df = 1.0\n",
    "# # In other words, tf-idf weight in document that is\n",
    "# # highest when the terms occurs many times within a small number of documents (thus lending high discriminating power to those documents);\n",
    "# # lower when the term occurs fewer times in a document, or occurs in many documents (thus offering a less pronounced relevance signal);\n",
    "# # lowest when the term occurs in virtually all documents.\n",
    "# vectorizer = StemmedTfidfVectorizer(min_df=1,stop_words='english',decode_error='ignore')\n",
    "\n",
    "# vectorized = vectorizer.fit_transform(documents)\n",
    "# features = np.array(vectorizer.get_feature_names())\n",
    "# # type(features)\n",
    "# texts = [list(features[list((vectorized>0)[i].nonzero()[1])]) for i,doc in enumerate(documents)]"
   ]
  }
 ],
 "metadata": {
  "kernelspec": {
   "display_name": "Python 3",
   "language": "python",
   "name": "python3"
  },
  "language_info": {
   "codemirror_mode": {
    "name": "ipython",
    "version": 3
   },
   "file_extension": ".py",
   "mimetype": "text/x-python",
   "name": "python",
   "nbconvert_exporter": "python",
   "pygments_lexer": "ipython3",
   "version": "3.5.1"
  }
 },
 "nbformat": 4,
 "nbformat_minor": 0
}
