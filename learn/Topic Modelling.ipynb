{
 "cells": [
  {
   "cell_type": "code",
   "execution_count": 2,
   "metadata": {
    "collapsed": false
   },
   "outputs": [],
   "source": [
    "# http://radimrehurek.com/topic_modeling_tutorial/2%20-%20Topic%20Modeling.html\n",
    "\n",
    "import os\n",
    "import sys\n",
    "import re\n",
    "import itertools\n",
    "import numpy as np\n",
    "import seaborn as sb\n",
    "import matplotlib.pyplot as plt\n",
    "\n",
    "import logging, gensim\n",
    "from gensim import corpora, models, similarities,matutils\n",
    "from gensim.parsing.preprocessing import STOPWORDS\n",
    "\n",
    "import nltk\n",
    "# nltk.download()\n",
    "from nltk import word_tokenize\n",
    "from nltk import sent_tokenize\n",
    "from nltk.tokenize import RegexpTokenizer\n",
    "from nltk.corpus import stopwords\n",
    "from nltk.collocations import TrigramCollocationFinder\n",
    "from nltk.metrics import BigramAssocMeasures, TrigramAssocMeasures\n",
    "\n",
    "from scipy.spatial import distance\n",
    "\n",
    "import sklearn.datasets\n",
    "from sklearn.feature_extraction.text import TfidfVectorizer\n",
    "from sklearn.feature_extraction.text import CountVectorizer\n",
    "\n",
    "%matplotlib inline\n",
    "\n",
    "logging.basicConfig(format='%(asctime)s : %(levelname)s : %(message)s',level=logging.INFO)\n",
    "logging.root.level = logging.INFO  # ipython sometimes messes up the logging setup; restore"
   ]
  },
  {
   "cell_type": "code",
   "execution_count": 3,
   "metadata": {
    "collapsed": true
   },
   "outputs": [],
   "source": [
    "# # Load Data\n",
    "# corpus = corpora.MmCorpus('20newsgroup.mm')\n",
    "# dictionary = corpora.Dictionary.load('20newsgroup.dict')"
   ]
  },
  {
   "cell_type": "code",
   "execution_count": 4,
   "metadata": {
    "collapsed": true
   },
   "outputs": [],
   "source": [
    "train = sklearn.datasets.fetch_20newsgroups(subset='train',remove=('headers','footers','quotes'))\n",
    "# train = sklearn.datasets.fetch_20newsgroups(subset='train')\n",
    "test = sklearn.datasets.fetch_20newsgroups(subset='test')\n",
    "s = nltk.stem.SnowballStemmer('english')\n",
    "#train.target_names\n",
    "#train.filenames\n",
    "#train.target[:10]\n",
    "documents = train.data"
   ]
  },
  {
   "cell_type": "code",
   "execution_count": 87,
   "metadata": {
    "collapsed": false
   },
   "outputs": [],
   "source": [
    "class Token_Corpus20News(object):\n",
    "    def __init__(self,corpus):\n",
    "        self.corpus = corpus\n",
    "\n",
    "    def __iter__(self):\n",
    "        for text in self.corpus:\n",
    "            text = gensim.utils.to_unicode(text, 'latin1').strip()\n",
    "            # tokenize each message; simply lowercase & match alphabetic chars, for now\n",
    "            yield self.tokenize(text)\n",
    "            \n",
    "    def tokenize(self, text):\n",
    "        token = gensim.utils.tokenize(text,lower=True)\n",
    "        return list(set([s.stem(t) for t in token if t.lower() not in STOPWORDS and len(t)>3]))\n",
    "\n",
    "tokenized_corpus = Token_Corpus20News(documents)\n",
    "\n",
    "# print the first two tokenized messages\n",
    "# print(list(itertools.islice(tokenized_dict,10)))\n",
    "# print(list((itertools.islice(iter_group_post(documents),5))))"
   ]
  },
  {
   "cell_type": "code",
   "execution_count": 144,
   "metadata": {
    "collapsed": false
   },
   "outputs": [],
   "source": [
    "# # nltk.download()\n",
    "# # test = word_tokenize(documents[1])\n",
    "# tokenizer = RegexpTokenizer(r'\\w+')\n",
    "\n",
    "# stop = stopwords.words('english')\n",
    "# texts = []\n",
    "\n",
    "# # [texts.append(set([s.stem(word) for sent in sent_tokenize(doc) for word in tokenizer.tokenize(sent) if word.lower() not in stop])) for doc in documents]\n",
    "\n",
    "# # stopwords are in lower case ... \n",
    "# # for doc in documents:\n",
    "# #     for sent in sent_tokenize(doc):\n",
    "# #         texts.append([s.stem(word) for word in tokenizer.tokenize(sent) if word.lower() not in stop])\n",
    "\n",
    "# for doc in documents:\n",
    "#     texts.append([s.stem(word) for word in tokenizer.tokenize(doc) if word.lower() not in stop])"
   ]
  },
  {
   "cell_type": "code",
   "execution_count": 34,
   "metadata": {
    "collapsed": false
   },
   "outputs": [
    {
     "name": "stderr",
     "output_type": "stream",
     "text": [
      "INFO:gensim.corpora.dictionary:adding document #0 to Dictionary(0 unique tokens: [])\n",
      "INFO:gensim.corpora.dictionary:adding document #10000 to Dictionary(46442 unique tokens: ['parrot', 'completest', 'analisi', 'sportscast', 'compuserv']...)\n",
      "INFO:gensim.corpora.dictionary:built Dictionary(49970 unique tokens: ['tkzh', 'parrot', 'completest', 'analisi', 'sportscast']...) from 11314 documents (total 554876 corpus positions)\n",
      "INFO:gensim.corpora.dictionary:discarding 46135 tokens: [('funki', 6), ('year', 1473), ('bricklin', 3), ('know', 2470), ('look', 1572), ('tellm', 1), ('thank', 1398), ('like', 2771), ('macleak', 2), ('time', 2053)]...\n",
      "INFO:gensim.corpora.dictionary:keeping 3835 tokens which were in no less than 20 and no more than 1131 (=10.0%) documents\n",
      "INFO:gensim.corpora.dictionary:resulting dictionary: Dictionary(3835 unique tokens: ['pilot', 'marshal', 'anybodi', 'path', 'mormon']...)\n",
      "INFO:gensim.utils:saving Dictionary object under 20newsgroup.dict, separately None\n"
     ]
    },
    {
     "name": "stdout",
     "output_type": "stream",
     "text": [
      "Dictionary(3835 unique tokens: ['pilot', 'marshal', 'anybodi', 'path', 'mormon']...)\n"
     ]
    }
   ],
   "source": [
    "# dictionary = corpora.Dictionary(line.lower().split() for line in open('mycorpus.txt'))\n",
    "# Maps a word to a ID\n",
    "# () - Hashable - can be used for dictionary - Tuples\n",
    "# [] - Lists\n",
    "# doc_stream = (tokens for tokens in tokenized_corpus)\n",
    "dictionary = corpora.Dictionary(tokenized_corpus)\n",
    "# ignore words that appear in less than 20 documents or more than 10% documents\n",
    "dictionary.filter_extremes(no_below=20, no_above=0.1)\n",
    "dictionary.save('20newsgroup.dict') # store the dictionary, for future reference\n",
    "print(dictionary)\n",
    "# print(dictionary.token2id)"
   ]
  },
  {
   "cell_type": "code",
   "execution_count": 39,
   "metadata": {
    "collapsed": true
   },
   "outputs": [],
   "source": [
    "class News20Corpus(object):\n",
    "    def __init__(self, group_post, dictionary):\n",
    "        \"\"\"\n",
    "        Parse the first `clip_docs` Wikipedia documents from file `dump_file`.\n",
    "        Yield each document in turn, as a list of tokens (unicode strings).\n",
    "        \n",
    "        \"\"\"\n",
    "        self.group_post = group_post\n",
    "        self.dictionary = dictionary\n",
    "    \n",
    "    def __iter__(self):\n",
    "        for tokens in self.group_post:\n",
    "            yield self.dictionary.doc2bow(tokens)\n",
    "            \n",
    "corpus = News20Corpus(tokenized_corpus,dictionary)\n",
    "%time gensim.corpora.MmCorpus.serialize('20newsgroup.mm', corpus)\n",
    "# newsgrp20 = [dictionary.doc2bow(doc_stream) for post in texts]\n",
    "# corpora.MmCorpus.serialize('20newsgroup.mm', newsgrp20) # store to disk, for later use\n",
    "# newsgrp20 = corpora.MmCorpus('20newsgroup.mm')\n",
    "# Word ID , Frequency for each document\n",
    "# print(newsgrp20)\n",
    "\n",
    "mm_corpus = gensim.corpora.MmCorpus('20newsgroup.mm')\n",
    "print(mm_corpus)"
   ]
  },
  {
   "cell_type": "code",
   "execution_count": 48,
   "metadata": {
    "collapsed": false
   },
   "outputs": [
    {
     "name": "stderr",
     "output_type": "stream",
     "text": [
      "INFO:gensim.models.ldamodel:using symmetric alpha at 0.01\n",
      "INFO:gensim.models.ldamodel:using symmetric eta at 0.01\n",
      "INFO:gensim.models.ldamodel:using serial LDA version on this node\n",
      "INFO:gensim.models.ldamodel:running online LDA training, 100 topics, 4 passes over the supplied corpus of 11314 documents, updating model once every 2000 documents, evaluating perplexity every 11314 documents, iterating 50x with a convergence threshold of 0.001000\n",
      "INFO:gensim.models.ldamodel:PROGRESS: pass 0, at document #2000/11314\n",
      "INFO:gensim.models.ldamodel:merging changes from 2000 documents into a model of 11314 documents\n",
      "INFO:gensim.models.ldamodel:topic #2 (0.010): 0.007*mean + 0.006*advanc + 0.005*help + 0.005*assembl + 0.005*physic + 0.005*make + 0.004*have + 0.004*part + 0.004*copi + 0.004*understand\n",
      "INFO:gensim.models.ldamodel:topic #66 (0.010): 0.006*stuff + 0.006*avail + 0.005*littl + 0.005*sound + 0.004*inform + 0.004*hard + 0.004*chang + 0.004*nice + 0.004*offic + 0.004*graphic\n",
      "INFO:gensim.models.ldamodel:topic #11 (0.010): 0.007*help + 0.006*line + 0.005*mail + 0.005*open + 0.005*wonder + 0.005*chip + 0.005*appreci + 0.005*answer + 0.005*reason + 0.004*user\n",
      "INFO:gensim.models.ldamodel:topic #70 (0.010): 0.006*write + 0.005*read + 0.005*actual + 0.005*tell + 0.004*second + 0.004*away + 0.004*high + 0.004*help + 0.004*question + 0.004*place\n",
      "INFO:gensim.models.ldamodel:topic #20 (0.010): 0.007*certain + 0.005*caus + 0.005*say + 0.005*make + 0.004*real + 0.004*actual + 0.004*hear + 0.004*follow + 0.004*world + 0.004*state\n",
      "INFO:gensim.models.ldamodel:topic diff=47.583535, rho=1.000000\n",
      "INFO:gensim.models.ldamodel:PROGRESS: pass 0, at document #4000/11314\n",
      "INFO:gensim.models.ldamodel:merging changes from 2000 documents into a model of 11314 documents\n",
      "INFO:gensim.models.ldamodel:topic #24 (0.010): 0.004*seen + 0.004*relat + 0.004*joseph + 0.004*cours + 0.004*differ + 0.004*home + 0.004*period + 0.004*eventu + 0.004*small + 0.004*reason\n",
      "INFO:gensim.models.ldamodel:topic #13 (0.010): 0.006*read + 0.006*bibl + 0.006*wrong + 0.006*tri + 0.006*differ + 0.005*suppos + 0.005*said + 0.005*came + 0.005*idea + 0.005*languag\n",
      "INFO:gensim.models.ldamodel:topic #27 (0.010): 0.016*option + 0.011*appear + 0.010*color + 0.010*place + 0.009*button + 0.009*default + 0.009*soft + 0.009*phil + 0.009*philli + 0.009*graphic\n",
      "INFO:gensim.models.ldamodel:topic #73 (0.010): 0.011*mous + 0.011*drive + 0.011*monitor + 0.010*window + 0.009*shoulder + 0.009*wait + 0.007*interest + 0.007*key + 0.006*manual + 0.006*person\n",
      "INFO:gensim.models.ldamodel:topic #80 (0.010): 0.009*place + 0.009*true + 0.008*final + 0.008*aren + 0.007*conserv + 0.007*western + 0.007*be + 0.007*their + 0.006*long + 0.006*make\n",
      "INFO:gensim.models.ldamodel:topic diff=4.334925, rho=0.707107\n",
      "INFO:gensim.models.ldamodel:PROGRESS: pass 0, at document #6000/11314\n",
      "INFO:gensim.models.ldamodel:merging changes from 2000 documents into a model of 11314 documents\n",
      "INFO:gensim.models.ldamodel:topic #40 (0.010): 0.009*known + 0.008*test + 0.008*mean + 0.007*tast + 0.007*grey + 0.006*check + 0.006*messag + 0.006*equip + 0.006*model + 0.006*food\n",
      "INFO:gensim.models.ldamodel:topic #83 (0.010): 0.009*blood + 0.009*driver + 0.008*observ + 0.008*mode + 0.008*conflict + 0.007*experi + 0.007*health + 0.007*baltimor + 0.007*result + 0.007*exclus\n",
      "INFO:gensim.models.ldamodel:topic #63 (0.010): 0.010*film + 0.007*visual + 0.007*magazin + 0.006*publish + 0.006*inter + 0.006*issu + 0.006*review + 0.006*relay + 0.006*servic + 0.006*effect\n",
      "INFO:gensim.models.ldamodel:topic #22 (0.010): 0.006*hype + 0.006*fake + 0.005*inher + 0.005*justic + 0.005*anderson + 0.004*clear + 0.004*media + 0.004*get + 0.004*number + 0.004*consid\n",
      "INFO:gensim.models.ldamodel:topic #14 (0.010): 0.006*bring + 0.005*thought + 0.005*report + 0.005*went + 0.005*live + 0.005*play + 0.005*strike + 0.005*troop + 0.004*plate + 0.004*mere\n",
      "INFO:gensim.models.ldamodel:topic diff=4.318224, rho=0.577350\n",
      "INFO:gensim.models.ldamodel:PROGRESS: pass 0, at document #8000/11314\n",
      "INFO:gensim.models.ldamodel:merging changes from 2000 documents into a model of 11314 documents\n",
      "INFO:gensim.models.ldamodel:topic #14 (0.010): 0.007*bring + 0.006*thought + 0.005*troop + 0.005*report + 0.005*account + 0.005*plate + 0.005*differ + 0.005*strike + 0.005*moment + 0.005*children\n",
      "INFO:gensim.models.ldamodel:topic #67 (0.010): 0.039*michael + 0.021*island + 0.015*humor + 0.013*stack + 0.012*click + 0.012*doubl + 0.012*overtim + 0.012*bind + 0.012*trim + 0.011*espn\n",
      "INFO:gensim.models.ldamodel:topic #40 (0.010): 0.009*test + 0.008*experienc + 0.008*known + 0.008*produc + 0.007*food + 0.007*frequent + 0.007*equip + 0.007*spec + 0.007*edg + 0.006*mean\n",
      "INFO:gensim.models.ldamodel:topic #59 (0.010): 0.016*prohibit + 0.012*matur + 0.012*scientist + 0.010*grab + 0.010*protest + 0.010*januari + 0.009*monday + 0.009*dead + 0.009*insult + 0.008*statut\n",
      "INFO:gensim.models.ldamodel:topic #60 (0.010): 0.005*result + 0.005*countri + 0.005*state + 0.005*govern + 0.005*innoc + 0.005*journalist + 0.005*harder + 0.005*offici + 0.005*hous + 0.004*determin\n",
      "INFO:gensim.models.ldamodel:topic diff=4.130599, rho=0.500000\n",
      "INFO:gensim.models.ldamodel:PROGRESS: pass 0, at document #10000/11314\n",
      "INFO:gensim.models.ldamodel:merging changes from 2000 documents into a model of 11314 documents\n",
      "INFO:gensim.models.ldamodel:topic #78 (0.010): 0.022*anybodi + 0.021*appreci + 0.020*email + 0.018*help + 0.016*printer + 0.014*monitor + 0.014*inform + 0.013*hello + 0.013*advanc + 0.013*great\n",
      "INFO:gensim.models.ldamodel:topic #76 (0.010): 0.008*mean + 0.007*issu + 0.007*discuss + 0.007*provid + 0.006*legal + 0.006*reason + 0.006*read + 0.005*argu + 0.005*person + 0.005*matter\n",
      "INFO:gensim.models.ldamodel:topic #99 (0.010): 0.019*keith + 0.017*laugh + 0.017*talent + 0.015*staff + 0.014*upenn + 0.011*tie + 0.011*earli + 0.011*oriol + 0.011*ranger + 0.011*cape\n",
      "INFO:gensim.models.ldamodel:topic #64 (0.010): 0.021*long + 0.015*car + 0.015*hitter + 0.015*wheel + 0.014*wasn + 0.011*planet + 0.011*margin + 0.011*instead + 0.011*wind + 0.011*ford\n",
      "INFO:gensim.models.ldamodel:topic #73 (0.010): 0.032*mous + 0.029*monitor + 0.020*cult + 0.019*keyboard + 0.014*nist + 0.013*drive + 0.013*button + 0.012*marc + 0.012*master + 0.012*window\n",
      "INFO:gensim.models.ldamodel:topic diff=3.771857, rho=0.447214\n",
      "INFO:gensim.models.ldamodel:-8.952 per-word bound, 495.1 perplexity estimate based on a held-out corpus of 1314 documents with 44820 words\n",
      "INFO:gensim.models.ldamodel:PROGRESS: pass 0, at document #11314/11314\n",
      "INFO:gensim.models.ldamodel:merging changes from 1314 documents into a model of 11314 documents\n",
      "INFO:gensim.models.ldamodel:topic #52 (0.010): 0.010*auto + 0.009*shift + 0.009*gear + 0.008*super + 0.008*car + 0.008*mile + 0.008*differ + 0.007*recommend + 0.007*high + 0.007*cost\n",
      "INFO:gensim.models.ldamodel:topic #19 (0.010): 0.006*space + 0.004*report + 0.004*unit + 0.004*addit + 0.004*activ + 0.004*research + 0.004*flight + 0.004*locat + 0.003*launch + 0.003*develop\n",
      "INFO:gensim.models.ldamodel:topic #34 (0.010): 0.043*advanc + 0.030*imag + 0.025*draw + 0.022*code + 0.019*screen + 0.017*valu + 0.016*class + 0.016*window + 0.016*program + 0.015*sourc\n",
      "INFO:gensim.models.ldamodel:topic #84 (0.010): 0.063*soon + 0.046*bank + 0.039*medic + 0.036*gordon + 0.036*skeptic + 0.034*shame + 0.032*surrend + 0.030*pitt + 0.027*intellect + 0.027*cadr\n",
      "INFO:gensim.models.ldamodel:topic #58 (0.010): 0.025*guy + 0.022*greet + 0.016*repli + 0.014*cage + 0.013*travel + 0.013*sick + 0.012*somebodi + 0.012*bore + 0.012*explain + 0.011*bodi\n",
      "INFO:gensim.models.ldamodel:topic diff=3.357677, rho=0.408248\n",
      "INFO:gensim.models.ldamodel:PROGRESS: pass 1, at document #2000/11314\n",
      "INFO:gensim.models.ldamodel:merging changes from 2000 documents into a model of 11314 documents\n",
      "INFO:gensim.models.ldamodel:topic #27 (0.010): 0.031*phil + 0.029*option + 0.027*button + 0.026*specifi + 0.024*appear + 0.022*text + 0.021*xterm + 0.021*icon + 0.018*string + 0.017*that\n",
      "INFO:gensim.models.ldamodel:topic #98 (0.010): 0.011*centuri + 0.011*question + 0.010*believ + 0.010*bibl + 0.009*mere + 0.009*contradict + 0.009*christian + 0.008*exist + 0.008*etern + 0.008*forgiv\n",
      "INFO:gensim.models.ldamodel:topic #68 (0.010): 0.015*pray + 0.015*truth + 0.012*trust + 0.012*consult + 0.012*reli + 0.011*dial + 0.010*number + 0.009*invent + 0.009*healthi + 0.009*fresh\n",
      "INFO:gensim.models.ldamodel:topic #19 (0.010): 0.005*space + 0.004*addit + 0.004*unit + 0.004*activ + 0.004*research + 0.004*report + 0.004*develop + 0.003*shuttl + 0.003*vehicl + 0.003*locat\n",
      "INFO:gensim.models.ldamodel:topic #36 (0.010): 0.024*user + 0.021*mail + 0.020*inform + 0.019*updat + 0.019*list + 0.017*type + 0.016*provid + 0.013*file + 0.012*system + 0.010*possibl\n",
      "INFO:gensim.models.ldamodel:topic diff=2.772292, rho=0.361385\n",
      "INFO:gensim.models.ldamodel:PROGRESS: pass 1, at document #4000/11314\n",
      "INFO:gensim.models.ldamodel:merging changes from 2000 documents into a model of 11314 documents\n",
      "INFO:gensim.models.ldamodel:topic #72 (0.010): 0.022*yeah + 0.013*resourc + 0.009*deepli + 0.008*permit + 0.008*rifl + 0.007*pop + 0.007*activist + 0.007*aluminum + 0.007*layout + 0.006*volum\n",
      "INFO:gensim.models.ldamodel:topic #91 (0.010): 0.027*familiar + 0.023*plane + 0.023*shut + 0.023*bruin + 0.021*sphere + 0.021*meg + 0.020*trick + 0.019*helmet + 0.018*head + 0.018*circl\n",
      "INFO:gensim.models.ldamodel:topic #42 (0.010): 0.018*away + 0.017*stay + 0.012*notion + 0.011*poster + 0.010*forc + 0.010*temporari + 0.009*blind + 0.009*mainstream + 0.009*thirti + 0.009*wipe\n",
      "INFO:gensim.models.ldamodel:topic #67 (0.010): 0.056*michael + 0.031*island + 0.022*capit + 0.022*click + 0.022*stack + 0.021*espn + 0.021*pointer + 0.015*humor + 0.012*trim + 0.012*follow\n",
      "INFO:gensim.models.ldamodel:topic #78 (0.010): 0.027*appreci + 0.024*anybodi + 0.023*help + 0.019*email + 0.017*printer + 0.016*great + 0.014*advanc + 0.014*hello + 0.014*simm + 0.014*monitor\n",
      "INFO:gensim.models.ldamodel:topic diff=2.634276, rho=0.361385\n",
      "INFO:gensim.models.ldamodel:PROGRESS: pass 1, at document #6000/11314\n",
      "INFO:gensim.models.ldamodel:merging changes from 2000 documents into a model of 11314 documents\n",
      "INFO:gensim.models.ldamodel:topic #82 (0.010): 0.034*phone + 0.030*encrypt + 0.023*clipper + 0.022*chip + 0.019*compani + 0.015*voic + 0.015*secur + 0.015*communic + 0.015*key + 0.014*number\n",
      "INFO:gensim.models.ldamodel:topic #98 (0.010): 0.012*question + 0.012*bibl + 0.011*believ + 0.011*centuri + 0.010*christian + 0.010*contradict + 0.010*etern + 0.010*mere + 0.009*intent + 0.009*exist\n",
      "INFO:gensim.models.ldamodel:topic #97 (0.010): 0.014*children + 0.010*kill + 0.010*koresh + 0.010*murder + 0.009*guilti + 0.008*believ + 0.008*death + 0.008*govern + 0.008*start + 0.007*firearm\n",
      "INFO:gensim.models.ldamodel:topic #16 (0.010): 0.030*will + 0.024*atheist + 0.022*pirat + 0.020*tend + 0.019*toler + 0.019*weird + 0.019*fold + 0.019*seal + 0.018*moment + 0.017*coast\n",
      "INFO:gensim.models.ldamodel:topic #71 (0.010): 0.024*local + 0.020*speed + 0.015*custom + 0.014*fast + 0.011*check + 0.011*window + 0.011*card + 0.011*warranti + 0.011*slow + 0.010*told\n",
      "INFO:gensim.models.ldamodel:topic diff=2.431198, rho=0.361385\n",
      "INFO:gensim.models.ldamodel:PROGRESS: pass 1, at document #8000/11314\n",
      "INFO:gensim.models.ldamodel:merging changes from 2000 documents into a model of 11314 documents\n",
      "INFO:gensim.models.ldamodel:topic #39 (0.010): 0.069*mail + 0.066*repli + 0.055*appreci + 0.047*info + 0.046*pictur + 0.041*address + 0.032*advic + 0.014*instruct + 0.014*tight + 0.013*seen\n",
      "INFO:gensim.models.ldamodel:topic #72 (0.010): 0.022*yeah + 0.017*resourc + 0.013*deepli + 0.012*semi + 0.010*permit + 0.010*declar + 0.009*rifl + 0.009*pop + 0.008*jonathan + 0.008*tactic\n",
      "INFO:gensim.models.ldamodel:topic #21 (0.010): 0.013*track + 0.010*comput + 0.009*emul + 0.009*size + 0.009*electr + 0.009*trace + 0.009*current + 0.008*engin + 0.008*inform + 0.008*model\n",
      "INFO:gensim.models.ldamodel:topic #4 (0.010): 0.013*countri + 0.013*worri + 0.012*metal + 0.011*greek + 0.011*round + 0.010*tortur + 0.010*greec + 0.009*secular + 0.009*combin + 0.009*coat\n",
      "INFO:gensim.models.ldamodel:topic #73 (0.010): 0.045*mous + 0.037*monitor + 0.028*keyboard + 0.025*cult + 0.016*drive + 0.015*cmos + 0.015*junk + 0.015*jumper + 0.014*master + 0.013*trivial\n",
      "INFO:gensim.models.ldamodel:topic diff=2.221241, rho=0.361385\n",
      "INFO:gensim.models.ldamodel:PROGRESS: pass 1, at document #10000/11314\n",
      "INFO:gensim.models.ldamodel:merging changes from 2000 documents into a model of 11314 documents\n",
      "INFO:gensim.models.ldamodel:topic #75 (0.010): 0.034*wall + 0.033*devil + 0.029*beat + 0.028*feet + 0.024*hawk + 0.020*vision + 0.019*uiuc + 0.017*demon + 0.016*broadcast + 0.015*strength\n",
      "INFO:gensim.models.ldamodel:topic #83 (0.010): 0.020*blood + 0.019*result + 0.017*anim + 0.014*relat + 0.012*observ + 0.012*explain + 0.012*diet + 0.011*exclus + 0.010*studi + 0.010*theori\n",
      "INFO:gensim.models.ldamodel:topic #11 (0.010): 0.026*window + 0.021*file + 0.018*editor + 0.016*program + 0.016*edit + 0.015*version + 0.015*download + 0.015*util + 0.015*descript + 0.014*comp\n",
      "INFO:gensim.models.ldamodel:topic #43 (0.010): 0.043*game + 0.034*basebal + 0.025*owner + 0.025*pitch + 0.025*fan + 0.022*great + 0.019*player + 0.019*trade + 0.017*roger + 0.017*hockey\n",
      "INFO:gensim.models.ldamodel:topic #15 (0.010): 0.041*price + 0.032*sale + 0.030*sell + 0.027*ship + 0.018*bought + 0.016*cost + 0.015*contact + 0.015*bigger + 0.014*pair + 0.013*includ\n",
      "INFO:gensim.models.ldamodel:topic diff=1.998363, rho=0.361385\n",
      "INFO:gensim.models.ldamodel:-8.534 per-word bound, 370.7 perplexity estimate based on a held-out corpus of 1314 documents with 44820 words\n",
      "INFO:gensim.models.ldamodel:PROGRESS: pass 1, at document #11314/11314\n",
      "INFO:gensim.models.ldamodel:merging changes from 1314 documents into a model of 11314 documents\n",
      "INFO:gensim.models.ldamodel:topic #14 (0.010): 0.011*plate + 0.010*women + 0.009*bring + 0.009*near + 0.008*iron + 0.008*burn + 0.007*account + 0.007*girl + 0.007*thought + 0.007*dead\n",
      "INFO:gensim.models.ldamodel:topic #50 (0.010): 0.031*remind + 0.026*told + 0.020*went + 0.019*shop + 0.017*canada + 0.015*food + 0.015*shock + 0.014*chanc + 0.014*rememb + 0.013*differenti\n",
      "INFO:gensim.models.ldamodel:topic #42 (0.010): 0.029*away + 0.024*stay + 0.018*attend + 0.015*poster + 0.015*temporari + 0.015*blew + 0.014*freedom + 0.013*notion + 0.012*vice + 0.012*discoveri\n",
      "INFO:gensim.models.ldamodel:topic #34 (0.010): 0.058*advanc + 0.040*imag + 0.037*code + 0.028*program + 0.027*draw + 0.023*sourc + 0.022*valu + 0.020*screen + 0.018*color + 0.018*class\n",
      "INFO:gensim.models.ldamodel:topic #43 (0.010): 0.048*game + 0.035*basebal + 0.026*fan + 0.026*owner + 0.023*pitch + 0.021*great + 0.020*hockey + 0.019*trade + 0.018*roger + 0.018*player\n",
      "INFO:gensim.models.ldamodel:topic diff=1.793869, rho=0.361385\n",
      "INFO:gensim.models.ldamodel:PROGRESS: pass 2, at document #2000/11314\n",
      "INFO:gensim.models.ldamodel:merging changes from 2000 documents into a model of 11314 documents\n",
      "INFO:gensim.models.ldamodel:topic #37 (0.010): 0.008*attack + 0.008*carri + 0.006*said + 0.006*target + 0.006*crime + 0.006*began + 0.006*citi + 0.006*kill + 0.006*sight + 0.006*month\n",
      "INFO:gensim.models.ldamodel:topic #11 (0.010): 0.028*window + 0.020*file + 0.018*comp + 0.018*edit + 0.017*program + 0.016*util + 0.015*editor + 0.015*download + 0.015*help + 0.014*answer\n",
      "INFO:gensim.models.ldamodel:topic #49 (0.010): 0.016*stand + 0.012*evil + 0.012*shape + 0.011*drink + 0.011*greatest + 0.011*take + 0.010*hit + 0.010*feel + 0.009*head + 0.009*go\n",
      "INFO:gensim.models.ldamodel:topic #63 (0.010): 0.017*visual + 0.017*magazin + 0.016*publish + 0.015*audio + 0.014*nois + 0.014*substitut + 0.013*pipe + 0.013*negat + 0.011*vari + 0.011*film\n",
      "INFO:gensim.models.ldamodel:topic #89 (0.010): 0.015*author + 0.014*acknowledg + 0.012*fulfil + 0.012*stephen + 0.011*copyright + 0.011*intend + 0.011*wast + 0.011*bandwidth + 0.010*renew + 0.010*studi\n",
      "INFO:gensim.models.ldamodel:topic diff=1.484494, rho=0.339873\n",
      "INFO:gensim.models.ldamodel:PROGRESS: pass 2, at document #4000/11314\n",
      "INFO:gensim.models.ldamodel:merging changes from 2000 documents into a model of 11314 documents\n",
      "INFO:gensim.models.ldamodel:topic #29 (0.010): 0.033*window + 0.033*file + 0.028*server + 0.024*card + 0.021*video + 0.021*driver + 0.019*copi + 0.018*run + 0.018*version + 0.016*unix\n",
      "INFO:gensim.models.ldamodel:topic #19 (0.010): 0.004*intern + 0.004*addit + 0.004*space + 0.004*research + 0.004*organ + 0.004*unit + 0.004*develop + 0.004*member + 0.004*provid + 0.004*activ\n",
      "INFO:gensim.models.ldamodel:topic #43 (0.010): 0.057*game + 0.038*basebal + 0.027*pitch + 0.026*fan + 0.022*owner + 0.021*trade + 0.020*player + 0.020*great + 0.018*hockey + 0.018*roger\n",
      "INFO:gensim.models.ldamodel:topic #90 (0.010): 0.022*cell + 0.020*approxim + 0.018*match + 0.018*texa + 0.017*compar + 0.016*depth + 0.014*francisco + 0.013*california + 0.013*grand + 0.012*diego\n",
      "INFO:gensim.models.ldamodel:topic #41 (0.010): 0.020*trip + 0.020*weekend + 0.017*fault + 0.015*idiot + 0.015*hell + 0.015*soul + 0.015*ridicul + 0.014*read + 0.014*kind + 0.013*fulli\n",
      "INFO:gensim.models.ldamodel:topic diff=1.342846, rho=0.339873\n",
      "INFO:gensim.models.ldamodel:PROGRESS: pass 2, at document #6000/11314\n",
      "INFO:gensim.models.ldamodel:merging changes from 2000 documents into a model of 11314 documents\n",
      "INFO:gensim.models.ldamodel:topic #18 (0.010): 0.029*stereo + 0.028*speaker + 0.026*novel + 0.024*graphic + 0.020*remot + 0.019*featur + 0.016*tone + 0.014*panason + 0.014*network + 0.014*radio\n",
      "INFO:gensim.models.ldamodel:topic #41 (0.010): 0.023*weekend + 0.019*trip + 0.017*fault + 0.016*soul + 0.016*kind + 0.016*hell + 0.015*read + 0.015*idiot + 0.014*guess + 0.014*fulli\n",
      "INFO:gensim.models.ldamodel:topic #61 (0.010): 0.015*believ + 0.014*doubt + 0.011*knew + 0.010*shit + 0.009*pain + 0.009*say + 0.009*evid + 0.009*actual + 0.008*detector + 0.008*sever\n",
      "INFO:gensim.models.ldamodel:topic #79 (0.010): 0.014*data + 0.014*digit + 0.012*output + 0.011*input + 0.010*sampl + 0.009*signal + 0.009*hardwar + 0.008*compil + 0.007*chip + 0.007*portabl\n",
      "INFO:gensim.models.ldamodel:topic #27 (0.010): 0.050*option + 0.040*appear + 0.032*specifi + 0.030*text + 0.029*cheer + 0.025*button + 0.025*xterm + 0.025*phil + 0.023*icon + 0.022*clue\n",
      "INFO:gensim.models.ldamodel:topic diff=1.180636, rho=0.339873\n",
      "INFO:gensim.models.ldamodel:PROGRESS: pass 2, at document #8000/11314\n",
      "INFO:gensim.models.ldamodel:merging changes from 2000 documents into a model of 11314 documents\n",
      "INFO:gensim.models.ldamodel:topic #2 (0.010): 0.037*turkish + 0.033*armenian + 0.028*serdar + 0.028*argic + 0.026*nazi + 0.024*turk + 0.022*popul + 0.021*genocid + 0.021*armenia + 0.020*muslim\n",
      "INFO:gensim.models.ldamodel:topic #24 (0.010): 0.016*money + 0.014*dollar + 0.013*pay + 0.012*polit + 0.010*budget + 0.010*elect + 0.009*joseph + 0.009*hous + 0.008*white + 0.008*public\n",
      "INFO:gensim.models.ldamodel:topic #38 (0.010): 0.040*beauti + 0.033*share + 0.025*colour + 0.021*assumpt + 0.020*skill + 0.020*symbol + 0.017*psycholog + 0.015*static + 0.015*patrick + 0.014*denomin\n",
      "INFO:gensim.models.ldamodel:topic #18 (0.010): 0.027*speaker + 0.026*stereo + 0.024*graphic + 0.023*novel + 0.020*featur + 0.019*photo + 0.019*remot + 0.017*toolkit + 0.016*network + 0.015*support\n",
      "INFO:gensim.models.ldamodel:topic #80 (0.010): 0.019*conserv + 0.017*pure + 0.017*econom + 0.015*long + 0.015*liber + 0.014*steal + 0.013*occupi + 0.013*term + 0.013*loss + 0.013*arm\n",
      "INFO:gensim.models.ldamodel:topic diff=1.047998, rho=0.339873\n",
      "INFO:gensim.models.ldamodel:PROGRESS: pass 2, at document #10000/11314\n",
      "INFO:gensim.models.ldamodel:merging changes from 2000 documents into a model of 11314 documents\n",
      "INFO:gensim.models.ldamodel:topic #53 (0.010): 0.046*extrem + 0.037*compet + 0.034*warn + 0.025*actual + 0.024*unusu + 0.024*writer + 0.023*sorri + 0.023*gold + 0.019*scienc + 0.018*produc\n",
      "INFO:gensim.models.ldamodel:topic #55 (0.010): 0.029*team + 0.020*game + 0.020*play + 0.016*player + 0.015*season + 0.013*score + 0.010*chicago + 0.009*playoff + 0.009*toronto + 0.009*best\n",
      "INFO:gensim.models.ldamodel:topic #92 (0.010): 0.017*presid + 0.014*parti + 0.014*govern + 0.012*feder + 0.011*hous + 0.010*regul + 0.010*nation + 0.009*public + 0.009*general + 0.008*assur\n",
      "INFO:gensim.models.ldamodel:topic #36 (0.010): 0.043*list + 0.031*inform + 0.031*mail + 0.026*user + 0.026*send + 0.020*type + 0.019*provid + 0.015*updat + 0.014*group + 0.014*messag\n",
      "INFO:gensim.models.ldamodel:topic #96 (0.010): 0.031*ignor + 0.014*irrelev + 0.012*simpli + 0.012*religi + 0.012*brother + 0.011*logic + 0.011*popul + 0.011*claim + 0.011*act + 0.011*background\n",
      "INFO:gensim.models.ldamodel:topic diff=0.920567, rho=0.339873\n",
      "INFO:gensim.models.ldamodel:-8.381 per-word bound, 333.4 perplexity estimate based on a held-out corpus of 1314 documents with 44820 words\n",
      "INFO:gensim.models.ldamodel:PROGRESS: pass 2, at document #11314/11314\n",
      "INFO:gensim.models.ldamodel:merging changes from 1314 documents into a model of 11314 documents\n",
      "INFO:gensim.models.ldamodel:topic #54 (0.010): 0.032*ground + 0.018*cut + 0.016*okay + 0.015*green + 0.014*path + 0.013*weight + 0.013*butt + 0.012*slowli + 0.011*wire + 0.011*alien\n",
      "INFO:gensim.models.ldamodel:topic #71 (0.010): 0.028*local + 0.026*speed + 0.017*fast + 0.016*slow + 0.016*card + 0.014*transfer + 0.013*allow + 0.013*custom + 0.012*abl + 0.012*memori\n",
      "INFO:gensim.models.ldamodel:topic #33 (0.010): 0.034*steve + 0.027*protect + 0.020*illeg + 0.020*secur + 0.019*regard + 0.017*gang + 0.016*fool + 0.016*resid + 0.015*dealer + 0.015*outlaw\n",
      "INFO:gensim.models.ldamodel:topic #48 (0.010): 0.030*church + 0.015*cathol + 0.015*lord + 0.014*roman + 0.012*christian + 0.012*conclus + 0.012*scriptur + 0.011*peter + 0.011*believ + 0.011*book\n",
      "INFO:gensim.models.ldamodel:topic #88 (0.010): 0.010*confer + 0.008*ensur + 0.007*april + 0.007*comprehens + 0.007*director + 0.007*nation + 0.007*seri + 0.007*senior + 0.006*north + 0.006*agenc\n",
      "INFO:gensim.models.ldamodel:topic diff=0.820156, rho=0.339873\n",
      "INFO:gensim.models.ldamodel:PROGRESS: pass 3, at document #2000/11314\n",
      "INFO:gensim.models.ldamodel:merging changes from 2000 documents into a model of 11314 documents\n",
      "INFO:gensim.models.ldamodel:topic #51 (0.010): 0.053*news + 0.044*bunch + 0.030*releas + 0.029*disappear + 0.027*lawyer + 0.027*newspap + 0.025*bounc + 0.022*tomorrow + 0.021*radiat + 0.020*mail\n",
      "INFO:gensim.models.ldamodel:topic #6 (0.010): 0.012*believ + 0.012*religion + 0.011*belief + 0.010*exist + 0.009*exampl + 0.009*say + 0.009*mean + 0.008*interpret + 0.007*argument + 0.007*christian\n",
      "INFO:gensim.models.ldamodel:topic #41 (0.010): 0.024*trip + 0.020*weekend + 0.019*hell + 0.018*ridicul + 0.018*fault + 0.017*idiot + 0.017*soul + 0.016*read + 0.015*guess + 0.015*kind\n",
      "INFO:gensim.models.ldamodel:topic #21 (0.010): 0.025*track + 0.015*electr + 0.014*circuit + 0.013*current + 0.013*size + 0.012*emul + 0.012*engin + 0.012*comput + 0.010*brown + 0.010*dual\n",
      "INFO:gensim.models.ldamodel:topic #27 (0.010): 0.046*option + 0.041*appear + 0.035*specifi + 0.033*text + 0.031*phil + 0.029*cheer + 0.025*xterm + 0.023*string + 0.023*clue + 0.023*button\n",
      "INFO:gensim.models.ldamodel:topic diff=0.682534, rho=0.321795\n",
      "INFO:gensim.models.ldamodel:PROGRESS: pass 3, at document #4000/11314\n",
      "INFO:gensim.models.ldamodel:merging changes from 2000 documents into a model of 11314 documents\n",
      "INFO:gensim.models.ldamodel:topic #87 (0.010): 0.116*email + 0.070*internet + 0.050*dave + 0.045*univers + 0.040*phone + 0.031*uucp + 0.029*corp + 0.029*mike + 0.025*uunet + 0.024*address\n",
      "INFO:gensim.models.ldamodel:topic #94 (0.010): 0.033*sent + 0.032*receiv + 0.032*luck + 0.023*funni + 0.019*movi + 0.018*return + 0.016*spoke + 0.015*frame + 0.015*immedi + 0.014*smaller\n",
      "INFO:gensim.models.ldamodel:topic #31 (0.010): 0.021*hole + 0.019*differ + 0.018*eventu + 0.017*complic + 0.016*accur + 0.016*chemic + 0.016*spent + 0.015*patch + 0.013*canon + 0.013*plot\n",
      "INFO:gensim.models.ldamodel:topic #69 (0.010): 0.026*countri + 0.024*gun + 0.022*citizen + 0.022*weapon + 0.019*hate + 0.016*crime + 0.016*stupid + 0.016*violent + 0.015*german + 0.015*american\n",
      "INFO:gensim.models.ldamodel:topic #55 (0.010): 0.025*team + 0.020*game + 0.018*play + 0.016*season + 0.013*player + 0.013*score + 0.010*playoff + 0.009*toronto + 0.009*chicago + 0.009*win\n",
      "INFO:gensim.models.ldamodel:topic diff=0.629151, rho=0.321795\n",
      "INFO:gensim.models.ldamodel:PROGRESS: pass 3, at document #6000/11314\n",
      "INFO:gensim.models.ldamodel:merging changes from 2000 documents into a model of 11314 documents\n",
      "INFO:gensim.models.ldamodel:topic #73 (0.010): 0.052*mous + 0.047*monitor + 0.036*keyboard + 0.021*cult + 0.021*button + 0.021*press + 0.020*marc + 0.018*jumper + 0.017*master + 0.017*junk\n",
      "INFO:gensim.models.ldamodel:topic #30 (0.010): 0.051*model + 0.041*avail + 0.032*fellow + 0.029*articl + 0.028*combin + 0.028*mix + 0.028*horribl + 0.026*exposur + 0.025*strip + 0.025*slave\n",
      "INFO:gensim.models.ldamodel:topic #95 (0.010): 0.043*format + 0.033*packag + 0.025*link + 0.024*convert + 0.023*file + 0.019*graphic + 0.018*plenti + 0.018*sharewar + 0.017*hidden + 0.016*librari\n",
      "INFO:gensim.models.ldamodel:topic #6 (0.010): 0.013*religion + 0.012*believ + 0.011*exist + 0.010*exampl + 0.010*belief + 0.009*interpret + 0.009*mean + 0.009*say + 0.007*argument + 0.007*fals\n",
      "INFO:gensim.models.ldamodel:topic #16 (0.010): 0.059*will + 0.042*tend + 0.029*moment + 0.027*toler + 0.027*weird + 0.026*go + 0.025*seal + 0.025*pirat + 0.024*figur + 0.022*atheist\n",
      "INFO:gensim.models.ldamodel:topic diff=0.552051, rho=0.321795\n",
      "INFO:gensim.models.ldamodel:PROGRESS: pass 3, at document #8000/11314\n",
      "INFO:gensim.models.ldamodel:merging changes from 2000 documents into a model of 11314 documents\n",
      "INFO:gensim.models.ldamodel:topic #10 (0.010): 0.024*tire + 0.016*hmmm + 0.016*rear + 0.016*hard + 0.016*water + 0.015*mayb + 0.014*repair + 0.012*area + 0.011*normal + 0.011*wors\n",
      "INFO:gensim.models.ldamodel:topic #20 (0.010): 0.028*hear + 0.021*perfect + 0.019*insist + 0.019*ball + 0.018*safeti + 0.018*frank + 0.016*consider + 0.015*certain + 0.015*real + 0.015*world\n",
      "INFO:gensim.models.ldamodel:topic #53 (0.010): 0.046*extrem + 0.038*warn + 0.034*compet + 0.029*actual + 0.028*sorri + 0.027*writer + 0.025*unusu + 0.023*exampl + 0.023*gold + 0.020*produc\n",
      "INFO:gensim.models.ldamodel:topic #22 (0.010): 0.024*media + 0.019*inher + 0.017*paper + 0.017*meant + 0.016*equival + 0.013*consid + 0.013*bias + 0.013*cast + 0.013*suggest + 0.013*comment\n",
      "INFO:gensim.models.ldamodel:topic #54 (0.010): 0.035*ground + 0.019*cut + 0.017*path + 0.016*okay + 0.014*green + 0.014*weight + 0.013*wire + 0.013*slowli + 0.012*butt + 0.012*locat\n",
      "INFO:gensim.models.ldamodel:topic diff=0.500707, rho=0.321795\n",
      "INFO:gensim.models.ldamodel:PROGRESS: pass 3, at document #10000/11314\n",
      "INFO:gensim.models.ldamodel:merging changes from 2000 documents into a model of 11314 documents\n",
      "INFO:gensim.models.ldamodel:topic #99 (0.010): 0.041*york + 0.036*east + 0.034*ranger + 0.031*keith + 0.031*staff + 0.030*talent + 0.029*colorado + 0.026*spring + 0.025*laugh + 0.022*baltimor\n",
      "INFO:gensim.models.ldamodel:topic #72 (0.010): 0.042*yeah + 0.025*semi + 0.023*resourc + 0.018*membership + 0.018*deepli + 0.017*super + 0.016*permit + 0.014*pop + 0.014*declar + 0.013*tactic\n",
      "INFO:gensim.models.ldamodel:topic #49 (0.010): 0.022*stand + 0.017*shape + 0.017*drink + 0.016*evil + 0.014*hit + 0.014*domin + 0.014*rise + 0.014*hurt + 0.013*greatest + 0.013*stone\n",
      "INFO:gensim.models.ldamodel:topic #54 (0.010): 0.035*ground + 0.019*cut + 0.017*green + 0.017*path + 0.016*weight + 0.016*okay + 0.015*wire + 0.013*locat + 0.012*butt + 0.012*slowli\n",
      "INFO:gensim.models.ldamodel:topic #53 (0.010): 0.047*extrem + 0.036*warn + 0.036*compet + 0.031*sorri + 0.029*actual + 0.026*writer + 0.024*unusu + 0.023*gold + 0.022*exampl + 0.021*produc\n",
      "INFO:gensim.models.ldamodel:topic diff=0.447191, rho=0.321795\n",
      "INFO:gensim.models.ldamodel:-8.307 per-word bound, 316.7 perplexity estimate based on a held-out corpus of 1314 documents with 44820 words\n",
      "INFO:gensim.models.ldamodel:PROGRESS: pass 3, at document #11314/11314\n",
      "INFO:gensim.models.ldamodel:merging changes from 1314 documents into a model of 11314 documents\n",
      "INFO:gensim.models.ldamodel:topic #89 (0.010): 0.025*author + 0.018*intend + 0.015*fulfil + 0.015*copyright + 0.015*acknowledg + 0.014*wast + 0.014*stephen + 0.014*bandwidth + 0.013*renew + 0.013*law\n",
      "INFO:gensim.models.ldamodel:topic #96 (0.010): 0.033*ignor + 0.016*irrelev + 0.014*logic + 0.014*religi + 0.014*brother + 0.013*simpli + 0.012*popul + 0.012*claim + 0.011*state + 0.011*paragraph\n",
      "INFO:gensim.models.ldamodel:topic #86 (0.010): 0.034*find + 0.034*decent + 0.033*book + 0.031*brain + 0.022*light + 0.021*bright + 0.021*morn + 0.020*liter + 0.020*mechan + 0.020*physician\n",
      "INFO:gensim.models.ldamodel:topic #70 (0.010): 0.045*notic + 0.030*usual + 0.026*see + 0.019*imposs + 0.018*field + 0.016*popular + 0.015*atheism + 0.014*actual + 0.013*thought + 0.012*percentag\n",
      "INFO:gensim.models.ldamodel:topic #5 (0.010): 0.024*packag + 0.023*price + 0.022*recommend + 0.018*intel + 0.016*processor + 0.015*perform + 0.014*compar + 0.013*softwar + 0.013*pin + 0.012*netter\n",
      "INFO:gensim.models.ldamodel:topic diff=0.415503, rho=0.321795\n"
     ]
    },
    {
     "name": "stdout",
     "output_type": "stream",
     "text": [
      "Wall time: 1min 41s\n"
     ]
    }
   ],
   "source": [
    "# clipped_corpus = gensim.utils.ClippedCorpus(mm_corpus, 4000)  # use fewer documents during training, LDA is slow\n",
    "%time lda_model = gensim.models.LdaModel(mm_corpus, num_topics=100, id2word=dictionary, passes=4)"
   ]
  },
  {
   "cell_type": "code",
   "execution_count": 123,
   "metadata": {
    "collapsed": false
   },
   "outputs": [
    {
     "name": "stdout",
     "output_type": "stream",
     "text": [
      "(78, 0.65881219021354631)\n",
      "0.028*anybodi + 0.025*hello + 0.022*printer + 0.022*help + 0.022*monitor + 0.020*print + 0.019*advanc + 0.017*compat + 0.017*color + 0.015*board\n",
      "Anybody seen mouse cursor distortion running the Diamond 1024x768x256 driver?\n",
      "Sorry, don't know the version of the driver (no indication in the menus) but it's a recently\n",
      "delivered Gateway system.  Am going to try the latest drivers from Diamond BBS but wondered\n",
      "if anyone else had seen this.\n",
      "\n",
      "post or email\n"
     ]
    }
   ],
   "source": [
    "# tfidf = models.TfidfModel(newsgrp20) # Initialize Tfidf\n",
    "# corpus_tfidf = tfidf[newsgrp20] # Transform Test Corpus\n",
    "\n",
    "# lsi = models.LsiModel(corpus_tfidf, id2word=dictionary, num_topics=2) # initialize an LSI transformation\n",
    "# corpus_lsi = lsi[corpus_tfidf] # create a double wrapper over the original corpus: corpus->tfidf->fold-in-lsi\n",
    "\n",
    "# lda_model = models.ldamodel.LdaModel(newsgrp20, id2word=dictionary, num_topics=100,passes=10)\n",
    "# model = hdpmodel.HdpModel(bow_corpus, id2word=dictionary)\n",
    "\n",
    "doc_num = 1000\n",
    "\n",
    "# Returns Topic + Probability of Topic\n",
    "lda_vector = lda_model[mm_corpus[doc_num]]\n",
    "# Prints the most likely Topic. Performs Max based on the 2nd element in the tuple\n",
    "print(max(lda_vector, key=lambda item: item[1]))\n",
    "print(lda_model.print_topic(max(lda_vector, key=lambda item: item[1])[0]))\n",
    "print(documents[doc_num])\n",
    "\n",
    "# pred_topic = lda_model[mm_corpus[doc_num]]\n",
    "# # print(\"Topic-(Topic Index,Probability)\",pred_topic)\n",
    "# print(documents[doc_num])\n",
    "# for x,y in sorted(pred_topic, key=lambda tup: tup[1],reverse=True)[:3]:\n",
    "#     print(\"Topic----\",y)\n",
    "#     for terms,prob in lda_model.get_topic_terms(x,10):\n",
    "#         print(\"Terms - \",dictionary[terms],\" \",prob)\n",
    "\n",
    "\n",
    "    "
   ]
  },
  {
   "cell_type": "code",
   "execution_count": 124,
   "metadata": {
    "collapsed": false
   },
   "outputs": [
    {
     "data": {
      "text/plain": [
       "(array([  2.14400000e+03,   4.09000000e+03,   2.85100000e+03,\n",
       "          1.28800000e+03,   5.68000000e+02,   2.55000000e+02,\n",
       "          7.80000000e+01,   2.50000000e+01,   1.20000000e+01,\n",
       "          3.00000000e+00]),\n",
       " array([  0. ,   3.9,   7.8,  11.7,  15.6,  19.5,  23.4,  27.3,  31.2,\n",
       "         35.1,  39. ]),\n",
       " <a list of 10 Patch objects>)"
      ]
     },
     "execution_count": 124,
     "metadata": {},
     "output_type": "execute_result"
    },
    {
     "data": {
      "image/png": "[encoded data removed]",
      "text/plain": [
       "<matplotlib.figure.Figure at 0x1493c31aeb8>"
      ]
     },
     "metadata": {},
     "output_type": "display_data"
    }
   ],
   "source": [
    "num_topics = [len(lda_model[doc]) for doc in mm_corpus]\n",
    "plt.hist(num_topics)"
   ]
  },
  {
   "cell_type": "code",
   "execution_count": null,
   "metadata": {
    "collapsed": true
   },
   "outputs": [],
   "source": []
  },
  {
   "cell_type": "code",
   "execution_count": 86,
   "metadata": {
    "collapsed": false
   },
   "outputs": [
    {
     "name": "stdout",
     "output_type": "stream",
     "text": [
      "x  (2, 2)\n"
     ]
    }
   ],
   "source": [
    "# x = np.array([[1,2],[2,4]])\n",
    "# print(\"x \",x.shape) - 2,2\n",
    "# y = np.array([[1,2],[2,4]])\n",
    "# print(\"x \",y.shape) "
   ]
  },
  {
   "cell_type": "code",
   "execution_count": 59,
   "metadata": {
    "collapsed": false
   },
   "outputs": [],
   "source": [
    "# s = nltk.stem.SnowballStemmer('english')\n",
    "# class StemmedTfidfVectorizer(TfidfVectorizer):\n",
    "#     def build_analyzer(self):\n",
    "#         #StemmedCountVectorizer will return CountVectorizer build_analyzer code\n",
    "#         analyzer = super(TfidfVectorizer,self).build_analyzer()\n",
    "#         return lambda doc: (s.stem(w) for w in analyzer(doc))\n",
    "\n",
    "# # default min_df = 1, max_df = 1.0\n",
    "# # In other words, tf-idf weight in document that is\n",
    "# # highest when the terms occurs many times within a small number of documents (thus lending high discriminating power to those documents);\n",
    "# # lower when the term occurs fewer times in a document, or occurs in many documents (thus offering a less pronounced relevance signal);\n",
    "# # lowest when the term occurs in virtually all documents.\n",
    "# vectorizer = StemmedTfidfVectorizer(min_df=1,stop_words='english',decode_error='ignore')\n",
    "\n",
    "# vectorized = vectorizer.fit_transform(documents)\n",
    "# features = np.array(vectorizer.get_feature_names())\n",
    "# # type(features)\n",
    "# texts = [list(features[list((vectorized>0)[i].nonzero()[1])]) for i,doc in enumerate(documents)]"
   ]
  }
 ],
 "metadata": {
  "kernelspec": {
   "display_name": "Python 3",
   "language": "python",
   "name": "python3"
  },
  "language_info": {
   "codemirror_mode": {
    "name": "ipython",
    "version": 3
   },
   "file_extension": ".py",
   "mimetype": "text/x-python",
   "name": "python",
   "nbconvert_exporter": "python",
   "pygments_lexer": "ipython3",
   "version": "3.5.1"
  }
 },
 "nbformat": 4,
 "nbformat_minor": 0
}
