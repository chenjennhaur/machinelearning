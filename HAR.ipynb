{
 "cells": [
  {
   "cell_type": "code",
   "execution_count": 2,
   "metadata": {
    "collapsed": false
   },
   "outputs": [],
   "source": [
    "import pandas as pd\n",
    "import numpy as np\n",
    "import seaborn as sb\n",
    "import matplotlib.pyplot as plt  \n",
    "from ipywidgets import widgets\n",
    "\n",
    "%matplotlib inline"
   ]
  },
  {
   "cell_type": "code",
   "execution_count": 3,
   "metadata": {
    "collapsed": false
   },
   "outputs": [
    {
     "name": "stderr",
     "output_type": "stream",
     "text": [
      "C:\\Users\\jennhaur\\AppData\\Local\\Continuum\\Anaconda3\\lib\\site-packages\\IPython\\core\\interactiveshell.py:2902: DtypeWarning: Columns (17) have mixed types. Specify dtype option on import or set low_memory=False.\n",
      "  interactivity=interactivity, compiler=compiler, result=result)\n"
     ]
    }
   ],
   "source": [
    "har_ds = pd.read_table('dataset-har-pair-fb.csv',sep=';')"
   ]
  },
  {
   "cell_type": "code",
   "execution_count": 6,
   "metadata": {
    "collapsed": false
   },
   "outputs": [
    {
     "data": {
      "text/plain": [
       "user                  object\n",
       "gender                object\n",
       "age                    int64\n",
       "how_tall_in_meters    object\n",
       "weight                 int64\n",
       "body_mass_index       object\n",
       "x1                     int64\n",
       "y1                     int64\n",
       "z1                     int64\n",
       "x2                     int64\n",
       "y2                     int64\n",
       "z2                     int64\n",
       "x3                     int64\n",
       "y3                     int64\n",
       "z3                     int64\n",
       "x4                     int64\n",
       "y4                     int64\n",
       "z4                    object\n",
       "class                 object\n",
       "dtype: object"
      ]
     },
     "execution_count": 6,
     "metadata": {},
     "output_type": "execute_result"
    }
   ],
   "source": []
  },
  {
   "cell_type": "code",
   "execution_count": 4,
   "metadata": {
    "collapsed": false
   },
   "outputs": [],
   "source": [
    "#f = lambda x : x[0]+x[1]\n",
    "#har_ds['height'] = har_ds['how_tall_in_meters'].str.split(\",\").apply(f).astype(int)\n",
    "har_ds['height'] = har_ds['how_tall_in_meters'].str.split(\",\").apply(lambda x : x[0]+x[1]).astype(int)\n",
    "del har_ds['how_tall_in_meters']"
   ]
  },
  {
   "cell_type": "code",
   "execution_count": 5,
   "metadata": {
    "collapsed": false
   },
   "outputs": [],
   "source": [
    "#f = lambda x : int(x[0])+int(x[1])/10\n",
    "#har_ds['body_mass_index'].str.split(\",\").apply(lambda x : int(x[0])+int(x[1])/10)\n",
    "har_ds['bmi'] = har_ds['body_mass_index'].str.split(\",\").apply(lambda x : int(x[0])+int(x[1])/10)\n",
    "del har_ds['body_mass_index']"
   ]
  },
  {
   "cell_type": "code",
   "execution_count": 6,
   "metadata": {
    "collapsed": false
   },
   "outputs": [
    {
     "name": "stderr",
     "output_type": "stream",
     "text": [
      "C:\\Users\\jennhaur\\AppData\\Local\\Continuum\\Anaconda3\\lib\\site-packages\\ipykernel\\__main__.py:5: FutureWarning: convert_objects is deprecated.  Use the data-type specific converters pd.to_datetime, pd.to_timedelta and pd.to_numeric.\n"
     ]
    },
    {
     "data": {
      "text/plain": [
       "user       object\n",
       "gender     object\n",
       "age         int64\n",
       "weight      int64\n",
       "x1          int64\n",
       "y1          int64\n",
       "z1          int64\n",
       "x2          int64\n",
       "y2          int64\n",
       "z2          int64\n",
       "x3          int64\n",
       "y3          int64\n",
       "z3          int64\n",
       "x4          int64\n",
       "y4          int64\n",
       "z4        float64\n",
       "class      object\n",
       "height      int32\n",
       "bmi       float64\n",
       "dtype: object"
      ]
     },
     "execution_count": 6,
     "metadata": {},
     "output_type": "execute_result"
    }
   ],
   "source": [
    "#pd.unique(har_ds['z4'])\n",
    "#har_ds['z4'].to_numeric()\n",
    "#har_ds['z4'].astype(int)\n",
    "\n",
    "har_ds['z4'] = har_ds['z4'].convert_objects(convert_numeric=True)\n",
    "har_ds.dtypes\n"
   ]
  },
  {
   "cell_type": "code",
   "execution_count": 85,
   "metadata": {
    "collapsed": false
   },
   "outputs": [
    {
     "data": {
      "text/plain": [
       "array([[<matplotlib.axes._subplots.AxesSubplot object at 0x192C2DF0>,\n",
       "        <matplotlib.axes._subplots.AxesSubplot object at 0x194F4790>],\n",
       "       [<matplotlib.axes._subplots.AxesSubplot object at 0x1931AF90>,\n",
       "        <matplotlib.axes._subplots.AxesSubplot object at 0x120796F0>]], dtype=object)"
      ]
     },
     "execution_count": 85,
     "metadata": {},
     "output_type": "execute_result"
    },
    {
     "data": {
      "image/png": "[encoded data removed]",
      "text/plain": [
       "<matplotlib.figure.Figure at 0x17808b50>"
      ]
     },
     "metadata": {},
     "output_type": "display_data"
    },
    {
     "data": {
      "image/png": "[encoded data removed]",
      "text/plain": [
       "<matplotlib.figure.Figure at 0x191738f0>"
      ]
     },
     "metadata": {},
     "output_type": "display_data"
    },
    {
     "data": {
      "image/png": "[encoded data removed]",
      "text/plain": [
       "<matplotlib.figure.Figure at 0x18f0b390>"
      ]
     },
     "metadata": {},
     "output_type": "display_data"
    },
    {
     "data": {
      "image/png": "[encoded data removed]",
      "text/plain": [
       "<matplotlib.figure.Figure at 0x191edb90>"
      ]
     },
     "metadata": {},
     "output_type": "display_data"
    },
    {
     "data": {
      "image/png": "[encoded data removed]",
      "text/plain": [
       "<matplotlib.figure.Figure at 0x194d7890>"
      ]
     },
     "metadata": {},
     "output_type": "display_data"
    }
   ],
   "source": [
    "#x1 = waist, x2 = thigh, x3 = ankle, x4 = arm\n",
    "\n",
    "#Option 1\n",
    "#fig, ax = plt.subplots(5,1,sharex=True)\n",
    "#har_ds[['class','x1']].groupby('class').boxplot(subplots=True,layout=(1,5),figsize=(15,3),sym=\"\")\n",
    "\n",
    "#Option 2\n",
    "#show outliers\n",
    "#har_ds[['class','x1']].boxplot(by='class',sym=\"k.\")\n",
    "#ignore outliers\n",
    "har_ds[['class','x1']].boxplot(by='class',sym=\"\")\n",
    "har_ds[['class','x2']].boxplot(by='class',sym=\"\")\n",
    "har_ds[['class','x3']].boxplot(by='class',sym=\"\")\n",
    "har_ds[['class','x4']].boxplot(by='class',sym=\"\")\n",
    "har_ds[['class','x1','x2','x3','x4']].boxplot(by='class',sym=\"\")\n",
    "\n",
    "#Option 3\n",
    "#df = har_ds[['class','x1']]\n",
    "#df2 = df.pivot(columns=df.columns[0])\n",
    "#df2.boxplot()\n",
    "        "
   ]
  },
  {
   "cell_type": "code",
   "execution_count": 55,
   "metadata": {
    "collapsed": false,
    "scrolled": false
   },
   "outputs": [
    {
     "data": {
      "image/png": "[encoded data removed]",
      "text/plain": [
       "<matplotlib.figure.Figure at 0x89bc090>"
      ]
     },
     "metadata": {},
     "output_type": "display_data"
    }
   ],
   "source": [
    "groups = har_ds[(har_ds['class'] == \"sitting\") | (har_ds['class'] == \"standing\")].groupby('class')\n",
    "fig, ax = plt.subplots()\n",
    "ax.margins(0.05) # Optional, just adds 5% padding to the autoscaling\n",
    "for name, group in groups:\n",
    "    ax.plot(group.x1, group.x2, marker='o', linestyle='', ms=12, label=name)\n",
    "ax.legend()\n",
    "plt.show()\n",
    "\n",
    "#har_ds.plot.scatter(x='x1',y='x2')\n",
    "#har_ds[['class','x1','x2']].groupby('class').plot.scatter(subplots=True,layout=(1,5),figsize=(15,3),sym=\"\")\n",
    "\n"
   ]
  },
  {
   "cell_type": "code",
   "execution_count": 49,
   "metadata": {
    "collapsed": false
   },
   "outputs": [
    {
     "data": {
      "text/html": [
       "<div>\n",
       "<table border=\"1\" class=\"dataframe\">\n",
       "  <thead>\n",
       "    <tr style=\"text-align: right;\">\n",
       "      <th></th>\n",
       "      <th>user</th>\n",
       "      <th>gender</th>\n",
       "      <th>age</th>\n",
       "      <th>weight</th>\n",
       "      <th>x1</th>\n",
       "      <th>y1</th>\n",
       "      <th>z1</th>\n",
       "      <th>x2</th>\n",
       "      <th>y2</th>\n",
       "      <th>z2</th>\n",
       "      <th>x3</th>\n",
       "      <th>y3</th>\n",
       "      <th>z3</th>\n",
       "      <th>x4</th>\n",
       "      <th>y4</th>\n",
       "      <th>z4</th>\n",
       "      <th>class</th>\n",
       "      <th>height</th>\n",
       "      <th>bmi</th>\n",
       "    </tr>\n",
       "  </thead>\n",
       "  <tbody>\n",
       "    <tr>\n",
       "      <th>122076</th>\n",
       "      <td>jose_carlos</td>\n",
       "      <td>Man</td>\n",
       "      <td>75</td>\n",
       "      <td>67</td>\n",
       "      <td>-8</td>\n",
       "      <td>101</td>\n",
       "      <td>-120</td>\n",
       "      <td>-13</td>\n",
       "      <td>91</td>\n",
       "      <td>-101</td>\n",
       "      <td>17</td>\n",
       "      <td>123</td>\n",
       "      <td>-108</td>\n",
       "      <td>-207</td>\n",
       "      <td>-82</td>\n",
       "      <td>NaN</td>\n",
       "      <td>standingup</td>\n",
       "      <td>167</td>\n",
       "      <td>24</td>\n",
       "    </tr>\n",
       "  </tbody>\n",
       "</table>\n",
       "</div>"
      ],
      "text/plain": [
       "               user gender  age  weight  x1   y1   z1  x2  y2   z2  x3   y3  \\\n",
       "122076  jose_carlos    Man   75      67  -8  101 -120 -13  91 -101  17  123   \n",
       "\n",
       "         z3   x4  y4  z4       class  height  bmi  \n",
       "122076 -108 -207 -82 NaN  standingup     167   24  "
      ]
     },
     "execution_count": 49,
     "metadata": {},
     "output_type": "execute_result"
    }
   ],
   "source": [
    "#Data Cleansing NaN\n",
    "# %timeit har_ds.isnull().any()\n",
    "#har_ds.isnull().sum()\n",
    "\n",
    "har_ds.isnull().any()\n",
    "har_ds.loc[har_ds['z4'].isnull().nonzero()]\n",
    "\n",
    "har_ds_new = har_ds.drop(har_ds.index[122076])\n",
    "#har_ds_new.loc[har_ds_new['z4'].isnull().nonzero()]\n",
    "har_ds_new.isnull().any()"
   ]
  },
  {
   "cell_type": "code",
   "execution_count": 48,
   "metadata": {
    "collapsed": false
   },
   "outputs": [
    {
     "data": {
      "text/plain": [
       "user      False\n",
       "gender    False\n",
       "age       False\n",
       "weight    False\n",
       "x1        False\n",
       "y1        False\n",
       "z1        False\n",
       "x2        False\n",
       "y2        False\n",
       "z2        False\n",
       "x3        False\n",
       "y3        False\n",
       "z3        False\n",
       "x4        False\n",
       "y4        False\n",
       "z4        False\n",
       "class     False\n",
       "height    False\n",
       "bmi       False\n",
       "dtype: bool"
      ]
     },
     "execution_count": 48,
     "metadata": {},
     "output_type": "execute_result"
    }
   ],
   "source": [
    "#Pandas Dummies to change Classes to One-Hot"
   ]
  },
  {
   "cell_type": "code",
   "execution_count": null,
   "metadata": {
    "collapsed": true
   },
   "outputs": [],
   "source": [
    "\n"
   ]
  },
  {
   "cell_type": "code",
   "execution_count": null,
   "metadata": {
    "collapsed": true
   },
   "outputs": [],
   "source": [
    "# Split to training set and test set , cross validation\n",
    "# Random Forest\n",
    "# C4.5 Decision Tree / ID3 / Adaboost ? Adaboost with 10 iteration, C4.5 confidence factor 0.25\n",
    "# 99.4% using 10-fold cross validation (sitting 100%, sitting down 96.9% , standing 99.8% , standing up 96.9% walking 99.8%)\n",
    "# Confusion Matrix"
   ]
  },
  {
   "cell_type": "raw",
   "metadata": {},
   "source": []
  }
 ],
 "metadata": {
  "kernelspec": {
   "display_name": "Python 3",
   "language": "python",
   "name": "python3"
  },
  "language_info": {
   "codemirror_mode": {
    "name": "ipython",
    "version": 3
   },
   "file_extension": ".py",
   "mimetype": "text/x-python",
   "name": "python",
   "nbconvert_exporter": "python",
   "pygments_lexer": "ipython3",
   "version": "3.5.1"
  }
 },
 "nbformat": 4,
 "nbformat_minor": 0
}
