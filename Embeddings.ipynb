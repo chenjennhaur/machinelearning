{
 "cells": [
  {
   "cell_type": "code",
   "execution_count": 174,
   "metadata": {},
   "outputs": [],
   "source": [
    "from sklearn_pandas import DataFrameMapper\n",
    "from sklearn.preprocessing import LabelEncoder, Imputer, StandardScaler\n",
    "\n",
    "import numpy as np\n",
    "import pandas as pd\n",
    "from keras.layers import Embedding, Reshape, merge, Dropout, Dense, Input, Flatten\n",
    "from keras.models import Model\n",
    "from keras.optimizers import Adamax\n",
    "\n",
    "from collections import Counter\n",
    "\n",
    "\n",
    "import matplotlib.pyplot as plt\n",
    "%matplotlib inline"
   ]
  },
  {
   "cell_type": "code",
   "execution_count": 176,
   "metadata": {},
   "outputs": [
    {
     "data": {
      "text/html": [
       "<div>\n",
       "<style>\n",
       "    .dataframe thead tr:only-child th {\n",
       "        text-align: right;\n",
       "    }\n",
       "\n",
       "    .dataframe thead th {\n",
       "        text-align: left;\n",
       "    }\n",
       "\n",
       "    .dataframe tbody tr th {\n",
       "        vertical-align: top;\n",
       "    }\n",
       "</style>\n",
       "<table border=\"1\" class=\"dataframe\">\n",
       "  <thead>\n",
       "    <tr style=\"text-align: right;\">\n",
       "      <th></th>\n",
       "      <th>userId</th>\n",
       "      <th>movieId</th>\n",
       "      <th>rating</th>\n",
       "      <th>timestamp</th>\n",
       "    </tr>\n",
       "  </thead>\n",
       "  <tbody>\n",
       "    <tr>\n",
       "      <th>0</th>\n",
       "      <td>1</td>\n",
       "      <td>31</td>\n",
       "      <td>2.5</td>\n",
       "      <td>1260759144</td>\n",
       "    </tr>\n",
       "    <tr>\n",
       "      <th>1</th>\n",
       "      <td>1</td>\n",
       "      <td>1029</td>\n",
       "      <td>3.0</td>\n",
       "      <td>1260759179</td>\n",
       "    </tr>\n",
       "  </tbody>\n",
       "</table>\n",
       "</div>"
      ],
      "text/plain": [
       "   userId  movieId  rating   timestamp\n",
       "0       1       31     2.5  1260759144\n",
       "1       1     1029     3.0  1260759179"
      ]
     },
     "execution_count": 176,
     "metadata": {},
     "output_type": "execute_result"
    }
   ],
   "source": [
    "ratings = pd.read_csv('data/ratings.csv')\n",
    "ratings.head(2)"
   ]
  },
  {
   "cell_type": "code",
   "execution_count": 177,
   "metadata": {},
   "outputs": [],
   "source": [
    "# topmovies = Counter(ratings['movieId'])\n",
    "# topmovies_idx =  [i for i,k in topmovies.most_common(50)]\n",
    "# movies[movies['movieId'].isin(topmovies_idx)]"
   ]
  },
  {
   "cell_type": "code",
   "execution_count": 178,
   "metadata": {},
   "outputs": [],
   "source": [
    "# ratings = ratings[ratings['movieId'].isin(topmovies_idx)].copy()\n",
    "# df = movies[movies['movieId'].isin(topmovies_idx)].copy()\n",
    "# ratings = ratings.sample(100000)"
   ]
  },
  {
   "cell_type": "code",
   "execution_count": 237,
   "metadata": {
    "collapsed": true
   },
   "outputs": [],
   "source": [
    "movie_names = pd.read_csv('data/movies.csv').set_index('movieId')['title'].to_dict()"
   ]
  },
  {
   "cell_type": "code",
   "execution_count": 179,
   "metadata": {},
   "outputs": [],
   "source": [
    "uid = list(ratings['userId'].unique())\n",
    "mid = list(ratings['movieId'].unique())"
   ]
  },
  {
   "cell_type": "code",
   "execution_count": 190,
   "metadata": {
    "collapsed": true
   },
   "outputs": [],
   "source": [
    "userid2idx = {o:i for i,o in enumerate(uid)}\n",
    "movieid2idx = {o:i for i,o in enumerate(mid)}\n",
    "\n",
    "# We update the movie and user ids so that they are contiguous integers, which we want when using embeddings.\n",
    "ratings.movieId = ratings.movieId.apply(lambda x: movieid2idx[x])\n",
    "ratings.userId = ratings.userId.apply(lambda x: userid2idx[x])\n",
    "\n",
    "new_movie_names = {ni:movie_names[oi] for (oi,ni) in movieid2idx.items()}"
   ]
  },
  {
   "cell_type": "code",
   "execution_count": 191,
   "metadata": {},
   "outputs": [],
   "source": [
    "userinp = ratings['userId'].values\n",
    "movieinp = ratings['movieId'].values\n",
    "target = ratings['rating'].values"
   ]
  },
  {
   "cell_type": "code",
   "execution_count": 193,
   "metadata": {},
   "outputs": [
    {
     "name": "stdout",
     "output_type": "stream",
     "text": [
      "671 9066\n"
     ]
    },
    {
     "data": {
      "text/html": [
       "<div>\n",
       "<style>\n",
       "    .dataframe thead tr:only-child th {\n",
       "        text-align: right;\n",
       "    }\n",
       "\n",
       "    .dataframe thead th {\n",
       "        text-align: left;\n",
       "    }\n",
       "\n",
       "    .dataframe tbody tr th {\n",
       "        vertical-align: top;\n",
       "    }\n",
       "</style>\n",
       "<table border=\"1\" class=\"dataframe\">\n",
       "  <thead>\n",
       "    <tr style=\"text-align: right;\">\n",
       "      <th></th>\n",
       "      <th>userId</th>\n",
       "      <th>movieId</th>\n",
       "      <th>rating</th>\n",
       "      <th>timestamp</th>\n",
       "    </tr>\n",
       "  </thead>\n",
       "  <tbody>\n",
       "    <tr>\n",
       "      <th>count</th>\n",
       "      <td>100004.000000</td>\n",
       "      <td>100004.000000</td>\n",
       "      <td>100004.000000</td>\n",
       "      <td>1.000040e+05</td>\n",
       "    </tr>\n",
       "    <tr>\n",
       "      <th>mean</th>\n",
       "      <td>346.011310</td>\n",
       "      <td>1660.778349</td>\n",
       "      <td>3.543608</td>\n",
       "      <td>1.129639e+09</td>\n",
       "    </tr>\n",
       "    <tr>\n",
       "      <th>std</th>\n",
       "      <td>195.163838</td>\n",
       "      <td>1893.955817</td>\n",
       "      <td>1.058064</td>\n",
       "      <td>1.916858e+08</td>\n",
       "    </tr>\n",
       "    <tr>\n",
       "      <th>min</th>\n",
       "      <td>0.000000</td>\n",
       "      <td>0.000000</td>\n",
       "      <td>0.500000</td>\n",
       "      <td>7.896520e+08</td>\n",
       "    </tr>\n",
       "    <tr>\n",
       "      <th>25%</th>\n",
       "      <td>181.000000</td>\n",
       "      <td>327.000000</td>\n",
       "      <td>3.000000</td>\n",
       "      <td>9.658478e+08</td>\n",
       "    </tr>\n",
       "    <tr>\n",
       "      <th>50%</th>\n",
       "      <td>366.000000</td>\n",
       "      <td>873.000000</td>\n",
       "      <td>4.000000</td>\n",
       "      <td>1.110422e+09</td>\n",
       "    </tr>\n",
       "    <tr>\n",
       "      <th>75%</th>\n",
       "      <td>519.000000</td>\n",
       "      <td>2344.000000</td>\n",
       "      <td>4.000000</td>\n",
       "      <td>1.296192e+09</td>\n",
       "    </tr>\n",
       "    <tr>\n",
       "      <th>max</th>\n",
       "      <td>670.000000</td>\n",
       "      <td>9065.000000</td>\n",
       "      <td>5.000000</td>\n",
       "      <td>1.476641e+09</td>\n",
       "    </tr>\n",
       "  </tbody>\n",
       "</table>\n",
       "</div>"
      ],
      "text/plain": [
       "              userId        movieId         rating     timestamp\n",
       "count  100004.000000  100004.000000  100004.000000  1.000040e+05\n",
       "mean      346.011310    1660.778349       3.543608  1.129639e+09\n",
       "std       195.163838    1893.955817       1.058064  1.916858e+08\n",
       "min         0.000000       0.000000       0.500000  7.896520e+08\n",
       "25%       181.000000     327.000000       3.000000  9.658478e+08\n",
       "50%       366.000000     873.000000       4.000000  1.110422e+09\n",
       "75%       519.000000    2344.000000       4.000000  1.296192e+09\n",
       "max       670.000000    9065.000000       5.000000  1.476641e+09"
      ]
     },
     "execution_count": 193,
     "metadata": {},
     "output_type": "execute_result"
    }
   ],
   "source": [
    "print(len(uid),len(mid))\n",
    "ratings.describe()\n",
    "# uid[-5:],mid[-5:]\n"
   ]
  },
  {
   "cell_type": "code",
   "execution_count": 209,
   "metadata": {},
   "outputs": [
    {
     "name": "stdout",
     "output_type": "stream",
     "text": [
      "____________________________________________________________________________________________________\n",
      "Layer (type)                     Output Shape          Param #     Connected to                     \n",
      "====================================================================================================\n",
      "user (InputLayer)                (None, 1)             0                                            \n",
      "____________________________________________________________________________________________________\n",
      "movie (InputLayer)               (None, 1)             0                                            \n",
      "____________________________________________________________________________________________________\n",
      "embedding_53 (Embedding)         (None, 1, 100)        67100       user[0][0]                       \n",
      "____________________________________________________________________________________________________\n",
      "embedding_55 (Embedding)         (None, 1, 100)        906600      movie[0][0]                      \n",
      "____________________________________________________________________________________________________\n",
      "merge_25 (Merge)                 (None, 1, 1)          0           embedding_53[0][0]               \n",
      "                                                                   embedding_55[0][0]               \n",
      "____________________________________________________________________________________________________\n",
      "embedding_52 (Embedding)         (None, 1, 1)          671         user[0][0]                       \n",
      "____________________________________________________________________________________________________\n",
      "flatten_22 (Flatten)             (None, 1)             0           merge_25[0][0]                   \n",
      "____________________________________________________________________________________________________\n",
      "flatten_20 (Flatten)             (None, 1)             0           embedding_52[0][0]               \n",
      "____________________________________________________________________________________________________\n",
      "embedding_54 (Embedding)         (None, 1, 1)          671         movie[0][0]                      \n",
      "____________________________________________________________________________________________________\n",
      "merge_26 (Merge)                 (None, 1)             0           flatten_22[0][0]                 \n",
      "                                                                   flatten_20[0][0]                 \n",
      "____________________________________________________________________________________________________\n",
      "flatten_21 (Flatten)             (None, 1)             0           embedding_54[0][0]               \n",
      "____________________________________________________________________________________________________\n",
      "merge_27 (Merge)                 (None, 1)             0           merge_26[0][0]                   \n",
      "                                                                   flatten_21[0][0]                 \n",
      "====================================================================================================\n",
      "Total params: 975,042\n",
      "Trainable params: 975,042\n",
      "Non-trainable params: 0\n",
      "____________________________________________________________________________________________________\n"
     ]
    },
    {
     "name": "stderr",
     "output_type": "stream",
     "text": [
      "/home/chenjennhaur/anaconda3/envs/tensorflow/lib/python3.6/site-packages/ipykernel/__main__.py:7: UserWarning: Update your `Embedding` call to the Keras 2 API: `Embedding(671, 100, input_length=1, embeddings_regularizer=<keras.reg...)`\n",
      "/home/chenjennhaur/anaconda3/envs/tensorflow/lib/python3.6/site-packages/ipykernel/__main__.py:11: UserWarning: Update your `Embedding` call to the Keras 2 API: `Embedding(9066, 100, input_length=1, embeddings_regularizer=<keras.reg...)`\n",
      "/home/chenjennhaur/anaconda3/envs/tensorflow/lib/python3.6/site-packages/ipykernel/__main__.py:13: UserWarning: The `merge` function is deprecated and will be removed after 08/2017. Use instead layers from `keras.layers.merge`, e.g. `add`, `concatenate`, etc.\n",
      "/home/chenjennhaur/anaconda3/envs/tensorflow/lib/python3.6/site-packages/keras/legacy/layers.py:458: UserWarning: The `Merge` layer is deprecated and will be removed after 08/2017. Use instead layers from `keras.layers.merge`, e.g. `add`, `concatenate`, etc.\n",
      "  name=name)\n",
      "/home/chenjennhaur/anaconda3/envs/tensorflow/lib/python3.6/site-packages/ipykernel/__main__.py:15: UserWarning: The `merge` function is deprecated and will be removed after 08/2017. Use instead layers from `keras.layers.merge`, e.g. `add`, `concatenate`, etc.\n",
      "/home/chenjennhaur/anaconda3/envs/tensorflow/lib/python3.6/site-packages/ipykernel/__main__.py:16: UserWarning: The `merge` function is deprecated and will be removed after 08/2017. Use instead layers from `keras.layers.merge`, e.g. `add`, `concatenate`, etc.\n"
     ]
    }
   ],
   "source": [
    "from keras.regularizers import l2\n",
    "\n",
    "userid = Input(shape=(1,),name='user')\n",
    "movieid = Input(shape=(1,),name='movie')\n",
    "ub = Embedding(len(uid),1,input_length=1)(userid)\n",
    "ub = Flatten()(ub)\n",
    "uw = Embedding(len(uid),100,input_length=1,W_regularizer=l2(1e-4))(userid)\n",
    "# x1 = Reshape((100,))(x1)\n",
    "mb = Embedding(len(uid),1,input_length=1)(movieid)\n",
    "mb = Flatten()(mb)\n",
    "mw = Embedding(len(mid),100,input_length=1,W_regularizer=l2(1e-4))(movieid)\n",
    "# x2= Reshape((100,))(x2)\n",
    "x = merge([uw,mw],mode='dot')\n",
    "x = Flatten()(x)\n",
    "x = merge([x,ub],mode='sum')\n",
    "x = merge([x,mb],mode='sum')\n",
    "# x = Dropout(0.2)(x)\n",
    "# x = Dense(100,activation='relu')(x)\n",
    "# x = Dropout(0.2)(x)\n",
    "# x = Dense(1,activation='linear')(x)\n",
    "model = Model([userid,movieid],x)\n",
    "model.summary()\n",
    "\n",
    "model.compile(optimizer='adamax', loss='mse')"
   ]
  },
  {
   "cell_type": "code",
   "execution_count": 210,
   "metadata": {},
   "outputs": [
    {
     "name": "stdout",
     "output_type": "stream",
     "text": [
      "Epoch 1/5\n",
      "100004/100004 [==============================] - 1s - loss: 12.6314     \n",
      "Epoch 2/5\n",
      "100004/100004 [==============================] - 1s - loss: 8.8627     \n",
      "Epoch 3/5\n",
      "100004/100004 [==============================] - 1s - loss: 4.9920     \n",
      "Epoch 4/5\n",
      "100004/100004 [==============================] - 1s - loss: 3.4213     \n",
      "Epoch 5/5\n",
      "100004/100004 [==============================] - 1s - loss: 2.6913     \n"
     ]
    },
    {
     "data": {
      "text/plain": [
       "<keras.callbacks.History at 0x7fdfd30a9550>"
      ]
     },
     "execution_count": 210,
     "metadata": {},
     "output_type": "execute_result"
    }
   ],
   "source": [
    "model.fit([userinp,movieinp], target,epochs=5, batch_size=128)"
   ]
  },
  {
   "cell_type": "code",
   "execution_count": 215,
   "metadata": {},
   "outputs": [
    {
     "name": "stdout",
     "output_type": "stream",
     "text": [
      "0 <keras.engine.topology.InputLayer object at 0x7fdfd2f76278>\n",
      "1 <keras.engine.topology.InputLayer object at 0x7fdfd2f76208>\n",
      "2 <keras.layers.embeddings.Embedding object at 0x7fdfd2f86e80>\n",
      "3 <keras.layers.embeddings.Embedding object at 0x7fdfd2fdb9b0>\n",
      "4 <keras.legacy.layers.Merge object at 0x7fdfd2f90828>\n",
      "5 <keras.layers.embeddings.Embedding object at 0x7fdfd2f766a0>\n",
      "6 <keras.layers.core.Flatten object at 0x7fdfd2fa42e8>\n",
      "7 <keras.layers.core.Flatten object at 0x7fdfd2f7dd30>\n",
      "8 <keras.layers.embeddings.Embedding object at 0x7fdfd2f86f98>\n",
      "9 <keras.legacy.layers.Merge object at 0x7fdfd2f39b38>\n",
      "10 <keras.layers.core.Flatten object at 0x7fdfd2f68e10>\n",
      "11 <keras.legacy.layers.Merge object at 0x7fdfd2f37eb8>\n"
     ]
    }
   ],
   "source": [
    "for l,m in enumerate(model.layers):\n",
    "    print(l,m)"
   ]
  },
  {
   "cell_type": "code",
   "execution_count": 212,
   "metadata": {},
   "outputs": [],
   "source": [
    "# from keras import backend as K\n",
    "# get_movie_embed = K.function([model.layers[0].input],[model.layers[3].output])\n",
    "# layer_output = get_movie_embed([userinp,movieinp])[0]"
   ]
  },
  {
   "cell_type": "code",
   "execution_count": 229,
   "metadata": {},
   "outputs": [
    {
     "data": {
      "text/plain": [
       "array([ 0.10168266,  0.1279833 , -0.08375041, -0.1086758 , -0.11080393,\n",
       "        0.11922451, -0.12217389,  0.10011319,  0.09329143, -0.11516085,\n",
       "       -0.1028003 , -0.13553102,  0.10699932,  0.09149715,  0.14782044,\n",
       "        0.1097913 , -0.04413486,  0.1729245 , -0.11060912,  0.08953319,\n",
       "       -0.11967392, -0.12070232, -0.17658986, -0.10651191, -0.13624547,\n",
       "       -0.11130563,  0.10838658, -0.13793446, -0.09037676,  0.11579714,\n",
       "        0.07717948, -0.08035419, -0.10647401,  0.11677355, -0.11622167,\n",
       "        0.10576204, -0.11023118, -0.11258791, -0.09275565,  0.13806061,\n",
       "        0.14974687, -0.10317611,  0.13980848,  0.14472876, -0.14166625,\n",
       "       -0.08852642, -0.14499663,  0.10514073, -0.1299447 , -0.08775359,\n",
       "       -0.0903061 , -0.15199898,  0.07470693,  0.09717508, -0.11475866,\n",
       "        0.14287427,  0.12215807, -0.12951049,  0.10131739,  0.08181577,\n",
       "       -0.10441489, -0.09535695, -0.07205888, -0.11140583, -0.07833101,\n",
       "       -0.10066409, -0.12113469,  0.09158402, -0.08592007, -0.12492673,\n",
       "        0.109524  , -0.11332306,  0.09220592,  0.10961833, -0.09435814,\n",
       "       -0.10423153, -0.13605593,  0.08372061,  0.11970913, -0.14791667,\n",
       "        0.08287225,  0.07603472,  0.12842806,  0.11094214,  0.06649918,\n",
       "        0.09815511,  0.09433009,  0.09842715, -0.12509912,  0.11924288,\n",
       "       -0.1033015 , -0.1307607 ,  0.12785564,  0.12140875,  0.02054641,\n",
       "       -0.06463438,  0.1089424 ,  0.04472109,  0.12666138, -0.12748004], dtype=float32)"
      ]
     },
     "execution_count": 229,
     "metadata": {},
     "output_type": "execute_result"
    }
   ],
   "source": [
    "movie_latent = model.layers[3].get_weights()\n",
    "movie_latent[0][1]\n",
    "# Sama\n",
    "# get_movie_emb = Model(movieid,mw)\n",
    "# movie_emb = np.squeeze(get_movie_emb.predict(movieinp))\n",
    "# movie_emb = np.squeeze(get_movie_emb.predict(topMovies))"
   ]
  },
  {
   "cell_type": "code",
   "execution_count": 219,
   "metadata": {
    "collapsed": true
   },
   "outputs": [],
   "source": [
    "g=ratings.groupby('movieId')['rating'].count()\n",
    "topMovies=g.sort_values(ascending=False)[:2000]\n",
    "topMovies = np.array(topMovies.index)"
   ]
  },
  {
   "cell_type": "code",
   "execution_count": 221,
   "metadata": {},
   "outputs": [
    {
     "data": {
      "text/plain": [
       "array([ 57,  49,  99,  92, 143,  72, 402, 417,  79,  89])"
      ]
     },
     "execution_count": 221,
     "metadata": {},
     "output_type": "execute_result"
    }
   ],
   "source": [
    "topMovies[:10]"
   ]
  },
  {
   "cell_type": "code",
   "execution_count": 233,
   "metadata": {},
   "outputs": [
    {
     "data": {
      "text/plain": [
       "movieId\n",
       "57     341\n",
       "49     324\n",
       "99     311\n",
       "92     304\n",
       "143    291\n",
       "72     274\n",
       "402    259\n",
       "417    247\n",
       "79     244\n",
       "89     237\n",
       "Name: rating, dtype: int64"
      ]
     },
     "execution_count": 233,
     "metadata": {},
     "output_type": "execute_result"
    }
   ],
   "source": [
    "ratings.groupby('movieId')['rating'].count().sort_values(ascending=False)[:10]"
   ]
  },
  {
   "cell_type": "code",
   "execution_count": 251,
   "metadata": {},
   "outputs": [
    {
     "data": {
      "text/plain": [
       "<matplotlib.figure.Figure at 0x7fdfd20ce4e0>"
      ]
     },
     "execution_count": 251,
     "metadata": {},
     "output_type": "execute_result"
    },
    {
     "data": {
      "text/plain": [
       "<matplotlib.figure.Figure at 0x7fdfd20ce4e0>"
      ]
     },
     "metadata": {},
     "output_type": "display_data"
    }
   ],
   "source": [
    "from sklearn.manifold import TSNE\n",
    "\n",
    "movie_tsne = TSNE(n_components=2).fit_transform(movie_latent[0])\n"
   ]
  },
  {
   "cell_type": "code",
   "execution_count": 261,
   "metadata": {},
   "outputs": [
    {
     "data": {
      "text/html": [
       "<div>\n",
       "<style>\n",
       "    .dataframe thead tr:only-child th {\n",
       "        text-align: right;\n",
       "    }\n",
       "\n",
       "    .dataframe thead th {\n",
       "        text-align: left;\n",
       "    }\n",
       "\n",
       "    .dataframe tbody tr th {\n",
       "        vertical-align: top;\n",
       "    }\n",
       "</style>\n",
       "<table border=\"1\" class=\"dataframe\">\n",
       "  <thead>\n",
       "    <tr style=\"text-align: right;\">\n",
       "      <th></th>\n",
       "      <th>0</th>\n",
       "      <th>x</th>\n",
       "      <th>y</th>\n",
       "    </tr>\n",
       "  </thead>\n",
       "  <tbody>\n",
       "    <tr>\n",
       "      <th>0</th>\n",
       "      <td>Dangerous Minds (1995)</td>\n",
       "      <td>4.529202</td>\n",
       "      <td>18.516392</td>\n",
       "    </tr>\n",
       "    <tr>\n",
       "      <th>1</th>\n",
       "      <td>Dumbo (1941)</td>\n",
       "      <td>-8.803856</td>\n",
       "      <td>17.259270</td>\n",
       "    </tr>\n",
       "  </tbody>\n",
       "</table>\n",
       "</div>"
      ],
      "text/plain": [
       "                        0         x          y\n",
       "0  Dangerous Minds (1995)  4.529202  18.516392\n",
       "1            Dumbo (1941) -8.803856  17.259270"
      ]
     },
     "execution_count": 261,
     "metadata": {},
     "output_type": "execute_result"
    }
   ],
   "source": [
    "df = pd.DataFrame.from_dict(new_movie_names,orient='index')\n",
    "df['x'] = movie_tsne[:,0]\n",
    "df['y'] = movie_tsne[:,1]\n",
    "df.head(2)"
   ]
  },
  {
   "cell_type": "code",
   "execution_count": 290,
   "metadata": {},
   "outputs": [
    {
     "name": "stderr",
     "output_type": "stream",
     "text": [
      "IOPub data rate exceeded.\n",
      "The notebook server will temporarily stop sending output\n",
      "to the client in order to avoid crashing it.\n",
      "To change this limit, set the config variable\n",
      "`--NotebookApp.iopub_data_rate_limit`.\n"
     ]
    }
   ],
   "source": [
    "# ax1.set_xlim([0, 5])\n",
    "plt.figure(figsize=(128, 128)) \n",
    "xcoord = df['x']\n",
    "ycoord = df['y']\n",
    "labels = df[0].values\n",
    "# marker = {0:\"o\",1:\"1\",2:\"*\"}\n",
    "# color = {0:\"black\",1:\"red\",2:\"yellow\"}\n",
    "\n",
    "for i in range(len(xcoord)):\n",
    "#     plt.scatter(xcoord[i],ycoord[i],color=color[word_type[i]],marker=marker[word_type[i]])\n",
    "    plt.scatter(xcoord[i],ycoord[i])\n",
    "    plt.annotate(labels[i],xy=(xcoord[i], ycoord[i]),xytext=(5, 2),textcoords='offset points',ha='right',va='bottom')\n",
    "\n",
    "\n",
    "plt.show()"
   ]
  },
  {
   "cell_type": "code",
   "execution_count": 276,
   "metadata": {},
   "outputs": [],
   "source": [
    "get_movie_bias = Model(movieid, mb)\n",
    "movie_bias = get_movie_bias.predict([i for i in range(0,len(mid))])"
   ]
  },
  {
   "cell_type": "code",
   "execution_count": 278,
   "metadata": {},
   "outputs": [
    {
     "data": {
      "text/plain": [
       "array([[ 0.21145828],\n",
       "       [ 0.15131749],\n",
       "       [ 0.13508104],\n",
       "       ..., \n",
       "       [ 0.        ],\n",
       "       [ 0.        ],\n",
       "       [ 0.        ]], dtype=float32)"
      ]
     },
     "execution_count": 278,
     "metadata": {},
     "output_type": "execute_result"
    }
   ],
   "source": [
    "movie_bias"
   ]
  },
  {
   "cell_type": "code",
   "execution_count": 279,
   "metadata": {
    "collapsed": true
   },
   "outputs": [],
   "source": [
    "df['bias'] = movie_bias"
   ]
  },
  {
   "cell_type": "code",
   "execution_count": 289,
   "metadata": {},
   "outputs": [
    {
     "name": "stdout",
     "output_type": "stream",
     "text": [
      "                                     0          x          y      bias\n",
      "572               Life in a Day (2011)  40.226490   1.341512 -0.036607\n",
      "617             Art of War, The (2000)  35.798302  13.974094 -0.034724\n",
      "606             Mad About Mambo (2000)  35.958530  -5.401708 -0.030838\n",
      "557            Step Into Liquid (2002) -33.609989  28.579762 -0.021811\n",
      "596              Rocketship X-M (1950)  35.456257  -7.150631 -0.019564\n",
      "296                  Psycho III (1986)  27.673645  27.143049 -0.019214\n",
      "619           Steal This Movie! (2000) -61.570492  30.103573 -0.011952\n",
      "501                    Firewall (2006) -43.270344   2.698572 -0.008327\n",
      "500                   Annapolis (2006)  35.043846  17.466772 -0.007550\n",
      "248  Return from Witch Mountain (1978) -47.095795 -10.839712 -0.006922\n",
      "                                             0          x          y      bias\n",
      "49                         Pulp Fiction (1994)   9.589172  26.989519  0.608185\n",
      "57                         Forrest Gump (1994)  10.105489  26.300709  0.555567\n",
      "99            Shawshank Redemption, The (1994)   7.508812  30.215376  0.555205\n",
      "402                         Matrix, The (1999) -10.245546  38.882519  0.523074\n",
      "505                               Fargo (1996)   6.680283  29.620741  0.501916\n",
      "143  Star Wars: Episode IV - A New Hope (1977)   5.871928  32.726460  0.500075\n",
      "92            Silence of the Lambs, The (1991)   9.802528  26.837498  0.492979\n",
      "121                     American Beauty (1999)  -4.591362  40.200539  0.462922\n",
      "72                        Jurassic Park (1993)  10.420834  25.059753  0.461552\n",
      "417                           Toy Story (1995)   7.918655  27.377186  0.458521\n"
     ]
    }
   ],
   "source": [
    "print(df.sort_values(by='bias',ascending=True)[:10])\n",
    "print(df.sort_values(by='bias',ascending=False)[:10])"
   ]
  },
  {
   "cell_type": "code",
   "execution_count": null,
   "metadata": {
    "collapsed": true
   },
   "outputs": [],
   "source": []
  },
  {
   "cell_type": "code",
   "execution_count": null,
   "metadata": {
    "collapsed": true
   },
   "outputs": [],
   "source": [
    "# cat_maps = [(o, LabelEncoder()) for o in cat_vars]\n",
    "# contin_maps = [([o], StandardScaler()) for o in contin_vars]\n",
    "\n",
    "# cat_mapper = DataFrameMapper(cat_maps)\n",
    "# cat_map_fit = cat_mapper.fit(joined)\n",
    "# cat_cols = len(cat_map_fit.features)"
   ]
  }
 ],
 "metadata": {
  "anaconda-cloud": {},
  "kernelspec": {
   "display_name": "Python [tensorflow]",
   "language": "python",
   "name": "Python [tensorflow]"
  },
  "language_info": {
   "codemirror_mode": {
    "name": "ipython",
    "version": 3
   },
   "file_extension": ".py",
   "mimetype": "text/x-python",
   "name": "python",
   "nbconvert_exporter": "python",
   "pygments_lexer": "ipython3",
   "version": "3.6.3"
  }
 },
 "nbformat": 4,
 "nbformat_minor": 2
}
