{
 "cells": [
  {
   "cell_type": "code",
   "execution_count": 165,
   "metadata": {
    "collapsed": true
   },
   "outputs": [],
   "source": [
    "import logging, gensim\n",
    "from gensim import corpora, models, similarities,matutils\n",
    "import seaborn as sb\n",
    "import matplotlib.pyplot as plt\n",
    "import sklearn.datasets\n",
    "import nltk\n",
    "import numpy as np\n",
    "from scipy.spatial import distance\n",
    "from sklearn.feature_extraction.text import TfidfVectorizer\n",
    "\n",
    "%matplotlib inline\n",
    "\n",
    "logging.basicConfig(format='%(asctime)s : %(levelname)s : %(message)s',level=logging.INFO)"
   ]
  },
  {
   "cell_type": "code",
   "execution_count": 148,
   "metadata": {
    "collapsed": true
   },
   "outputs": [],
   "source": [
    "# Load Data\n",
    "corpus = corpora.MmCorpus('20newsgroup.mm')\n",
    "dictionary = corpora.Dictionary.load('20newsgroup.dict')"
   ]
  },
  {
   "cell_type": "code",
   "execution_count": 134,
   "metadata": {
    "collapsed": true
   },
   "outputs": [],
   "source": [
    "# ap.dat - Each document is one line with - N fieldId1:fieldValue1 fieldId2:fieldValue2 ... fieldIdN:fieldValueN\n",
    "# The vocabulary is a file with words, one word per line; word at line K has an implicit id=K.\n",
    "corpus = corpora.BleiCorpus('ap.dat','vocab.txt')"
   ]
  },
  {
   "cell_type": "code",
   "execution_count": 3,
   "metadata": {
    "collapsed": false
   },
   "outputs": [
    {
     "name": "stderr",
     "output_type": "stream",
     "text": [
      "WARNING:gensim.models.ldamodel:too few updates, training might not converge; consider increasing the number of passes or iterations to improve accuracy\n"
     ]
    }
   ],
   "source": [
    "# Smaller alpha will result in fewer topics for each document\n",
    "model = models.ldamodel.LdaModel(corpus,num_topics=100,id2word=corpus.id2word,alpha=1)"
   ]
  },
  {
   "cell_type": "code",
   "execution_count": 136,
   "metadata": {
    "collapsed": false
   },
   "outputs": [
    {
     "name": "stdout",
     "output_type": "stream",
     "text": [
      "<gensim.corpora.bleicorpus.BleiCorpus object at 0x000002A2D60E9630>\n"
     ]
    }
   ],
   "source": [
    "print(corpus)\n",
    "# doc = corpus.docbyoffset(0)\n",
    "# topics = model[doc]\n",
    "# print(topics)"
   ]
  },
  {
   "cell_type": "code",
   "execution_count": 5,
   "metadata": {
    "collapsed": false
   },
   "outputs": [],
   "source": [
    "num_topics_used = [len(model[doc]) for doc in corpus]"
   ]
  },
  {
   "cell_type": "code",
   "execution_count": 6,
   "metadata": {
    "collapsed": false
   },
   "outputs": [
    {
     "data": {
      "text/plain": [
       "(array([  56.,   89.,  224.,  424.,  764.,  484.,  144.,   44.,   11.,    6.]),\n",
       " array([  1. ,   5.7,  10.4,  15.1,  19.8,  24.5,  29.2,  33.9,  38.6,\n",
       "         43.3,  48. ]),\n",
       " <a list of 10 Patch objects>)"
      ]
     },
     "execution_count": 6,
     "metadata": {},
     "output_type": "execute_result"
    },
    {
     "data": {
      "image/png": "[encoded data removed]",
      "text/plain": [
       "<matplotlib.figure.Figure at 0x2a2d4c95d30>"
      ]
     },
     "metadata": {},
     "output_type": "display_data"
    }
   ],
   "source": [
    "plt.hist(num_topics_used)"
   ]
  },
  {
   "cell_type": "code",
   "execution_count": 11,
   "metadata": {
    "collapsed": true
   },
   "outputs": [],
   "source": [
    "#train = sklearn.datasets.fetch_20newsgroups(subset='train',remove=('headers'))\n",
    "train = sklearn.datasets.fetch_20newsgroups(subset='train')\n",
    "test = sklearn.datasets.fetch_20newsgroups(subset='test')"
   ]
  },
  {
   "cell_type": "code",
   "execution_count": 13,
   "metadata": {
    "collapsed": false
   },
   "outputs": [],
   "source": [
    "#train.target_names\n",
    "#train.filenames\n",
    "#train.target[:10]\n",
    "documents = train.data[:10]"
   ]
  },
  {
   "cell_type": "code",
   "execution_count": 59,
   "metadata": {
    "collapsed": false
   },
   "outputs": [],
   "source": [
    "s = nltk.stem.SnowballStemmer('english')\n",
    "class StemmedTfidfVectorizer(TfidfVectorizer):\n",
    "    def build_analyzer(self):\n",
    "        #StemmedCountVectorizer will return CountVectorizer build_analyzer code\n",
    "        analyzer = super(TfidfVectorizer,self).build_analyzer()\n",
    "        return lambda doc: (s.stem(w) for w in analyzer(doc))\n",
    "\n",
    "# default min_df = 1, max_df = 1.0\n",
    "# In other words, tf-idf weight in document that is\n",
    "# highest when the terms occurs many times within a small number of documents (thus lending high discriminating power to those documents);\n",
    "# lower when the term occurs fewer times in a document, or occurs in many documents (thus offering a less pronounced relevance signal);\n",
    "# lowest when the term occurs in virtually all documents.\n",
    "vectorizer = StemmedTfidfVectorizer(min_df=1,stop_words='english',decode_error='ignore')"
   ]
  },
  {
   "cell_type": "code",
   "execution_count": 112,
   "metadata": {
    "collapsed": false
   },
   "outputs": [],
   "source": [
    "vectorized = vectorizer.fit_transform(documents)\n",
    "features = np.array(vectorizer.get_feature_names())\n",
    "# type(features)\n",
    "texts = [list(features[list((vectorized>0)[i].nonzero()[1])]) for i,doc in enumerate(documents)]"
   ]
  },
  {
   "cell_type": "code",
   "execution_count": 127,
   "metadata": {
    "collapsed": false
   },
   "outputs": [
    {
     "name": "stdout",
     "output_type": "stream",
     "text": [
      "Dictionary(675 unique tokens: ['late', '1r1eu1', 'car', 'post', 'messag']...)\n",
      "{'late': 0, '1r1eu1': 440, 'car': 2, 'post': 3, 'messag': 54, 'error': 299, 'special': 414, 'attain': 55, 'show': 501, 'spec': 6, 'address': 227, 'ghost': 116, 'cruce': 503, 'wonder': 38, 'slower': 523, 'uni': 611, 'unless': 618, '1991': 500, 'powerbook': 166, '800': 63, 'n33': 516, 'memori': 288, 'reword': 377, 'compani': 400, 'don': 136, 'hole': 643, 'glad': 473, 'jgreen': 236, 'alleg': 366, 'appear': 124, 'modern': 358, 'treatment': 483, 'stuff': 240, '60s': 20, 'bunch': 126, 'bounc': 487, 'washington': 91, '1985': 132, 'agre': 361, 'curious': 300, 'believ': 362, 'instead': 493, '12': 495, 'phone': 242, 'crimial': 389, 'stac': 660, 'inform': 248, 'scare': 250, 'hellcat': 139, 'make': 140, 'edu': 32, 'repli': 477, 'say': 398, 'machin': 142, 'wrong': 647, 'goe': 230, 'clear': 325, 'iowa': 606, 'lie': 145, 'ux1': 668, 'respond': 476, '10mb': 535, 'lawrenc': 381, 'dxb132': 537, 'diskdoubl': 672, 'histori': 43, 'corner': 149, 'shotgun': 382, 'john': 407, 'yes': 328, 'convict': 135, 'owner': 629, 'hour': 79, 'rumor': 197, '15': 49, 'relat': 670, 'idea': 388, 'csd': 270, 'fast': 544, 'sad': 654, 'hard': 392, 'psuvm': 547, 'pb': 160, 'real': 161, 'accident': 394, 'ulowel': 461, 'ignor': 277, '161': 582, 'network': 77, 'oscil': 56, 'rob': 226, 'liftoff': 305, 'suchlik': 280, '1993apr20': 351, 'prob': 466, 'nmsu': 555, 'way': 168, 'price': 169, 'doug': 425, 'mayb': 172, 'mean': 287, 'share': 62, 'design': 631, 'especi': 64, 'winter': 235, 'anybodi': 176, 'haven': 92, 'list': 540, 'level': 239, 'cso': 665, 'question': 112, '58': 415, 'incompat': 510, 'argument': 368, 'enlighten': 21, 'breifli': 183, 'neighbor': 416, 'dougla': 429, 'urbana': 633, 'mode': 579, 'wam': 24, 'floppi': 96, 'delaney': 489, 'knowledg': 82, 'sheet': 580, 'massiv': 352, 'given': 406, '4h9': 308, 'folk': 199, '27': 575, 'money': 201, 'report': 85, 'today': 433, 'baker': 317, 'b62': 655, 'send': 87, 'licens': 648, 'septemb': 469, 'p9000': 254, 'n3p': 318, 'tko': 439, '44': 551, 'mexico': 584, 'kyanko': 262, 'chang': 613, 'v8': 590, 'colleg': 41, 'nuke': 447, 'cwru': 642, 'quad': 480, 'clock': 97, 'guykuo': 98, 'right': 331, 'dirt': 216, 'file': 479, 'function': 100, 'illinoi': 667, 'hit': 218, 'gas': 441, 'ma': 337, 'card': 103, 'humor': 257, 'requir': 271, 'bradi': 457, '6mb': 502, 'take': 220, 'point': 272, 'decompress': 619, 'govern': 341, 'pick': 148, 'command': 222, 'document': 499, 'pellettier': 623, 'analysi': 345, 'ousrvr': 436, 'control': 347, 'avail': 589, 'weitek': 229, 'peopl': 206, '083057': 402, 'actual': 114, 'rang': 506, 'guy': 59, 'tell': 321, 'worth': 117, 'magazin': 509, 'request': 67, 'common': 454, 'destruct': 354, 'help': 121, '80mb': 122, 'txt': 511, 'stankerr': 638, 'couldn': 481, 'hardwar': 666, 'usual': 621, 'convinc': 514, 'present': 359, 'chicago': 463, 'introduct': 129, 'rat': 297, 'thank': 22, 'slam': 599, 'answer': 75, 'number': 76, 'recent': 162, 'host': 48, 'synchron': 519, '4j3': 364, 'add': 81, 'freewar': 650, 'need': 365, 'standard': 532, 'procedur': 83, 'handgun': 367, 'fix': 310, 'consid': 369, 'data': 526, 'just': 137, 'appreci': 602, 'sens': 253, 'oulu': 375, 'uchicago': 472, 'writer': 530, 'advanc': 158, 'cbw': 417, 'realli': 37, 'system': 259, 'experi': 94, 'autodoubl': 639, 'joe': 263, 'small': 40, 'april': 592, 'restrict': 373, 'brought': 42, 'known': 332, 'vs': 588, 'debra': 482, 'blank': 356, 'sooo': 152, 'got': 154, 'follow': 384, 'line': 47, '29': 542, 'result': 438, 'sean': 490, '36': 157, 'pretti': 269, 'fault': 671, 'individu': 391, 'interfac': 563, 'refer': 549, 'size': 167, 'vos': 353, 'subject': 1, 'hand': 393, 'ide': 524, 'expand': 640, '25mb': 538, 'robert': 224, 'store': 215, 'call': 8, 'c5owcb': 327, '21': 520, 'low': 265, '40mb': 505, 'sks': 412, '96': 561, 'nntp': 14, 'biolog': 408, 'lerxst': 50, 'summer': 207, 'rutledg': 411, 'bgrubb': 566, 'doubl': 646, 'death': 376, 'figur': 181, 'summar': 70, 'brave': 71, 'sharon': 485, 'tombak': 275, 'went': 185, 'pack': 298, 'nm': 522, 'midway': 491, 'start': 188, 'stan': 632, 'green': 245, 'daili': 192, 'twilli': 194, 'know': 27, 'plus': 195, 'cost': 424, 'sport': 30, 'sorri': 291, 'harri': 241, '16899': 430, 'swing': 200, 'wide': 581, 'tavar': 431, 'transfer': 371, 'write': 261, 'jap10': 669, 'packet': 435, 'disagre': 437, 'separ': 33, 'rifl': 350, 'fasst': 585, 'iastat': 255, 'cours': 395, 'thousand': 372, 'prove': 209, 'sure': 474, 'kill': 442, 'realiz': 210, '14': 247, 'nerv': 374, 'public': 478, 'switch': 446, 'compress': 661, 'somebodi': 212, 'graphic': 264, 'million': 450, 'reach': 595, 'needless': 451, 'round': 175, '5217': 624, 'impress': 217, 'launch': 334, 'brief': 101, '11': 102, 'ttu': 336, 'softwar': 338, 'properti': 459, 'kerr': 664, 'investor': 456, 'mail': 52, 'pc': 600, 'true': 496, 'stinki': 673, 'thought': 471, 'hmmm': 475, '20': 564, 'keep': 343, 'download': 604, 'second': 363, 'pl9': 225, 'code': 279, 'aren': 273, 'hope': 111, 'rn': 468, 'condit': 281, 'statement': 504, 'understand': 282, 'addit': 9, 'version': 232, 'earli': 11, 'thing': 12, 'faster': 508, 'one': 118, '734340159': 234, 'digit': 553, 'brain': 484, 'stupid': 572, 'expans': 635, 'exist': 355, 'bit': 123, 'observatori': 322, 'stratus': 342, 'rate': 69, 'wow': 127, 'news': 128, 'cfa': 296, 'kuo': 72, 'waiver': 274, 'bodi': 23, 'psu': 554, 'upgrad': 73, 'sci': 301, 'door': 26, 'cmu': 303, 'communic': 659, 'problem': 597, 'absurd': 534, 'jcm': 309, 'dns1': 556, 'quadrilater': 249, 'troubl': 652, 'better': 138, '12mb': 497, '23': 316, 'tri': 470, 'brando': 605, 'ii': 586, '120': 189, 'look': 34, 'ftp': 529, 'mass': 378, 'com': 258, 'day': 39, 'review': 536, 'fair': 95, 'set': 326, '1993': 573, 'nice': 267, 'danger': 191, 'drop': 150, 'icon': 616, 'evid': 348, 'dant': 539, 'activ': 153, 'abraxi': 237, 'opinion': 184, 'term': 422, 'good': 156, 'unexpect': 329, 'keyword': 88, 'jonathan': 228, 'rest': 51, 'lost': 662, 'instal': 567, 'sink': 80, 'rm': 488, 'driven': 548, 'adapt': 53, 'park': 4, 'appl': 550, 'far': 246, 'sw': 397, 'ibm': 507, 'ec': 164, 'info': 7, 'fi': 401, 'display': 147, 'shelley': 57, 'quadra': 545, 'market': 146, '160': 159, 'win': 603, 'tellm': 13, 'astrophys': 290, 'think': 559, 'unlik': 645, 'sooner': 186, 'salesperson': 576, 'weekend': 174, 'c5n3gi': 383, 'thoma': 155, 'suppos': 177, 'play': 178, 'saw': 18, 'esdi': 531, 'vtt': 428, 'heard': 180, 'fact': 568, 'valu': 295, 'tom': 182, 'solicit': 198, 'rjck': 268, 'introduc': 330, 'etrat': 307, 'yea': 187, 'automat': 421, 'technolog': 641, 'nietzsch': 120, 'servic': 653, 'read': 193, 'weapon': 379, 'sumex': 571, 'summari': 90, 'intend': 196, 'maximum': 570, 'maryland': 29, 'detail': 66, 'las': 577, 'twice': 578, 'head': 311, 'cambridg': 312, 'll': 202, 'count': 432, 'use': 203, 'support': 434, 'till': 278, 'love': 593, 'ps': 609, 'truth': 205, 'organ': 19, 'harvard': 320, 'burst': 587, 'smithsonian': 286, 'ansynchron': 498, 'disk': 105, 'poll': 93, 'basic': 314, 'dumb': 323, 'mcdowel': 339, 'f8f': 423, 'class': 460, 'product': 44, 'sweeper': 449, 'scsi': 594, 'po': 663, 'ecn': 165, 'sarah': 452, 'compar': 596, 'devic': 558, 'mention': 649, '213': 333, 'power': 444, 'amend': 426, 'time': 219, 'state': 386, 'stall': 512, 'later': 399, 'amber': 221, 'gave': 106, 'duo': 107, 'usa': 108, 'willi': 110, 'ttacs1': 276, 'bear': 360, 'accept': 569, 'defin': 346, 'joseph': 626, 'offic': 627, 'life': 113, 'usag': 89, 'ssd': 231, 'uiuc': 628, 'rac3': 10, 'premium': 115, 'c5jlwx': 285, 'acceler': 61, 'p8': 560, 'topic': 409, 'distribut': 119, 'like': 190, 'soul': 65, '3mb': 513, 'sigma': 634, 'non': 410, 'dd': 636, 'reluct': 637, '333': 644, 'mac': 125, 'semi': 357, 'pariti': 294, 'heat': 68, 'newsgroup': 517, 'increas': 515, 'tumor': 486, 'work': 657, 'electr': 133, 'aim': 518, 'holmes7000': 615, 'divis': 238, 'recompress': 656, 'corpor': 244, 'board': 658, '1qvfo9innc3': 99, 'probabl': 131, 'grubb': 521, 'caution': 306, 'model': 31, 'person': 266, 'uucp': 251, 'delet': 465, 'rigid': 370, 'possibl': 315, 'wallpap': 607, 'chip': 252, 'articl': 86, 'base': 58, 'expect': 141, 'world': 256, 'macleak': 143, '180': 144, 'direct': 462, 'knew': 302, 'ok': 324, 'cs': 319, 'come': 380, 'year': 35, 'reason': 448, 'access': 151, 'anymor': 171, 'oct': 533, 'nuclear': 418, 'brian': 494, '1qv87v': 387, 'doubt': 445, 'long': 598, 'said': 546, 'c52u8x': 625, 'rocket': 403, '217': 620, 'dfo': 396, 'il': 5, '20mb': 552, 'perform': 163, 'reappear': 622, 'man': 467, 'shuttl': 284, 'thanx': 608, 'crew': 283, '5mb': 557, 'cpu': 60, '185c': 170, 'wrote': 233, 'verifi': 293, 'buy': 630, 'go': 528, 'bug': 289, 'engin': 15, 'umd': 16, 'final': 78, 'northern': 614, 'comput': 179, 'foxvog': 405, 'astrocytoma': 492, 'reduc': 349, 'std': 292, 'bmdelan': 464, 'feel': 130, '512k': 204, 'purdu': 173, 'bmp': 612, 'headach': 525, 'competit': 651, 'tin': 243, 'understood': 420, 'univers': 25, '173': 574, 'quot': 335, '4t': 390, 'warn': 304, 'funki': 28, '32': 543, 'immedi': 404, 'easili': 344, 'iscsvax': 610, 'sign': 419, 'speak': 385, '16': 527, 'vttoulu': 427, 'previous': 313, 'si': 84, 'note': 583, 'inconsi': 541, 'speed': 104, 'email': 109, 'class1': 223, 'bumper': 17, 'neighborhood': 36, 've': 208, 'street': 443, '1qlbrlinn7rk': 565, 'newsread': 260, '10': 601, 'stanford': 591, 'enemi': 211, 'doe': 213, 'great': 214, '70s': 45, 'bricklin': 46, 'allow': 453, 'correct': 562, 'jrutledg': 455, 'util': 617, 'new': 134, 'put': 458, 'carson': 74, 'cdt': 413, 'check': 340, 'hey': 674}\n"
     ]
    }
   ],
   "source": [
    "# dictionary = corpora.Dictionary(line.lower().split() for line in open('mycorpus.txt'))\n",
    "# Maps a word to a ID\n",
    "dictionary = corpora.Dictionary(texts)\n",
    "dictionary.save('20newsgroup.dict') # store the dictionary, for future reference\n",
    "print(dictionary)\n",
    "print(dictionary.token2id)"
   ]
  },
  {
   "cell_type": "code",
   "execution_count": 86,
   "metadata": {
    "collapsed": false
   },
   "outputs": [
    {
     "name": "stdout",
     "output_type": "stream",
     "text": [
      "x  (2, 2)\n"
     ]
    }
   ],
   "source": [
    "# x = np.array([[1,2],[2,4]])\n",
    "# print(\"x \",x.shape)\n",
    "# y = np.array([[1,2],[2,4]])\n",
    "# print(\"x \",y.shape)"
   ]
  },
  {
   "cell_type": "code",
   "execution_count": 147,
   "metadata": {
    "collapsed": false
   },
   "outputs": [
    {
     "name": "stdout",
     "output_type": "stream",
     "text": [
      "MmCorpus(10 documents, 675 features, 870 non-zero entries)\n"
     ]
    }
   ],
   "source": [
    "corpus = [dictionary.doc2bow(text) for text in texts]\n",
    "corpora.MmCorpus.serialize('20newsgroup.mm', corpus) # store to disk, for later use\n",
    "mm = corpora.MmCorpus('20newsgroup.mm')\n",
    "# Word ID , Frequency for each document\n",
    "print(mm)"
   ]
  },
  {
   "cell_type": "code",
   "execution_count": 156,
   "metadata": {
    "collapsed": false
   },
   "outputs": [
    {
     "name": "stderr",
     "output_type": "stream",
     "text": [
      "WARNING:gensim.models.ldamodel:too few updates, training might not converge; consider increasing the number of passes or iterations to improve accuracy\n"
     ]
    }
   ],
   "source": [
    "tfidf = models.TfidfModel(corpus) # Initialize Tfidf\n",
    "corpus_tfidf = tfidf[corpus] # Transform Test Corpus\n",
    "\n",
    "# lsi = models.LsiModel(corpus_tfidf, id2word=dictionary, num_topics=2) # initialize an LSI transformation\n",
    "# corpus_lsi = lsi[corpus_tfidf] # create a double wrapper over the original corpus: corpus->tfidf->fold-in-lsi\n",
    "\n",
    "lda_model = models.ldamodel.LdaModel(corpus_tfidf, id2word=dictionary, num_topics=100)\n",
    "# model = hdpmodel.HdpModel(bow_corpus, id2word=dictionary)"
   ]
  },
  {
   "cell_type": "code",
   "execution_count": 158,
   "metadata": {
    "collapsed": false
   },
   "outputs": [],
   "source": [
    "topics = lda_model[corpus_tfidf]"
   ]
  },
  {
   "cell_type": "code",
   "execution_count": 163,
   "metadata": {
    "collapsed": false
   },
   "outputs": [
    {
     "name": "stdout",
     "output_type": "stream",
     "text": [
      "60s\n",
      "1qlbrlinn7rk\n",
      "60s\n",
      "20mb\n",
      "20mb\n",
      "734340159\n",
      "bear\n",
      "activ\n",
      "anybodi\n",
      "40mb\n"
     ]
    }
   ],
   "source": [
    "for t in topics:\n",
    "    print(features[(t[0][0])])"
   ]
  },
  {
   "cell_type": "code",
   "execution_count": 164,
   "metadata": {
    "collapsed": false
   },
   "outputs": [
    {
     "data": {
      "text/plain": [
       "(array([ 8.,  0.,  0.,  0.,  0.,  0.,  0.,  0.,  0.,  2.]),\n",
       " array([ 1. ,  1.1,  1.2,  1.3,  1.4,  1.5,  1.6,  1.7,  1.8,  1.9,  2. ]),\n",
       " <a list of 10 Patch objects>)"
      ]
     },
     "execution_count": 164,
     "metadata": {},
     "output_type": "execute_result"
    },
    {
     "data": {
      "image/png": "[encoded data removed]",
      "text/plain": [
       "<matplotlib.figure.Figure at 0x2a2d4bf4d68>"
      ]
     },
     "metadata": {},
     "output_type": "display_data"
    }
   ],
   "source": [
    "num_topics = [len(lda_model[doc]) for doc in corpus_tfidf]\n",
    "plt.hist(num_topics)"
   ]
  },
  {
   "cell_type": "code",
   "execution_count": null,
   "metadata": {
    "collapsed": true
   },
   "outputs": [],
   "source": []
  }
 ],
 "metadata": {
  "kernelspec": {
   "display_name": "Python 3",
   "language": "python",
   "name": "python3"
  },
  "language_info": {
   "codemirror_mode": {
    "name": "ipython",
    "version": 3
   },
   "file_extension": ".py",
   "mimetype": "text/x-python",
   "name": "python",
   "nbconvert_exporter": "python",
   "pygments_lexer": "ipython3",
   "version": "3.5.1"
  }
 },
 "nbformat": 4,
 "nbformat_minor": 0
}
