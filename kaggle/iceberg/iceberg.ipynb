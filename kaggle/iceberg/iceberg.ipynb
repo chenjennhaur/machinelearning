{
 "cells": [
  {
   "cell_type": "markdown",
   "metadata": {},
   "source": [
    "### Ideas\n",
    "* Try DenseNet, SqueezeNet , \n",
    "* Repeat Experiment30+\n",
    "* Train 200 models, get the median of top 100 models on validations . use different seeds\n",
    "* Predict using inc_angle , no. of samples , mean of sample , median of samples - logistic regression / KNN Regressor\n",
    "* Try Hyperas\n",
    "* Compare RMSProp , Adam, SGD + Momentum + Nesterov, Adamax, different learning rates\n"
   ]
  },
  {
   "cell_type": "code",
   "execution_count": 1,
   "metadata": {},
   "outputs": [
    {
     "name": "stderr",
     "output_type": "stream",
     "text": [
      "Using TensorFlow backend.\n"
     ]
    }
   ],
   "source": [
    "import numpy as np\n",
    "import pandas as pd\n",
    "from sklearn.model_selection import train_test_split\n",
    "from sklearn.metrics import log_loss\n",
    "from sklearn.model_selection import StratifiedKFold, StratifiedShuffleSplit\n",
    "from sklearn.preprocessing import StandardScaler\n",
    "\n",
    "import seaborn as sb\n",
    "\n",
    "\n",
    "import cv2\n",
    "\n",
    "from os.path import join as opj\n",
    "from matplotlib import pyplot as plt\n",
    "from mpl_toolkits.mplot3d import Axes3D\n",
    "import pylab\n",
    "plt.rcParams['figure.figsize'] = 10, 10\n",
    "%matplotlib inline\n",
    "\n",
    "#Import Keras.\n",
    "from matplotlib import pyplot\n",
    "\n",
    "from keras.preprocessing.image import ImageDataGenerator\n",
    "from keras.layers import Conv2D, MaxPooling2D, Dense, Dropout, Input, Flatten, Activation, GlobalMaxPooling2D\n",
    "from keras.layers.merge import Concatenate\n",
    "from keras.layers.normalization import BatchNormalization\n",
    "from keras.models import Model, Sequential\n",
    "from keras import initializers\n",
    "from keras.optimizers import RMSprop, Adam, SGD\n",
    "from keras.layers.advanced_activations import LeakyReLU, PReLU\n",
    "from keras.utils import to_categorical\n",
    "from keras.callbacks import ModelCheckpoint, Callback, EarlyStopping,ReduceLROnPlateau\n",
    "\n",
    "from keras.applications.vgg16 import preprocess_input\n",
    "from keras.models import load_model\n",
    "from keras import backend as K\n"
   ]
  },
  {
   "cell_type": "code",
   "execution_count": 2,
   "metadata": {
    "collapsed": true
   },
   "outputs": [],
   "source": [
    "from keras.applications.vgg16 import VGG16\n",
    "from keras.applications.vgg19 import VGG19\n",
    "from keras.applications.resnet50 import ResNet50\n",
    "from keras.applications.inception_v3 import InceptionV3\n",
    "from keras.applications.inception_resnet_v2 import InceptionResNetV2\n",
    "from keras.applications.densenet import DenseNet121"
   ]
  },
  {
   "cell_type": "code",
   "execution_count": 3,
   "metadata": {
    "collapsed": true
   },
   "outputs": [],
   "source": [
    "train = pd.read_json(\"data/processed/train.json\")\n",
    "test = pd.read_json(\"data/processed/test.json\")"
   ]
  },
  {
   "cell_type": "code",
   "execution_count": 4,
   "metadata": {
    "collapsed": true
   },
   "outputs": [],
   "source": [
    "train[train['inc_angle']=='na'] = train[train['inc_angle']!='na']['inc_angle'].mean()"
   ]
  },
  {
   "cell_type": "code",
   "execution_count": 6,
   "metadata": {},
   "outputs": [
    {
     "data": {
      "text/plain": [
       "0    851\n",
       "1    753\n",
       "Name: is_iceberg, dtype: int64"
      ]
     },
     "execution_count": 6,
     "metadata": {},
     "output_type": "execute_result"
    }
   ],
   "source": [
    "train.head(3)\n",
    "train[\"is_iceberg\"].value_counts()"
   ]
  },
  {
   "cell_type": "code",
   "execution_count": 16,
   "metadata": {
    "collapsed": true
   },
   "outputs": [],
   "source": [
    "# icebergs = train[train.is_iceberg==1].sample(n=9,random_state=123)\n",
    "# ships = train[train.is_iceberg==0].sample(n=9,random_state=456)\n",
    "# icebergs['band_1'][733]"
   ]
  },
  {
   "cell_type": "code",
   "execution_count": 17,
   "metadata": {
    "collapsed": true
   },
   "outputs": [],
   "source": [
    "# Plot band_2\n",
    "# fig = plt.figure(1,figsize=(15,15))\n",
    "# for i in range(9):\n",
    "#     ax = fig.add_subplot(3,3,i+1)\n",
    "#     arr = np.reshape(np.array(ships.iloc[i,1]),(75,75))\n",
    "#     ax.imshow(arr,cmap='inferno')\n",
    "    \n",
    "# plt.show()"
   ]
  },
  {
   "cell_type": "code",
   "execution_count": 18,
   "metadata": {
    "collapsed": true
   },
   "outputs": [],
   "source": [
    "# Plot band_2\n",
    "# fig = plt.figure(1,figsize=(15,15))\n",
    "# for i in range(9):\n",
    "#     ax = fig.add_subplot(3,3,i+1)\n",
    "#     arr = np.reshape(np.array(icebergs.iloc[i,1]),(75,75))\n",
    "#     ax.imshow(arr,cmap='inferno')\n",
    "    \n",
    "# plt.show()"
   ]
  },
  {
   "cell_type": "code",
   "execution_count": 19,
   "metadata": {},
   "outputs": [
    {
     "name": "stdout",
     "output_type": "stream",
     "text": [
      "1604 8424\n"
     ]
    }
   ],
   "source": [
    "print(len(train),len(test))"
   ]
  },
  {
   "cell_type": "code",
   "execution_count": 4,
   "metadata": {
    "collapsed": true
   },
   "outputs": [],
   "source": [
    "#Generate the training data\n",
    "X_band_1=np.array([np.array(band).astype(np.float32).reshape(75, 75) for band in train[\"band_1\"]])\n",
    "X_band_2=np.array([np.array(band).astype(np.float32).reshape(75, 75) for band in train[\"band_2\"]])\n",
    "X_band_3=(X_band_1+X_band_2)/2\n",
    "# Axis = 1 refers to adding based on the last dimension\n",
    "train_image = np.concatenate([X_band_1[:, :, :, np.newaxis]\n",
    "                          , X_band_2[:, :, :, np.newaxis]\n",
    "                         , X_band_3[:, :, :, np.newaxis]], axis=-1)\n",
    "\n",
    "train_target =train['is_iceberg']\n",
    "train_angle = train['inc_angle']\n",
    "\n",
    "X_band_1s = X_band_1 - X_band_1.mean() / (X_band_1.max()-X_band_1.min())\n",
    "X_band_2s = X_band_2 - X_band_2.mean() / (X_band_2.max()-X_band_2.min())\n",
    "X_band_3s = (X_band_1s+X_band_2s)/2\n",
    "\n",
    "train_image_scaled = np.concatenate([X_band_1s[:, :, :, np.newaxis]\n",
    "                                     , X_band_2s[:, :, :, np.newaxis]\n",
    "                                     , X_band_3s[:, :, :, np.newaxis]], axis=-1)\n"
   ]
  },
  {
   "cell_type": "code",
   "execution_count": 5,
   "metadata": {},
   "outputs": [
    {
     "data": {
      "text/plain": [
       "<matplotlib.image.AxesImage at 0x7f6655b5d2b0>"
      ]
     },
     "execution_count": 5,
     "metadata": {},
     "output_type": "execute_result"
    },
    {
     "data": {
      "image/png": "[encoded data removed]",
      "text/plain": [
       "<matplotlib.figure.Figure at 0x7f665ac4f710>"
      ]
     },
     "metadata": {},
     "output_type": "display_data"
    }
   ],
   "source": [
    "plt.imshow(train_image[0][:,:,0])"
   ]
  },
  {
   "cell_type": "code",
   "execution_count": 48,
   "metadata": {},
   "outputs": [
    {
     "data": {
      "text/plain": [
       "<matplotlib.image.AxesImage at 0x7f79c14834a8>"
      ]
     },
     "execution_count": 48,
     "metadata": {},
     "output_type": "execute_result"
    },
    {
     "data": {
      "image/png": "[encoded data removed]",
      "text/plain": [
       "<matplotlib.figure.Figure at 0x7f79b3811c88>"
      ]
     },
     "metadata": {},
     "output_type": "display_data"
    }
   ],
   "source": [
    "plt.imshow(train_image_resize[0][:,:,0])"
   ]
  },
  {
   "cell_type": "code",
   "execution_count": 15,
   "metadata": {},
   "outputs": [
    {
     "name": "stdout",
     "output_type": "stream",
     "text": [
      "-45.5944 34.5749 -20.6558\n",
      "-45.6555 20.1542 -26.3207\n"
     ]
    }
   ],
   "source": [
    "print(X_band_1.min(),X_band_1.max(),X_band_1.mean())\n",
    "print(X_band_2.min(),X_band_2.max(),X_band_2.mean())\n"
   ]
  },
  {
   "cell_type": "code",
   "execution_count": 6,
   "metadata": {
    "collapsed": true
   },
   "outputs": [],
   "source": [
    "X_band_test_1=np.array([np.array(band).astype(np.float32).reshape(75, 75) for band in test[\"band_1\"]])\n",
    "X_band_test_2=np.array([np.array(band).astype(np.float32).reshape(75, 75) for band in test[\"band_2\"]])\n",
    "X_band_test_3=(X_band_test_1+X_band_test_2)/2\n",
    "test_image = np.concatenate([X_band_test_1[:, :, :, np.newaxis]\n",
    "                          , X_band_test_2[:, :, :, np.newaxis]\n",
    "                         , X_band_test_3[:, :, :, np.newaxis]], axis=-1)\n",
    "\n",
    "test_angle = test['inc_angle']\n",
    "\n",
    "\n",
    "X_band_test_1s = X_band_test_1 - X_band_test_1.mean() / (X_band_test_1.max()-X_band_test_1.min())\n",
    "X_band_test_2s = X_band_test_2 - X_band_test_2.mean() / (X_band_test_2.max()-X_band_test_2.min())\n",
    "X_band_test_3s = (X_band_test_1s+X_band_test_2s)/2\n",
    "test_image_scaled = np.concatenate([X_band_test_1s[:, :, :, np.newaxis]\n",
    "                                    , X_band_test_2s[:, :, :, np.newaxis]\n",
    "                                    , X_band_test_3s[:, :, :, np.newaxis]], axis=-1)"
   ]
  },
  {
   "cell_type": "code",
   "execution_count": 7,
   "metadata": {
    "collapsed": true
   },
   "outputs": [],
   "source": [
    "#resize\n",
    "train_image_resize = np.array([cv2.resize(t,(197,197)) for t in train_image])\n",
    "test_image_resize = np.array([cv2.resize(t,(197,197)) for t in test_image])"
   ]
  },
  {
   "cell_type": "code",
   "execution_count": null,
   "metadata": {
    "collapsed": true
   },
   "outputs": [],
   "source": [
    "print(train_image.shape,X_band_1.shape,train_image.shape[1:])"
   ]
  },
  {
   "cell_type": "code",
   "execution_count": null,
   "metadata": {
    "collapsed": true
   },
   "outputs": [],
   "source": [
    "# https://github.com/chenjennhaur/courses/blob/master/deeplearning2/densenet-keras.ipynb\n",
    "    \n",
    "def relu(x): return Activation('relu')(x)\n",
    "def dropout(x, p): return Dropout(p)(x) if p else x\n",
    "def bn(x): return BatchNormalization(mode=0, axis=-1)(x)\n",
    "def relu_bn(x): return relu(bn(x))\n",
    "\n",
    "def conv(x, nf, sz, wd, p):\n",
    "    x = Convolution2D(nf, sz, sz, init='he_uniform', border_mode='same', \n",
    "                          W_regularizer=l2(wd))(x)\n",
    "    return dropout(x,p)\n",
    "\n",
    "def conv_block(x, nf, bottleneck=False, p=None, wd=0):\n",
    "    x = relu_bn(x)\n",
    "    if bottleneck: x = relu_bn(conv(x, nf * 4, 1, wd, p))\n",
    "    return conv(x, nf, 3, wd, p)\n",
    "\n",
    "def dense_block(x, nb_layers, growth_rate, bottleneck=False, p=None, wd=0):\n",
    "    if bottleneck: nb_layers //= 2\n",
    "    for i in range(nb_layers):\n",
    "        b = conv_block(x, growth_rate, bottleneck=bottleneck, p=p, wd=wd)\n",
    "        x = merge([x,b], mode='concat', concat_axis=-1)\n",
    "    return x\n",
    "\n",
    "def transition_block(x, compression=1.0, p=None, wd=0):\n",
    "    nf = int(x.get_shape().as_list()[-1] * compression)\n",
    "    x = relu_bn(x)\n",
    "    x = conv(x, nf, 1, wd, p)\n",
    "    return AveragePooling2D((2, 2), strides=(2, 2))(x)\n",
    "\n",
    "def create_dense_net(nb_classes, img_input, depth=40, nb_block=3, \n",
    "     growth_rate=12, nb_filter=16, bottleneck=False, compression=1.0, p=None, wd=0, activation='softmax'):\n",
    "    \n",
    "    assert activation == 'softmax' or activation == 'sigmoid'\n",
    "    assert (depth - 4) % nb_block == 0\n",
    "    nb_layers_per_block = int((depth - 4) / nb_block)\n",
    "    nb_layers = [nb_layers_per_block] * nb_block\n",
    "\n",
    "    x = conv(img_input, nb_filter, 3, wd, 0)\n",
    "    for i,block in enumerate(nb_layers):\n",
    "        x = dense_block(x, block, growth_rate, bottleneck=bottleneck, p=p, wd=wd)\n",
    "        if i != len(nb_layers)-1:\n",
    "            x = transition_block(x, compression=compression, p=p, wd=wd)\n",
    "\n",
    "    x = relu_bn(x)\n",
    "    x = GlobalAveragePooling2D()(x)\n",
    "    return Dense(nb_classes, activation=activation, W_regularizer=l2(wd))(x)"
   ]
  },
  {
   "cell_type": "code",
   "execution_count": 40,
   "metadata": {},
   "outputs": [],
   "source": [
    "def getVggModel():\n",
    "    input_1 = Input(shape=train_image.shape[1:],name='pic')\n",
    "    input_2 = Input(shape=[1], name=\"angle\")\n",
    "    # Do batch normalization\n",
    "    \n",
    "    \n",
    "    base_model = VGG16(weights='imagenet', include_top=False)\n",
    "    \n",
    "#     for layer in base_model.layers[:-1]:\n",
    "#         layer.trainable = False\n",
    "    \n",
    "    x = base_model.get_layer('block5_pool').output\n",
    "    x = GlobalMaxPooling2D()(x)\n",
    "#     x = Dense(512)(x)\n",
    "#     x = BatchNormalization()(x)\n",
    "#     x = Activation('relu')(x)\n",
    "#     x = Dropout(0.2)(x)\n",
    "    predictions = Dense(1, activation='sigmoid')(x)\n",
    "    \n",
    "    model = Model(base_model.input,predictions)\n",
    "    sgd = SGD(lr=1e-3, decay=1e-6, momentum=0.9, nesterov=True)\n",
    "    adam = Adam()\n",
    "    model.compile(loss='binary_crossentropy',optimizer=sgd,metrics=['accuracy'])    \n",
    "#     model.compile(loss='categorical_crossentropy',optimizer=Adam(),metrics=['accuracy'])\n",
    "    return model\n",
    "\n",
    "# Debugging\n",
    "# for layers in testmodel.layers:\n",
    "#     print(layers)"
   ]
  },
  {
   "cell_type": "code",
   "execution_count": 13,
   "metadata": {
    "collapsed": true
   },
   "outputs": [],
   "source": [
    "def getResNet50():\n",
    "    \n",
    "    base_model = ResNet50(weights='imagenet', include_top=False)\n",
    "    \n",
    "#     for layer in base_model.layers[:-1]:\n",
    "#         layer.trainable = False    \n",
    "    \n",
    "    x = base_model.layers[-1].output\n",
    "    x = GlobalMaxPooling2D()(x)  \n",
    "#     x = GlobalMaxAveragePooling2D()(x)\n",
    "    x = Dense(1024)(x)\n",
    "    x = BatchNormalization()(x)\n",
    "    x = Activation('relu')(x)\n",
    "    x = Dropout(0.2)(x)\n",
    "    out = Dense(1, activation='sigmoid')(x)\n",
    "    model = Model(base_model.input,out)\n",
    "    sgd = SGD(lr=1e-3, decay=1e-6, momentum=0.9, nesterov=True)\n",
    "    adam = Adam()\n",
    "    model.compile(loss='binary_crossentropy',optimizer=sgd,metrics=['accuracy'])\n",
    "    \n",
    "    return model"
   ]
  },
  {
   "cell_type": "code",
   "execution_count": 51,
   "metadata": {
    "collapsed": true
   },
   "outputs": [],
   "source": [
    "def getModel():\n",
    "    #Build keras model\n",
    "    \n",
    "    model=Sequential()\n",
    "    \n",
    "    # CNN 1\n",
    "    model.add(Conv2D(64, kernel_size=(3, 3),activation='relu', input_shape=(75, 75, 3)))\n",
    "    model.add(MaxPooling2D(pool_size=(3, 3), strides=(2, 2)))\n",
    "    model.add(Dropout(0.2))\n",
    "\n",
    "    # CNN 2\n",
    "    model.add(Conv2D(128, kernel_size=(3, 3), activation='relu' ))\n",
    "    model.add(MaxPooling2D(pool_size=(2, 2), strides=(2, 2)))\n",
    "    model.add(Dropout(0.2))\n",
    "\n",
    "    # CNN 3\n",
    "    model.add(Conv2D(128, kernel_size=(3, 3), activation='relu'))\n",
    "    model.add(MaxPooling2D(pool_size=(2, 2), strides=(2, 2)))\n",
    "    model.add(Dropout(0.2))\n",
    "\n",
    "    #CNN 4P\n",
    "    model.add(Conv2D(64, kernel_size=(3, 3), activation='relu'))\n",
    "    model.add(MaxPooling2D(pool_size=(2, 2), strides=(2, 2)))\n",
    "    model.add(Dropout(0.2))\n",
    "\n",
    "    # You must flatten the data for the dense layers\n",
    "    model.add(Flatten())\n",
    "\n",
    "    #Dense 1\n",
    "    model.add(Dense(1024))\n",
    "    model.add(BatchNormalization())\n",
    "    model.add(Activation('relu'))\n",
    "#     model.add(Dense(512, activation='relu'))\n",
    "    model.add(Dropout(0.2))\n",
    "\n",
    "    #Dense 2\n",
    "    model.add(Dense(512))\n",
    "    model.add(BatchNormalization())\n",
    "    model.add(Activation('relu'))\n",
    "    model.add(Dropout(0.2))\n",
    "\n",
    "    # Output \n",
    "    model.add(Dense(1, activation=\"sigmoid\"))\n",
    "\n",
    "    optimizer = Adam(lr=0.001, decay=0.0)\n",
    "    model.compile(loss='binary_crossentropy', optimizer=optimizer, metrics=['accuracy'])\n",
    "    \n",
    "    return model\n",
    "\n",
    "    "
   ]
  },
  {
   "cell_type": "markdown",
   "metadata": {},
   "source": [
    "## Option 2\n",
    "* loss: 0.1170 - acc: 0.9533 - val_loss: 0.2760 - val_acc: 0.9077\n",
    "* Try different Image Augmentation\n",
    "* Try different Models"
   ]
  },
  {
   "cell_type": "code",
   "execution_count": 41,
   "metadata": {
    "collapsed": true
   },
   "outputs": [],
   "source": [
    "NUM_EPOCH = 100\n",
    "STEPS_PER_EPOCH = 100\n",
    "BATCH_SIZE = 32\n",
    "\n",
    "gen = ImageDataGenerator(horizontal_flip = True,\n",
    "                         vertical_flip = True,\n",
    "                         width_shift_range = 0.,\n",
    "                         height_shift_range = 0.,\n",
    "                         channel_shift_range=0.,\n",
    "                         zoom_range = 0.2,\n",
    "                         rotation_range = 10)\n",
    "\n",
    "\n",
    "#base CV structure\n",
    "def get_callbacks(filepath, patience=10):\n",
    "    es = EarlyStopping('val_loss', patience=10, mode=\"min\")\n",
    "    msave = ModelCheckpoint(filepath, save_best_only=True,monitor='val_loss', mode='min')\n",
    "    reduce_lr_loss = ReduceLROnPlateau(monitor='val_loss', factor=0.1, patience=7, verbose=1, epsilon=1e-4, mode='min')\n",
    "    return [es, msave,reduce_lr_loss]\n",
    "def myBaseCrossTrain(feature, target,test, model,splits=4):\n",
    "    model.save_weights('initial.hd5')\n",
    "    folds = list(StratifiedKFold(n_splits=splits, shuffle=True, random_state=16).split(feature, target))\n",
    "    y_test_pred_log = 0\n",
    "    y_valid_pred_log = np.zeros(feature.shape[0])\n",
    "    for j, (train_idx, valid_idx) in enumerate(folds):\n",
    "        print('\\n===================FOLD=',j)\n",
    "        \n",
    "        # Reinitialize to starting weights\n",
    "        # LR - Adam 1e-3\n",
    "        K.set_value(model.optimizer.lr,0.001)\n",
    "        print(K.get_value(model.optimizer.lr))\n",
    "        model.load_weights('initial.hd5')\n",
    "        \n",
    "        X_train_cv = feature[train_idx]\n",
    "        y_train_cv = target[train_idx]\n",
    "        X_holdout = feature[valid_idx]\n",
    "        Y_holdout= target[valid_idx]\n",
    "        file_path = \"%s_model_weights.hdf5\"%j\n",
    "#         file_path = \"model_weights.hdf5\"\n",
    "        callbacks = get_callbacks(filepath=file_path, patience=10)\n",
    "        \n",
    "        \n",
    "        history = model.fit_generator(gen.flow(X_train_cv,y_train_cv,batch_size=BATCH_SIZE),\n",
    "                  steps_per_epoch=STEPS_PER_EPOCH,\n",
    "                  epochs=NUM_EPOCH,\n",
    "                  verbose=1,\n",
    "                  validation_data=(X_holdout, Y_holdout),\n",
    "                  callbacks=callbacks)\n",
    "\n",
    "        # list all data in history\n",
    "        print(history.history.keys())\n",
    "        # summarize history for accuracy\n",
    "        plt.plot(history.history['loss'])\n",
    "        plt.plot(history.history['val_loss'])\n",
    "        plt.title('model accuracy')\n",
    "        plt.ylabel('accuracy')\n",
    "        plt.xlabel('epoch')\n",
    "        plt.legend(['train', 'validation'], loc='upper left')\n",
    "        plt.show()\n",
    "        \n",
    "        #Getting the Best Model in this fold\n",
    "        model.load_weights(filepath=file_path)\n",
    "        \n",
    "        #Getting Training Score\n",
    "        score = model.evaluate(X_train_cv, y_train_cv, verbose=0)\n",
    "        print('Train loss:', score[0])\n",
    "        print('Train accuracy:', score[1])\n",
    "        #Getting Test Score\n",
    "        score = model.evaluate(X_holdout, Y_holdout, verbose=0)\n",
    "        print('Validation loss:', score[0])\n",
    "        print('Validation accuracy:', score[1])\n",
    "\n",
    "        #Getting validation Score.\n",
    "        pred_valid=model.predict(X_holdout)\n",
    "        y_valid_pred_log[valid_idx] = pred_valid.reshape(pred_valid.shape[0])\n",
    "\n",
    "        #Getting Test Scores\n",
    "        single_fold_test = model.predict(test)\n",
    "        y_test_pred_log+=single_fold_test.reshape(single_fold_test.shape[0])\n",
    "    \n",
    "    # Get the average prediction score from the 4 models with cross validation\n",
    "    y_test_pred_log=y_test_pred_log/splits\n",
    "\n",
    "    print('\\nLog Loss Validation= ',log_loss(target, y_valid_pred_log))\n",
    "    return y_test_pred_log, single_fold_test.flatten()"
   ]
  },
  {
   "cell_type": "code",
   "execution_count": 42,
   "metadata": {},
   "outputs": [
    {
     "name": "stdout",
     "output_type": "stream",
     "text": [
      "\n",
      "===================FOLD= 0\n",
      "0.001\n",
      "Epoch 1/100\n",
      "100/100 [==============================] - 11s 112ms/step - loss: 0.7098 - acc: 0.5851 - val_loss: 0.5747 - val_acc: 0.6642\n",
      "Epoch 2/100\n",
      "100/100 [==============================] - 9s 92ms/step - loss: 0.4658 - acc: 0.7729 - val_loss: 0.2714 - val_acc: 0.8657\n",
      "Epoch 3/100\n",
      "100/100 [==============================] - 9s 87ms/step - loss: 0.2982 - acc: 0.8599 - val_loss: 0.2799 - val_acc: 0.8731\n",
      "Epoch 4/100\n",
      "100/100 [==============================] - 9s 94ms/step - loss: 0.2694 - acc: 0.8813 - val_loss: 0.2509 - val_acc: 0.8781\n",
      "Epoch 5/100\n",
      "100/100 [==============================] - 9s 90ms/step - loss: 0.2428 - acc: 0.8924 - val_loss: 0.2661 - val_acc: 0.8806\n",
      "Epoch 6/100\n",
      "100/100 [==============================] - 9s 94ms/step - loss: 0.2356 - acc: 0.9020 - val_loss: 0.2469 - val_acc: 0.8881\n",
      "Epoch 7/100\n",
      "100/100 [==============================] - 9s 93ms/step - loss: 0.2267 - acc: 0.9064 - val_loss: 0.2170 - val_acc: 0.9080\n",
      "Epoch 8/100\n",
      "100/100 [==============================] - 9s 92ms/step - loss: 0.2197 - acc: 0.9090 - val_loss: 0.2269 - val_acc: 0.8955\n",
      "Epoch 9/100\n",
      "100/100 [==============================] - 9s 89ms/step - loss: 0.1972 - acc: 0.9172 - val_loss: 0.2432 - val_acc: 0.8930\n",
      "Epoch 10/100\n",
      "100/100 [==============================] - 9s 89ms/step - loss: 0.1952 - acc: 0.9234 - val_loss: 0.2506 - val_acc: 0.8980\n",
      "Epoch 11/100\n",
      "100/100 [==============================] - 9s 91ms/step - loss: 0.2083 - acc: 0.9161 - val_loss: 0.2241 - val_acc: 0.9080\n",
      "Epoch 12/100\n",
      "100/100 [==============================] - 9s 95ms/step - loss: 0.1959 - acc: 0.9190 - val_loss: 0.1992 - val_acc: 0.9104\n",
      "Epoch 13/100\n",
      "100/100 [==============================] - 9s 89ms/step - loss: 0.1708 - acc: 0.9313 - val_loss: 0.2383 - val_acc: 0.9005\n",
      "Epoch 14/100\n",
      "100/100 [==============================] - 9s 89ms/step - loss: 0.1754 - acc: 0.9258 - val_loss: 0.2422 - val_acc: 0.9055\n",
      "Epoch 15/100\n",
      "100/100 [==============================] - 9s 88ms/step - loss: 0.1673 - acc: 0.9320 - val_loss: 0.2292 - val_acc: 0.9055\n",
      "Epoch 16/100\n",
      "100/100 [==============================] - 9s 94ms/step - loss: 0.1615 - acc: 0.9336 - val_loss: 0.1962 - val_acc: 0.9179\n",
      "Epoch 17/100\n",
      "100/100 [==============================] - 9s 89ms/step - loss: 0.1574 - acc: 0.9361 - val_loss: 0.2279 - val_acc: 0.9154\n",
      "Epoch 18/100\n",
      "100/100 [==============================] - 9s 89ms/step - loss: 0.1543 - acc: 0.9329 - val_loss: 0.2118 - val_acc: 0.9055\n",
      "Epoch 19/100\n",
      "100/100 [==============================] - 9s 92ms/step - loss: 0.1336 - acc: 0.9457 - val_loss: 0.2298 - val_acc: 0.9080\n",
      "Epoch 20/100\n",
      "100/100 [==============================] - 9s 89ms/step - loss: 0.1542 - acc: 0.9383 - val_loss: 0.2035 - val_acc: 0.9204\n",
      "Epoch 21/100\n",
      "100/100 [==============================] - 9s 90ms/step - loss: 0.1362 - acc: 0.9482 - val_loss: 0.2569 - val_acc: 0.9129\n",
      "Epoch 22/100\n",
      "100/100 [==============================] - 9s 89ms/step - loss: 0.1331 - acc: 0.9474 - val_loss: 0.2173 - val_acc: 0.9254\n",
      "Epoch 23/100\n",
      "100/100 [==============================] - 9s 89ms/step - loss: 0.1245 - acc: 0.9485 - val_loss: 0.2123 - val_acc: 0.9129\n",
      "Epoch 24/100\n",
      " 99/100 [============================>.] - ETA: 0s - loss: 0.1255 - acc: 0.9474\n",
      "Epoch 00024: ReduceLROnPlateau reducing learning rate to 0.00010000000474974513.\n",
      "100/100 [==============================] - 9s 90ms/step - loss: 0.1251 - acc: 0.9476 - val_loss: 0.2232 - val_acc: 0.9154\n",
      "Epoch 25/100\n",
      "100/100 [==============================] - 9s 90ms/step - loss: 0.0990 - acc: 0.9582 - val_loss: 0.2389 - val_acc: 0.9055\n",
      "Epoch 26/100\n",
      "100/100 [==============================] - 9s 90ms/step - loss: 0.0774 - acc: 0.9713 - val_loss: 0.2535 - val_acc: 0.9129\n",
      "dict_keys(['val_loss', 'val_acc', 'loss', 'acc', 'lr'])\n"
     ]
    },
    {
     "data": {
      "image/png": "[encoded data removed]",
      "text/plain": [
       "<matplotlib.figure.Figure at 0x7f633754fcc0>"
      ]
     },
     "metadata": {},
     "output_type": "display_data"
    },
    {
     "name": "stdout",
     "output_type": "stream",
     "text": [
      "Train loss: 0.122110011722\n",
      "Train accuracy: 0.955906822063\n",
      "Validation loss: 0.196221838988\n",
      "Validation accuracy: 0.917910448058\n",
      "\n",
      "===================FOLD= 1\n",
      "0.001\n",
      "Epoch 1/100\n",
      "100/100 [==============================] - 10s 99ms/step - loss: 0.5027 - acc: 0.7443 - val_loss: 0.2347 - val_acc: 0.9052\n",
      "Epoch 2/100\n",
      "100/100 [==============================] - 10s 96ms/step - loss: 0.3055 - acc: 0.8536 - val_loss: 0.2244 - val_acc: 0.9127\n",
      "Epoch 3/100\n",
      "100/100 [==============================] - 10s 97ms/step - loss: 0.2564 - acc: 0.8816 - val_loss: 0.1752 - val_acc: 0.9377\n",
      "Epoch 4/100\n",
      "100/100 [==============================] - 9s 95ms/step - loss: 0.2588 - acc: 0.8782 - val_loss: 0.1662 - val_acc: 0.9327\n",
      "Epoch 5/100\n",
      "100/100 [==============================] - 9s 94ms/step - loss: 0.2269 - acc: 0.8957 - val_loss: 0.1566 - val_acc: 0.9401\n",
      "Epoch 6/100\n",
      "100/100 [==============================] - 9s 88ms/step - loss: 0.2159 - acc: 0.9046 - val_loss: 0.1709 - val_acc: 0.9377\n",
      "Epoch 7/100\n",
      "100/100 [==============================] - 9s 90ms/step - loss: 0.1978 - acc: 0.9139 - val_loss: 0.1660 - val_acc: 0.9377\n",
      "Epoch 8/100\n",
      "100/100 [==============================] - 9s 91ms/step - loss: 0.1868 - acc: 0.9183 - val_loss: 0.1978 - val_acc: 0.9002\n",
      "Epoch 9/100\n",
      "100/100 [==============================] - 9s 91ms/step - loss: 0.1798 - acc: 0.9256 - val_loss: 0.1818 - val_acc: 0.9202\n",
      "Epoch 10/100\n",
      "100/100 [==============================] - 10s 95ms/step - loss: 0.1764 - acc: 0.9271 - val_loss: 0.1435 - val_acc: 0.9451\n",
      "Epoch 11/100\n",
      "100/100 [==============================] - 9s 90ms/step - loss: 0.1678 - acc: 0.9276 - val_loss: 0.1810 - val_acc: 0.9302\n",
      "Epoch 12/100\n",
      "100/100 [==============================] - 9s 92ms/step - loss: 0.1590 - acc: 0.9289 - val_loss: 0.1634 - val_acc: 0.9352\n",
      "Epoch 13/100\n",
      "100/100 [==============================] - 9s 91ms/step - loss: 0.1681 - acc: 0.9280 - val_loss: 0.1566 - val_acc: 0.9451\n",
      "Epoch 14/100\n",
      "100/100 [==============================] - 9s 91ms/step - loss: 0.1539 - acc: 0.9379 - val_loss: 0.1846 - val_acc: 0.9401\n",
      "Epoch 15/100\n",
      "100/100 [==============================] - 9s 90ms/step - loss: 0.1369 - acc: 0.9423 - val_loss: 0.1778 - val_acc: 0.9252\n",
      "Epoch 16/100\n",
      "100/100 [==============================] - 9s 90ms/step - loss: 0.1313 - acc: 0.9452 - val_loss: 0.1939 - val_acc: 0.9202\n",
      "Epoch 17/100\n",
      "100/100 [==============================] - 9s 90ms/step - loss: 0.1250 - acc: 0.9463 - val_loss: 0.1729 - val_acc: 0.9227\n",
      "Epoch 18/100\n",
      " 99/100 [============================>.] - ETA: 0s - loss: 0.1239 - acc: 0.9522\n",
      "Epoch 00018: ReduceLROnPlateau reducing learning rate to 0.00010000000474974513.\n",
      "100/100 [==============================] - 9s 91ms/step - loss: 0.1238 - acc: 0.9521 - val_loss: 0.1789 - val_acc: 0.9327\n",
      "Epoch 19/100\n",
      "100/100 [==============================] - 9s 90ms/step - loss: 0.0960 - acc: 0.9594 - val_loss: 0.2021 - val_acc: 0.9302\n",
      "Epoch 20/100\n",
      "100/100 [==============================] - 9s 93ms/step - loss: 0.0831 - acc: 0.9678 - val_loss: 0.1803 - val_acc: 0.9401\n",
      "dict_keys(['val_loss', 'val_acc', 'loss', 'acc', 'lr'])\n"
     ]
    },
    {
     "data": {
      "image/png": "[encoded data removed]",
      "text/plain": [
       "<matplotlib.figure.Figure at 0x7f639e6df7b8>"
      ]
     },
     "metadata": {},
     "output_type": "display_data"
    },
    {
     "name": "stdout",
     "output_type": "stream",
     "text": [
      "Train loss: 0.12221194748\n",
      "Train accuracy: 0.950124688973\n",
      "Validation loss: 0.143528042589\n",
      "Validation accuracy: 0.945137157553\n",
      "\n",
      "===================FOLD= 2\n",
      "0.001\n",
      "Epoch 1/100\n",
      "100/100 [==============================] - 9s 95ms/step - loss: 0.3792 - acc: 0.8073 - val_loss: 0.2997 - val_acc: 0.8529\n",
      "Epoch 2/100\n",
      "100/100 [==============================] - 9s 94ms/step - loss: 0.2758 - acc: 0.8771 - val_loss: 0.2601 - val_acc: 0.8903\n",
      "Epoch 3/100\n",
      "100/100 [==============================] - 10s 96ms/step - loss: 0.2266 - acc: 0.8999 - val_loss: 0.2493 - val_acc: 0.8928\n",
      "Epoch 4/100\n",
      "100/100 [==============================] - 10s 97ms/step - loss: 0.2123 - acc: 0.9062 - val_loss: 0.2338 - val_acc: 0.9102\n",
      "Epoch 5/100\n",
      "100/100 [==============================] - 9s 91ms/step - loss: 0.1963 - acc: 0.9144 - val_loss: 0.2622 - val_acc: 0.8953\n",
      "Epoch 6/100\n",
      "100/100 [==============================] - 9s 91ms/step - loss: 0.1770 - acc: 0.9226 - val_loss: 0.2481 - val_acc: 0.9027\n",
      "Epoch 7/100\n",
      "100/100 [==============================] - 9s 92ms/step - loss: 0.1710 - acc: 0.9246 - val_loss: 0.3450 - val_acc: 0.8928\n",
      "Epoch 8/100\n",
      "100/100 [==============================] - 9s 90ms/step - loss: 0.1614 - acc: 0.9313 - val_loss: 0.2682 - val_acc: 0.8953\n",
      "Epoch 9/100\n",
      "100/100 [==============================] - 9s 89ms/step - loss: 0.1430 - acc: 0.9421 - val_loss: 0.2656 - val_acc: 0.8903\n",
      "Epoch 10/100\n",
      "100/100 [==============================] - 9s 89ms/step - loss: 0.1299 - acc: 0.9438 - val_loss: 0.2783 - val_acc: 0.8953\n",
      "Epoch 11/100\n",
      "100/100 [==============================] - 9s 89ms/step - loss: 0.1330 - acc: 0.9464 - val_loss: 0.2608 - val_acc: 0.9027\n",
      "Epoch 12/100\n",
      " 99/100 [============================>.] - ETA: 0s - loss: 0.1349 - acc: 0.9446\n",
      "Epoch 00012: ReduceLROnPlateau reducing learning rate to 0.00010000000474974513.\n",
      "100/100 [==============================] - 9s 89ms/step - loss: 0.1343 - acc: 0.9449 - val_loss: 0.2544 - val_acc: 0.9127\n",
      "Epoch 13/100\n",
      "100/100 [==============================] - 9s 95ms/step - loss: 0.1141 - acc: 0.9557 - val_loss: 0.2320 - val_acc: 0.9252\n",
      "Epoch 14/100\n",
      "100/100 [==============================] - 9s 89ms/step - loss: 0.0794 - acc: 0.9685 - val_loss: 0.2449 - val_acc: 0.9177\n",
      "Epoch 15/100\n",
      "100/100 [==============================] - 9s 89ms/step - loss: 0.0766 - acc: 0.9726 - val_loss: 0.2395 - val_acc: 0.9227\n",
      "Epoch 16/100\n",
      "100/100 [==============================] - 9s 89ms/step - loss: 0.0750 - acc: 0.9719 - val_loss: 0.2379 - val_acc: 0.9202\n",
      "Epoch 17/100\n",
      "100/100 [==============================] - 9s 89ms/step - loss: 0.0732 - acc: 0.9726 - val_loss: 0.2392 - val_acc: 0.9177\n",
      "Epoch 18/100\n",
      "100/100 [==============================] - 9s 90ms/step - loss: 0.0686 - acc: 0.9744 - val_loss: 0.2626 - val_acc: 0.9127\n",
      "Epoch 19/100\n",
      "100/100 [==============================] - 9s 90ms/step - loss: 0.0680 - acc: 0.9737 - val_loss: 0.2595 - val_acc: 0.9077\n",
      "Epoch 20/100\n",
      "100/100 [==============================] - 9s 89ms/step - loss: 0.0657 - acc: 0.9731 - val_loss: 0.2562 - val_acc: 0.9227\n",
      "Epoch 21/100\n",
      " 99/100 [============================>.] - ETA: 0s - loss: 0.0702 - acc: 0.9725\n",
      "Epoch 00021: ReduceLROnPlateau reducing learning rate to 1.0000000474974514e-05.\n",
      "100/100 [==============================] - 9s 91ms/step - loss: 0.0700 - acc: 0.9725 - val_loss: 0.2554 - val_acc: 0.9127\n",
      "Epoch 22/100\n",
      "100/100 [==============================] - 9s 91ms/step - loss: 0.0551 - acc: 0.9796 - val_loss: 0.2605 - val_acc: 0.9077\n",
      "Epoch 23/100\n",
      "100/100 [==============================] - 9s 89ms/step - loss: 0.0517 - acc: 0.9822 - val_loss: 0.2587 - val_acc: 0.9202\n",
      "dict_keys(['val_loss', 'val_acc', 'loss', 'acc', 'lr'])\n"
     ]
    },
    {
     "data": {
      "image/png": "[encoded data removed]",
      "text/plain": [
       "<matplotlib.figure.Figure at 0x7f639e642fd0>"
      ]
     },
     "metadata": {},
     "output_type": "display_data"
    },
    {
     "name": "stdout",
     "output_type": "stream",
     "text": [
      "Train loss: 0.0697717480795\n",
      "Train accuracy: 0.972568578554\n",
      "Validation loss: 0.232032262551\n",
      "Validation accuracy: 0.925187033014\n",
      "\n",
      "===================FOLD= 3\n",
      "0.001\n",
      "Epoch 1/100\n",
      "100/100 [==============================] - 10s 98ms/step - loss: 0.4823 - acc: 0.7424 - val_loss: 0.3013 - val_acc: 0.8700\n",
      "Epoch 2/100\n",
      "100/100 [==============================] - 9s 95ms/step - loss: 0.2655 - acc: 0.8792 - val_loss: 0.2984 - val_acc: 0.8700\n",
      "Epoch 3/100\n",
      "100/100 [==============================] - 9s 95ms/step - loss: 0.2389 - acc: 0.8948 - val_loss: 0.2879 - val_acc: 0.8750\n",
      "Epoch 4/100\n",
      "100/100 [==============================] - 9s 92ms/step - loss: 0.2215 - acc: 0.9048 - val_loss: 0.3721 - val_acc: 0.8275\n",
      "Epoch 5/100\n",
      "100/100 [==============================] - 10s 96ms/step - loss: 0.1980 - acc: 0.9196 - val_loss: 0.2478 - val_acc: 0.8925\n",
      "Epoch 6/100\n",
      "100/100 [==============================] - 9s 94ms/step - loss: 0.1851 - acc: 0.9231 - val_loss: 0.2345 - val_acc: 0.8975\n",
      "Epoch 7/100\n",
      "100/100 [==============================] - 9s 90ms/step - loss: 0.1767 - acc: 0.9244 - val_loss: 0.3493 - val_acc: 0.8775\n",
      "Epoch 8/100\n",
      "100/100 [==============================] - 9s 89ms/step - loss: 0.1805 - acc: 0.9250 - val_loss: 0.2998 - val_acc: 0.8775\n",
      "Epoch 9/100\n",
      "100/100 [==============================] - 9s 90ms/step - loss: 0.1683 - acc: 0.9306 - val_loss: 0.3077 - val_acc: 0.8575\n",
      "Epoch 10/100\n",
      "100/100 [==============================] - 9s 89ms/step - loss: 0.1655 - acc: 0.9351 - val_loss: 0.2534 - val_acc: 0.8850\n",
      "Epoch 11/100\n",
      "100/100 [==============================] - 9s 89ms/step - loss: 0.1415 - acc: 0.9426 - val_loss: 0.3303 - val_acc: 0.8575\n",
      "Epoch 12/100\n",
      "100/100 [==============================] - 9s 92ms/step - loss: 0.1497 - acc: 0.9361 - val_loss: 0.2925 - val_acc: 0.8850\n",
      "Epoch 13/100\n",
      "100/100 [==============================] - 9s 92ms/step - loss: 0.1309 - acc: 0.9459 - val_loss: 0.3768 - val_acc: 0.8775\n",
      "Epoch 14/100\n",
      " 99/100 [============================>.] - ETA: 0s - loss: 0.1328 - acc: 0.9438\n",
      "Epoch 00014: ReduceLROnPlateau reducing learning rate to 0.00010000000474974513.\n",
      "100/100 [==============================] - 9s 91ms/step - loss: 0.1343 - acc: 0.9431 - val_loss: 0.2977 - val_acc: 0.8750\n",
      "Epoch 15/100\n",
      "100/100 [==============================] - 9s 91ms/step - loss: 0.1169 - acc: 0.9563 - val_loss: 0.2625 - val_acc: 0.8850\n",
      "Epoch 16/100\n",
      "100/100 [==============================] - 9s 90ms/step - loss: 0.0878 - acc: 0.9643 - val_loss: 0.2666 - val_acc: 0.8900\n",
      "dict_keys(['val_loss', 'val_acc', 'loss', 'acc', 'lr'])\n"
     ]
    },
    {
     "data": {
      "image/png": "[encoded data removed]",
      "text/plain": [
       "<matplotlib.figure.Figure at 0x7f639e62ccc0>"
      ]
     },
     "metadata": {},
     "output_type": "display_data"
    },
    {
     "name": "stdout",
     "output_type": "stream",
     "text": [
      "Train loss: 0.14403075663\n",
      "Train accuracy: 0.946843854217\n",
      "Validation loss: 0.234454018474\n",
      "Validation accuracy: 0.8975\n",
      "\n",
      "Log Loss Validation=  0.201535202775\n"
     ]
    }
   ],
   "source": [
    "# Repeat Each Training for 30 times and use statistics to get the score\n",
    "preds,final_preds =myBaseCrossTrain(train_image, train_target,test_image,model=getVggModel(),splits=4)\n",
    "# preds,final_preds =myBaseCrossTrain(train_image_resize, train_target,test_image_resize,model=getResNet50(),splits=2)"
   ]
  },
  {
   "cell_type": "code",
   "execution_count": 43,
   "metadata": {
    "collapsed": true
   },
   "outputs": [],
   "source": [
    "#Submission for each day.\n",
    "submission = pd.DataFrame()\n",
    "submission['id']=test['id']\n",
    "submission['is_iceberg']=preds\n",
    "submission.to_csv('vgg_reset_weight_4.csv', index=False)\n",
    "                  \n",
    "                  \n",
    "#0.1639 on the public leaderboard\n",
    "# gen = ImageDataGenerator(horizontal_flip = True,vertical_flip = True,width_shift_range = 0.,height_shift_range = 0.,channel_shift_range=0,zoom_range = 0.2,rotation_range = 10)\n",
    "# galaxyModel.fit(X_train_cv, y_train_cv,batch_size=24,epochs=80,verbose=1,validation_data=(X_holdout, Y_holdout),callbacks=callbacks)\n",
    "\n",
    "# Train loss: 0.0793685312089\n",
    "# Train accuracy: 0.975913620866\n",
    "# Test loss: 0.258395348191\n",
    "# Test accuracy: 0.895\n",
    "# Log Loss Validation= 0.211045624827"
   ]
  },
  {
   "cell_type": "code",
   "execution_count": 53,
   "metadata": {},
   "outputs": [],
   "source": [
    "# sub1 = pd.read_csv('resnet_sub.csv')\n",
    "sub2 = pd.read_csv('vgg_sub.csv')\n",
    "sub3 = pd.read_csv('vgg_reset_weight_4_0.1658.csv')\n",
    "sub4 = pd.read_csv('sub0.1639.csv')\n",
    "\n"
   ]
  },
  {
   "cell_type": "code",
   "execution_count": 60,
   "metadata": {},
   "outputs": [],
   "source": [
    "cb = sub2.set_index('id').join(sub3.set_index('id'),rsuffix='_1').join(sub4.set_index('id'),rsuffix='_3')"
   ]
  },
  {
   "cell_type": "code",
   "execution_count": 65,
   "metadata": {},
   "outputs": [],
   "source": [
    "cb['mean'] = cb.mean(axis=1)\n",
    "cb['median'] = cb.median(axis=1)"
   ]
  },
  {
   "cell_type": "code",
   "execution_count": 67,
   "metadata": {},
   "outputs": [],
   "source": [
    "cb.reset_index(inplace=True)"
   ]
  },
  {
   "cell_type": "code",
   "execution_count": 69,
   "metadata": {},
   "outputs": [],
   "source": [
    "sb1 = cb[['id','mean']]\n",
    "sb2 = cb[['id','median']]\n",
    "\n",
    "sb1.columns = ['id','is_iceberg']\n",
    "sb2.columns = ['id','is_iceberg']"
   ]
  },
  {
   "cell_type": "code",
   "execution_count": 71,
   "metadata": {
    "collapsed": true
   },
   "outputs": [],
   "source": [
    "sb1.to_csv('stack1.csv',index=False)\n",
    "sb2.to_csv('stack1.csv',index=False)"
   ]
  },
  {
   "cell_type": "markdown",
   "metadata": {},
   "source": [
    "## Option 1\n",
    "* Learning Rate - Set low than move on to high than reduce when starting to overfit\n",
    "* Add more Data\n",
    "* Data Augmentation\n",
    "* Batch Normalization\n",
    "* Add Dropout / Regularization"
   ]
  },
  {
   "cell_type": "code",
   "execution_count": null,
   "metadata": {
    "collapsed": true
   },
   "outputs": [],
   "source": [
    "# Splitting to test set and training set -- Option 1\n",
    "\n",
    "indices = np.arange(X_train.shape[0])\n",
    "np.random.shuffle(indices)\n",
    "X_train = X_train[indices]\n",
    "y_train = target_train[indices]\n",
    "nb_validations_samples = int(0.3*X_train.shape[0])\n",
    "X_val = X_train[-nb_validations_samples:]\n",
    "# y_val = to_categorical(y_train[-nb_validations_samples:])\n",
    "y_val = y_train[-nb_validations_samples:]\n",
    "\n",
    "X_train = X_train[:-nb_validations_samples]\n",
    "# y_train = to_categorical(y_train[:-nb_validations_samples])\n",
    "y_train = y_train[:-nb_validations_samples]"
   ]
  },
  {
   "cell_type": "code",
   "execution_count": null,
   "metadata": {
    "collapsed": true
   },
   "outputs": [],
   "source": [
    "# Splitting to test set and training set -- Option 2\n",
    "\n",
    "from sklearn.model_selection import train_test_split\n",
    "\n",
    "# X_train, X_valid, X_angle_train, X_angle_valid, y_train, y_valid = train_test_split(X_train,\n",
    "#                                     X_angle_train, y_train, random_state=123, train_size=0.75)\n",
    "\n",
    "\n",
    "X_train, X_val, X_ang,X_ang_val,y_train, y_val = train_test_split(train_image,train_angle,train_target,random_state=123,test_size=0.3)"
   ]
  },
  {
   "cell_type": "code",
   "execution_count": null,
   "metadata": {
    "collapsed": true
   },
   "outputs": [],
   "source": [
    "gen = ImageDataGenerator(rotation_range = 10)"
   ]
  },
  {
   "cell_type": "code",
   "execution_count": null,
   "metadata": {
    "collapsed": true
   },
   "outputs": [],
   "source": [
    "BATCH_SIZE = 64\n",
    "# STEPS_PER_EPOCH = X_train.shape[0] // BATCH_SIZE\n",
    "STEPS_PER_EPOCH = 100\n",
    "model = getVggModel()\n",
    "model.fit_generator(gen.flow(X_train,y_train,batch_size=BATCH_SIZE)\n",
    "                    ,steps_per_epoch=STEPS_PER_EPOCH,epochs=5,verbose=1,validation_data=(X_val, y_val))"
   ]
  },
  {
   "cell_type": "code",
   "execution_count": null,
   "metadata": {
    "collapsed": true
   },
   "outputs": [],
   "source": [
    "model.optimizer.lr = 1e-4"
   ]
  },
  {
   "cell_type": "code",
   "execution_count": 86,
   "metadata": {},
   "outputs": [
    {
     "name": "stdout",
     "output_type": "stream",
     "text": [
      "Epoch 1/5\n",
      "100/100 [==============================] - 14s - loss: 0.2252 - acc: 0.9096 - val_loss: 0.2143 - val_acc: 0.9044\n",
      "Epoch 2/5\n",
      "100/100 [==============================] - 14s - loss: 0.2095 - acc: 0.9143 - val_loss: 0.3369 - val_acc: 0.8711\n",
      "Epoch 3/5\n",
      "100/100 [==============================] - 14s - loss: 0.2002 - acc: 0.9210 - val_loss: 0.2279 - val_acc: 0.9044\n",
      "Epoch 4/5\n",
      "100/100 [==============================] - 14s - loss: 0.1955 - acc: 0.9202 - val_loss: 0.2128 - val_acc: 0.9064\n",
      "Epoch 5/5\n",
      "100/100 [==============================] - 15s - loss: 0.1901 - acc: 0.9239 - val_loss: 0.2429 - val_acc: 0.9064\n"
     ]
    },
    {
     "data": {
      "text/plain": [
       "<keras.callbacks.History at 0x7f7d41e47780>"
      ]
     },
     "execution_count": 86,
     "metadata": {},
     "output_type": "execute_result"
    }
   ],
   "source": [
    "model.fit_generator(gen.flow(X_train,y_train,batch_size=BATCH_SIZE)\n",
    "                    ,steps_per_epoch=STEPS_PER_EPOCH,epochs=5,verbose=1,validation_data=(X_val, y_val)\n",
    "                    ,callbacks=callbacks)"
   ]
  },
  {
   "cell_type": "code",
   "execution_count": 88,
   "metadata": {
    "collapsed": true
   },
   "outputs": [],
   "source": [
    "preds = model.predict(X_test)\n",
    "preds = preds.reshape(preds.shape[0])"
   ]
  },
  {
   "cell_type": "code",
   "execution_count": 101,
   "metadata": {},
   "outputs": [
    {
     "data": {
      "text/plain": [
       "<matplotlib.axes._subplots.AxesSubplot at 0x7f7d416657b8>"
      ]
     },
     "execution_count": 101,
     "metadata": {},
     "output_type": "execute_result"
    },
    {
     "data": {
      "image/png": "[encoded data removed]",
      "text/plain": [
       "<matplotlib.figure.Figure at 0x7f7d426f48d0>"
      ]
     },
     "metadata": {},
     "output_type": "display_data"
    }
   ],
   "source": [
    "import seaborn as sb\n",
    "sb.distplot(preds)"
   ]
  },
  {
   "cell_type": "code",
   "execution_count": 40,
   "metadata": {
    "collapsed": true
   },
   "outputs": [],
   "source": [
    "#Submission for each day.\n",
    "submission = pd.DataFrame()\n",
    "submission['id']=test['id']\n",
    "submission['is_iceberg']=preds\n",
    "submission.to_csv('sub.csv', index=False)"
   ]
  },
  {
   "cell_type": "code",
   "execution_count": null,
   "metadata": {
    "collapsed": true
   },
   "outputs": [],
   "source": []
  }
 ],
 "metadata": {
  "anaconda-cloud": {},
  "kernelspec": {
   "display_name": "Python [tensorflow]",
   "language": "python",
   "name": "Python [tensorflow]"
  },
  "language_info": {
   "codemirror_mode": {
    "name": "ipython",
    "version": 3
   },
   "file_extension": ".py",
   "mimetype": "text/x-python",
   "name": "python",
   "nbconvert_exporter": "python",
   "pygments_lexer": "ipython3",
   "version": "3.6.3"
  }
 },
 "nbformat": 4,
 "nbformat_minor": 1
}
