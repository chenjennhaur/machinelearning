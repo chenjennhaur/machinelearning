{
 "cells": [
  {
   "cell_type": "code",
   "execution_count": null,
   "metadata": {
    "collapsed": true
   },
   "outputs": [],
   "source": [
    "import numpy as np\n",
    "from sklearn import metrics,preprocessing,cross_validation\n",
    "from sklearn.feature_extraction.text import TfidfVectorizer\n",
    "import sklearn.linear_model as lm\n",
    "import pandas as p\n",
    "\n",
    "print \"loading data..\"\n",
    "traindata = list(np.array(p.read_table('../data/train.tsv'))[:,2])\n",
    "testdata = list(np.array(p.read_table('../data/test.tsv'))[:,2])\n",
    "y = np.array(p.read_table('../data/train.tsv'))[:,-1]\n",
    "\n",
    "tfv = TfidfVectorizer(min_df=3,  max_features=None, strip_accents='unicode',analyzer='word',token_pattern=r'\\w{1,}',\n",
    "                      ngram_range=(1, 2), use_idf=1,smooth_idf=1,sublinear_tf=1)\n",
    "\n",
    "rd = lm.LogisticRegression(penalty='l2', dual=True, tol=0.0001, \n",
    "                             C=1, fit_intercept=True, intercept_scaling=1.0, \n",
    "                             class_weight=None, random_state=None)\n",
    "\n",
    "X_all = traindata + testdata\n",
    "lentrain = len(traindata)\n",
    "\n",
    "print \"fitting pipeline\"\n",
    "tfv.fit(X_all)\n",
    "print \"transforming data\"\n",
    "X_all = tfv.transform(X_all)\n",
    "\n",
    "X = X_all[:lentrain]\n",
    "X_test = X_all[lentrain:]\n",
    "\n",
    "print \"20 Fold CV Score: \", np.mean(cross_validation.cross_val_score(rd, X, y, cv=20, scoring='roc_auc'))\n",
    "\n",
    "print \"training on full data\"\n",
    "rd.fit(X,y)\n",
    "pred = rd.predict_proba(X_test)[:,1]\n",
    "testfile = p.read_csv('../data/test.tsv', sep=\"\\t\", na_values=['?'], index_col=1)\n",
    "pred_df = p.DataFrame(pred, index=testfile.index, columns=['label'])\n",
    "pred_df.to_csv('benchmark.csv')\n",
    "print \"submission file created..\""
   ]
  }
 ],
 "metadata": {
  "kernelspec": {
   "display_name": "Python 3",
   "language": "python",
   "name": "python3"
  },
  "language_info": {
   "codemirror_mode": {
    "name": "ipython",
    "version": 3
   },
   "file_extension": ".py",
   "mimetype": "text/x-python",
   "name": "python",
   "nbconvert_exporter": "python",
   "pygments_lexer": "ipython3",
   "version": "3.5.1"
  }
 },
 "nbformat": 4,
 "nbformat_minor": 0
}
