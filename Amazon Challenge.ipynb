{
 "cells": [
  {
   "cell_type": "markdown",
   "metadata": {},
   "source": [
    "*Role Title and Role Code are similar based on pandas\n",
    "*Instead of using hashing, can consider cantor(m,n) = 1/2 * (m+n)(m+n+1)+m. Beware of hash collision\n",
    "*PCA / SVD are more suited for continuous values. For discrete variables, consider using MCA\n",
    "1. Feature Extraction - Using Genetic Algorithm / Greedy Algorithm [sklearn.feature_selection.RFE, RFECV , Gradient Boosting\n",
    "2. Try using Stacked Classifier \n",
    "  * np.mean\n",
    "  * weighted mean\n",
    "  * jaccard score\n",
    "  * pass the results from each classifer into another RF / Linear Regression\n",
    "3. Data Exploratory - Find if train has more classes compared to test ? \n",
    "4. Try to run on Spark\n",
    "5. Stratified K Fold Cross Validation\n",
    "6. Use GridSearchCV to optimize Logistic Classifier\n",
    "7. Consider having equal +ve and -ve examples in each train dataset\n",
    "8. Count Analysis (Use Log Odd Ratio) + Two Class AdaBoosted Decision Tree"
   ]
  },
  {
   "cell_type": "code",
   "execution_count": 1,
   "metadata": {
    "collapsed": false
   },
   "outputs": [],
   "source": [
    "#inside a ipython/nb session\n",
    "# %store encoder\n",
    "# %store data\n",
    "# %store X\n",
    "# %store X_test\n",
    "# %store y\n",
    "# %store features\n",
    "# %store header\n",
    "# %store test_offset\n",
    "# %store rf_data\n",
    "\n",
    "%store -r encoder\n",
    "%store -r data\n",
    "%store -r X\n",
    "%store -r X_test\n",
    "%store -r y\n",
    "%store -r features\n",
    "%store -r header\n",
    "%store -r test_offset\n",
    "%store -r rf_data\n"
   ]
  },
  {
   "cell_type": "code",
   "execution_count": 6,
   "metadata": {
    "collapsed": false,
    "scrolled": true
   },
   "outputs": [],
   "source": [
    "import pandas as pd\n",
    "from pivottablejs import pivot_ui\n",
    "import seaborn as sb\n",
    "import matplotlib.pyplot as plt  \n",
    "from ipywidgets import widgets\n",
    "import numpy as np\n",
    "from sklearn import (metrics, cross_validation, linear_model, preprocessing)\n",
    "from sklearn.naive_bayes import BernoulliNB\n",
    "from sklearn.ensemble import (GradientBoostingClassifier,RandomForestClassifier)\n",
    "from sklearn.tree import DecisionTreeClassifier\n",
    "from sklearn.feature_selection import RFE\n",
    "from sklearn import ensemble\n",
    "from sklearn.pipeline import Pipeline\n",
    "from sklearn.pipeline import FeatureUnion\n",
    "from sklearn import grid_search\n",
    "from itertools import combinations\n",
    "import pickle\n",
    "\n",
    "%matplotlib inline\n",
    "\n",
    "sb.set(style=\"ticks\", color_codes=True)\n",
    "df = pd.read_csv('train.csv')\n",
    "dft = pd.read_csv('test.csv')\n",
    "#g = sb.pairplot(df)"
   ]
  },
  {
   "cell_type": "code",
   "execution_count": null,
   "metadata": {
    "collapsed": false
   },
   "outputs": [],
   "source": [
    "#Observation Only\n",
    "df.head()"
   ]
  },
  {
   "cell_type": "code",
   "execution_count": null,
   "metadata": {
    "collapsed": false
   },
   "outputs": [],
   "source": [
    "#len(df['RESOURCE'].value_counts())\n",
    "#df['RESOURCE'].plot.hist(bins=7518)\n",
    "\n",
    "#dfc = df.iloc[:,1:10] \n",
    "dfc = df.iloc[:,:]\n",
    "for col in df.columns:\n",
    "  dfc[col] = df[col].astype('category')\n",
    "\n",
    "dfc.describe()\n"
   ]
  },
  {
   "cell_type": "code",
   "execution_count": null,
   "metadata": {
    "collapsed": false,
    "scrolled": true
   },
   "outputs": [],
   "source": [
    "#Observation Only\n",
    "#test = pd.pivot_table(dfc,index=['ROLE_TITLE','ROLE_CODE'],aggfunc='count',dropna=True)\n",
    "#dfc.pivot_table(index='ROLE_TITLE',aggfunc=lambda x:len(x.unique()))\n",
    "mult = {}\n",
    "for c in df.columns:\n",
    "    temp = df.pivot_table(index=c,aggfunc=lambda x:len(x.unique()),fill_value=0).apply(np.max)\n",
    "    mult[c] = temp\n",
    "\n",
    "multpd = pd.DataFrame(mult)\n"
   ]
  },
  {
   "cell_type": "code",
   "execution_count": 2,
   "metadata": {
    "collapsed": true
   },
   "outputs": [],
   "source": [
    "def save_results(predictions, filename):\n",
    "    \"\"\"Given a vector of predictions, save results in CSV format.\"\"\"\n",
    "    with open(filename, 'w') as f:\n",
    "        f.write(\"id,ACTION\\n\")\n",
    "        for i, pred in enumerate(predictions):\n",
    "            f.write(\"%d,%f\\n\" % (i + 1, pred))\n"
   ]
  },
  {
   "cell_type": "code",
   "execution_count": null,
   "metadata": {
    "collapsed": false
   },
   "outputs": [],
   "source": [
    "def cantor(pairs):\n",
    "    result2 = 0.5 * (pairs[0] + pairs[1]) * (pairs[0] + pairs[1] +1) + pairs[1]\n",
    "    if(len(pairs) == 2): \n",
    "        return result2\n",
    "    if(len(pairs) == 3 ):\n",
    "        result3 = 0.5 * (result2 + pairs[2]) * (result2 + pairs[2] +1) + pairs[2]\n",
    "        return result3\n",
    "    "
   ]
  },
  {
   "cell_type": "code",
   "execution_count": null,
   "metadata": {
    "collapsed": false
   },
   "outputs": [],
   "source": [
    "# Convert from dataframe to np.array\n",
    "y = np.ravel(df.iloc[:,:1])\n",
    "X = np.array(df.iloc[:,1:9])\n",
    "X_test = np.array(dft.iloc[:,1:9])\n",
    "header = list(df.columns[1:])\n",
    "\n",
    "data = np.vstack((X,X_test))"
   ]
  },
  {
   "cell_type": "code",
   "execution_count": null,
   "metadata": {
    "collapsed": false
   },
   "outputs": [],
   "source": [
    "# yc = combinations(range(n),2)\n",
    "# to view all the combinations\n",
    "# list(yc) \n",
    "\n",
    "#train data[:32769,:]\n",
    "#test data[32769:,:]\n",
    "#tuple is used here so that the result is hashable\n",
    "\n",
    "test_offset = 32769\n",
    "# Get Combinations of 2 features \n",
    "for indices in combinations(range(8),2):\n",
    "    #data = np.column_stack((data,list(ctypes.c_size_t(hash(tuple(v))).value for v in data[:,indices]))) \n",
    "    #data = np.column_stack((data,list(np.uint64(hash(tuple(v))) for v in data[:,indices]))) \n",
    "    #data = np.column_stack((data,list(hash(tuple(v)) for v in data[:,indices]))) \n",
    "    data = np.column_stack((data,list(cantor(tuple(v)) for v in data[:,indices]))) \n",
    "    a,b = indices\n",
    "    header.append(header[a] +\"&\"+ header[b])\n",
    "print('2 Combinations')\n",
    "print(data.shape)\n",
    "print(np.any(data < 0))\n",
    "print(np.ndarray.min(data))\n",
    "print(np.ndarray.max(data))\n",
    "    \n",
    "# Get Combinations of 3 features \n",
    "for indices in combinations(range(8),3):\n",
    "    data = np.column_stack((data,list(cantor(tuple(v)) for v in data[:,indices]))) \n",
    "    a,b,c = indices\n",
    "    header.append(header[a] +\"&\"+ header[b]+ \"&\" + header[c])\n",
    "\n",
    "    \n",
    "#Check loaded correctly with non-zero elements    \n",
    "print('3 Combinations')\n",
    "print(data.shape)\n",
    "print(np.any(data < 0))\n",
    "print(np.ndarray.min(data))\n",
    "print(np.ndarray.max(data))"
   ]
  },
  {
   "cell_type": "code",
   "execution_count": null,
   "metadata": {
    "collapsed": false
   },
   "outputs": [],
   "source": [
    "# Simplify the encoding. Probably not essential. Could possibly improve performance\n",
    "# Vertical Stacking is required so that all the features are captured. There might be some features in test set not in train set\n",
    "\n",
    "le = preprocessing.LabelEncoder()\n",
    "data_e = []\n",
    "# To perform column wise operations, use Transpose function\n",
    "for i in data.T:\n",
    "    le.fit(i)\n",
    "    data_e.append(le.transform(i))\n",
    "\n",
    "data = np.asarray(data_e).T\n",
    "\n",
    "print(np.any(data < 0))\n",
    "print(np.ndarray.min(data))\n",
    "print(np.ndarray.max(data))\n",
    "\n"
   ]
  },
  {
   "cell_type": "code",
   "execution_count": null,
   "metadata": {
    "collapsed": false
   },
   "outputs": [],
   "source": [
    "# #Code to help Visualize what the algorithm is doing \n",
    "# t_data = []\n",
    "# test_data = np.array([[1,2,3,4],[1,2,2,0],[1,2,3,4],[1,4,5,6],[2,3,4,5]])\n",
    "# print(test_data.shape)\n",
    "\n",
    "# #if the combination of categories are the same, they will be hashed to the same value. Eg 1 row with (0,1,0) will have same \n",
    "# #hash value of another row with (0,1,0)\n",
    "# for indices in combinations(range(4),2):\n",
    "#     t_data.append(hash(tuple(v)) for v in test_data[:,indices])\n",
    "#     #print(v for v in test_data[:,indices])\n",
    "#     print(indices)\n",
    "    \n",
    "# #Comparison 1 - Combinations are (0,1),(0,2),(0,3),(1,2),(1,3),(2,3)\n",
    "# # for v in test_data[:,(0,1)]:\n",
    "# #   print(hash(tuple(v)))\n",
    "\n",
    "# #Comparison 2 - t_data[0] corresponds to (0,1)\n",
    "# #tuple(t_data[0])\n",
    "\n"
   ]
  },
  {
   "cell_type": "code",
   "execution_count": null,
   "metadata": {
    "collapsed": false
   },
   "outputs": [],
   "source": [
    "#Initial Encoding for all features\n",
    "\n",
    "encoder = preprocessing.OneHotEncoder(dtype=np.uint32)\n",
    "# we want to encode the category IDs encountered both in\n",
    "# the training and the test set, so we fit the encoder on both\n",
    "encoder.fit(data)\n",
    "X = encoder.transform(data[:test_offset,:])\n",
    "X_test = encoder.transform(data[test_offset:,:])\n",
    "print(X.shape)\n",
    "print(X_test.shape)\n",
    "\n",
    "print(\"Total One Hot Features\",encoder.active_features_)\n",
    "print(\"Boundaries of each Feature\",len(encoder.feature_indices_),encoder.feature_indices_)\n",
    "print(\"Number of unique values in each feature\",len(encoder.n_values_),encoder.n_values_)\n",
    "# print(np.unique(data[:,0]))\n",
    "# print(np.unique(data[:,1]))\n",
    "# sb.barplot(x=np.arange(92),y=encoder.n_values_)"
   ]
  },
  {
   "cell_type": "code",
   "execution_count": null,
   "metadata": {
    "collapsed": false
   },
   "outputs": [],
   "source": [
    "#Feature Selection - Gradient Boosting (Filtering)\n",
    "dtc = DecisionTreeClassifier(criterion='entropy')\n",
    "dtc.fit(X,y)\n",
    "print(dtc.feature_importances_)\n",
    "features = dtc.feature_importances_\n",
    "\n",
    "#sb.distplot(feat,bins=100)\n",
    "#print(np.argmax(features),np.max(features))\n",
    "# Sum features in the same bin as defined by encoder.n_values_\n",
    "x = 0\n",
    "start = 0\n",
    "prob_sum = []\n",
    "#prob_ref = dict()\n",
    "for i in encoder.n_values_ : \n",
    "    prob = features[start:i].sum()\n",
    "    prob_sum.append(prob)\n",
    "    #prob_ref[header[x]] = prob \n",
    "    start = i + 1\n",
    "    #x += 1"
   ]
  },
  {
   "cell_type": "code",
   "execution_count": null,
   "metadata": {
    "collapsed": false
   },
   "outputs": [],
   "source": [
    "# Stability Selection using Randomized Lasso\n",
    "\n",
    "rlasso = linear_model.RandomizedLogisticRegression(C=1)\n",
    "rlasso.fit(X,y)\n",
    "\n",
    "rlasso_score = rlasso.scores_\n",
    "\n",
    "x = 0\n",
    "start = 0\n",
    "prob_sum = []\n",
    "for i in encoder.n_values_ : \n",
    "    prob_sum.append(rlasso_score[start:i].sum())\n",
    "    start = i + 1\n",
    "\n",
    "print(rlasso_score)\n",
    "print(prob_sum)\n"
   ]
  },
  {
   "cell_type": "code",
   "execution_count": null,
   "metadata": {
    "collapsed": false
   },
   "outputs": [],
   "source": [
    "#Feature Selection - Greedy Algorithm (Wrapping)\n",
    "\n",
    "estimator = linear_model.LogisticRegression(C=1)\n",
    "selector = RFE(estimator)\n",
    "selector = selector.fit(X, y)\n",
    "selector.ranking_"
   ]
  },
  {
   "cell_type": "code",
   "execution_count": null,
   "metadata": {
    "collapsed": false
   },
   "outputs": [],
   "source": [
    "# Pick out the most useful features\n",
    "\n",
    "sb.barplot(y=prob_sum,x=np.arange(92))\n",
    "#hsb = sb.hist(prob_sum,xlim=0.1)\n",
    "#Look at bar plot to see what threshold of the features to select\n",
    "ufeatures = []\n",
    "for i,j in enumerate(prob_sum):\n",
    "    if (j>0) : ufeatures.append(i)\n",
    "print(ufeatures)\n",
    "[header[i] for i in ufeatures]"
   ]
  },
  {
   "cell_type": "code",
   "execution_count": null,
   "metadata": {
    "collapsed": false
   },
   "outputs": [],
   "source": [
    "# Kaggle Greedy Algorithm result\n",
    "#ufeatures = [0, 8, 9, 10, 19, 34, 36, 37, 38, 41, 42, 43, 47, 53, 55, 60, 61, 63, 64, 67, 69, 71, 75, 81, 82, 85]\n",
    "ufeatures = [0, 1, 7, 8, 9, 10, 36, 37, 38, 41, 42, 43, 47, 51, 53, 56, 60, 61, 63, 64, 66, 67, 69, 71, 75, 79, 85, 91]\n",
    "print(ufeatures)"
   ]
  },
  {
   "cell_type": "code",
   "execution_count": null,
   "metadata": {
    "collapsed": false
   },
   "outputs": [],
   "source": [
    "#OneHotEncoder for the best features only\n",
    "\n",
    "encode_bfeat = preprocessing.OneHotEncoder(dtype=np.uint32)\n",
    "# we want to encode the category IDs encountered both in\n",
    "# the training and the test set, so we fit the encoder on both\n",
    "encode_bfeat.fit(data[:,ufeatures])\n",
    "X = encode_bfeat.transform(data[:test_offset,ufeatures])\n",
    "X_test = encode_bfeat.transform(data[test_offset:,ufeatures])\n",
    "print(X.shape)\n",
    "print(X_test.shape)"
   ]
  },
  {
   "cell_type": "code",
   "execution_count": null,
   "metadata": {
    "collapsed": false
   },
   "outputs": [],
   "source": [
    "# Testing Random Forest Tree\n",
    "rf_head = [0,1,22,4,6,35]\n",
    "rf_data = pd.DataFrame(data)\n",
    "rf_data = rf_data[rf_head]\n",
    "rf_data.columns = [header[i] for i in rf_head]"
   ]
  },
  {
   "cell_type": "code",
   "execution_count": 3,
   "metadata": {
    "collapsed": false
   },
   "outputs": [],
   "source": [
    "#https://www.kaggle.com/c/caterpillar-tube-pricing/forums/t/15748/strategies-to-encode-categorical-variables-with-many-categories\n",
    "# One Time Run Completed\n",
    "#Count/Freq\n",
    "# for col in rf_data.columns:\n",
    "#     rf_data['cnt'+col] = 0\n",
    "#     groups = rf_data.groupby([col])\n",
    "#     # gid is the grouped col id, group is the actionable pandas data structure\n",
    "#     for gid, group in groups:\n",
    "#         #Count total number of rows with the same (MGR_ID,RESOURCE_ID etc) in the entire dataset\n",
    "#         count = group[col].count()\n",
    "#         #For all rows with the same \"MGR_ID\"/\"RESOURCE_ID\" , put the same count calculated in the previous step\n",
    "#         rf_data['cnt'+col].ix[group.index] = count \n",
    "#     #rf_data['cnt'+col] = rf_data['cnt'+col].apply(np.log) # could check if this is neccesary, I think probably not\n",
    "    \n",
    "# # Percent of dept that is this resource\n",
    "# for col in rf_data.columns[1:6]:\n",
    "#     rf_data['Duse'+col] = 0.0\n",
    "#     groups = rf_data.groupby([col])\n",
    "#     for name, group in groups:\n",
    "#         grps = group.groupby(['RESOURCE'])\n",
    "#         for rsrc, grp in grps:\n",
    "#             rf_data['Duse'+col].ix[grp.index] = float(len(grp.index)) / float(len(group.index) )\n",
    "\n",
    "# #Number of resources that a manager manages\n",
    "# for col in rf_data.columns[0:1]:\n",
    "#     rf_data['Mdeps'+col] = 0\n",
    "#     groups = rf_data.groupby(['MGR_ID'])\n",
    "#     for name, group in groups:\n",
    "#         rf_data['Mdeps'+col].ix[group.index] = len(group[col].unique())\n",
    "\n",
    "X = rf_data.values[:test_offset,6:18]\n",
    "X_test = rf_data.values[test_offset:,6:18]\n",
    "\n",
    "# X = rf_data.values[:test_offset,:]\n",
    "# X_test = rf_data.values[test_offset:,:]"
   ]
  },
  {
   "cell_type": "code",
   "execution_count": null,
   "metadata": {
    "collapsed": false
   },
   "outputs": [],
   "source": [
    "#Logistic Regression\n",
    "\n",
    "SEED = 42\n",
    "mean_auc = 0.0\n",
    "\n",
    "n = 10  # repeat the CV procedure 10 times to get more precise results\n",
    "#model = linear_model.LogisticRegression(C=1,penalty='l2',class_weight='balanced')\n",
    "#model = BernoulliNB(alpha=0.005)\n",
    "#model = ensemble.ExtraTreesClassifier(criterion='entropy',n_jobs=-1,verbose=1)\n",
    "for i in range(n):\n",
    "    # for each iteration, randomly hold out 20% of the data as CV set\n",
    "    X_train, X_cv, y_train, y_cv = cross_validation.train_test_split(X, y, test_size=.20, random_state=i*SEED)\n",
    "\n",
    "    # if you want to perform feature selection / hyperparameter\n",
    "    # optimization, this is where you want to do it\n",
    "\n",
    "    # train model and make predictions\n",
    "    model.fit(X_train, y_train) \n",
    "    preds = model.predict_proba(X_cv)[:, 1]\n",
    "\n",
    "    # compute AUC metric for this CV fold\n",
    "    fpr, tpr, thresholds = metrics.roc_curve(y_cv, preds)\n",
    "    roc_auc = metrics.auc(fpr, tpr)\n",
    "    print(\"AUC (fold %d/%d): %f\" % (i + 1, n, roc_auc))\n",
    "    mean_auc += roc_auc\n",
    "\n",
    "print(\"Mean AUC: %f\" % (mean_auc/n))\n",
    "\n",
    "# === Predictions === #\n",
    "# When making predictions, retrain the model on the whole training set\n",
    "model.fit(X, y)\n",
    "preds = model.predict_proba(X_test)[:, 1]\n",
    "save_results(preds, \"submit.csv\")"
   ]
  },
  {
   "cell_type": "code",
   "execution_count": 24,
   "metadata": {
    "collapsed": false,
    "scrolled": true
   },
   "outputs": [
    {
     "name": "stdout",
     "output_type": "stream",
     "text": [
      "RF AUC (fold 1/1): 0.806772\n",
      "ET AUC (fold 1/1): 0.806170\n",
      "GB AUC (fold 1/1): 0.796830\n",
      "Ensemble AUC (fold 1/1): 0.854006\n",
      "Mean AUC: 0.854006\n"
     ]
    }
   ],
   "source": [
    "# Ensemble (Version 1)\n",
    "\n",
    "SEED = 42\n",
    "mean_auc = 0.0\n",
    "coeRF = 0.0\n",
    "coeET = 0.0\n",
    "coeGB = 0.0\n",
    "\n",
    "n = 1 # repeat the CV procedure 10 times to get more precise results\n",
    "# modelRF = RandomForestClassifier(criterion='entropy',n_estimators=500,max_depth=None,max_features='sqrt',min_samples_split=9,random_state=SEED)\n",
    "# modelET = ensemble.ExtraTreesClassifier(criterion='entropy',n_estimators=500,max_features='sqrt',min_samples_split=8,max_depth=None,random_state=SEED)\n",
    "# modelGB = GradientBoostingClassifier(max_depth=20,min_samples_split=9,random_state=SEED,learning_rate=0.2,n_estimators=50)\n",
    "\n",
    "modelRF = RandomForestClassifier()\n",
    "modelET = ensemble.ExtraTreesClassifier()\n",
    "modelGB = GradientBoostingClassifier()\n",
    "\n",
    "\n",
    "for i in range(n):\n",
    "    # for each iteration, randomly hold out 20% of the data as CV set\n",
    "    X_train, X_cv, y_train, y_cv = cross_validation.train_test_split(X, y, test_size=.20, random_state=i*SEED)\n",
    "\n",
    "    # if you want to perform feature selection / hyperparameter\n",
    "    # optimization, this is where you want to do it\n",
    "\n",
    "    # train model and make predictions\n",
    "    modelRF.fit(X_train, y_train) \n",
    "    modelET.fit(X_train, y_train) \n",
    "    modelGB.fit(X_train, y_train) \n",
    "    \n",
    "    predsRF = modelRF.predict_proba(X_cv)[:, 1]\n",
    "    predsRFP = modelRF.predict(X_cv)\n",
    "    predsET = modelET.predict_proba(X_cv)[:, 1]\n",
    "    predsGB = modelGB.predict_proba(X_cv)[:, 1]\n",
    "    predsC = (predsRF + predsET + predsGB)/3\n",
    "      \n",
    "    eX = np.hstack((predsRF,predsET,predsGB)).reshape(3,len(predsRF)).transpose()\n",
    "    modelE = linear_model.LogisticRegression()\n",
    "    modelE.fit(eX,y_cv)\n",
    "    \n",
    "    coeRF += modelE.coef_[0][0]\n",
    "    coeET += modelE.coef_[0][0]\n",
    "    coeGB += modelE.coef_[0][0]\n",
    "    \n",
    "\n",
    "    # compute AUC metric for this CV fold\n",
    "    fprRFP, tprRFP, _ = metrics.roc_curve(y_cv, predsRFP)\n",
    "    fprRF, tprRF, _ = metrics.roc_curve(y_cv, predsRF)\n",
    "    fprET, tprET, _ = metrics.roc_curve(y_cv, predsET)\n",
    "    fprGB, tprGB, _ = metrics.roc_curve(y_cv, predsGB)\n",
    "    fprC, tprC, _ = metrics.roc_curve(y_cv, predsC)\n",
    "    \n",
    "    roc_aucRF = metrics.auc(fprRFP, tprRFP)\n",
    "    roc_aucRF = metrics.auc(fprRF, tprRF)\n",
    "    roc_aucET = metrics.auc(fprET, tprET)\n",
    "    roc_aucGB = metrics.auc(fprGB, tprGB)\n",
    "    roc_aucC = metrics.auc(fprC, tprC)\n",
    "    \n",
    "    print(\"RF AUC (fold %d/%d): %f\" % (i + 1, n, roc_aucRF))\n",
    "    print(\"ET AUC (fold %d/%d): %f\" % (i + 1, n, roc_aucET))\n",
    "    print(\"GB AUC (fold %d/%d): %f\" % (i + 1, n, roc_aucGB))\n",
    "    print(\"Ensemble AUC (fold %d/%d): %f\" % (i + 1, n, roc_aucC))\n",
    "    mean_auc += roc_aucC\n",
    "    \n",
    "    fileObject = open(\"test.pickle\",'wb') \n",
    "    pickle.dump(RandomForestClassifier,fileObject)   \n",
    "    fileObject.close()\n",
    "\n",
    "print(\"Mean AUC: %f\" % (mean_auc/n))\n",
    "coeRF = coeRF / n\n",
    "coeET = coeET / n\n",
    "coeGB = coeGB / n\n",
    "\n",
    "# === Predictions === #\n",
    "# When making predictions, retrain the model on the whole training set\n",
    "modelRF.fit(X, y)\n",
    "modelET.fit(X, y)\n",
    "modelGB.fit(X, y)\n",
    "\n",
    "predsRF = modelRF.predict_proba(X_test)[:, 1]\n",
    "predsET = modelET.predict_proba(X_test)[:, 1]\n",
    "predsGB = modelGB.predict_proba(X_test)[:, 1]\n",
    "predsC = (predsRF + predsET + predsGB)/3\n",
    "\n",
    "predsE = coeRF * predsRF + coeGB * predsGB + coeET * predsET\n",
    "\n",
    "save_results(predsC, \"submit_e1.csv\")\n",
    "save_results(predsE, \"submit_e2.csv\")"
   ]
  },
  {
   "cell_type": "code",
   "execution_count": 25,
   "metadata": {
    "collapsed": false
   },
   "outputs": [
    {
     "data": {
      "image/png": "[encoded data removed]",
      "text/plain": [
       "<matplotlib.figure.Figure at 0x17109890>"
      ]
     },
     "metadata": {},
     "output_type": "display_data"
    },
    {
     "data": {
      "image/png": "[encoded data removed]",
      "text/plain": [
       "<matplotlib.figure.Figure at 0xf198ab0>"
      ]
     },
     "metadata": {},
     "output_type": "display_data"
    },
    {
     "data": {
      "image/png": "[encoded data removed]",
      "text/plain": [
       "<matplotlib.figure.Figure at 0xf1e9d30>"
      ]
     },
     "metadata": {},
     "output_type": "display_data"
    },
    {
     "data": {
      "image/png": "[encoded data removed]",
      "text/plain": [
       "<matplotlib.figure.Figure at 0x10271810>"
      ]
     },
     "metadata": {},
     "output_type": "display_data"
    },
    {
     "data": {
      "image/png": "[encoded data removed]",
      "text/plain": [
       "<matplotlib.figure.Figure at 0x119182f0>"
      ]
     },
     "metadata": {},
     "output_type": "display_data"
    }
   ],
   "source": [
    "# print(fprRF.shape)\n",
    "# print(tprRF.shape)\n",
    "# print(modelRF.predict_proba(X_cv)[1:6,:])\n",
    "# print(modelRF.predict(X_cv)[1:6])\n",
    "\n",
    "plt.plot(fprRFP,tprRFP)\n",
    "plt.show() \n",
    "\n",
    "plt.plot(fprRF,tprRF)\n",
    "plt.show() \n",
    "\n",
    "plt.plot(fprET,tprET)\n",
    "plt.show() \n",
    "\n",
    "plt.plot(fprGB,tprGB)\n",
    "plt.show() \n",
    "\n",
    "plt.plot(fprC,tprC)\n",
    "plt.show() \n"
   ]
  },
  {
   "cell_type": "code",
   "execution_count": 13,
   "metadata": {
    "collapsed": false,
    "scrolled": true
   },
   "outputs": [
    {
     "name": "stdout",
     "output_type": "stream",
     "text": [
      "[mean: 0.85183, std: 0.00538, params: {'mrf__n_estimators': 10, 'gbc__max_depth': 5, 'etc__n_estimators': 10}, mean: 0.85511, std: 0.00868, params: {'mrf__n_estimators': 30, 'gbc__max_depth': 5, 'etc__n_estimators': 10}, mean: 0.85171, std: 0.00657, params: {'mrf__n_estimators': 50, 'gbc__max_depth': 5, 'etc__n_estimators': 10}, mean: 0.84558, std: 0.00879, params: {'mrf__n_estimators': 10, 'gbc__max_depth': 10, 'etc__n_estimators': 10}, mean: 0.84196, std: 0.00758, params: {'mrf__n_estimators': 30, 'gbc__max_depth': 10, 'etc__n_estimators': 10}, mean: 0.84756, std: 0.00856, params: {'mrf__n_estimators': 50, 'gbc__max_depth': 10, 'etc__n_estimators': 10}, mean: 0.84965, std: 0.00556, params: {'mrf__n_estimators': 10, 'gbc__max_depth': 5, 'etc__n_estimators': 30}, mean: 0.85677, std: 0.00786, params: {'mrf__n_estimators': 30, 'gbc__max_depth': 5, 'etc__n_estimators': 30}, mean: 0.85941, std: 0.00588, params: {'mrf__n_estimators': 50, 'gbc__max_depth': 5, 'etc__n_estimators': 30}, mean: 0.84424, std: 0.00651, params: {'mrf__n_estimators': 10, 'gbc__max_depth': 10, 'etc__n_estimators': 30}, mean: 0.85075, std: 0.00756, params: {'mrf__n_estimators': 30, 'gbc__max_depth': 10, 'etc__n_estimators': 30}, mean: 0.85302, std: 0.00675, params: {'mrf__n_estimators': 50, 'gbc__max_depth': 10, 'etc__n_estimators': 30}, mean: 0.85475, std: 0.00691, params: {'mrf__n_estimators': 10, 'gbc__max_depth': 5, 'etc__n_estimators': 50}, mean: 0.86125, std: 0.00511, params: {'mrf__n_estimators': 30, 'gbc__max_depth': 5, 'etc__n_estimators': 50}, mean: 0.85762, std: 0.00710, params: {'mrf__n_estimators': 50, 'gbc__max_depth': 5, 'etc__n_estimators': 50}, mean: 0.84420, std: 0.00639, params: {'mrf__n_estimators': 10, 'gbc__max_depth': 10, 'etc__n_estimators': 50}, mean: 0.85301, std: 0.00583, params: {'mrf__n_estimators': 30, 'gbc__max_depth': 10, 'etc__n_estimators': 50}, mean: 0.85422, std: 0.00861, params: {'mrf__n_estimators': 50, 'gbc__max_depth': 10, 'etc__n_estimators': 50}]\n",
      "0.861247907984\n",
      "VotingClassifier(estimators=[('mrf', RandomForestClassifier(bootstrap=True, class_weight=None, criterion='gini',\n",
      "            max_depth=None, max_features='auto', max_leaf_nodes=None,\n",
      "            min_samples_leaf=1, min_samples_split=2,\n",
      "            min_weight_fraction_leaf=0.0, n_estimators=30, n_jobs=1,\n",
      "            ...      presort='auto', random_state=None, subsample=1.0, verbose=0,\n",
      "              warm_start=False))],\n",
      "         voting='soft', weights=None)\n"
     ]
    }
   ],
   "source": [
    "#Random Forest Ensemble\n",
    "# Use FeatureUnion\n",
    "\n",
    "SEED = 42\n",
    "mean_auc = 0.0\n",
    "\n",
    "clf1 = RandomForestClassifier()\n",
    "clf2 = ensemble.ExtraTreesClassifier()\n",
    "clf3 = GradientBoostingClassifier()\n",
    "\n",
    "# modelRF = RandomForestClassifier(criterion='entropy',n_estimators=500,max_depth=None,max_features='sqrt',min_samples_split=9,random_state=SEED)\n",
    "# modelET = ensemble.ExtraTreesClassifier(criterion='entropy',n_estimators=500,max_features='sqrt',min_samples_split=8,max_depth=None,random_state=SEED)\n",
    "# modelGB = GradientBoostingClassifier(max_depth=20,min_samples_split=9,random_state=SEED,learning_rate=0.2,n_estimators=50)\n",
    "#estimators = [('mrf',RandomForestClassifier()),('etc',ExtraTreesClassifier()),('gbc',GradientBoostingClassifier())]\n",
    "#pipeline = Pipeline([('mrf',RandomForestClassifier())])\n",
    "\n",
    "eclf = ensemble.VotingClassifier(estimators=[('mrf',clf1),('etc',clf2),('gbc',clf3)],voting='soft')\n",
    "params = {\n",
    "    'mrf__n_estimators' : [10,30,50],\n",
    "    'etc__n_estimators' : [10,30,50],\n",
    "    'gbc__max_depth' : [5,10],\n",
    "}\n",
    "\n",
    "grid = grid_search.GridSearchCV(estimator=eclf,param_grid=params,scoring='roc_auc',n_jobs=-1)\n",
    "grid.fit(X,y)\n",
    "print(grid.grid_scores_)\n",
    "print(grid.best_score_)\n",
    "print(grid.best_estimator_)\n",
    "result_grid = grid.predict_proba(X_test)\n",
    "\n",
    "\n",
    "\n"
   ]
  },
  {
   "cell_type": "code",
   "execution_count": 5,
   "metadata": {
    "collapsed": true
   },
   "outputs": [],
   "source": [
    "# Numpy Operations\n",
    "# print(np.fromiter(t_data[0],np.int32))\n",
    "# print(np.fromiter(t_data[1],np.int32))\n",
    "# print(np.fromiter(t_data[2],np.int32))\n",
    "# print(np.fromiter(t_data[3],np.int32))\n",
    "# print(np.fromiter(t_data[4],np.int32))\n",
    "# print(np.fromiter(t_data[5],np.int32))\n",
    "\n",
    "# Convert to numpy array - Use np.array(list)\n",
    "# for i in nparray - iterate through rows\n",
    "# for i in nparray.T - iterate through columns\n",
    "# Initialize np.zeros(5)\n",
    "\n",
    "# To view generator operators (Use list,tuples)\n",
    "# for i,j in enumerate(t_data):\n",
    "#     #lst_array[i] = np.array(list(j))\n",
    "#     lst_array[i] = np.fromiter(j,np.float)"
   ]
  },
  {
   "cell_type": "markdown",
   "metadata": {},
   "source": [
    "AUC = Logistic Regression returns the probability that a certain input features would be in a certain class\n",
    "ROC curve visualizaes all possible thresholds\n",
    "Misclassification rate is error rate for a single threshold\n",
    "\n",
    "\n",
    "Attempt with original features only : CV : ... , Public : 0.88515, Private : 0.88205\n",
    "\n",
    "Attempt with original features + combination of 3 : CV : 0.886375 , Public : 0.90141, Private 0.89582 \n",
    "ExtraTreeClassifier = submit_etc.csv\n",
    "\n",
    "\n",
    "Attempt with original features + combination of 3 : CV : 0.886375 , Public : 0.90141, Private 0.89582 \n",
    "Logistic C=1, class_weight='balanced',penalty='l2' = submit_c3.csv\n",
    "\n",
    "Attempt with DTC selected features : CV :  0.886555 (threshold >0) , Public : , Private \n",
    "j>0.001 or 0 \n",
    "Logistic\n",
    "\n",
    "Attempt with Random Lasso  : CV : 0.886439   , Public : , Private \n",
    "j>0\n",
    "Logistic C=1, class_weight='balanced',penalty='l2' = submit_rl.csv\n",
    "\n",
    "Cheat Sheet from Kaggle, CV : 0.895952\n",
    "Logistic C=1, class_weight='balanced',penalty='l2' = submit_kc.csv"
   ]
  },
  {
   "cell_type": "code",
   "execution_count": null,
   "metadata": {
    "collapsed": false
   },
   "outputs": [],
   "source": [
    "X_test.shape"
   ]
  },
  {
   "cell_type": "code",
   "execution_count": null,
   "metadata": {
    "collapsed": false
   },
   "outputs": [],
   "source": [
    "predsC.shape"
   ]
  },
  {
   "cell_type": "code",
   "execution_count": null,
   "metadata": {
    "collapsed": false
   },
   "outputs": [],
   "source": [
    "te1 = np.array([1,2,3,4,5])\n",
    "te2 = np.array([6,7,8,9,10])\n",
    "te3 = np.array([11,12,13,14,15])"
   ]
  },
  {
   "cell_type": "code",
   "execution_count": null,
   "metadata": {
    "collapsed": false
   },
   "outputs": [],
   "source": [
    "teh = np.hstack((te1,te2,te3)).reshape(3,5).transpose()\n",
    "print(teh)"
   ]
  },
  {
   "cell_type": "code",
   "execution_count": 6,
   "metadata": {
    "collapsed": false
   },
   "outputs": [],
   "source": [
    "fileObject = open(\"test.pickle\",'wb') \n",
    "pickle.dump(RandomForestClassifier,fileObject)   \n",
    "fileObject.close()"
   ]
  },
  {
   "cell_type": "code",
   "execution_count": 4,
   "metadata": {
    "collapsed": false
   },
   "outputs": [
    {
     "data": {
      "text/plain": [
       "['BernoulliNB',\n",
       " 'DecisionTreeClassifier',\n",
       " 'GradientBoostingClassifier',\n",
       " 'RFE',\n",
       " 'RandomForestClassifier',\n",
       " 'X',\n",
       " 'X_test',\n",
       " 'combinations',\n",
       " 'cross_validation',\n",
       " 'data',\n",
       " 'df',\n",
       " 'dft',\n",
       " 'encoder',\n",
       " 'ensemble',\n",
       " 'features',\n",
       " 'header',\n",
       " 'linear_model',\n",
       " 'metrics',\n",
       " 'np',\n",
       " 'pd',\n",
       " 'pickle',\n",
       " 'pivot_ui',\n",
       " 'plt',\n",
       " 'preprocessing',\n",
       " 'rf_data',\n",
       " 'sb',\n",
       " 'test_offset',\n",
       " 'widgets',\n",
       " 'y']"
      ]
     },
     "execution_count": 4,
     "metadata": {},
     "output_type": "execute_result"
    }
   ],
   "source": [
    "who_ls\n",
    "%reset_selective -f b"
   ]
  },
  {
   "cell_type": "code",
   "execution_count": null,
   "metadata": {
    "collapsed": true
   },
   "outputs": [],
   "source": []
  }
 ],
 "metadata": {
  "kernelspec": {
   "display_name": "Python 3",
   "language": "python",
   "name": "python3"
  },
  "language_info": {
   "codemirror_mode": {
    "name": "ipython",
    "version": 3
   },
   "file_extension": ".py",
   "mimetype": "text/x-python",
   "name": "python",
   "nbconvert_exporter": "python",
   "pygments_lexer": "ipython3",
   "version": "3.5.1"
  }
 },
 "nbformat": 4,
 "nbformat_minor": 0
}
