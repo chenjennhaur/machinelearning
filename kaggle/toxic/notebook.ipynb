{
 "cells": [
  {
   "cell_type": "markdown",
   "metadata": {
    "_cell_guid": "9d2dbdb3-6c74-4f96-9865-2951dfd653ce",
    "_uuid": "bb41ad86b25fecf332927b0c8f55dd710101e33f"
   },
   "source": [
    "# Improved LSTM baseline\n",
    "\n",
    "This kernel is a somewhat improved version of [Keras - Bidirectional LSTM baseline](https://www.kaggle.com/CVxTz/keras-bidirectional-lstm-baseline-lb-0-051) along with some additional documentation of the steps. (NB: this notebook has been re-run on the new test set.)"
   ]
  },
  {
   "cell_type": "code",
   "execution_count": 1,
   "metadata": {
    "collapsed": true
   },
   "outputs": [],
   "source": [
    "# Fast Text\n",
    "# Increase the glove Embedding\n",
    "# Use Fast Text to generate the embedding"
   ]
  },
  {
   "cell_type": "code",
   "execution_count": 1,
   "metadata": {
    "_cell_guid": "2f9b7a76-8625-443d-811f-8f49781aef81",
    "_uuid": "598f965bc881cfe6605d92903b758778d400fa8b"
   },
   "outputs": [
    {
     "name": "stderr",
     "output_type": "stream",
     "text": [
      "Using TensorFlow backend.\n"
     ]
    }
   ],
   "source": [
    "import sys, os, re, csv, codecs, numpy as np, pandas as pd\n",
    "\n",
    "from keras.preprocessing.text import Tokenizer\n",
    "from keras.preprocessing.sequence import pad_sequences\n",
    "from keras.layers import Dense, Input, LSTM, Embedding, Dropout, Activation\n",
    "from keras.layers import Bidirectional, GlobalMaxPool1D\n",
    "from keras.models import Model\n",
    "from keras import initializers, regularizers, constraints, optimizers, layers\n",
    "\n",
    "import matplotlib.pyplot as plt\n",
    "%matplotlib inline  "
   ]
  },
  {
   "cell_type": "markdown",
   "metadata": {
    "_cell_guid": "c297fa80-beea-464b-ac90-f380ebdb02fe",
    "_uuid": "d961885dfde18796893922f72ade1bf64456404e"
   },
   "source": [
    "We include the GloVe word vectors in our input files. To include these in your kernel, simple click 'input files' at the top of the notebook, and search 'glove' in the 'datasets' section."
   ]
  },
  {
   "cell_type": "code",
   "execution_count": 2,
   "metadata": {
    "_cell_guid": "66a6b5fd-93f0-4f95-ad62-3253815059ba",
    "_uuid": "729b0f0c2a02c678631b8c072d62ff46146a82ef",
    "collapsed": true
   },
   "outputs": [],
   "source": [
    "path = 'data/'\n",
    "EMBEDDING_FILE=f'wv/glove.twitter.27B.200d.txt'\n",
    "TRAIN_DATA_FILE=f'{path}train.csv'\n",
    "TEST_DATA_FILE=f'{path}test.csv'"
   ]
  },
  {
   "cell_type": "markdown",
   "metadata": {
    "_cell_guid": "98f2b724-7d97-4da8-8b22-52164463a942",
    "_uuid": "b62d39216c8d00b3e6b78b825212fd190757dff9"
   },
   "source": [
    "Set some basic config parameters:"
   ]
  },
  {
   "cell_type": "code",
   "execution_count": 3,
   "metadata": {
    "_cell_guid": "2807a0a5-2220-4af6-92d6-4a7100307de2",
    "_uuid": "d365d5f8d9292bb9bf57d21d6186f8b619cbe8c3",
    "collapsed": true
   },
   "outputs": [],
   "source": [
    "embed_size = 200 # how big is each word vector\n",
    "max_features = 500000 # how many unique words to use (i.e num rows in embedding vector)\n",
    "maxlen = 500 # max number of words in a comment to use"
   ]
  },
  {
   "cell_type": "markdown",
   "metadata": {
    "_cell_guid": "b3a8d783-95c2-4819-9897-1320e3295183",
    "_uuid": "4dd8a02e7ef983f10ec9315721c6dda2958024af"
   },
   "source": [
    "Read in our data and replace missing values:"
   ]
  },
  {
   "cell_type": "code",
   "execution_count": 4,
   "metadata": {
    "_cell_guid": "ac2e165b-1f6e-4e69-8acf-5ad7674fafc3",
    "_uuid": "8ab6dad952c65e9afcf16e43c4043179ef288780",
    "collapsed": true
   },
   "outputs": [],
   "source": [
    "train = pd.read_csv(TRAIN_DATA_FILE)\n",
    "test = pd.read_csv(TEST_DATA_FILE)\n",
    "\n",
    "list_sentences_train = train[\"comment_text\"].fillna(\"_na_\").values\n",
    "list_classes = [\"toxic\", \"severe_toxic\", \"obscene\", \"threat\", \"insult\", \"identity_hate\"]\n",
    "y = train[list_classes].values\n",
    "list_sentences_test = test[\"comment_text\"].fillna(\"_na_\").values"
   ]
  },
  {
   "cell_type": "code",
   "execution_count": 5,
   "metadata": {
    "collapsed": true
   },
   "outputs": [],
   "source": [
    "# from nltk.corpus import stopwords\n",
    "# cachedStop =  stopwords.words('english')\n",
    "# pattern = re.compile(r'\\b(' + r'|'.join(stopwords.words('english')) + r')\\b\\s*')\n",
    "# def cleanwords(sent):\n",
    "#     return ' '.join([word.lower() for word in sent.lower().split() if word not in cachedStop ])\n",
    "    # return pattern.sub('', sent.lower())\n",
    "\n",
    "# def cleanchars(sent):\n",
    "#     return sent.translate(translator)\n"
   ]
  },
  {
   "cell_type": "code",
   "execution_count": 6,
   "metadata": {},
   "outputs": [
    {
     "name": "stdout",
     "output_type": "stream",
     "text": [
      "532299\n",
      "611496\n"
     ]
    }
   ],
   "source": [
    "print(len(set(train['comment_text'].str.cat(sep=\" \").split())))\n",
    "print(len(set(test['comment_text'].str.cat(sep=\" \").split())))"
   ]
  },
  {
   "cell_type": "code",
   "execution_count": 7,
   "metadata": {},
   "outputs": [
    {
     "data": {
      "text/plain": [
       "(array([  1.41929000e+05,   1.23380000e+04,   2.56300000e+03,\n",
       "          1.12000000e+03,   8.27000000e+02,   6.33000000e+02,\n",
       "          1.22000000e+02,   2.30000000e+01,   1.20000000e+01,\n",
       "          4.00000000e+00]),\n",
       " array([  1.00000000e+00,   1.42000000e+02,   2.83000000e+02,\n",
       "          4.24000000e+02,   5.65000000e+02,   7.06000000e+02,\n",
       "          8.47000000e+02,   9.88000000e+02,   1.12900000e+03,\n",
       "          1.27000000e+03,   1.41100000e+03]),\n",
       " <a list of 10 Patch objects>)"
      ]
     },
     "execution_count": 7,
     "metadata": {},
     "output_type": "execute_result"
    },
    {
     "data": {
      "image/png": "[encoded data removed]",
      "text/plain": [
       "<matplotlib.figure.Figure at 0x7f977acdefd0>"
      ]
     },
     "metadata": {},
     "output_type": "display_data"
    }
   ],
   "source": [
    "# Length of Comment\n",
    "plt.hist(train['comment_text'].apply(lambda x:len(x.split())))"
   ]
  },
  {
   "cell_type": "code",
   "execution_count": 8,
   "metadata": {},
   "outputs": [
    {
     "data": {
      "text/plain": [
       "(array([  1.46584000e+05,   4.37200000e+03,   1.36500000e+03,\n",
       "          7.16000000e+02,   1.13000000e+02,   9.00000000e+00,\n",
       "          1.00000000e+00,   2.00000000e+00,   1.00000000e+00,\n",
       "          1.00000000e+00]),\n",
       " array([    0. ,   232.1,   464.2,   696.3,   928.4,  1160.5,  1392.6,\n",
       "         1624.7,  1856.8,  2088.9,  2321. ]),\n",
       " <a list of 10 Patch objects>)"
      ]
     },
     "execution_count": 8,
     "metadata": {},
     "output_type": "execute_result"
    },
    {
     "data": {
      "image/png": "[encoded data removed]",
      "text/plain": [
       "<matplotlib.figure.Figure at 0x7f97cefdea20>"
      ]
     },
     "metadata": {},
     "output_type": "display_data"
    }
   ],
   "source": [
    "plt.hist(test['comment_text'].apply(lambda x:len(x.split())))"
   ]
  },
  {
   "cell_type": "markdown",
   "metadata": {
    "_cell_guid": "54a7a34e-6549-45f7-ada2-2173ff2ce5ea",
    "_uuid": "e8810c303980f41dbe0543e1c15d35acbdd8428f"
   },
   "source": [
    "Standard keras preprocessing, to turn each comment into a list of word indexes of equal length (with truncation or padding as needed)."
   ]
  },
  {
   "cell_type": "code",
   "execution_count": 9,
   "metadata": {
    "_cell_guid": "79afc0e9-b5f0-42a2-9257-a72458e91dbb",
    "_uuid": "c292c2830522bfe59d281ecac19f3a9415c07155",
    "collapsed": true
   },
   "outputs": [],
   "source": [
    "tokenizer = Tokenizer(num_words=max_features)\n",
    "tokenizer.fit_on_texts(list(list_sentences_train))\n",
    "list_tokenized_train = tokenizer.texts_to_sequences(list_sentences_train)\n",
    "list_tokenized_test = tokenizer.texts_to_sequences(list_sentences_test)\n",
    "X_t = pad_sequences(list_tokenized_train, maxlen=maxlen)\n",
    "X_te = pad_sequences(list_tokenized_test, maxlen=maxlen)"
   ]
  },
  {
   "cell_type": "markdown",
   "metadata": {
    "_cell_guid": "f8c4f6a3-3a19-40b1-ad31-6df2690bec8a",
    "_uuid": "e1cb77629e35c2b5b28288b4d6048a86dda04d78"
   },
   "source": [
    "Read the glove word vectors (space delimited strings) into a dictionary from word->vector."
   ]
  },
  {
   "cell_type": "code",
   "execution_count": 10,
   "metadata": {
    "_cell_guid": "7d19392b-7750-4a1b-ac30-ed75b8a62d52",
    "_uuid": "e9e3b4fa7c4658e0f22dd48cb1a289d9deb745fc",
    "collapsed": true
   },
   "outputs": [],
   "source": [
    "def get_coefs(word,*arr): return word, np.asarray(arr, dtype='float32')\n",
    "embeddings_index = dict(get_coefs(*o.strip().split()) for o in open(EMBEDDING_FILE))"
   ]
  },
  {
   "cell_type": "code",
   "execution_count": 11,
   "metadata": {},
   "outputs": [
    {
     "data": {
      "text/plain": [
       "array([ -3.37119997e-01,  -2.16910005e-01,  -6.63649989e-03,\n",
       "        -4.16249990e-01,  -1.25549996e+00,  -2.84659993e-02,\n",
       "        -7.21949995e-01,  -5.28869987e-01,   7.20850006e-03,\n",
       "         3.19970012e-01,   2.94250008e-02,  -1.32360002e-02,\n",
       "         4.35110003e-01,   2.57160008e-01,   3.89950007e-01,\n",
       "        -1.19680002e-01,   1.50350004e-01,   4.47620004e-01,\n",
       "         2.84069985e-01,   4.93389994e-01,   6.28260016e-01,\n",
       "         2.28880003e-01,  -4.03849989e-01,   2.73640007e-02,\n",
       "         7.36790011e-03,   1.39950007e-01,   2.33459994e-01,\n",
       "         6.81219995e-02,   4.84219998e-01,  -1.95780005e-02,\n",
       "        -5.47510028e-01,  -5.49830019e-01,  -3.40909995e-02,\n",
       "         8.00170004e-03,  -4.30649996e-01,  -1.89689994e-02,\n",
       "        -8.56700018e-02,  -8.11230004e-01,  -2.10800007e-01,\n",
       "         3.77840012e-01,  -3.50459993e-01,   1.36840001e-01,\n",
       "        -5.56609988e-01,   1.68349996e-01,  -2.29519993e-01,\n",
       "        -1.61840007e-01,   6.73449993e-01,  -4.65970010e-01,\n",
       "        -3.18339989e-02,  -2.60369986e-01,  -1.77970007e-01,\n",
       "         1.94359999e-02,   1.07270002e-01,   6.65340006e-01,\n",
       "        -3.48360002e-01,   4.78329994e-02,   1.64399996e-01,\n",
       "         1.40880004e-01,   1.92039996e-01,  -3.50089997e-01,\n",
       "         2.62360007e-01,   1.76259995e-01,  -3.13670009e-01,\n",
       "         1.17090002e-01,   2.03779995e-01,   6.17749989e-01,\n",
       "         4.90750015e-01,  -7.52099976e-02,  -1.18150003e-01,\n",
       "         1.86849996e-01,   4.06789988e-01,   2.83190012e-01,\n",
       "        -1.62900001e-01,   3.83879989e-02,   4.37940001e-01,\n",
       "         8.82240012e-02,   5.90460002e-01,  -5.35149984e-02,\n",
       "         3.88190001e-02,   1.82019994e-01,  -2.75990009e-01,\n",
       "         3.94739985e-01,  -2.04990000e-01,   1.74109995e-01,\n",
       "         1.03150003e-01,   2.51170009e-01,  -3.65420014e-01,\n",
       "         3.65280002e-01,   2.24480003e-01,  -9.75510001e-01,\n",
       "         9.45049971e-02,  -1.78590000e-01,  -3.06879997e-01,\n",
       "        -5.86329997e-01,  -1.85259998e-01,   3.95650007e-02,\n",
       "        -4.23090011e-01,  -1.57150000e-01,   2.04009995e-01,\n",
       "         1.69060007e-01,   3.44650000e-01,  -4.22619998e-01,\n",
       "         1.95529997e-01,   5.94540000e-01,  -3.05310011e-01,\n",
       "        -1.06330000e-01,  -1.90549999e-01,  -5.85439980e-01,\n",
       "         2.13569999e-01,   3.84140015e-01,   9.14990008e-02,\n",
       "         3.83529991e-01,   2.90749997e-01,   2.45190002e-02,\n",
       "         2.84399986e-01,   6.37150034e-02,  -1.54829994e-01,\n",
       "         4.00310010e-01,   3.15429986e-01,  -3.71280015e-02,\n",
       "         6.33630008e-02,  -2.70900011e-01,   2.51599997e-01,\n",
       "         4.71049994e-01,   4.95559990e-01,  -3.64010006e-01,\n",
       "         1.03699997e-01,   4.60759997e-02,   1.65649995e-01,\n",
       "        -2.90239990e-01,  -6.69490024e-02,  -3.08809996e-01,\n",
       "         4.82630014e-01,   3.09720010e-01,  -1.11450002e-01,\n",
       "        -1.03289999e-01,   2.85850000e-02,  -1.35790005e-01,\n",
       "         5.29240012e-01,  -1.40770003e-01,   9.17629972e-02,\n",
       "         1.31270006e-01,  -2.09439993e-01,   2.23270003e-02,\n",
       "        -7.76920021e-02,   7.79339969e-02,  -3.30669992e-02,\n",
       "         1.16800003e-01,   3.20289999e-01,   3.77490014e-01,\n",
       "        -7.56789982e-01,  -1.59439996e-01,   1.49639994e-01,\n",
       "         4.22529995e-01,   2.81360000e-03,   2.13280007e-01,\n",
       "         8.67760032e-02,  -5.27039990e-02,  -4.08589989e-01,\n",
       "        -1.17739998e-01,   9.06210020e-02,  -2.37939999e-01,\n",
       "        -1.83259994e-01,   1.31150007e-01,  -5.59490025e-01,\n",
       "         9.20709968e-02,  -3.95039991e-02,   1.33340001e-01,\n",
       "         4.96320009e-01,   2.87330002e-01,  -1.85440004e-01,\n",
       "         2.46179998e-02,  -4.28259999e-01,   7.41479993e-02,\n",
       "         7.65839999e-04,   2.39500001e-01,   2.26150006e-01,\n",
       "         5.51659986e-02,  -7.50960037e-02,  -2.23079994e-01,\n",
       "         2.37749994e-01,  -4.54549998e-01,   2.65639991e-01,\n",
       "        -1.51370004e-01,  -2.41459996e-01,  -2.47360006e-01,\n",
       "         5.52139997e-01,   2.68189996e-01,   4.88310009e-01,\n",
       "        -1.34230003e-01,  -1.59180000e-01,   3.76060009e-01,\n",
       "        -1.98339999e-01,   1.66989997e-01,  -1.53679997e-01,\n",
       "         2.45609999e-01,  -9.25059989e-02,  -3.02569985e-01,\n",
       "        -2.94930011e-01,  -7.49170005e-01,   1.05669999e+00,\n",
       "         3.79709989e-01,   6.93139970e-01,  -3.16720009e-02,\n",
       "         2.15880007e-01,  -4.07389998e-01,  -1.52640000e-01,\n",
       "         3.22959989e-01,  -1.29989997e-01,  -5.01290023e-01,\n",
       "        -4.42310005e-01,   1.69040002e-02,  -1.14590004e-02,\n",
       "         7.22930022e-03,   1.10260002e-01,   2.15680003e-01,\n",
       "        -3.23729992e-01,  -3.72920007e-01,  -9.24559962e-03,\n",
       "        -2.67690003e-01,   3.90659988e-01,   3.57419997e-01,\n",
       "        -6.06320016e-02,   6.79659992e-02,   3.38299990e-01,\n",
       "         6.57470003e-02,   1.57940000e-01,   4.71550003e-02,\n",
       "         2.36819997e-01,  -9.13700014e-02,   6.46489978e-01,\n",
       "        -2.54909992e-01,  -6.79400027e-01,  -6.97520018e-01,\n",
       "        -1.01450004e-01,  -3.62549990e-01,   3.69670004e-01,\n",
       "        -4.12950009e-01,   8.27239975e-02,  -3.50529999e-01,\n",
       "        -1.75640002e-01,   8.50950032e-02,  -5.77239990e-01,\n",
       "         5.02520025e-01,   5.21799982e-01,   5.73269986e-02,\n",
       "        -7.97540009e-01,  -3.77700001e-01,   7.81490028e-01,\n",
       "         2.45969996e-01,   6.06719971e-01,  -2.00819999e-01,\n",
       "        -3.87919992e-01,   4.12950009e-01,  -1.61430001e-01,\n",
       "         1.04270000e-02,   4.31970000e-01,   4.62969998e-03,\n",
       "         2.11850002e-01,  -2.66059995e-01,  -5.87400012e-02,\n",
       "        -5.10029972e-01,   2.85239995e-01,   1.36270002e-02,\n",
       "        -2.73460001e-01,   6.18479997e-02,  -5.79010010e-01,\n",
       "        -5.11359990e-01,   3.63819987e-01,   3.51440012e-01,\n",
       "        -1.65010005e-01,  -4.60409999e-01,  -6.47419989e-02,\n",
       "        -6.83099985e-01,  -4.74269986e-02,   1.58610001e-01,\n",
       "        -4.72880006e-01,   3.39679986e-01,   1.20920001e-03,\n",
       "         1.60180002e-01,  -5.80240011e-01,   1.45559996e-01,\n",
       "        -9.13169980e-01,  -3.75919998e-01,  -3.29499990e-01,\n",
       "         5.34650028e-01,   1.82239994e-01,  -5.22650003e-01,\n",
       "        -2.62089998e-01,  -4.24580008e-01,  -1.80340007e-01,\n",
       "         9.95019972e-02,  -1.51140004e-01,  -6.67309999e-01,\n",
       "         2.44829997e-01,  -5.66299975e-01,   3.38429987e-01,\n",
       "         4.05580014e-01,   1.80730000e-01,   6.42499983e-01], dtype=float32)"
      ]
     },
     "execution_count": 11,
     "metadata": {},
     "output_type": "execute_result"
    }
   ],
   "source": [
    "embeddings_index['hello']"
   ]
  },
  {
   "cell_type": "markdown",
   "metadata": {
    "_cell_guid": "7370416a-094a-4dc7-84fa-bdbf469f6579",
    "_uuid": "20cea54904ac1eece20874e9346905a59a604985"
   },
   "source": [
    "Use these vectors to create our embedding matrix, with random initialization for words that aren't in GloVe. We'll use the same mean and stdev of embeddings the GloVe has when generating the random init."
   ]
  },
  {
   "cell_type": "code",
   "execution_count": 12,
   "metadata": {
    "_cell_guid": "4d29d827-377d-4d2f-8582-4a92f9569719",
    "_uuid": "96fc33012e7f07a2169a150c61574858d49a561b"
   },
   "outputs": [
    {
     "data": {
      "text/plain": [
       "(-0.0039050116, 0.38177028)"
      ]
     },
     "execution_count": 12,
     "metadata": {},
     "output_type": "execute_result"
    }
   ],
   "source": [
    "all_embs = np.stack(embeddings_index.values())\n",
    "emb_mean,emb_std = all_embs.mean(), all_embs.std()\n",
    "emb_mean,emb_std"
   ]
  },
  {
   "cell_type": "code",
   "execution_count": 13,
   "metadata": {
    "_cell_guid": "62acac54-0495-4a26-ab63-2520d05b3e19",
    "_uuid": "574c91e270add444a7bc8175440274bdd83b7173",
    "collapsed": true
   },
   "outputs": [],
   "source": [
    "word_index = tokenizer.word_index\n",
    "nb_words = min(max_features, len(word_index))+1\n",
    "embedding_matrix = np.random.normal(emb_mean, emb_std, (nb_words, embed_size))\n",
    "for word, i in word_index.items():\n",
    "    if i >= max_features: continue # greater than max word features\n",
    "    embedding_vector = embeddings_index.get(word) # out of word vocabulary\n",
    "    if embedding_vector is not None: embedding_matrix[i] = embedding_vector"
   ]
  },
  {
   "cell_type": "markdown",
   "metadata": {
    "_cell_guid": "f1aeec65-356e-4430-b99d-bb516ec90b09",
    "_uuid": "237345510bd2e664b5c6983a698d80bac2732bc4"
   },
   "source": [
    "Simple bidirectional LSTM with two fully connected layers. We add some dropout to the LSTM since even 2 epochs is enough to overfit."
   ]
  },
  {
   "cell_type": "code",
   "execution_count": 14,
   "metadata": {
    "_cell_guid": "0d4cb718-7f9a-4eab-acda-8f55b4712439",
    "_uuid": "dc51af0bd046e1eccc29111a8e2d77bdf7c60d28",
    "collapsed": true
   },
   "outputs": [],
   "source": [
    "inp = Input(shape=(maxlen,))\n",
    "x = Embedding(nb_words, embed_size, weights=[embedding_matrix])(inp)\n",
    "x = Bidirectional(LSTM(50, return_sequences=True, dropout=0.1, recurrent_dropout=0.1))(x)\n",
    "x = GlobalMaxPool1D()(x)\n",
    "x = Dense(100, activation=\"relu\")(x)\n",
    "x = Dropout(0.1)(x)\n",
    "x = Dense(6, activation=\"sigmoid\")(x)\n",
    "model = Model(inputs=inp, outputs=x)\n",
    "model.compile(loss='binary_crossentropy', optimizer='adam', metrics=['accuracy'])"
   ]
  },
  {
   "cell_type": "markdown",
   "metadata": {
    "_cell_guid": "4a624b55-3720-42bc-ad5a-7cefc76d83f6",
    "_uuid": "e2a0e9ce12e1ff5ea102665e79de23df5caf5802"
   },
   "source": [
    "Now we're ready to fit out model! Use `validation_split` when not submitting."
   ]
  },
  {
   "cell_type": "code",
   "execution_count": 15,
   "metadata": {
    "_cell_guid": "333626f1-a838-4fea-af99-0c78f1ef5f5c",
    "_uuid": "c1558c6b2802fc632edc4510c074555a590efbd8",
    "scrolled": false
   },
   "outputs": [
    {
     "name": "stdout",
     "output_type": "stream",
     "text": [
      "Train on 143613 samples, validate on 15958 samples\n",
      "Epoch 1/2\n",
      "143613/143613 [==============================] - 4424s 31ms/step - loss: 0.0520 - acc: 0.9810 - val_loss: 0.0451 - val_acc: 0.9827\n",
      "Epoch 2/2\n",
      "143613/143613 [==============================] - 4358s 30ms/step - loss: 0.0358 - acc: 0.9856 - val_loss: 0.0446 - val_acc: 0.9834\n"
     ]
    }
   ],
   "source": [
    "model.fit(X_t, y, batch_size=32, epochs=2, validation_split=0.1);"
   ]
  },
  {
   "cell_type": "markdown",
   "metadata": {
    "_cell_guid": "d6fa2ace-aa92-40cf-913f-a8f5d5a4b130",
    "_uuid": "3dbaa4d0c22271b8b0dc7e58bcad89ddc607beaf"
   },
   "source": [
    "And finally, get predictions for the test set and prepare a submission CSV:"
   ]
  },
  {
   "cell_type": "code",
   "execution_count": 16,
   "metadata": {
    "_cell_guid": "28ce30e3-0f21-48e5-af3c-7e5512c9fbdc",
    "_uuid": "e59ad8a98ac5bb25a6bddd72718f3ed8a7fb52e0"
   },
   "outputs": [
    {
     "name": "stdout",
     "output_type": "stream",
     "text": [
      "153164/153164 [==============================] - 49s 321us/step\n"
     ]
    }
   ],
   "source": [
    "y_test = model.predict([X_te], batch_size=1024, verbose=1)\n",
    "sample_submission = pd.read_csv('data/sample_submission.csv')\n",
    "sample_submission[list_classes] = y_test\n",
    "sample_submission.to_csv('glove300.csv', index=False)"
   ]
  },
  {
   "cell_type": "code",
   "execution_count": 4,
   "metadata": {
    "collapsed": true
   },
   "outputs": [],
   "source": [
    "# sample_submission.to_csv('base_test.csv',index=False)"
   ]
  },
  {
   "cell_type": "code",
   "execution_count": 19,
   "metadata": {
    "collapsed": true
   },
   "outputs": [],
   "source": [
    "# test_submission = pd.read_csv('data/sample_submission.csv')\n",
    "# len(test_submission)"
   ]
  },
  {
   "cell_type": "code",
   "execution_count": 1,
   "metadata": {
    "collapsed": true
   },
   "outputs": [],
   "source": []
  },
  {
   "cell_type": "code",
   "execution_count": null,
   "metadata": {
    "collapsed": true
   },
   "outputs": [],
   "source": [
    "# Baseline Score\n",
    "# loss: 0.0417 - acc: 0.9840 - val_loss: 0.0451 - val_acc: 0.9829 --> AUC : 0.9787\n",
    "\n"
   ]
  }
 ],
 "metadata": {
  "anaconda-cloud": {},
  "kernelspec": {
   "display_name": "Python [tensorflow]",
   "language": "python",
   "name": "Python [tensorflow]"
  },
  "language_info": {
   "codemirror_mode": {
    "name": "ipython",
    "version": 3
   },
   "file_extension": ".py",
   "mimetype": "text/x-python",
   "name": "python",
   "nbconvert_exporter": "python",
   "pygments_lexer": "ipython3",
   "version": "3.6.3"
  }
 },
 "nbformat": 4,
 "nbformat_minor": 1
}
