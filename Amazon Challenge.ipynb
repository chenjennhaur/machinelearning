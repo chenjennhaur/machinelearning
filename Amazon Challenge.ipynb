{
 "cells": [
  {
   "cell_type": "markdown",
   "metadata": {},
   "source": [
    "*Role Title and Role Code are similar based on pandas\n",
    "*Instead of using hashing, can consider cantor(m,n) = 1/2 * (m+n)(m+n+1)+m. Beware of hash collision\n",
    "*PCA / SVD are more suited for continuous values. For discrete variables, consider using MCA\n",
    "1. Feature Extraction - Using Genetic Algorithm / Greedy Algorithm [sklearn.feature_selection.RFE, RFECV , Gradient Boosting\n",
    "2. Try using Stacked Classifier \n",
    "  * np.mean\n",
    "  * weighted mean\n",
    "  * jaccard score\n",
    "  * pass the results from each classifer into another RF / Linear Regression\n",
    "3. Data Exploratory - Find if train has more classes compared to test ? \n",
    "4. Try to run on Spark\n",
    "5. Stratified K Fold Cross Validation\n",
    "6. Try with less features to do on Random Forest Classifier\n",
    "7. Try to use only selected Hot Encoded features for random forest classifier\n",
    "8. Use GridSearchCV to optimize Logistic Classifier"
   ]
  },
  {
   "cell_type": "code",
   "execution_count": 2,
   "metadata": {
    "collapsed": false
   },
   "outputs": [],
   "source": [
    "#inside a ipython/nb session\n",
    "# %store encoder\n",
    "# %store data\n",
    "# %store X\n",
    "# %store X_test\n",
    "# %store y\n",
    "# %store features\n",
    "# %store header\n",
    "# %store test_offset\n",
    "\n",
    "%store -r encoder\n",
    "%store -r data\n",
    "%store -r X\n",
    "%store -r X_test\n",
    "%store -r y\n",
    "%store -r features\n",
    "%store -r header\n",
    "%store -r test_offset\n"
   ]
  },
  {
   "cell_type": "code",
   "execution_count": 1,
   "metadata": {
    "collapsed": false,
    "scrolled": true
   },
   "outputs": [],
   "source": [
    "import pandas as pd\n",
    "from pivottablejs import pivot_ui\n",
    "import seaborn as sb\n",
    "import matplotlib.pyplot as plt  \n",
    "from ipywidgets import widgets\n",
    "import numpy as np\n",
    "from sklearn import (metrics, cross_validation, linear_model, preprocessing)\n",
    "from sklearn.naive_bayes import BernoulliNB\n",
    "from sklearn.ensemble import (GradientBoostingClassifier)\n",
    "from sklearn.tree import DecisionTreeClassifier\n",
    "from sklearn.feature_selection import RFE\n",
    "from sklearn import ensemble\n",
    "from itertools import combinations\n",
    "import pickle\n",
    "\n",
    "%matplotlib inline\n",
    "\n",
    "sb.set(style=\"ticks\", color_codes=True)\n",
    "df = pd.read_csv('train.csv')\n",
    "dft = pd.read_csv('test.csv')\n",
    "#g = sb.pairplot(df)"
   ]
  },
  {
   "cell_type": "code",
   "execution_count": null,
   "metadata": {
    "collapsed": false
   },
   "outputs": [],
   "source": [
    "#Observation Only\n",
    "df.head()"
   ]
  },
  {
   "cell_type": "code",
   "execution_count": null,
   "metadata": {
    "collapsed": false
   },
   "outputs": [],
   "source": [
    "#len(df['RESOURCE'].value_counts())\n",
    "#df['RESOURCE'].plot.hist(bins=7518)\n",
    "\n",
    "#dfc = df.iloc[:,1:10] \n",
    "dfc = df.iloc[:,:]\n",
    "for col in df.columns:\n",
    "  dfc[col] = df[col].astype('category')\n",
    "\n",
    "dfc.describe()\n"
   ]
  },
  {
   "cell_type": "code",
   "execution_count": null,
   "metadata": {
    "collapsed": false,
    "scrolled": true
   },
   "outputs": [],
   "source": [
    "#Observation Only\n",
    "#test = pd.pivot_table(dfc,index=['ROLE_TITLE','ROLE_CODE'],aggfunc='count',dropna=True)\n",
    "#dfc.pivot_table(index='ROLE_TITLE',aggfunc=lambda x:len(x.unique()))\n",
    "mult = {}\n",
    "for c in df.columns:\n",
    "    temp = df.pivot_table(index=c,aggfunc=lambda x:len(x.unique()),fill_value=0).apply(np.max)\n",
    "    mult[c] = temp\n",
    "\n",
    "multpd = pd.DataFrame(mult)\n"
   ]
  },
  {
   "cell_type": "code",
   "execution_count": 3,
   "metadata": {
    "collapsed": true
   },
   "outputs": [],
   "source": [
    "def save_results(predictions, filename):\n",
    "    \"\"\"Given a vector of predictions, save results in CSV format.\"\"\"\n",
    "    with open(filename, 'w') as f:\n",
    "        f.write(\"id,ACTION\\n\")\n",
    "        for i, pred in enumerate(predictions):\n",
    "            f.write(\"%d,%f\\n\" % (i + 1, pred))\n"
   ]
  },
  {
   "cell_type": "code",
   "execution_count": 4,
   "metadata": {
    "collapsed": false
   },
   "outputs": [],
   "source": [
    "def cantor(pairs):\n",
    "    result2 = 0.5 * (pairs[0] + pairs[1]) * (pairs[0] + pairs[1] +1) + pairs[1]\n",
    "    if(len(pairs) == 2): \n",
    "        return result2\n",
    "    if(len(pairs) == 3 ):\n",
    "        result3 = 0.5 * (result2 + pairs[2]) * (result2 + pairs[2] +1) + pairs[2]\n",
    "        return result3\n",
    "    "
   ]
  },
  {
   "cell_type": "code",
   "execution_count": 222,
   "metadata": {
    "collapsed": false
   },
   "outputs": [],
   "source": [
    "# Convert from dataframe to np.array\n",
    "y = np.ravel(df.iloc[:,:1])\n",
    "X = np.array(df.iloc[:,1:9])\n",
    "X_test = np.array(dft.iloc[:,1:9])\n",
    "header = list(df.columns[1:])\n",
    "\n",
    "data = np.vstack((X,X_test))"
   ]
  },
  {
   "cell_type": "code",
   "execution_count": 226,
   "metadata": {
    "collapsed": false
   },
   "outputs": [
    {
     "name": "stdout",
     "output_type": "stream",
     "text": [
      "2 Combinations\n",
      "(91690, 36)\n",
      "False\n",
      "0.0\n",
      "194537644783.0\n",
      "3 Combinations\n",
      "(91690, 92)\n",
      "False\n",
      "0.0\n",
      "1.89224706388e+22\n"
     ]
    }
   ],
   "source": [
    "# yc = combinations(range(n),2)\n",
    "# to view all the combinations\n",
    "# list(yc) \n",
    "\n",
    "#train data[:32769,:]\n",
    "#test data[32769:,:]\n",
    "#tuple is used here so that the result is hashable\n",
    "\n",
    "test_offset = 32769\n",
    "# Get Combinations of 2 features \n",
    "for indices in combinations(range(8),2):\n",
    "    #data = np.column_stack((data,list(ctypes.c_size_t(hash(tuple(v))).value for v in data[:,indices]))) \n",
    "    #data = np.column_stack((data,list(np.uint64(hash(tuple(v))) for v in data[:,indices]))) \n",
    "    #data = np.column_stack((data,list(hash(tuple(v)) for v in data[:,indices]))) \n",
    "    data = np.column_stack((data,list(cantor(tuple(v)) for v in data[:,indices]))) \n",
    "    a,b = indices\n",
    "    header.append(header[a] +\"&\"+ header[b])\n",
    "print('2 Combinations')\n",
    "print(data.shape)\n",
    "print(np.any(data < 0))\n",
    "print(np.ndarray.min(data))\n",
    "print(np.ndarray.max(data))\n",
    "    \n",
    "# Get Combinations of 3 features \n",
    "for indices in combinations(range(8),3):\n",
    "    data = np.column_stack((data,list(cantor(tuple(v)) for v in data[:,indices]))) \n",
    "    a,b,c = indices\n",
    "    header.append(header[a] +\"&\"+ header[b]+ \"&\" + header[c])\n",
    "\n",
    "    \n",
    "#Check loaded correctly with non-zero elements    \n",
    "print('3 Combinations')\n",
    "print(data.shape)\n",
    "print(np.any(data < 0))\n",
    "print(np.ndarray.min(data))\n",
    "print(np.ndarray.max(data))"
   ]
  },
  {
   "cell_type": "code",
   "execution_count": 227,
   "metadata": {
    "collapsed": false
   },
   "outputs": [
    {
     "name": "stdout",
     "output_type": "stream",
     "text": [
      "False\n",
      "0\n",
      "81232\n"
     ]
    }
   ],
   "source": [
    "# Simplify the encoding. Probably not essential. Could possibly improve performance\n",
    "# Vertical Stacking is required so that all the features are captured. There might be some features in test set not in train set\n",
    "\n",
    "le = preprocessing.LabelEncoder()\n",
    "data_e = []\n",
    "# To perform column wise operations, use Transpose function\n",
    "for i in data.T:\n",
    "    le.fit(i)\n",
    "    data_e.append(le.transform(i))\n",
    "\n",
    "data = np.asarray(data_e).T\n",
    "\n",
    "print(np.any(data < 0))\n",
    "print(np.ndarray.min(data))\n",
    "print(np.ndarray.max(data))\n",
    "\n"
   ]
  },
  {
   "cell_type": "code",
   "execution_count": 228,
   "metadata": {
    "collapsed": false
   },
   "outputs": [],
   "source": [
    "# #Code to help Visualize what the algorithm is doing \n",
    "# t_data = []\n",
    "# test_data = np.array([[1,2,3,4],[1,2,2,0],[1,2,3,4],[1,4,5,6],[2,3,4,5]])\n",
    "# print(test_data.shape)\n",
    "\n",
    "# #if the combination of categories are the same, they will be hashed to the same value. Eg 1 row with (0,1,0) will have same \n",
    "# #hash value of another row with (0,1,0)\n",
    "# for indices in combinations(range(4),2):\n",
    "#     t_data.append(hash(tuple(v)) for v in test_data[:,indices])\n",
    "#     #print(v for v in test_data[:,indices])\n",
    "#     print(indices)\n",
    "    \n",
    "# #Comparison 1 - Combinations are (0,1),(0,2),(0,3),(1,2),(1,3),(2,3)\n",
    "# # for v in test_data[:,(0,1)]:\n",
    "# #   print(hash(tuple(v)))\n",
    "\n",
    "# #Comparison 2 - t_data[0] corresponds to (0,1)\n",
    "# #tuple(t_data[0])\n",
    "\n"
   ]
  },
  {
   "cell_type": "code",
   "execution_count": 157,
   "metadata": {
    "collapsed": false
   },
   "outputs": [
    {
     "name": "stdout",
     "output_type": "stream",
     "text": [
      "(32769, 1595040)\n",
      "(58921, 1595040)\n",
      "Total One Hot Features [      0       1       2 ..., 1595037 1595038 1595039]\n",
      "Boundaries of each Feature 93 [      0    7518   12431   12561   12744   13220   13581   16532   16600\n",
      "   75768   90451  109920  137769  170899  218323  237208  242455  247918\n",
      "  253962  263393  273915  280609  280803  282114  283908  288133  288987\n",
      "  290556  293042  298050  299228  302623  308267  310094  313899  314260\n",
      "  317513  377513  438473  502060  581886  663119  728505  748028  782542\n",
      "  823905  876212  902910  939280  987915 1045969 1078785 1134547 1197866\n",
      " 1237196 1293234 1326364 1375120 1380617 1386943 1396624 1407336 1414313\n",
      " 1420803 1430629 1441467 1448617 1458893 1470138 1477765 1489632 1499063\n",
      " 1509772 1511355 1513873 1518915 1520118 1524974 1531765 1534754 1539821\n",
      " 1541615 1546080 1551272 1558350 1561630 1567567 1570053 1575281 1582003\n",
      " 1585398 1591236 1595040]\n",
      "Number of unique values in each feature 92 [ 7518  4913   130   183   476   361  2951    68 59168 14683 19469 27849\n",
      " 33130 47424 18885  5247  5463  6044  9431 10522  6694   194  1311  1794\n",
      "  4225   854  1569  2486  5008  1178  3395  5644  1827  3805   361  3253\n",
      " 60000 60960 63587 79826 81233 65386 19523 34514 41363 52307 26698 36370\n",
      " 48635 58054 32816 55762 63319 39330 56038 33130 48756  5497  6326  9681\n",
      " 10712  6977  6490  9826 10838  7150 10276 11245  7627 11867  9431 10709\n",
      "  1583  2518  5042  1203  4856  6791  2989  5067  1794  4465  5192  7078\n",
      "  3280  5937  2486  5228  6722  3395  5838  3804]\n"
     ]
    }
   ],
   "source": [
    "#Initial Encoding for all features\n",
    "\n",
    "encoder = preprocessing.OneHotEncoder(dtype=np.uint32)\n",
    "# we want to encode the category IDs encountered both in\n",
    "# the training and the test set, so we fit the encoder on both\n",
    "encoder.fit(data)\n",
    "X = encoder.transform(data[:test_offset,:])\n",
    "X_test = encoder.transform(data[test_offset:,:])\n",
    "print(X.shape)\n",
    "print(X_test.shape)\n",
    "\n",
    "print(\"Total One Hot Features\",encoder.active_features_)\n",
    "print(\"Boundaries of each Feature\",len(encoder.feature_indices_),encoder.feature_indices_)\n",
    "print(\"Number of unique values in each feature\",len(encoder.n_values_),encoder.n_values_)\n",
    "# print(np.unique(data[:,0]))\n",
    "# print(np.unique(data[:,1]))\n",
    "# sb.barplot(x=np.arange(92),y=encoder.n_values_)"
   ]
  },
  {
   "cell_type": "code",
   "execution_count": 7,
   "metadata": {
    "collapsed": false
   },
   "outputs": [
    {
     "name": "stdout",
     "output_type": "stream",
     "text": [
      "[ 0.          0.          0.         ...,  0.          0.          0.00328731]\n"
     ]
    }
   ],
   "source": [
    "#Feature Selection - Gradient Boosting (Filtering)\n",
    "dtc = DecisionTreeClassifier(criterion='entropy')\n",
    "dtc.fit(X,y)\n",
    "print(dtc.feature_importances_)\n",
    "features = dtc.feature_importances_\n",
    "\n",
    "#sb.distplot(feat,bins=100)\n",
    "#print(np.argmax(features),np.max(features))\n",
    "# Sum features in the same bin as defined by encoder.n_values_\n",
    "x = 0\n",
    "start = 0\n",
    "prob_sum = []\n",
    "#prob_ref = dict()\n",
    "for i in encoder.n_values_ : \n",
    "    prob = features[start:i].sum()\n",
    "    prob_sum.append(prob)\n",
    "    #prob_ref[header[x]] = prob \n",
    "    start = i + 1\n",
    "    #x += 1"
   ]
  },
  {
   "cell_type": "code",
   "execution_count": 142,
   "metadata": {
    "collapsed": false
   },
   "outputs": [
    {
     "name": "stdout",
     "output_type": "stream",
     "text": [
      "[ 0.    0.    0.   ...,  0.    0.    0.06]\n",
      "[59.769999999999996, 0.0, 0.0, 1.4550000000000001, 6.4700000000000006, 0.0, 30.140000000000004, 0.0, 239.92499999999998, 0.0, 32.344999999999999, 0.19500000000000001, 1.095, 0.66000000000000003, 0.0, 0.0, 0.53000000000000003, 4.6400000000000006, 24.219999999999999, 11.039999999999999, 0.0, 0.0, 19.454999999999998, 5.4199999999999999, 16.149999999999999, 0.0, 11.120000000000001, 6.1400000000000006, 16.865000000000002, 0.0, 17.355, 15.790000000000001, 0.0, 14.264999999999999, 0.0, 32.030000000000001, 201.80000000000001, 0.0, 0.29000000000000004, 18.065000000000005, 5.5, 0.0, 0.0, 1.4850000000000001, 0.46000000000000002, 0.38500000000000001, 0.0, 1.54, 0.21500000000000002, 0.97000000000000008, 0.0, 1.6300000000000001, 0.78000000000000003, 0.0, 1.1850000000000001, 0.0, 0.66000000000000003, 0.0, 4.7300000000000004, 26.365000000000002, 9.6550000000000011, 0.0, 0.0, 28.925000000000001, 5.9550000000000001, 0.0, 31.620000000000001, 5.8650000000000002, 0.0, 37.289999999999999, 0.0, 12.254999999999999, 0.0, 6.1450000000000005, 16.859999999999999, 0.0, 25.740000000000002, 10.015000000000001, 0.0, 13.949999999999999, 0.0, 17.205000000000002, 5.5449999999999999, 7.665, 0.0, 17.745000000000001, 0.0, 17.609999999999999, 7.1149999999999993, 0.0, 16.805, 0.0]\n"
     ]
    }
   ],
   "source": [
    "# Stability Selection using Randomized Lasso\n",
    "\n",
    "rlasso = linear_model.RandomizedLogisticRegression(C=1)\n",
    "rlasso.fit(X,y)\n",
    "\n",
    "rlasso_score = rlasso.scores_\n",
    "\n",
    "x = 0\n",
    "start = 0\n",
    "prob_sum = []\n",
    "for i in encoder.n_values_ : \n",
    "    prob_sum.append(rlasso_score[start:i].sum())\n",
    "    start = i + 1\n",
    "\n",
    "print(rlasso_score)\n",
    "print(prob_sum)\n"
   ]
  },
  {
   "cell_type": "code",
   "execution_count": null,
   "metadata": {
    "collapsed": false
   },
   "outputs": [],
   "source": [
    "#Feature Selection - Greedy Algorithm (Wrapping)\n",
    "\n",
    "estimator = linear_model.LogisticRegression(C=1)\n",
    "selector = RFE(estimator)\n",
    "selector = selector.fit(X, y)\n",
    "selector.ranking_"
   ]
  },
  {
   "cell_type": "code",
   "execution_count": 149,
   "metadata": {
    "collapsed": false
   },
   "outputs": [
    {
     "name": "stdout",
     "output_type": "stream",
     "text": [
      "[0, 3, 4, 6, 8, 10, 11, 12, 13, 16, 17, 18, 19, 22, 23, 24, 26, 27, 28, 30, 31, 33, 35, 36, 38, 39, 40, 43, 44, 45, 47, 48, 49, 51, 52, 54, 56, 58, 59, 60, 63, 64, 66, 67, 69, 71, 73, 74, 76, 77, 79, 81, 82, 83, 85, 87, 88, 90]\n"
     ]
    },
    {
     "data": {
      "text/plain": [
       "['RESOURCE',\n",
       " 'ROLE_ROLLUP_2',\n",
       " 'ROLE_DEPTNAME',\n",
       " 'ROLE_FAMILY_DESC',\n",
       " 'ROLE_CODE',\n",
       " 'RESOURCE&ROLE_ROLLUP_1',\n",
       " 'RESOURCE&ROLE_ROLLUP_2',\n",
       " 'RESOURCE&ROLE_DEPTNAME',\n",
       " 'RESOURCE&ROLE_TITLE',\n",
       " 'MGR_ID&ROLE_ROLLUP_1',\n",
       " 'MGR_ID&ROLE_ROLLUP_2',\n",
       " 'MGR_ID&ROLE_DEPTNAME',\n",
       " 'MGR_ID&ROLE_TITLE',\n",
       " 'ROLE_ROLLUP_1&ROLE_ROLLUP_2',\n",
       " 'ROLE_ROLLUP_1&ROLE_DEPTNAME',\n",
       " 'ROLE_ROLLUP_1&ROLE_TITLE',\n",
       " 'ROLE_ROLLUP_1&ROLE_FAMILY',\n",
       " 'ROLE_ROLLUP_2&ROLE_DEPTNAME',\n",
       " 'ROLE_ROLLUP_2&ROLE_TITLE',\n",
       " 'ROLE_ROLLUP_2&ROLE_FAMILY',\n",
       " 'ROLE_DEPTNAME&ROLE_TITLE',\n",
       " 'ROLE_DEPTNAME&ROLE_FAMILY',\n",
       " 'ROLE_TITLE&ROLE_FAMILY',\n",
       " 'ROLE_FAMILY_DESC&ROLE_FAMILY',\n",
       " 'RESOURCE&MGR_ID&ROLE_ROLLUP_2',\n",
       " 'RESOURCE&MGR_ID&ROLE_DEPTNAME',\n",
       " 'RESOURCE&MGR_ID&ROLE_TITLE',\n",
       " 'RESOURCE&ROLE_ROLLUP_1&ROLE_ROLLUP_2',\n",
       " 'RESOURCE&ROLE_ROLLUP_1&ROLE_DEPTNAME',\n",
       " 'RESOURCE&ROLE_ROLLUP_1&ROLE_TITLE',\n",
       " 'RESOURCE&ROLE_ROLLUP_1&ROLE_FAMILY',\n",
       " 'RESOURCE&ROLE_ROLLUP_2&ROLE_DEPTNAME',\n",
       " 'RESOURCE&ROLE_ROLLUP_2&ROLE_TITLE',\n",
       " 'RESOURCE&ROLE_ROLLUP_2&ROLE_FAMILY',\n",
       " 'RESOURCE&ROLE_DEPTNAME&ROLE_TITLE',\n",
       " 'RESOURCE&ROLE_DEPTNAME&ROLE_FAMILY',\n",
       " 'RESOURCE&ROLE_TITLE&ROLE_FAMILY',\n",
       " 'MGR_ID&ROLE_ROLLUP_1&ROLE_ROLLUP_2',\n",
       " 'MGR_ID&ROLE_ROLLUP_1&ROLE_DEPTNAME',\n",
       " 'MGR_ID&ROLE_ROLLUP_1&ROLE_TITLE',\n",
       " 'MGR_ID&ROLE_ROLLUP_2&ROLE_DEPTNAME',\n",
       " 'MGR_ID&ROLE_ROLLUP_2&ROLE_TITLE',\n",
       " 'MGR_ID&ROLE_ROLLUP_2&ROLE_FAMILY',\n",
       " 'MGR_ID&ROLE_DEPTNAME&ROLE_TITLE',\n",
       " 'MGR_ID&ROLE_DEPTNAME&ROLE_FAMILY',\n",
       " 'MGR_ID&ROLE_TITLE&ROLE_FAMILY',\n",
       " 'ROLE_ROLLUP_1&ROLE_ROLLUP_2&ROLE_DEPTNAME',\n",
       " 'ROLE_ROLLUP_1&ROLE_ROLLUP_2&ROLE_TITLE',\n",
       " 'ROLE_ROLLUP_1&ROLE_ROLLUP_2&ROLE_FAMILY',\n",
       " 'ROLE_ROLLUP_1&ROLE_DEPTNAME&ROLE_TITLE',\n",
       " 'ROLE_ROLLUP_1&ROLE_DEPTNAME&ROLE_FAMILY',\n",
       " 'ROLE_ROLLUP_1&ROLE_TITLE&ROLE_FAMILY',\n",
       " 'ROLE_ROLLUP_1&ROLE_FAMILY_DESC&ROLE_FAMILY',\n",
       " 'ROLE_ROLLUP_2&ROLE_DEPTNAME&ROLE_TITLE',\n",
       " 'ROLE_ROLLUP_2&ROLE_DEPTNAME&ROLE_FAMILY',\n",
       " 'ROLE_ROLLUP_2&ROLE_TITLE&ROLE_FAMILY',\n",
       " 'ROLE_ROLLUP_2&ROLE_FAMILY_DESC&ROLE_FAMILY',\n",
       " 'ROLE_DEPTNAME&ROLE_TITLE&ROLE_FAMILY']"
      ]
     },
     "execution_count": 149,
     "metadata": {},
     "output_type": "execute_result"
    },
    {
     "data": {
      "image/png": "[encoded data removed]",
      "text/plain": [
       "<matplotlib.figure.Figure at 0x9516690>"
      ]
     },
     "metadata": {},
     "output_type": "display_data"
    }
   ],
   "source": [
    "# Pick out the most useful features\n",
    "\n",
    "sb.barplot(y=prob_sum,x=np.arange(92))\n",
    "#hsb = sb.hist(prob_sum,xlim=0.1)\n",
    "#Look at bar plot to see what threshold of the features to select\n",
    "ufeatures = []\n",
    "for i,j in enumerate(prob_sum):\n",
    "    if (j>0) : ufeatures.append(i)\n",
    "print(ufeatures)\n",
    "[header[i] for i in ufeatures]"
   ]
  },
  {
   "cell_type": "code",
   "execution_count": 163,
   "metadata": {
    "collapsed": false
   },
   "outputs": [
    {
     "name": "stdout",
     "output_type": "stream",
     "text": [
      "[0, 1, 7, 8, 9, 10, 36, 37, 38, 41, 42, 43, 47, 51, 53, 56, 60, 61, 63, 64, 66, 67, 69, 71, 75, 79, 85, 91]\n"
     ]
    }
   ],
   "source": [
    "# Kaggle Greedy Algorithm result\n",
    "#ufeatures = [0, 8, 9, 10, 19, 34, 36, 37, 38, 41, 42, 43, 47, 53, 55, 60, 61, 63, 64, 67, 69, 71, 75, 81, 82, 85]\n",
    "ufeatures = [0, 1, 7, 8, 9, 10, 36, 37, 38, 41, 42, 43, 47, 51, 53, 56, 60, 61, 63, 64, 66, 67, 69, 71, 75, 79, 85, 91]\n",
    "print(ufeatures)"
   ]
  },
  {
   "cell_type": "code",
   "execution_count": 164,
   "metadata": {
    "collapsed": false
   },
   "outputs": [
    {
     "name": "stdout",
     "output_type": "stream",
     "text": [
      "(32769, 688468)\n",
      "(58921, 688468)\n"
     ]
    }
   ],
   "source": [
    "#OneHotEncoder for the best features only\n",
    "\n",
    "encode_bfeat = preprocessing.OneHotEncoder(dtype=np.uint32)\n",
    "# we want to encode the category IDs encountered both in\n",
    "# the training and the test set, so we fit the encoder on both\n",
    "encode_bfeat.fit(data[:,ufeatures])\n",
    "X = encode_bfeat.transform(data[:test_offset,ufeatures])\n",
    "X_test = encode_bfeat.transform(data[test_offset:,ufeatures])\n",
    "print(X.shape)\n",
    "print(X_test.shape)"
   ]
  },
  {
   "cell_type": "code",
   "execution_count": 229,
   "metadata": {
    "collapsed": false
   },
   "outputs": [
    {
     "name": "stdout",
     "output_type": "stream",
     "text": [
      "AUC (fold 1/10): 0.815973\n",
      "AUC (fold 2/10): 0.805022\n",
      "AUC (fold 3/10): 0.808922\n",
      "AUC (fold 4/10): 0.805295\n",
      "AUC (fold 5/10): 0.803692\n",
      "AUC (fold 6/10): 0.810595\n",
      "AUC (fold 7/10): 0.795956\n",
      "AUC (fold 8/10): 0.804126\n",
      "AUC (fold 9/10): 0.809816\n",
      "AUC (fold 10/10): 0.796265\n",
      "Mean AUC: 0.805566\n"
     ]
    }
   ],
   "source": [
    "SEED = 42\n",
    "mean_auc = 0.0\n",
    "\n",
    "n = 10  # repeat the CV procedure 10 times to get more precise results\n",
    "model = ensemble.RandomForestClassifier(criterion='entropy')\n",
    "#model = linear_model.LogisticRegression(C=1,penalty='l2',class_weight='balanced')\n",
    "#model = BernoulliNB(alpha=0.005)\n",
    "#model = ensemble.ExtraTreesClassifier(criterion='entropy',n_jobs=-1,verbose=1)\n",
    "for i in range(n):\n",
    "    # for each iteration, randomly hold out 20% of the data as CV set\n",
    "    X_train, X_cv, y_train, y_cv = cross_validation.train_test_split(X, y, test_size=.20, random_state=i*SEED)\n",
    "\n",
    "    # if you want to perform feature selection / hyperparameter\n",
    "    # optimization, this is where you want to do it\n",
    "\n",
    "    # train model and make predictions\n",
    "    model.fit(X_train, y_train) \n",
    "    preds = model.predict_proba(X_cv)[:, 1]\n",
    "\n",
    "    # compute AUC metric for this CV fold\n",
    "    fpr, tpr, thresholds = metrics.roc_curve(y_cv, preds)\n",
    "    roc_auc = metrics.auc(fpr, tpr)\n",
    "    print(\"AUC (fold %d/%d): %f\" % (i + 1, n, roc_auc))\n",
    "    mean_auc += roc_auc\n",
    "\n",
    "print(\"Mean AUC: %f\" % (mean_auc/n))\n",
    "\n",
    "# === Predictions === #\n",
    "# When making predictions, retrain the model on the whole training set\n",
    "model.fit(X, y)\n",
    "preds = model.predict_proba(X_test)[:, 1]\n",
    "save_results(preds, \"submit.csv\")"
   ]
  },
  {
   "cell_type": "code",
   "execution_count": null,
   "metadata": {
    "collapsed": true
   },
   "outputs": [],
   "source": [
    "# Numpy Operations\n",
    "# print(np.fromiter(t_data[0],np.int32))\n",
    "# print(np.fromiter(t_data[1],np.int32))\n",
    "# print(np.fromiter(t_data[2],np.int32))\n",
    "# print(np.fromiter(t_data[3],np.int32))\n",
    "# print(np.fromiter(t_data[4],np.int32))\n",
    "# print(np.fromiter(t_data[5],np.int32))\n",
    "\n",
    "# Convert to numpy array - Use np.array(list)\n",
    "# for i in nparray - iterate through rows\n",
    "# for i in nparray.T - iterate through columns\n",
    "# Initialize np.zeros(5)\n",
    "\n",
    "# To view generator operators (Use list,tuples)\n",
    "# for i,j in enumerate(t_data):\n",
    "#     #lst_array[i] = np.array(list(j))\n",
    "#     lst_array[i] = np.fromiter(j,np.float)"
   ]
  },
  {
   "cell_type": "markdown",
   "metadata": {},
   "source": [
    "AUC = Logistic Regression returns the probability that a certain input features would be in a certain class\n",
    "ROC curve visualizaes all possible thresholds\n",
    "Misclassification rate is error rate for a single threshold\n",
    "\n",
    "\n",
    "Attempt with original features only : CV : ... , Public : 0.88515, Private : 0.88205\n",
    "\n",
    "Attempt with original features + combination of 3 : CV : 0.886375 , Public : 0.90141, Private 0.89582 \n",
    "ExtraTreeClassifier = submit_etc.csv\n",
    "\n",
    "\n",
    "Attempt with original features + combination of 3 : CV : 0.886375 , Public : 0.90141, Private 0.89582 \n",
    "Logistic C=1, class_weight='balanced',penalty='l2' = submit_c3.csv\n",
    "\n",
    "Attempt with DTC selected features : CV :  0.886555 (threshold >0) , Public : , Private \n",
    "j>0.001 or 0 \n",
    "Logistic\n",
    "\n",
    "Attempt with Random Lasso  : CV : 0.886439   , Public : , Private \n",
    "j>0\n",
    "Logistic C=1, class_weight='balanced',penalty='l2' = submit_rl.csv\n",
    "\n",
    "Cheat Sheet from Kaggle, CV : 0.895952\n",
    "Logistic C=1, class_weight='balanced',penalty='l2' = submit_kc.csv"
   ]
  },
  {
   "cell_type": "code",
   "execution_count": 29,
   "metadata": {
    "collapsed": false
   },
   "outputs": [],
   "source": [
    "# Testing Random Forest Tree\n",
    "rf_head = [0,1,22,4,6,35]\n",
    "#rf_head = [0,1,22]\n",
    "rf_data = pd.DataFrame(data[:1000,:])\n",
    "rf_data = rf_data[rf_head]\n",
    "rf_data.columns = [header[i] for i in rf_head]"
   ]
  },
  {
   "cell_type": "code",
   "execution_count": null,
   "metadata": {
    "collapsed": false
   },
   "outputs": [],
   "source": [
    "#https://www.kaggle.com/c/caterpillar-tube-pricing/forums/t/15748/strategies-to-encode-categorical-variables-with-many-categories\n",
    "#Count/Freq\n",
    "for col in rf_data.columns:\n",
    "    rf_data['cnt'+col] = 0\n",
    "    groups = rf_data.groupby([col])\n",
    "    # gid is the grouped col id, group is the actionable pandas data structure\n",
    "    for gid, group in groups:\n",
    "        #Count total number of rows with the same (MGR_ID,RESOURCE_ID etc) in the entire dataset\n",
    "        count = group[col].count()\n",
    "        #For all rows with the same \"MGR_ID\"/\"RESOURCE_ID\" , put the same count calculated in the previous step\n",
    "        rf_data['cnt'+col].ix[group.index] = count \n",
    "    #rf_data['cnt'+col] = rf_data['cnt'+col].apply(np.log) # could check if this is neccesary, I think probably not\n",
    "    \n",
    "# Percent of dept that is this resource\n",
    "for col in rf_data.columns[1:6]:\n",
    "    rf_data['Duse'+col] = 0.0\n",
    "    groups = rf_data.groupby([col])\n",
    "    for name, group in groups:\n",
    "        grps = group.groupby(['RESOURCE'])\n",
    "        for rsrc, grp in grps:\n",
    "            rf_data['Duse'+col].ix[grp.index] = float(len(grp.index)) / float(len(group.index) )\n",
    "\n",
    "# Number of resources that a manager manages\n",
    "# for col in rf_data.columns[0:1]:\n",
    "#     rf_data['Mdeps'+col] = 0\n",
    "#     groups = rf_data.groupby(['MGR_ID'])\n",
    "#     for name, group in groups:\n",
    "#         rf_data['Mdeps'+col].ix[group.index] = len(group[col].unique())"
   ]
  },
  {
   "cell_type": "code",
   "execution_count": 33,
   "metadata": {
    "collapsed": false
   },
   "outputs": [
    {
     "name": "stdout",
     "output_type": "stream",
     "text": [
      "RESOURCE\n"
     ]
    }
   ],
   "source": [
    ")"
   ]
  },
  {
   "cell_type": "code",
   "execution_count": null,
   "metadata": {
    "collapsed": true
   },
   "outputs": [],
   "source": []
  }
 ],
 "metadata": {
  "kernelspec": {
   "display_name": "Python 3",
   "language": "python",
   "name": "python3"
  },
  "language_info": {
   "codemirror_mode": {
    "name": "ipython",
    "version": 3
   },
   "file_extension": ".py",
   "mimetype": "text/x-python",
   "name": "python",
   "nbconvert_exporter": "python",
   "pygments_lexer": "ipython3",
   "version": "3.5.1"
  }
 },
 "nbformat": 4,
 "nbformat_minor": 0
}
