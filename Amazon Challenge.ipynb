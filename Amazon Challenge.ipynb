{
 "cells": [
  {
   "cell_type": "markdown",
   "metadata": {},
   "source": [
    "*Role Title and Role Code are similar based on pandas\n",
    "*Instead of using hashing, can consider cantor(m,n) = 1/2 * (m+n)(m+n+1)+m. Beware of hash collision\n",
    "*PCA / SVD are more suited for continuous values. For discrete variables, consider using MCA\n",
    "1. Feature Extraction - Using Genetic Algorithm / Greedy Algorithm [sklearn.feature_selection.RFE, RFECV , Gradient Boosting\n",
    "2. Try using Stacked Classifier \n",
    "  * np.mean\n",
    "  * weighted mean\n",
    "  * jaccard score\n",
    "  * pass the results from each classifer into another RF / Linear Regression\n",
    "3. Data Exploratory - Find if train has more classes compared to test ? \n",
    "4. Try to run on Spark\n",
    "5. Stratified K Fold Cross Validation"
   ]
  },
  {
   "cell_type": "code",
   "execution_count": 1,
   "metadata": {
    "collapsed": false,
    "scrolled": true
   },
   "outputs": [],
   "source": [
    "import pandas as pd\n",
    "from pivottablejs import pivot_ui\n",
    "import seaborn as sb\n",
    "import matplotlib.pyplot as plt  \n",
    "from ipywidgets import widgets\n",
    "import numpy as np\n",
    "from sklearn import (metrics, cross_validation, linear_model, preprocessing)\n",
    "from sklearn.naive_bayes import BernoulliNB\n",
    "from sklearn.ensemble import (GradientBoostingClassifier)\n",
    "from sklearn.tree import DecisionTreeClassifier\n",
    "from sklearn.feature_selection import RFE\n",
    "from sklearn import ensemble\n",
    "from itertools import combinations\n",
    "import pickle\n",
    "\n",
    "%matplotlib inline\n",
    "\n",
    "sb.set(style=\"ticks\", color_codes=True)\n",
    "df = pd.read_csv('train.csv')\n",
    "dft = pd.read_csv('test.csv')\n",
    "#g = sb.pairplot(df)"
   ]
  },
  {
   "cell_type": "code",
   "execution_count": null,
   "metadata": {
    "collapsed": false
   },
   "outputs": [],
   "source": [
    "#Observation Only\n",
    "df.head()"
   ]
  },
  {
   "cell_type": "code",
   "execution_count": null,
   "metadata": {
    "collapsed": false
   },
   "outputs": [],
   "source": [
    "#len(df['RESOURCE'].value_counts())\n",
    "#df['RESOURCE'].plot.hist(bins=7518)\n",
    "\n",
    "#dfc = df.iloc[:,1:10] \n",
    "dfc = df.iloc[:,:]\n",
    "for col in df.columns:\n",
    "  dfc[col] = df[col].astype('category')\n",
    "\n",
    "dfc.describe()\n"
   ]
  },
  {
   "cell_type": "code",
   "execution_count": null,
   "metadata": {
    "collapsed": false,
    "scrolled": true
   },
   "outputs": [],
   "source": [
    "#Observation Only\n",
    "#test = pd.pivot_table(dfc,index=['ROLE_TITLE','ROLE_CODE'],aggfunc='count',dropna=True)\n",
    "#dfc.pivot_table(index='ROLE_TITLE',aggfunc=lambda x:len(x.unique()))\n",
    "mult = {}\n",
    "for c in df.columns:\n",
    "    temp = df.pivot_table(index=c,aggfunc=lambda x:len(x.unique()),fill_value=0).apply(np.max)\n",
    "    mult[c] = temp\n",
    "\n",
    "multpd = pd.DataFrame(mult)\n"
   ]
  },
  {
   "cell_type": "code",
   "execution_count": null,
   "metadata": {
    "collapsed": true
   },
   "outputs": [],
   "source": [
    "def save_results(predictions, filename):\n",
    "    \"\"\"Given a vector of predictions, save results in CSV format.\"\"\"\n",
    "    with open(filename, 'w') as f:\n",
    "        f.write(\"id,ACTION\\n\")\n",
    "        for i, pred in enumerate(predictions):\n",
    "            f.write(\"%d,%f\\n\" % (i + 1, pred))\n"
   ]
  },
  {
   "cell_type": "code",
   "execution_count": null,
   "metadata": {
    "collapsed": false
   },
   "outputs": [],
   "source": [
    "def cantor(pairs):\n",
    "    result2 = 0.5 * (pairs[0] + pairs[1]) * (pairs[0] + pairs[1] +1) + pairs[1]\n",
    "    if(len(pairs) == 2): \n",
    "        return result2\n",
    "    if(len(pairs) == 3 ):\n",
    "        result3 = 0.5 * (result2 + pairs[2]) * (result2 + pairs[2] +1) + pairs[2]\n",
    "        return result3\n",
    "    "
   ]
  },
  {
   "cell_type": "code",
   "execution_count": null,
   "metadata": {
    "collapsed": false
   },
   "outputs": [],
   "source": [
    "# Convert from dataframe to np.array\n",
    "y = np.ravel(df.iloc[:,:1])\n",
    "X = np.array(df.iloc[:,1:9])\n",
    "X_test = np.array(dft.iloc[:,1:9])\n",
    "header = list(df.columns[1:])\n",
    "\n",
    "data = np.vstack((X,X_test))"
   ]
  },
  {
   "cell_type": "code",
   "execution_count": null,
   "metadata": {
    "collapsed": false
   },
   "outputs": [],
   "source": [
    "# yc = combinations(range(n),2)\n",
    "# to view all the combinations\n",
    "# list(yc) \n",
    "\n",
    "#train data[:32769,:]\n",
    "#test data[32769:,:]\n",
    "#tuple is used here so that the result is hashable\n",
    "\n",
    "test_offset = 32769\n",
    "# Get Combinations of 2 features \n",
    "for indices in combinations(range(8),2):\n",
    "    #data = np.column_stack((data,list(ctypes.c_size_t(hash(tuple(v))).value for v in data[:,indices]))) \n",
    "    #data = np.column_stack((data,list(np.uint64(hash(tuple(v))) for v in data[:,indices]))) \n",
    "    #data = np.column_stack((data,list(hash(tuple(v)) for v in data[:,indices]))) \n",
    "    data = np.column_stack((data,list(cantor(tuple(v)) for v in data[:,indices]))) \n",
    "    a,b = indices\n",
    "    header.append(header[a] +\"&\"+ header[b])\n",
    "print('2 Combinations')\n",
    "print(data.shape)\n",
    "print(np.any(data < 0))\n",
    "print(np.ndarray.min(data))\n",
    "print(np.ndarray.max(data))\n",
    "    \n",
    "# Get Combinations of 3 features \n",
    "for indices in combinations(range(8),3):\n",
    "    data = np.column_stack((data,list(cantor(tuple(v)) for v in data[:,indices]))) \n",
    "    a,b,c = indices\n",
    "    header.append(header[a] +\"&\"+ header[b]+ \"&\" + header[c])\n",
    "\n",
    "    \n",
    "#Check loaded correctly with non-zero elements    \n",
    "print('3 Combinations')\n",
    "print(data.shape)\n",
    "print(np.any(data < 0))\n",
    "print(np.ndarray.min(data))\n",
    "print(np.ndarray.max(data))"
   ]
  },
  {
   "cell_type": "code",
   "execution_count": null,
   "metadata": {
    "collapsed": false
   },
   "outputs": [],
   "source": [
    "\n",
    "\n",
    "# Simplify the encoding. Probably not essential. Could possibly improve performance\n",
    "# Vertical Stacking is required so that all the features are captured. There might be some features in test set not in train set\n",
    "\n",
    "le = preprocessing.LabelEncoder()\n",
    "data_e = []\n",
    "# To perform column wise operations, use Transpose function\n",
    "for i in data.T:\n",
    "    le.fit(i)\n",
    "    data_e.append(le.transform(i))\n",
    "\n",
    "data = np.asarray(data_e).T\n",
    "\n",
    "print(np.any(data < 0))\n",
    "print(np.ndarray.min(data))\n",
    "print(np.ndarray.max(data))\n",
    "\n"
   ]
  },
  {
   "cell_type": "code",
   "execution_count": null,
   "metadata": {
    "collapsed": false
   },
   "outputs": [],
   "source": [
    "# #Code to help Visualize what the algorithm is doing \n",
    "# t_data = []\n",
    "# test_data = np.array([[1,2,3,4],[1,2,2,0],[1,2,3,4],[1,4,5,6],[2,3,4,5]])\n",
    "# print(test_data.shape)\n",
    "\n",
    "# #if the combination of categories are the same, they will be hashed to the same value. Eg 1 row with (0,1,0) will have same \n",
    "# #hash value of another row with (0,1,0)\n",
    "# for indices in combinations(range(4),2):\n",
    "#     t_data.append(hash(tuple(v)) for v in test_data[:,indices])\n",
    "#     #print(v for v in test_data[:,indices])\n",
    "#     print(indices)\n",
    "    \n",
    "# #Comparison 1 - Combinations are (0,1),(0,2),(0,3),(1,2),(1,3),(2,3)\n",
    "# # for v in test_data[:,(0,1)]:\n",
    "# #   print(hash(tuple(v)))\n",
    "\n",
    "# #Comparison 2 - t_data[0] corresponds to (0,1)\n",
    "# #tuple(t_data[0])"
   ]
  },
  {
   "cell_type": "code",
   "execution_count": 139,
   "metadata": {
    "collapsed": false
   },
   "outputs": [
    {
     "name": "stdout",
     "output_type": "stream",
     "text": [
      "(32769, 1595040)\n",
      "(58921, 1595040)\n"
     ]
    }
   ],
   "source": [
    "#Initial Encoding\n",
    "\n",
    "encoder = preprocessing.OneHotEncoder(dtype=np.uint32)\n",
    "# we want to encode the category IDs encountered both in\n",
    "# the training and the test set, so we fit the encoder on both\n",
    "encoder.fit(data)\n",
    "X = encoder.transform(data[:test_offset,:])\n",
    "X_test = encoder.transform(data[test_offset:,:])\n",
    "print(X.shape)\n",
    "print(X_test.shape)\n",
    "\n",
    "# encoder = preprocessing.OneHotEncoder()\n",
    "# encoder.fit(data)\n",
    "# X = encoder.transform(X)\n",
    "# X_test = encoder.transform(X_test)"
   ]
  },
  {
   "cell_type": "code",
   "execution_count": null,
   "metadata": {
    "collapsed": false
   },
   "outputs": [],
   "source": [
    "print(\"Total One Hot Features\",encoder.active_features_)\n",
    "print(\"Boundaries of each Feature\",len(encoder.feature_indices_),encoder.feature_indices_)\n",
    "print(\"Number of unique values in each feature\",len(encoder.n_values_),encoder.n_values_)\n",
    "# print(np.unique(data[:,0]))\n",
    "# print(np.unique(data[:,1]))\n",
    "sb.barplot(x=np.arange(92),y=encoder.n_values_)\n"
   ]
  },
  {
   "cell_type": "code",
   "execution_count": 106,
   "metadata": {
    "collapsed": false
   },
   "outputs": [
    {
     "name": "stdout",
     "output_type": "stream",
     "text": [
      "Stored 'test_offset' (int)\n"
     ]
    }
   ],
   "source": [
    "#inside a ipython/nb session\n",
    "# %store encoder\n",
    "# %store data\n",
    "# %store X\n",
    "# %store X_test\n",
    "# %store y\n",
    "# %store features\n",
    "# %store header\n",
    "# %store test_offset\n",
    "\n",
    "# %store -r encoder\n",
    "# %store -r data\n",
    "# %store -r X\n",
    "# %store -r X_test\n",
    "# %store -r y\n",
    "# %store -r features\n",
    "# %store -r header\n",
    "# %store -r test_offset\n"
   ]
  },
  {
   "cell_type": "code",
   "execution_count": 7,
   "metadata": {
    "collapsed": false
   },
   "outputs": [
    {
     "name": "stdout",
     "output_type": "stream",
     "text": [
      "[ 0.          0.          0.         ...,  0.          0.          0.00328731]\n"
     ]
    }
   ],
   "source": [
    "#Feature Selection - Gradient Boosting (Filtering)\n",
    "dtc = DecisionTreeClassifier(criterion='entropy')\n",
    "dtc.fit(X,y)\n",
    "print(dtc.feature_importances_)\n",
    "features = dtc.feature_importances_\n",
    "\n",
    "#sb.distplot(feat,bins=100)\n",
    "#print(np.argmax(features),np.max(features))\n",
    "# Sum features in the same bin as defined by encoder.n_values_\n",
    "x = 0\n",
    "start = 0\n",
    "prob_sum = []\n",
    "#prob_ref = dict()\n",
    "for i in encoder.n_values_ : \n",
    "    prob = features[start:i].sum()\n",
    "    prob_sum.append(prob)\n",
    "    #prob_ref[header[x]] = prob \n",
    "    start = i + 1\n",
    "    #x += 1"
   ]
  },
  {
   "cell_type": "code",
   "execution_count": 142,
   "metadata": {
    "collapsed": false
   },
   "outputs": [
    {
     "name": "stdout",
     "output_type": "stream",
     "text": [
      "[ 0.    0.    0.   ...,  0.    0.    0.06]\n",
      "[59.769999999999996, 0.0, 0.0, 1.4550000000000001, 6.4700000000000006, 0.0, 30.140000000000004, 0.0, 239.92499999999998, 0.0, 32.344999999999999, 0.19500000000000001, 1.095, 0.66000000000000003, 0.0, 0.0, 0.53000000000000003, 4.6400000000000006, 24.219999999999999, 11.039999999999999, 0.0, 0.0, 19.454999999999998, 5.4199999999999999, 16.149999999999999, 0.0, 11.120000000000001, 6.1400000000000006, 16.865000000000002, 0.0, 17.355, 15.790000000000001, 0.0, 14.264999999999999, 0.0, 32.030000000000001, 201.80000000000001, 0.0, 0.29000000000000004, 18.065000000000005, 5.5, 0.0, 0.0, 1.4850000000000001, 0.46000000000000002, 0.38500000000000001, 0.0, 1.54, 0.21500000000000002, 0.97000000000000008, 0.0, 1.6300000000000001, 0.78000000000000003, 0.0, 1.1850000000000001, 0.0, 0.66000000000000003, 0.0, 4.7300000000000004, 26.365000000000002, 9.6550000000000011, 0.0, 0.0, 28.925000000000001, 5.9550000000000001, 0.0, 31.620000000000001, 5.8650000000000002, 0.0, 37.289999999999999, 0.0, 12.254999999999999, 0.0, 6.1450000000000005, 16.859999999999999, 0.0, 25.740000000000002, 10.015000000000001, 0.0, 13.949999999999999, 0.0, 17.205000000000002, 5.5449999999999999, 7.665, 0.0, 17.745000000000001, 0.0, 17.609999999999999, 7.1149999999999993, 0.0, 16.805, 0.0]\n"
     ]
    }
   ],
   "source": [
    "# Stability Selection using Randomized Lasso\n",
    "\n",
    "rlasso = linear_model.RandomizedLogisticRegression(C=1)\n",
    "rlasso.fit(X,y)\n",
    "\n",
    "rlasso_score = rlasso.scores_\n",
    "\n",
    "x = 0\n",
    "start = 0\n",
    "prob_sum = []\n",
    "for i in encoder.n_values_ : \n",
    "    prob_sum.append(rlasso_score[start:i].sum())\n",
    "    start = i + 1\n",
    "\n",
    "print(rlasso_score)\n",
    "print(prob_sum)\n"
   ]
  },
  {
   "cell_type": "code",
   "execution_count": 149,
   "metadata": {
    "collapsed": false
   },
   "outputs": [
    {
     "name": "stdout",
     "output_type": "stream",
     "text": [
      "[0, 3, 4, 6, 8, 10, 11, 12, 13, 16, 17, 18, 19, 22, 23, 24, 26, 27, 28, 30, 31, 33, 35, 36, 38, 39, 40, 43, 44, 45, 47, 48, 49, 51, 52, 54, 56, 58, 59, 60, 63, 64, 66, 67, 69, 71, 73, 74, 76, 77, 79, 81, 82, 83, 85, 87, 88, 90]\n"
     ]
    },
    {
     "data": {
      "text/plain": [
       "['RESOURCE',\n",
       " 'ROLE_ROLLUP_2',\n",
       " 'ROLE_DEPTNAME',\n",
       " 'ROLE_FAMILY_DESC',\n",
       " 'ROLE_CODE',\n",
       " 'RESOURCE&ROLE_ROLLUP_1',\n",
       " 'RESOURCE&ROLE_ROLLUP_2',\n",
       " 'RESOURCE&ROLE_DEPTNAME',\n",
       " 'RESOURCE&ROLE_TITLE',\n",
       " 'MGR_ID&ROLE_ROLLUP_1',\n",
       " 'MGR_ID&ROLE_ROLLUP_2',\n",
       " 'MGR_ID&ROLE_DEPTNAME',\n",
       " 'MGR_ID&ROLE_TITLE',\n",
       " 'ROLE_ROLLUP_1&ROLE_ROLLUP_2',\n",
       " 'ROLE_ROLLUP_1&ROLE_DEPTNAME',\n",
       " 'ROLE_ROLLUP_1&ROLE_TITLE',\n",
       " 'ROLE_ROLLUP_1&ROLE_FAMILY',\n",
       " 'ROLE_ROLLUP_2&ROLE_DEPTNAME',\n",
       " 'ROLE_ROLLUP_2&ROLE_TITLE',\n",
       " 'ROLE_ROLLUP_2&ROLE_FAMILY',\n",
       " 'ROLE_DEPTNAME&ROLE_TITLE',\n",
       " 'ROLE_DEPTNAME&ROLE_FAMILY',\n",
       " 'ROLE_TITLE&ROLE_FAMILY',\n",
       " 'ROLE_FAMILY_DESC&ROLE_FAMILY',\n",
       " 'RESOURCE&MGR_ID&ROLE_ROLLUP_2',\n",
       " 'RESOURCE&MGR_ID&ROLE_DEPTNAME',\n",
       " 'RESOURCE&MGR_ID&ROLE_TITLE',\n",
       " 'RESOURCE&ROLE_ROLLUP_1&ROLE_ROLLUP_2',\n",
       " 'RESOURCE&ROLE_ROLLUP_1&ROLE_DEPTNAME',\n",
       " 'RESOURCE&ROLE_ROLLUP_1&ROLE_TITLE',\n",
       " 'RESOURCE&ROLE_ROLLUP_1&ROLE_FAMILY',\n",
       " 'RESOURCE&ROLE_ROLLUP_2&ROLE_DEPTNAME',\n",
       " 'RESOURCE&ROLE_ROLLUP_2&ROLE_TITLE',\n",
       " 'RESOURCE&ROLE_ROLLUP_2&ROLE_FAMILY',\n",
       " 'RESOURCE&ROLE_DEPTNAME&ROLE_TITLE',\n",
       " 'RESOURCE&ROLE_DEPTNAME&ROLE_FAMILY',\n",
       " 'RESOURCE&ROLE_TITLE&ROLE_FAMILY',\n",
       " 'MGR_ID&ROLE_ROLLUP_1&ROLE_ROLLUP_2',\n",
       " 'MGR_ID&ROLE_ROLLUP_1&ROLE_DEPTNAME',\n",
       " 'MGR_ID&ROLE_ROLLUP_1&ROLE_TITLE',\n",
       " 'MGR_ID&ROLE_ROLLUP_2&ROLE_DEPTNAME',\n",
       " 'MGR_ID&ROLE_ROLLUP_2&ROLE_TITLE',\n",
       " 'MGR_ID&ROLE_ROLLUP_2&ROLE_FAMILY',\n",
       " 'MGR_ID&ROLE_DEPTNAME&ROLE_TITLE',\n",
       " 'MGR_ID&ROLE_DEPTNAME&ROLE_FAMILY',\n",
       " 'MGR_ID&ROLE_TITLE&ROLE_FAMILY',\n",
       " 'ROLE_ROLLUP_1&ROLE_ROLLUP_2&ROLE_DEPTNAME',\n",
       " 'ROLE_ROLLUP_1&ROLE_ROLLUP_2&ROLE_TITLE',\n",
       " 'ROLE_ROLLUP_1&ROLE_ROLLUP_2&ROLE_FAMILY',\n",
       " 'ROLE_ROLLUP_1&ROLE_DEPTNAME&ROLE_TITLE',\n",
       " 'ROLE_ROLLUP_1&ROLE_DEPTNAME&ROLE_FAMILY',\n",
       " 'ROLE_ROLLUP_1&ROLE_TITLE&ROLE_FAMILY',\n",
       " 'ROLE_ROLLUP_1&ROLE_FAMILY_DESC&ROLE_FAMILY',\n",
       " 'ROLE_ROLLUP_2&ROLE_DEPTNAME&ROLE_TITLE',\n",
       " 'ROLE_ROLLUP_2&ROLE_DEPTNAME&ROLE_FAMILY',\n",
       " 'ROLE_ROLLUP_2&ROLE_TITLE&ROLE_FAMILY',\n",
       " 'ROLE_ROLLUP_2&ROLE_FAMILY_DESC&ROLE_FAMILY',\n",
       " 'ROLE_DEPTNAME&ROLE_TITLE&ROLE_FAMILY']"
      ]
     },
     "execution_count": 149,
     "metadata": {},
     "output_type": "execute_result"
    },
    {
     "data": {
      "image/png": "[encoded data removed]",
      "text/plain": [
       "<matplotlib.figure.Figure at 0x9516690>"
      ]
     },
     "metadata": {},
     "output_type": "display_data"
    }
   ],
   "source": [
    "sb.barplot(y=prob_sum,x=np.arange(92))\n",
    "#hsb = sb.hist(prob_sum,xlim=0.1)\n",
    "#Look at bar plot to see what threshold of the features to select\n",
    "ufeatures = []\n",
    "for i,j in enumerate(prob_sum):\n",
    "    if (j>0) : ufeatures.append(i)\n",
    "print(ufeatures)\n",
    "[header[i] for i in ufeatures]"
   ]
  },
  {
   "cell_type": "code",
   "execution_count": null,
   "metadata": {
    "collapsed": false
   },
   "outputs": [],
   "source": [
    "#Feature Selection - Greedy Algorithm (Wrapping)\n",
    "\n",
    "estimator = linear_model.LogisticRegression(C=1)\n",
    "selector = RFE(estimator)\n",
    "selector = selector.fit(X, y)\n",
    "selector.ranking_"
   ]
  },
  {
   "cell_type": "code",
   "execution_count": 133,
   "metadata": {
    "collapsed": false
   },
   "outputs": [
    {
     "name": "stdout",
     "output_type": "stream",
     "text": [
      "[0, 3, 4, 6, 8, 10, 11, 12, 13, 16, 17, 18, 19, 22, 23, 24, 26, 27, 28, 30, 31, 33, 35, 36, 37, 38, 39, 40, 43, 44, 45, 47, 48, 49, 51, 52, 54, 56, 58, 59, 60, 63, 64, 66, 67, 69, 71, 73, 74, 76, 77, 79, 81, 82, 83, 85, 87, 88, 90]\n"
     ]
    },
    {
     "data": {
      "text/plain": [
       "['RESOURCE',\n",
       " 'ROLE_ROLLUP_2',\n",
       " 'ROLE_DEPTNAME',\n",
       " 'ROLE_FAMILY_DESC',\n",
       " 'ROLE_CODE',\n",
       " 'RESOURCE&ROLE_ROLLUP_1',\n",
       " 'RESOURCE&ROLE_ROLLUP_2',\n",
       " 'RESOURCE&ROLE_DEPTNAME',\n",
       " 'RESOURCE&ROLE_TITLE',\n",
       " 'MGR_ID&ROLE_ROLLUP_1',\n",
       " 'MGR_ID&ROLE_ROLLUP_2',\n",
       " 'MGR_ID&ROLE_DEPTNAME',\n",
       " 'MGR_ID&ROLE_TITLE',\n",
       " 'ROLE_ROLLUP_1&ROLE_ROLLUP_2',\n",
       " 'ROLE_ROLLUP_1&ROLE_DEPTNAME',\n",
       " 'ROLE_ROLLUP_1&ROLE_TITLE',\n",
       " 'ROLE_ROLLUP_1&ROLE_FAMILY',\n",
       " 'ROLE_ROLLUP_2&ROLE_DEPTNAME',\n",
       " 'ROLE_ROLLUP_2&ROLE_TITLE',\n",
       " 'ROLE_ROLLUP_2&ROLE_FAMILY',\n",
       " 'ROLE_DEPTNAME&ROLE_TITLE',\n",
       " 'ROLE_DEPTNAME&ROLE_FAMILY',\n",
       " 'ROLE_TITLE&ROLE_FAMILY',\n",
       " 'ROLE_FAMILY_DESC&ROLE_FAMILY',\n",
       " 'RESOURCE&MGR_ID&ROLE_ROLLUP_1',\n",
       " 'RESOURCE&MGR_ID&ROLE_ROLLUP_2',\n",
       " 'RESOURCE&MGR_ID&ROLE_DEPTNAME',\n",
       " 'RESOURCE&MGR_ID&ROLE_TITLE',\n",
       " 'RESOURCE&ROLE_ROLLUP_1&ROLE_ROLLUP_2',\n",
       " 'RESOURCE&ROLE_ROLLUP_1&ROLE_DEPTNAME',\n",
       " 'RESOURCE&ROLE_ROLLUP_1&ROLE_TITLE',\n",
       " 'RESOURCE&ROLE_ROLLUP_1&ROLE_FAMILY',\n",
       " 'RESOURCE&ROLE_ROLLUP_2&ROLE_DEPTNAME',\n",
       " 'RESOURCE&ROLE_ROLLUP_2&ROLE_TITLE',\n",
       " 'RESOURCE&ROLE_ROLLUP_2&ROLE_FAMILY',\n",
       " 'RESOURCE&ROLE_DEPTNAME&ROLE_TITLE',\n",
       " 'RESOURCE&ROLE_DEPTNAME&ROLE_FAMILY',\n",
       " 'RESOURCE&ROLE_TITLE&ROLE_FAMILY',\n",
       " 'MGR_ID&ROLE_ROLLUP_1&ROLE_ROLLUP_2',\n",
       " 'MGR_ID&ROLE_ROLLUP_1&ROLE_DEPTNAME',\n",
       " 'MGR_ID&ROLE_ROLLUP_1&ROLE_TITLE',\n",
       " 'MGR_ID&ROLE_ROLLUP_2&ROLE_DEPTNAME',\n",
       " 'MGR_ID&ROLE_ROLLUP_2&ROLE_TITLE',\n",
       " 'MGR_ID&ROLE_ROLLUP_2&ROLE_FAMILY',\n",
       " 'MGR_ID&ROLE_DEPTNAME&ROLE_TITLE',\n",
       " 'MGR_ID&ROLE_DEPTNAME&ROLE_FAMILY',\n",
       " 'MGR_ID&ROLE_TITLE&ROLE_FAMILY',\n",
       " 'ROLE_ROLLUP_1&ROLE_ROLLUP_2&ROLE_DEPTNAME',\n",
       " 'ROLE_ROLLUP_1&ROLE_ROLLUP_2&ROLE_TITLE',\n",
       " 'ROLE_ROLLUP_1&ROLE_ROLLUP_2&ROLE_FAMILY',\n",
       " 'ROLE_ROLLUP_1&ROLE_DEPTNAME&ROLE_TITLE',\n",
       " 'ROLE_ROLLUP_1&ROLE_DEPTNAME&ROLE_FAMILY',\n",
       " 'ROLE_ROLLUP_1&ROLE_TITLE&ROLE_FAMILY',\n",
       " 'ROLE_ROLLUP_1&ROLE_FAMILY_DESC&ROLE_FAMILY',\n",
       " 'ROLE_ROLLUP_2&ROLE_DEPTNAME&ROLE_TITLE',\n",
       " 'ROLE_ROLLUP_2&ROLE_DEPTNAME&ROLE_FAMILY',\n",
       " 'ROLE_ROLLUP_2&ROLE_TITLE&ROLE_FAMILY',\n",
       " 'ROLE_ROLLUP_2&ROLE_FAMILY_DESC&ROLE_FAMILY',\n",
       " 'ROLE_DEPTNAME&ROLE_TITLE&ROLE_FAMILY']"
      ]
     },
     "execution_count": 133,
     "metadata": {},
     "output_type": "execute_result"
    },
    {
     "data": {
      "image/png": "[encoded data removed]",
      "text/plain": [
       "<matplotlib.figure.Figure at 0x814ec10>"
      ]
     },
     "metadata": {},
     "output_type": "display_data"
    }
   ],
   "source": [
    "sb.barplot(y=prob_sum,x=np.arange(92))\n",
    "#hsb = sb.hist(prob_sum,xlim=0.1)\n",
    "#Look at bar plot to see what threshold of the features to select\n",
    "ufeatures = []\n",
    "for i,j in enumerate(prob_sum):\n",
    "    if (j>0) : ufeatures.append(i)\n",
    "print(ufeatures)\n",
    "[header[i] for i in ufeatures]\n"
   ]
  },
  {
   "cell_type": "code",
   "execution_count": 150,
   "metadata": {
    "collapsed": false
   },
   "outputs": [
    {
     "name": "stdout",
     "output_type": "stream",
     "text": [
      "(32769, 1198096)\n",
      "(58921, 1198096)\n"
     ]
    }
   ],
   "source": [
    "encode_bfeat = preprocessing.OneHotEncoder(dtype=np.uint32)\n",
    "# we want to encode the category IDs encountered both in\n",
    "# the training and the test set, so we fit the encoder on both\n",
    "encode_bfeat.fit(data[:,ufeatures])\n",
    "X = encode_bfeat.transform(data[:test_offset,ufeatures])\n",
    "X_test = encode_bfeat.transform(data[test_offset:,ufeatures])\n",
    "print(X.shape)\n",
    "print(X_test.shape)"
   ]
  },
  {
   "cell_type": "code",
   "execution_count": 151,
   "metadata": {
    "collapsed": false
   },
   "outputs": [
    {
     "name": "stdout",
     "output_type": "stream",
     "text": [
      "AUC (fold 1/10): 0.880478\n",
      "AUC (fold 2/10): 0.882765\n",
      "AUC (fold 3/10): 0.889956\n",
      "AUC (fold 4/10): 0.899201\n",
      "AUC (fold 5/10): 0.883492\n",
      "AUC (fold 6/10): 0.888983\n",
      "AUC (fold 7/10): 0.876499\n",
      "AUC (fold 8/10): 0.886792\n",
      "AUC (fold 9/10): 0.882438\n",
      "AUC (fold 10/10): 0.893405\n",
      "Mean AUC: 0.886401\n"
     ]
    },
    {
     "ename": "NameError",
     "evalue": "name 'save_results' is not defined",
     "output_type": "error",
     "traceback": [
      "\u001b[1;31m---------------------------------------------------------------------------\u001b[0m",
      "\u001b[1;31mNameError\u001b[0m                                 Traceback (most recent call last)",
      "\u001b[1;32m<ipython-input-151-680d5a6b5dd2>\u001b[0m in \u001b[0;36m<module>\u001b[1;34m()\u001b[0m\n\u001b[0;32m     28\u001b[0m \u001b[0mmodel\u001b[0m\u001b[1;33m.\u001b[0m\u001b[0mfit\u001b[0m\u001b[1;33m(\u001b[0m\u001b[0mX\u001b[0m\u001b[1;33m,\u001b[0m \u001b[0my\u001b[0m\u001b[1;33m)\u001b[0m\u001b[1;33m\u001b[0m\u001b[0m\n\u001b[0;32m     29\u001b[0m \u001b[0mpreds\u001b[0m \u001b[1;33m=\u001b[0m \u001b[0mmodel\u001b[0m\u001b[1;33m.\u001b[0m\u001b[0mpredict_proba\u001b[0m\u001b[1;33m(\u001b[0m\u001b[0mX_test\u001b[0m\u001b[1;33m)\u001b[0m\u001b[1;33m[\u001b[0m\u001b[1;33m:\u001b[0m\u001b[1;33m,\u001b[0m \u001b[1;36m1\u001b[0m\u001b[1;33m]\u001b[0m\u001b[1;33m\u001b[0m\u001b[0m\n\u001b[1;32m---> 30\u001b[1;33m \u001b[0msave_results\u001b[0m\u001b[1;33m(\u001b[0m\u001b[0mpreds\u001b[0m\u001b[1;33m,\u001b[0m \u001b[1;34m\"submit.csv\"\u001b[0m\u001b[1;33m)\u001b[0m\u001b[1;33m\u001b[0m\u001b[0m\n\u001b[0m",
      "\u001b[1;31mNameError\u001b[0m: name 'save_results' is not defined"
     ]
    }
   ],
   "source": [
    "SEED = 42\n",
    "mean_auc = 0.0\n",
    "\n",
    "n = 10  # repeat the CV procedure 10 times to get more precise results\n",
    "model = linear_model.LogisticRegression(C=1)\n",
    "#model = BernoulliNB(alpha=0.005)\n",
    "for i in range(n):\n",
    "    # for each iteration, randomly hold out 20% of the data as CV set\n",
    "    X_train, X_cv, y_train, y_cv = cross_validation.train_test_split(X, y, test_size=.20, random_state=i*SEED)\n",
    "\n",
    "    # if you want to perform feature selection / hyperparameter\n",
    "    # optimization, this is where you want to do it\n",
    "\n",
    "    # train model and make predictions\n",
    "    model.fit(X_train, y_train) \n",
    "    preds = model.predict_proba(X_cv)[:, 1]\n",
    "\n",
    "    # compute AUC metric for this CV fold\n",
    "    fpr, tpr, thresholds = metrics.roc_curve(y_cv, preds)\n",
    "    roc_auc = metrics.auc(fpr, tpr)\n",
    "    print(\"AUC (fold %d/%d): %f\" % (i + 1, n, roc_auc))\n",
    "    mean_auc += roc_auc\n",
    "\n",
    "print(\"Mean AUC: %f\" % (mean_auc/n))\n",
    "\n",
    "# === Predictions === #\n",
    "# When making predictions, retrain the model on the whole training set\n",
    "model.fit(X, y)\n",
    "preds = model.predict_proba(X_test)[:, 1]\n",
    "save_results(preds, \"submit.csv\")"
   ]
  },
  {
   "cell_type": "code",
   "execution_count": null,
   "metadata": {
    "collapsed": false
   },
   "outputs": [],
   "source": []
  },
  {
   "cell_type": "code",
   "execution_count": null,
   "metadata": {
    "collapsed": true
   },
   "outputs": [],
   "source": [
    "# Numpy Operations\n",
    "# print(np.fromiter(t_data[0],np.int32))\n",
    "# print(np.fromiter(t_data[1],np.int32))\n",
    "# print(np.fromiter(t_data[2],np.int32))\n",
    "# print(np.fromiter(t_data[3],np.int32))\n",
    "# print(np.fromiter(t_data[4],np.int32))\n",
    "# print(np.fromiter(t_data[5],np.int32))\n",
    "\n",
    "# Convert to numpy array - Use np.array(list)\n",
    "# for i in nparray - iterate through rows\n",
    "# for i in nparray.T - iterate through columns\n",
    "# Initialize np.zeros(5)\n",
    "\n",
    "# To view generator operators (Use list,tuples)\n",
    "# for i,j in enumerate(t_data):\n",
    "#     #lst_array[i] = np.array(list(j))\n",
    "#     lst_array[i] = np.fromiter(j,np.float)"
   ]
  },
  {
   "cell_type": "markdown",
   "metadata": {},
   "source": [
    "AUC = Logistic Regression returns the probability that a certain input features would be in a certain class\n",
    "ROC curve visualizaes all possible thresholds\n",
    "Misclassification rate is error rate for a single threshold\n",
    "\n",
    "\n",
    "Attempt with original features only : CV : ... , Public : 0.88515, Private : 0.88205\n",
    "\n",
    "Attempt with original features + combination of 3 : CV : 0.886361 , Public : 0.90141, Private 0.89582 \n",
    "\n",
    "Attempt with DTC selected features : CV :  0.886555 (threshold >0) , Public : , Private \n",
    "\n",
    "Attempt with Random Lasso  : CV : 0.886401   , Public : , Private "
   ]
  },
  {
   "cell_type": "code",
   "execution_count": null,
   "metadata": {
    "collapsed": true
   },
   "outputs": [],
   "source": []
  }
 ],
 "metadata": {
  "kernelspec": {
   "display_name": "Python 3",
   "language": "python",
   "name": "python3"
  },
  "language_info": {
   "codemirror_mode": {
    "name": "ipython",
    "version": 3
   },
   "file_extension": ".py",
   "mimetype": "text/x-python",
   "name": "python",
   "nbconvert_exporter": "python",
   "pygments_lexer": "ipython3",
   "version": "3.5.1"
  }
 },
 "nbformat": 4,
 "nbformat_minor": 0
}
