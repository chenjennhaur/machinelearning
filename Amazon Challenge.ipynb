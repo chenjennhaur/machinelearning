{
 "cells": [
  {
   "cell_type": "markdown",
   "metadata": {},
   "source": [
    "*Role Title and Role Code are similar based on pandas\n",
    "*Instead of using hashing, can consider cantor(m,n) = 1/2 * (m+n)(m+n+1)+m. Beware of hash collision\n",
    "*PCA / SVD are more suited for continuous values. For discrete variables, consider using MCA\n",
    "1. Feature Extraction - Using Genetic Algorithm / Greedy Algorithm [sklearn.feature_selection.RFE, RFECV , Gradient Boosting\n",
    "2. Try using Stacked Classifier \n",
    "  * np.mean\n",
    "  * weighted mean\n",
    "  * jaccard score\n",
    "  * pass the results from each classifer into another RF / Linear Regression\n",
    "3. Data Exploratory - Find if train has more classes compared to test ? \n",
    "4. Try to run on Spark\n",
    "5. Stratified K Fold Cross Validation\n",
    "6. Use GridSearchCV to optimize Logistic Classifier\n",
    "7. Consider having equal +ve and -ve examples in each train dataset\n",
    "\n",
    "8. Count Analysis (Use Log Odd Ratio) + Two Class AdaBoosted Decision Tree\n",
    "9. Compare between average and voting for Ensemble. How to combine Logistic (X,y) and RFC (X1,y1)\n",
    "10. Make a graph of count / np.log rf_data[] against y [scatterplot]"
   ]
  },
  {
   "cell_type": "markdown",
   "metadata": {},
   "source": [
    "* ACTION is 1 if the resource was approved, 0 if the resource was not\n",
    "* RESOURCE - An ID for each resource\n",
    "* MGR_ID- The EMPLOYEE ID of the manager of the current EMPLOYEE ID record; an employee may have only one manager at a time\n",
    "* ROLE_ROLLUP_1 - Company role grouping category id 1 (e.g. US Engineering)\n",
    "* ROLE_ROLLUP_2 - Company role grouping category id 2 (e.g. US Retail)\n",
    "* ROLE_DEPTNAME - Company role department description (e.g. Retail)\n",
    "* ROLE_TITLE - Company role business title description (e.g. Senior Engineering Retail Manager) - Same as Role Code\n",
    "* ROLE_FAMILY_DESC - Company role family extended description (e.g. Retail Manager, Software Engineering)\n",
    "* ROLE_FAMILY - Company role family description (e.g. Retail Manager)\n",
    "* ROLE_CODE - Company role code; this code is unique to each role (e.g. Manager)\n"
   ]
  },
  {
   "cell_type": "code",
   "execution_count": 1,
   "metadata": {
    "collapsed": false
   },
   "outputs": [],
   "source": [
    "#inside a ipython/nb session\n",
    "# Original Data in Pandas Dataframe : data\n",
    "# Sparse Array for Training Data : X\n",
    "# Sparse Array for Test Data : X_test\n",
    "# Label for X only : y\n",
    "# Offset : test_offset\n",
    "# rf_data : Data Set for Random Forest Tree\n",
    "\n",
    "\n",
    "#inside a ipython/nb session\n",
    "# %store encoder\n",
    "# Original Data in Pandas Dataframe\n",
    "# %store data\n",
    "# Sparse Array for Training Data\n",
    "# %store X\n",
    "# Sparse Array for Test Data\n",
    "# %store X_test\n",
    "# Label for X only\n",
    "# %store y\n",
    "# %store features\n",
    "# %store header\n",
    "# Offset \n",
    "# %store test_offset\n",
    "# Data Set for Random Forest Tree\n",
    "# %store rf_data\n",
    "\n",
    "%store -r encoder\n",
    "%store -r data\n",
    "%store -r X\n",
    "%store -r X_test\n",
    "%store -r y\n",
    "%store -r features\n",
    "%store -r header\n",
    "%store -r test_offset\n",
    "%store -r rf_data\n"
   ]
  },
  {
   "cell_type": "code",
   "execution_count": 2,
   "metadata": {
    "collapsed": false,
    "scrolled": true
   },
   "outputs": [],
   "source": [
    "import pandas as pd\n",
    "from pivottablejs import pivot_ui\n",
    "import seaborn as sb\n",
    "import matplotlib.pyplot as plt  \n",
    "from ipywidgets import widgets\n",
    "import numpy as np\n",
    "from sklearn import (metrics, cross_validation, linear_model, preprocessing)\n",
    "from sklearn.naive_bayes import BernoulliNB\n",
    "from sklearn.ensemble import (GradientBoostingClassifier,RandomForestClassifier)\n",
    "from sklearn.tree import DecisionTreeClassifier\n",
    "from sklearn.feature_selection import RFE\n",
    "from sklearn import ensemble\n",
    "from sklearn.pipeline import Pipeline\n",
    "from sklearn.pipeline import FeatureUnion\n",
    "from sklearn import grid_search\n",
    "from itertools import combinations\n",
    "import pickle\n",
    "\n",
    "%matplotlib inline\n",
    "\n",
    "sb.set(style=\"ticks\", color_codes=True)\n",
    "df = pd.read_csv('train.csv')\n",
    "dft = pd.read_csv('test.csv')\n",
    "#g = sb.pairplot(df)"
   ]
  },
  {
   "cell_type": "code",
   "execution_count": 4,
   "metadata": {
    "collapsed": false
   },
   "outputs": [
    {
     "data": {
      "text/html": [
       "<div>\n",
       "<table border=\"1\" class=\"dataframe\">\n",
       "  <thead>\n",
       "    <tr style=\"text-align: right;\">\n",
       "      <th></th>\n",
       "      <th>ACTION</th>\n",
       "      <th>RESOURCE</th>\n",
       "      <th>MGR_ID</th>\n",
       "      <th>ROLE_ROLLUP_1</th>\n",
       "      <th>ROLE_ROLLUP_2</th>\n",
       "      <th>ROLE_DEPTNAME</th>\n",
       "      <th>ROLE_TITLE</th>\n",
       "      <th>ROLE_FAMILY_DESC</th>\n",
       "      <th>ROLE_FAMILY</th>\n",
       "      <th>ROLE_CODE</th>\n",
       "    </tr>\n",
       "  </thead>\n",
       "  <tbody>\n",
       "    <tr>\n",
       "      <th>count</th>\n",
       "      <td>32769</td>\n",
       "      <td>32769</td>\n",
       "      <td>32769</td>\n",
       "      <td>32769</td>\n",
       "      <td>32769</td>\n",
       "      <td>32769</td>\n",
       "      <td>32769</td>\n",
       "      <td>32769</td>\n",
       "      <td>32769</td>\n",
       "      <td>32769</td>\n",
       "    </tr>\n",
       "    <tr>\n",
       "      <th>unique</th>\n",
       "      <td>2</td>\n",
       "      <td>7518</td>\n",
       "      <td>4243</td>\n",
       "      <td>128</td>\n",
       "      <td>177</td>\n",
       "      <td>449</td>\n",
       "      <td>343</td>\n",
       "      <td>2358</td>\n",
       "      <td>67</td>\n",
       "      <td>343</td>\n",
       "    </tr>\n",
       "    <tr>\n",
       "      <th>top</th>\n",
       "      <td>1</td>\n",
       "      <td>4675</td>\n",
       "      <td>770</td>\n",
       "      <td>117961</td>\n",
       "      <td>118300</td>\n",
       "      <td>117878</td>\n",
       "      <td>118321</td>\n",
       "      <td>117906</td>\n",
       "      <td>290919</td>\n",
       "      <td>118322</td>\n",
       "    </tr>\n",
       "    <tr>\n",
       "      <th>freq</th>\n",
       "      <td>30872</td>\n",
       "      <td>839</td>\n",
       "      <td>152</td>\n",
       "      <td>21407</td>\n",
       "      <td>4424</td>\n",
       "      <td>1135</td>\n",
       "      <td>4649</td>\n",
       "      <td>6896</td>\n",
       "      <td>10980</td>\n",
       "      <td>4649</td>\n",
       "    </tr>\n",
       "  </tbody>\n",
       "</table>\n",
       "</div>"
      ],
      "text/plain": [
       "        ACTION  RESOURCE  MGR_ID  ROLE_ROLLUP_1  ROLE_ROLLUP_2  ROLE_DEPTNAME  \\\n",
       "count    32769     32769   32769          32769          32769          32769   \n",
       "unique       2      7518    4243            128            177            449   \n",
       "top          1      4675     770         117961         118300         117878   \n",
       "freq     30872       839     152          21407           4424           1135   \n",
       "\n",
       "        ROLE_TITLE  ROLE_FAMILY_DESC  ROLE_FAMILY  ROLE_CODE  \n",
       "count        32769             32769        32769      32769  \n",
       "unique         343              2358           67        343  \n",
       "top         118321            117906       290919     118322  \n",
       "freq          4649              6896        10980       4649  "
      ]
     },
     "execution_count": 4,
     "metadata": {},
     "output_type": "execute_result"
    }
   ],
   "source": [
    "#len(df['RESOURCE'].value_counts())\n",
    "#df['RESOURCE'].plot.hist(bins=7518)\n",
    "#df.head()\n",
    "#dfc = df.iloc[:,1:10] \n",
    "dfc = df.iloc[:,:]\n",
    "for col in df.columns:\n",
    "  dfc[col] = df[col].astype('category')\n",
    "dfc.describe()\n"
   ]
  },
  {
   "cell_type": "code",
   "execution_count": 33,
   "metadata": {
    "collapsed": false
   },
   "outputs": [
    {
     "name": "stdout",
     "output_type": "stream",
     "text": [
      "Total Features : 15626\n"
     ]
    },
    {
     "data": {
      "text/plain": [
       "1    0.94211\n",
       "0    0.05789\n",
       "dtype: float64"
      ]
     },
     "execution_count": 33,
     "metadata": {},
     "output_type": "execute_result"
    }
   ],
   "source": [
    "total_one_hot = 0\n",
    "for col in dfc.columns[1:]:\n",
    "  total_one_hot += len(pd.unique(dfc[col]))\n",
    "print(\"Total Features :\",total_one_hot)\n",
    "\n",
    "dfc['ACTION'].value_counts(normalize=True)"
   ]
  },
  {
   "cell_type": "code",
   "execution_count": 13,
   "metadata": {
    "collapsed": false,
    "scrolled": true
   },
   "outputs": [],
   "source": [
    "#Observation Only\n",
    "#test = pd.pivot_table(dfc,index=['ROLE_TITLE','ROLE_CODE'],aggfunc='count',dropna=True)\n",
    "#dfc.pivot_table(index='ROLE_TITLE',aggfunc=lambda x:len(x.unique()))\n",
    "mult = {}\n",
    "for c in df.columns:\n",
    "    temp = df.pivot_table(index=c,aggfunc=lambda x:len(x.unique()),fill_value=0).apply(np.max)\n",
    "    mult[c] = temp\n",
    "\n",
    "multpd = pd.DataFrame(mult)\n",
    "\n",
    "multpd[multpd.columns[1:]]\n",
    "#Role Code to Role Title => 1:1\n",
    "#Role Family to Role Code => 1 : M\n",
    "#Role Family to Role Title => 1 : M\n",
    "#Therefore Role Code = Role Title "
   ]
  },
  {
   "cell_type": "code",
   "execution_count": 14,
   "metadata": {
    "collapsed": false
   },
   "outputs": [
    {
     "data": {
      "text/html": [
       "<div>\n",
       "<table border=\"1\" class=\"dataframe\">\n",
       "  <thead>\n",
       "    <tr style=\"text-align: right;\">\n",
       "      <th></th>\n",
       "      <th>MGR_ID</th>\n",
       "      <th>RESOURCE</th>\n",
       "      <th>ROLE_CODE</th>\n",
       "      <th>ROLE_DEPTNAME</th>\n",
       "      <th>ROLE_FAMILY</th>\n",
       "      <th>ROLE_FAMILY_DESC</th>\n",
       "      <th>ROLE_ROLLUP_1</th>\n",
       "      <th>ROLE_ROLLUP_2</th>\n",
       "      <th>ROLE_TITLE</th>\n",
       "    </tr>\n",
       "  </thead>\n",
       "  <tbody>\n",
       "    <tr>\n",
       "      <th>ACTION</th>\n",
       "      <td>2</td>\n",
       "      <td>2</td>\n",
       "      <td>2</td>\n",
       "      <td>2</td>\n",
       "      <td>2</td>\n",
       "      <td>2</td>\n",
       "      <td>2</td>\n",
       "      <td>2</td>\n",
       "      <td>2</td>\n",
       "    </tr>\n",
       "    <tr>\n",
       "      <th>MGR_ID</th>\n",
       "      <td>NaN</td>\n",
       "      <td>587</td>\n",
       "      <td>592</td>\n",
       "      <td>304</td>\n",
       "      <td>946</td>\n",
       "      <td>705</td>\n",
       "      <td>1745</td>\n",
       "      <td>348</td>\n",
       "      <td>592</td>\n",
       "    </tr>\n",
       "    <tr>\n",
       "      <th>RESOURCE</th>\n",
       "      <td>97</td>\n",
       "      <td>NaN</td>\n",
       "      <td>2375</td>\n",
       "      <td>332</td>\n",
       "      <td>4085</td>\n",
       "      <td>3128</td>\n",
       "      <td>5609</td>\n",
       "      <td>1482</td>\n",
       "      <td>2375</td>\n",
       "    </tr>\n",
       "    <tr>\n",
       "      <th>ROLE_CODE</th>\n",
       "      <td>8</td>\n",
       "      <td>121</td>\n",
       "      <td>NaN</td>\n",
       "      <td>46</td>\n",
       "      <td>26</td>\n",
       "      <td>19</td>\n",
       "      <td>241</td>\n",
       "      <td>104</td>\n",
       "      <td>1</td>\n",
       "    </tr>\n",
       "    <tr>\n",
       "      <th>ROLE_DEPTNAME</th>\n",
       "      <td>8</td>\n",
       "      <td>193</td>\n",
       "      <td>163</td>\n",
       "      <td>NaN</td>\n",
       "      <td>193</td>\n",
       "      <td>171</td>\n",
       "      <td>330</td>\n",
       "      <td>76</td>\n",
       "      <td>163</td>\n",
       "    </tr>\n",
       "    <tr>\n",
       "      <th>ROLE_FAMILY</th>\n",
       "      <td>5</td>\n",
       "      <td>36</td>\n",
       "      <td>1</td>\n",
       "      <td>17</td>\n",
       "      <td>NaN</td>\n",
       "      <td>8</td>\n",
       "      <td>61</td>\n",
       "      <td>37</td>\n",
       "      <td>1</td>\n",
       "    </tr>\n",
       "    <tr>\n",
       "      <th>ROLE_FAMILY_DESC</th>\n",
       "      <td>11</td>\n",
       "      <td>246</td>\n",
       "      <td>153</td>\n",
       "      <td>136</td>\n",
       "      <td>291</td>\n",
       "      <td>NaN</td>\n",
       "      <td>1146</td>\n",
       "      <td>265</td>\n",
       "      <td>153</td>\n",
       "    </tr>\n",
       "    <tr>\n",
       "      <th>ROLE_ROLLUP_1</th>\n",
       "      <td>7</td>\n",
       "      <td>53</td>\n",
       "      <td>55</td>\n",
       "      <td>40</td>\n",
       "      <td>87</td>\n",
       "      <td>47</td>\n",
       "      <td>NaN</td>\n",
       "      <td>9</td>\n",
       "      <td>55</td>\n",
       "    </tr>\n",
       "    <tr>\n",
       "      <th>ROLE_ROLLUP_2</th>\n",
       "      <td>7</td>\n",
       "      <td>68</td>\n",
       "      <td>65</td>\n",
       "      <td>45</td>\n",
       "      <td>113</td>\n",
       "      <td>57</td>\n",
       "      <td>16</td>\n",
       "      <td>NaN</td>\n",
       "      <td>65</td>\n",
       "    </tr>\n",
       "    <tr>\n",
       "      <th>ROLE_TITLE</th>\n",
       "      <td>8</td>\n",
       "      <td>121</td>\n",
       "      <td>1</td>\n",
       "      <td>46</td>\n",
       "      <td>26</td>\n",
       "      <td>19</td>\n",
       "      <td>241</td>\n",
       "      <td>104</td>\n",
       "      <td>NaN</td>\n",
       "    </tr>\n",
       "  </tbody>\n",
       "</table>\n",
       "</div>"
      ],
      "text/plain": [
       "                  MGR_ID  RESOURCE  ROLE_CODE  ROLE_DEPTNAME  ROLE_FAMILY  \\\n",
       "ACTION                 2         2          2              2            2   \n",
       "MGR_ID               NaN       587        592            304          946   \n",
       "RESOURCE              97       NaN       2375            332         4085   \n",
       "ROLE_CODE              8       121        NaN             46           26   \n",
       "ROLE_DEPTNAME          8       193        163            NaN          193   \n",
       "ROLE_FAMILY            5        36          1             17          NaN   \n",
       "ROLE_FAMILY_DESC      11       246        153            136          291   \n",
       "ROLE_ROLLUP_1          7        53         55             40           87   \n",
       "ROLE_ROLLUP_2          7        68         65             45          113   \n",
       "ROLE_TITLE             8       121          1             46           26   \n",
       "\n",
       "                  ROLE_FAMILY_DESC  ROLE_ROLLUP_1  ROLE_ROLLUP_2  ROLE_TITLE  \n",
       "ACTION                           2              2              2           2  \n",
       "MGR_ID                         705           1745            348         592  \n",
       "RESOURCE                      3128           5609           1482        2375  \n",
       "ROLE_CODE                       19            241            104           1  \n",
       "ROLE_DEPTNAME                  171            330             76         163  \n",
       "ROLE_FAMILY                      8             61             37           1  \n",
       "ROLE_FAMILY_DESC               NaN           1146            265         153  \n",
       "ROLE_ROLLUP_1                   47            NaN              9          55  \n",
       "ROLE_ROLLUP_2                   57             16            NaN          65  \n",
       "ROLE_TITLE                      19            241            104         NaN  "
      ]
     },
     "execution_count": 14,
     "metadata": {},
     "output_type": "execute_result"
    }
   ],
   "source": []
  },
  {
   "cell_type": "code",
   "execution_count": 6,
   "metadata": {
    "collapsed": false
   },
   "outputs": [
    {
     "data": {
      "text/plain": [
       "array([[<matplotlib.axes._subplots.AxesSubplot object at 0x0EAD99B0>,\n",
       "        <matplotlib.axes._subplots.AxesSubplot object at 0x081C2E30>,\n",
       "        <matplotlib.axes._subplots.AxesSubplot object at 0x0EB27730>],\n",
       "       [<matplotlib.axes._subplots.AxesSubplot object at 0x0403E990>,\n",
       "        <matplotlib.axes._subplots.AxesSubplot object at 0x04063930>,\n",
       "        <matplotlib.axes._subplots.AxesSubplot object at 0x04093130>],\n",
       "       [<matplotlib.axes._subplots.AxesSubplot object at 0x040B1370>,\n",
       "        <matplotlib.axes._subplots.AxesSubplot object at 0x040DA5D0>,\n",
       "        <matplotlib.axes._subplots.AxesSubplot object at 0x041004D0>]], dtype=object)"
      ]
     },
     "execution_count": 6,
     "metadata": {},
     "output_type": "execute_result"
    },
    {
     "data": {
      "image/png": "[encoded data removed]",
      "text/plain": [
       "<matplotlib.figure.Figure at 0xe830750>"
      ]
     },
     "metadata": {},
     "output_type": "display_data"
    }
   ],
   "source": [
    "# Action, Resource, Role_Code, Role_DeptName, Role_Family, Role_Family_Desc, Role_Roll_1, Role_Roll_2, Role_Title\n",
    "mgr = df.pivot_table(index='MGR_ID',aggfunc= lambda x:len(x.unique()),fill_value=0)\n",
    "mgr.hist(bins=20,figsize=(10,10))\n"
   ]
  },
  {
   "cell_type": "code",
   "execution_count": 99,
   "metadata": {
    "collapsed": false
   },
   "outputs": [
    {
     "name": "stdout",
     "output_type": "stream",
     "text": [
      "MGR where resources less: 4167\n",
      "MGR where resources more: 76\n",
      "Total: 4243\n",
      "Percentage MGR :  ACTION    0.053661\n",
      "dtype: float64\n",
      "Percentage MGR :  ACTION    0.059379\n",
      "dtype: float64\n",
      "Mgr_less ACTION    24234\n",
      "dtype: int64     ACTION    22795\n",
      "dtype: int64      ACTION    1439\n",
      "dtype: int64\n",
      "Mgr_more ACTION    8535\n",
      "dtype: int64     ACTION    8077\n",
      "dtype: int64      ACTION    458\n",
      "dtype: int64\n"
     ]
    }
   ],
   "source": [
    "# pd.set_option('display.max_rows',500)\n",
    "mgr_id_high = mgr.sort_values(by=['RESOURCE'],ascending=False)['RESOURCE'] > 30\n",
    "print(\"MGR where resources less:\", len(mgr_id_high.index.values[~mgr_id_high.values]))\n",
    "print(\"MGR where resources more:\", len(mgr_id_high.index.values[mgr_id_high.values]))\n",
    "print(\"Total:\",len(k.index.values))\n",
    "#df[df['MGR_ID'].isin(k)]\n",
    "\n",
    "# 770,2270,1350,2594,5396, \n",
    "#df[(df['ACTION']==0)][['ACTION']].count()\n",
    "mgr_total = df[(df['MGR_ID'].isin(mgr_id_high.index.values[k.values]))][['ACTION']].count()\n",
    "mgr_action_1 = df[(df['MGR_ID'].isin(mgr_id_high.index.values[k.values])) & (df['ACTION']==1)][['ACTION']].count()\n",
    "mgr_action_0 = df[(df['MGR_ID'].isin(mgr_id_high.index.values[k.values])) & (df['ACTION']==0)][['ACTION']].count()\n",
    "print(\"Percentage MGR : \",mgr_action_0/mgr_total)\n",
    "#df[['ACTION','RESOURCE','MGR_ID']]\n",
    "# k.pivot_table(index='RESOURCE',aggfunc='count')\n",
    "\n",
    "mgr_total_o = df[(~df['MGR_ID'].isin(mgr_id_high.index.values[k.values]))][['ACTION']].count()\n",
    "mgr_action_1_o = df[(~df['MGR_ID'].isin(mgr_id_high.index.values[k.values])) & (df['ACTION']==1)][['ACTION']].count()\n",
    "mgr_action_0_o = df[(~df['MGR_ID'].isin(mgr_id_high.index.values[k.values])) & (df['ACTION']==0)][['ACTION']].count()\n",
    "print(\"Percentage MGR : \",mgr_action_0_o/mgr_total_o)\n",
    "print(\"Mgr_less\", mgr_total_o,\"   \",mgr_action_1_o,\"    \",mgr_action_0_o)\n",
    "print(\"Mgr_more\", mgr_total,\"   \",mgr_action_1,\"    \",mgr_action_0)"
   ]
  },
  {
   "cell_type": "code",
   "execution_count": 32,
   "metadata": {
    "collapsed": false
   },
   "outputs": [
    {
     "data": {
      "text/plain": [
       "1     0.750000\n",
       "2     0.187500\n",
       "3     0.023438\n",
       "5     0.015625\n",
       "4     0.015625\n",
       "16    0.007812\n",
       "Name: ROLE_ROLLUP_2, dtype: float64"
      ]
     },
     "execution_count": 32,
     "metadata": {},
     "output_type": "execute_result"
    },
    {
     "data": {
      "image/png": "[encoded data removed]",
      "text/plain": [
       "<matplotlib.figure.Figure at 0xf6d2a70>"
      ]
     },
     "metadata": {},
     "output_type": "display_data"
    }
   ],
   "source": [
    "# Action, Resource, Role_Code, Role_DeptName, Role_Family, Role_Family_Desc, Role_Roll_1, Role_Roll_2, Role_Title\n",
    "rollup1 = df.pivot_table(index='ROLE_ROLLUP_1',aggfunc= lambda x:len(x.unique()),fill_value=0)\n",
    "rollup1['ROLE_ROLLUP_2'].hist()\n",
    "rollup1['ROLE_ROLLUP_2'].value_counts(normalize=True)"
   ]
  },
  {
   "cell_type": "code",
   "execution_count": 31,
   "metadata": {
    "collapsed": false
   },
   "outputs": [
    {
     "data": {
      "text/plain": [
       "1    0.983051\n",
       "2    0.011299\n",
       "9    0.005650\n",
       "Name: ROLE_ROLLUP_1, dtype: float64"
      ]
     },
     "execution_count": 31,
     "metadata": {},
     "output_type": "execute_result"
    },
    {
     "data": {
      "image/png": "[encoded data removed]",
      "text/plain": [
       "<matplotlib.figure.Figure at 0xf9012f0>"
      ]
     },
     "metadata": {},
     "output_type": "display_data"
    }
   ],
   "source": [
    "rollup2 = df.pivot_table(index='ROLE_ROLLUP_2',aggfunc= lambda x:len(x.unique()),fill_value=0)\n",
    "rollup2['ROLE_ROLLUP_1'].hist()\n",
    "rollup2['ROLE_ROLLUP_1'].value_counts(normalize=True)"
   ]
  },
  {
   "cell_type": "code",
   "execution_count": 46,
   "metadata": {
    "collapsed": false
   },
   "outputs": [
    {
     "data": {
      "text/plain": [
       "<matplotlib.axes._subplots.AxesSubplot at 0x13564fb0>"
      ]
     },
     "execution_count": 46,
     "metadata": {},
     "output_type": "execute_result"
    },
    {
     "data": {
      "image/png": "[encoded data removed]",
      "text/plain": [
       "<matplotlib.figure.Figure at 0x131ad450>"
      ]
     },
     "metadata": {},
     "output_type": "display_data"
    }
   ],
   "source": [
    "abc = pd.concat([df['ACTION'],rf_data[:test_offset][rf_data.columns.values[6:12]]], axis=1)\n",
    "sb.regplot(abc['cntROLE_ROLLUP_1&ROLE_ROLLUP_2'],abc['ACTION'],scatter=True)\n",
    "# abc[['ACTION','cntMGR_ID']]"
   ]
  },
  {
   "cell_type": "code",
   "execution_count": 4,
   "metadata": {
    "collapsed": true
   },
   "outputs": [],
   "source": [
    "def save_results(predictions, filename):\n",
    "    \"\"\"Given a vector of predictions, save results in CSV format.\"\"\"\n",
    "    with open(filename, 'w') as f:\n",
    "        f.write(\"id,ACTION\\n\")\n",
    "        for i, pred in enumerate(predictions):\n",
    "            f.write(\"%d,%f\\n\" % (i + 1, pred))\n"
   ]
  },
  {
   "cell_type": "code",
   "execution_count": null,
   "metadata": {
    "collapsed": false
   },
   "outputs": [],
   "source": [
    "def cantor(pairs):\n",
    "    result2 = 0.5 * (pairs[0] + pairs[1]) * (pairs[0] + pairs[1] +1) + pairs[1]\n",
    "    if(len(pairs) == 2): \n",
    "        return result2\n",
    "    if(len(pairs) == 3 ):\n",
    "        result3 = 0.5 * (result2 + pairs[2]) * (result2 + pairs[2] +1) + pairs[2]\n",
    "        return result3\n",
    "    "
   ]
  },
  {
   "cell_type": "code",
   "execution_count": null,
   "metadata": {
    "collapsed": false
   },
   "outputs": [],
   "source": [
    "# Convert from dataframe to np.array\n",
    "y = np.ravel(df.iloc[:,:1])\n",
    "X = np.array(df.iloc[:,1:9])\n",
    "X_test = np.array(dft.iloc[:,1:9])\n",
    "header = list(df.columns[1:])\n",
    "\n",
    "data = np.vstack((X,X_test))"
   ]
  },
  {
   "cell_type": "code",
   "execution_count": null,
   "metadata": {
    "collapsed": false
   },
   "outputs": [],
   "source": [
    "# yc = combinations(range(n),2)\n",
    "# to view all the combinations\n",
    "# list(yc) \n",
    "\n",
    "#train data[:32769,:]\n",
    "#test data[32769:,:]\n",
    "#tuple is used here so that the result is hashable\n",
    "\n",
    "test_offset = 32769\n",
    "# Get Combinations of 2 features \n",
    "for indices in combinations(range(8),2):\n",
    "    #data = np.column_stack((data,list(ctypes.c_size_t(hash(tuple(v))).value for v in data[:,indices]))) \n",
    "    #data = np.column_stack((data,list(np.uint64(hash(tuple(v))) for v in data[:,indices]))) \n",
    "    #data = np.column_stack((data,list(hash(tuple(v)) for v in data[:,indices]))) \n",
    "    data = np.column_stack((data,list(cantor(tuple(v)) for v in data[:,indices]))) \n",
    "    a,b = indices\n",
    "    header.append(header[a] +\"&\"+ header[b])\n",
    "print('2 Combinations')\n",
    "print(data.shape)\n",
    "print(np.any(data < 0))\n",
    "print(np.ndarray.min(data))\n",
    "print(np.ndarray.max(data))\n",
    "    \n",
    "# Get Combinations of 3 features \n",
    "for indices in combinations(range(8),3):\n",
    "    data = np.column_stack((data,list(cantor(tuple(v)) for v in data[:,indices]))) \n",
    "    a,b,c = indices\n",
    "    header.append(header[a] +\"&\"+ header[b]+ \"&\" + header[c])\n",
    "\n",
    "    \n",
    "#Check loaded correctly with non-zero elements    \n",
    "print('3 Combinations')\n",
    "print(data.shape)\n",
    "print(np.any(data < 0))\n",
    "print(np.ndarray.min(data))\n",
    "print(np.ndarray.max(data))"
   ]
  },
  {
   "cell_type": "code",
   "execution_count": null,
   "metadata": {
    "collapsed": false
   },
   "outputs": [],
   "source": [
    "# Simplify the encoding. Probably not essential. Could possibly improve performance\n",
    "# Vertical Stacking is required so that all the features are captured. There might be some features in test set not in train set\n",
    "\n",
    "le = preprocessing.LabelEncoder()\n",
    "data_e = []\n",
    "# To perform column wise operations, use Transpose function\n",
    "for i in data.T:\n",
    "    le.fit(i)\n",
    "    data_e.append(le.transform(i))\n",
    "\n",
    "data = np.asarray(data_e).T\n",
    "\n",
    "print(np.any(data < 0))\n",
    "print(np.ndarray.min(data))\n",
    "print(np.ndarray.max(data))\n",
    "\n"
   ]
  },
  {
   "cell_type": "code",
   "execution_count": null,
   "metadata": {
    "collapsed": false
   },
   "outputs": [],
   "source": [
    "# #Code to help Visualize what the algorithm is doing \n",
    "# t_data = []\n",
    "# test_data = np.array([[1,2,3,4],[1,2,2,0],[1,2,3,4],[1,4,5,6],[2,3,4,5]])\n",
    "# print(test_data.shape)\n",
    "\n",
    "# #if the combination of categories are the same, they will be hashed to the same value. Eg 1 row with (0,1,0) will have same \n",
    "# #hash value of another row with (0,1,0)\n",
    "# for indices in combinations(range(4),2):\n",
    "#     t_data.append(hash(tuple(v)) for v in test_data[:,indices])\n",
    "#     #print(v for v in test_data[:,indices])\n",
    "#     print(indices)\n",
    "    \n",
    "# #Comparison 1 - Combinations are (0,1),(0,2),(0,3),(1,2),(1,3),(2,3)\n",
    "# # for v in test_data[:,(0,1)]:\n",
    "# #   print(hash(tuple(v)))\n",
    "\n",
    "# #Comparison 2 - t_data[0] corresponds to (0,1)\n",
    "# #tuple(t_data[0])\n",
    "\n"
   ]
  },
  {
   "cell_type": "code",
   "execution_count": null,
   "metadata": {
    "collapsed": false
   },
   "outputs": [],
   "source": [
    "#Initial Encoding for all features\n",
    "\n",
    "encoder = preprocessing.OneHotEncoder(dtype=np.uint32)\n",
    "# we want to encode the category IDs encountered both in\n",
    "# the training and the test set, so we fit the encoder on both\n",
    "encoder.fit(data)\n",
    "X = encoder.transform(data[:test_offset,:])\n",
    "X_test = encoder.transform(data[test_offset:,:])\n",
    "print(X.shape)\n",
    "print(X_test.shape)\n",
    "\n",
    "print(\"Total One Hot Features\",encoder.active_features_)\n",
    "print(\"Boundaries of each Feature\",len(encoder.feature_indices_),encoder.feature_indices_)\n",
    "print(\"Number of unique values in each feature\",len(encoder.n_values_),encoder.n_values_)\n",
    "# print(np.unique(data[:,0]))\n",
    "# print(np.unique(data[:,1]))\n",
    "# sb.barplot(x=np.arange(92),y=encoder.n_values_)"
   ]
  },
  {
   "cell_type": "code",
   "execution_count": null,
   "metadata": {
    "collapsed": false
   },
   "outputs": [],
   "source": [
    "#Feature Selection - Gradient Boosting (Filtering)\n",
    "dtc = DecisionTreeClassifier(criterion='entropy')\n",
    "dtc.fit(X,y)\n",
    "print(dtc.feature_importances_)\n",
    "features = dtc.feature_importances_\n",
    "\n",
    "#sb.distplot(feat,bins=100)\n",
    "#print(np.argmax(features),np.max(features))\n",
    "# Sum features in the same bin as defined by encoder.n_values_\n",
    "x = 0\n",
    "start = 0\n",
    "prob_sum = []\n",
    "#prob_ref = dict()\n",
    "for i in encoder.n_values_ : \n",
    "    prob = features[start:i].sum()\n",
    "    prob_sum.append(prob)\n",
    "    #prob_ref[header[x]] = prob \n",
    "    start = i + 1\n",
    "    #x += 1"
   ]
  },
  {
   "cell_type": "code",
   "execution_count": null,
   "metadata": {
    "collapsed": false
   },
   "outputs": [],
   "source": [
    "# Stability Selection using Randomized Lasso\n",
    "\n",
    "rlasso = linear_model.RandomizedLogisticRegression(C=1)\n",
    "rlasso.fit(X,y)\n",
    "\n",
    "rlasso_score = rlasso.scores_\n",
    "\n",
    "x = 0\n",
    "start = 0\n",
    "prob_sum = []\n",
    "for i in encoder.n_values_ : \n",
    "    prob_sum.append(rlasso_score[start:i].sum())\n",
    "    start = i + 1\n",
    "\n",
    "print(rlasso_score)\n",
    "print(prob_sum)\n"
   ]
  },
  {
   "cell_type": "code",
   "execution_count": null,
   "metadata": {
    "collapsed": false
   },
   "outputs": [],
   "source": [
    "#Feature Selection - Greedy Algorithm (Wrapping)\n",
    "\n",
    "estimator = linear_model.LogisticRegression(C=1)\n",
    "selector = RFE(estimator)\n",
    "selector = selector.fit(X, y)\n",
    "selector.ranking_"
   ]
  },
  {
   "cell_type": "code",
   "execution_count": 4,
   "metadata": {
    "collapsed": false
   },
   "outputs": [
    {
     "data": {
      "text/plain": [
       "['RESOURCE',\n",
       " 'MGR_ID',\n",
       " 'ROLE_FAMILY',\n",
       " 'ROLE_CODE',\n",
       " 'RESOURCE&MGR_ID',\n",
       " 'RESOURCE&ROLE_ROLLUP_1',\n",
       " 'ROLE_FAMILY_DESC&ROLE_FAMILY',\n",
       " 'RESOURCE&MGR_ID&ROLE_ROLLUP_1',\n",
       " 'RESOURCE&MGR_ID&ROLE_ROLLUP_2',\n",
       " 'RESOURCE&MGR_ID&ROLE_FAMILY_DESC',\n",
       " 'RESOURCE&MGR_ID&ROLE_FAMILY',\n",
       " 'RESOURCE&ROLE_ROLLUP_1&ROLE_ROLLUP_2',\n",
       " 'RESOURCE&ROLE_ROLLUP_1&ROLE_FAMILY',\n",
       " 'RESOURCE&ROLE_ROLLUP_2&ROLE_FAMILY',\n",
       " 'RESOURCE&ROLE_DEPTNAME&ROLE_FAMILY_DESC',\n",
       " 'RESOURCE&ROLE_TITLE&ROLE_FAMILY',\n",
       " 'MGR_ID&ROLE_ROLLUP_1&ROLE_TITLE',\n",
       " 'MGR_ID&ROLE_ROLLUP_1&ROLE_FAMILY_DESC',\n",
       " 'MGR_ID&ROLE_ROLLUP_2&ROLE_DEPTNAME',\n",
       " 'MGR_ID&ROLE_ROLLUP_2&ROLE_TITLE',\n",
       " 'MGR_ID&ROLE_ROLLUP_2&ROLE_FAMILY',\n",
       " 'MGR_ID&ROLE_DEPTNAME&ROLE_TITLE',\n",
       " 'MGR_ID&ROLE_DEPTNAME&ROLE_FAMILY',\n",
       " 'MGR_ID&ROLE_TITLE&ROLE_FAMILY',\n",
       " 'ROLE_ROLLUP_1&ROLE_ROLLUP_2&ROLE_FAMILY_DESC',\n",
       " 'ROLE_ROLLUP_1&ROLE_DEPTNAME&ROLE_FAMILY',\n",
       " 'ROLE_ROLLUP_2&ROLE_DEPTNAME&ROLE_FAMILY',\n",
       " 'ROLE_DEPTNAME&ROLE_FAMILY_DESC&ROLE_FAMILY']"
      ]
     },
     "execution_count": 4,
     "metadata": {},
     "output_type": "execute_result"
    }
   ],
   "source": [
    "# Pick out the most useful features\n",
    "\n",
    "# sb.barplot(y=prob_sum,x=np.arange(92))\n",
    "#hsb = sb.hist(prob_sum,xlim=0.1)\n",
    "#Look at bar plot to see what threshold of the features to select\n",
    "# ufeatures = []\n",
    "# for i,j in enumerate(prob_sum):\n",
    "#     if (j>0) : ufeatures.append(i)\n",
    "# print(ufeatures)\n",
    "[header[i] for i in ufeatures]"
   ]
  },
  {
   "cell_type": "code",
   "execution_count": 3,
   "metadata": {
    "collapsed": false
   },
   "outputs": [
    {
     "name": "stdout",
     "output_type": "stream",
     "text": [
      "[0, 1, 7, 8, 9, 10, 36, 37, 38, 41, 42, 43, 47, 51, 53, 56, 60, 61, 63, 64, 66, 67, 69, 71, 75, 79, 85, 91]\n"
     ]
    }
   ],
   "source": [
    "# Kaggle Greedy Algorithm result\n",
    "#ufeatures = [0, 8, 9, 10, 19, 34, 36, 37, 38, 41, 42, 43, 47, 53, 55, 60, 61, 63, 64, 67, 69, 71, 75, 81, 82, 85]\n",
    "ufeatures = [0, 1, 7, 8, 9, 10, 36, 37, 38, 41, 42, 43, 47, 51, 53, 56, 60, 61, 63, 64, 66, 67, 69, 71, 75, 79, 85, 91]\n",
    "print(ufeatures)"
   ]
  },
  {
   "cell_type": "code",
   "execution_count": null,
   "metadata": {
    "collapsed": false
   },
   "outputs": [],
   "source": [
    "#OneHotEncoder for the best features only\n",
    "\n",
    "encode_bfeat = preprocessing.OneHotEncoder(dtype=np.uint32)\n",
    "# we want to encode the category IDs encountered both in\n",
    "# the training and the test set, so we fit the encoder on both\n",
    "encode_bfeat.fit(data[:,ufeatures])\n",
    "X = encode_bfeat.transform(data[:test_offset,ufeatures])\n",
    "X_test = encode_bfeat.transform(data[test_offset:,ufeatures])\n",
    "print(X.shape)\n",
    "print(X_test.shape)"
   ]
  },
  {
   "cell_type": "code",
   "execution_count": null,
   "metadata": {
    "collapsed": false
   },
   "outputs": [],
   "source": [
    "# Testing Random Forest Tree\n",
    "rf_head = [0,1,22,4,6,35]\n",
    "rf_data = pd.DataFrame(data)\n",
    "rf_data = rf_data[rf_head]\n",
    "rf_data.columns = [header[i] for i in rf_head]"
   ]
  },
  {
   "cell_type": "code",
   "execution_count": 5,
   "metadata": {
    "collapsed": false
   },
   "outputs": [],
   "source": [
    "#https://www.kaggle.com/c/caterpillar-tube-pricing/forums/t/15748/strategies-to-encode-categorical-variables-with-many-categories\n",
    "# One Time Run Completed\n",
    "#Count/Freq\n",
    "# for col in rf_data.columns:\n",
    "#     rf_data['cnt'+col] = 0\n",
    "#     groups = rf_data.groupby([col])\n",
    "#     # gid is the grouped col id, group is the actionable pandas data structure\n",
    "#     for gid, group in groups:\n",
    "#         #Count total number of rows with the same (MGR_ID,RESOURCE_ID etc) in the entire dataset\n",
    "#         count = group[col].count()\n",
    "#         #For all rows with the same \"MGR_ID\"/\"RESOURCE_ID\" , put the same count calculated in the previous step\n",
    "#         rf_data['cnt'+col].ix[group.index] = count \n",
    "#     #rf_data['cnt'+col] = rf_data['cnt'+col].apply(np.log) # could check if this is neccesary, I think probably not\n",
    "    \n",
    "# # Percent of dept that is this resource\n",
    "# for col in rf_data.columns[1:6]:\n",
    "#     rf_data['Duse'+col] = 0.0\n",
    "#     groups = rf_data.groupby([col])\n",
    "#     for name, group in groups:\n",
    "#         grps = group.groupby(['RESOURCE'])\n",
    "#         for rsrc, grp in grps:\n",
    "#             rf_data['Duse'+col].ix[grp.index] = float(len(grp.index)) / float(len(group.index) )\n",
    "\n",
    "# #Number of resources that a manager manages\n",
    "# for col in rf_data.columns[0:1]:\n",
    "#     rf_data['Mdeps'+col] = 0\n",
    "#     groups = rf_data.groupby(['MGR_ID'])\n",
    "#     for name, group in groups:\n",
    "#         rf_data['Mdeps'+col].ix[group.index] = len(group[col].unique())\n",
    "\n",
    "X = rf_data.values[:test_offset,6:18]\n",
    "X_test = rf_data.values[test_offset:,6:18]\n",
    "\n",
    "# X = rf_data.values[:test_offset,:]\n",
    "# X_test = rf_data.values[test_offset:,:]"
   ]
  },
  {
   "cell_type": "code",
   "execution_count": null,
   "metadata": {
    "collapsed": false
   },
   "outputs": [],
   "source": [
    "#Logistic Regression\n",
    "\n",
    "SEED = 42\n",
    "mean_auc = 0.0\n",
    "\n",
    "n = 10  # repeat the CV procedure 10 times to get more precise results\n",
    "model = linear_model.LogisticRegression(C=1,penalty='l2',class_weight='balanced')\n",
    "#model = BernoulliNB(alpha=0.005)\n",
    "#model = ensemble.ExtraTreesClassifier(criterion='entropy',n_jobs=-1,verbose=1)\n",
    "for i in range(n):\n",
    "    # for each iteration, randomly hold out 20% of the data as CV set\n",
    "    X_train, X_cv, y_train, y_cv = cross_validation.train_test_split(X, y, test_size=.20, random_state=i*SEED)\n",
    "\n",
    "    # if you want to perform feature selection / hyperparameter\n",
    "    # optimization, this is where you want to do it\n",
    "\n",
    "    # train model and make predictions\n",
    "    model.fit(X_train, y_train) \n",
    "    preds = model.predict_proba(X_cv)[:, 1]\n",
    "\n",
    "    # compute AUC metric for this CV fold\n",
    "    fpr, tpr, thresholds = metrics.roc_curve(y_cv, preds)\n",
    "    roc_auc = metrics.auc(fpr, tpr)\n",
    "    print(\"AUC (fold %d/%d): %f\" % (i + 1, n, roc_auc))\n",
    "    mean_auc += roc_auc\n",
    "\n",
    "print(\"Mean AUC: %f\" % (mean_auc/n))\n",
    "\n",
    "# === Predictions === #\n",
    "# When making predictions, retrain the model on the whole training set\n",
    "model.fit(X, y)\n",
    "preds = model.predict_proba(X_test)[:, 1]\n",
    "save_results(preds, \"submit.csv\")"
   ]
  },
  {
   "cell_type": "code",
   "execution_count": 24,
   "metadata": {
    "collapsed": false,
    "scrolled": true
   },
   "outputs": [
    {
     "name": "stdout",
     "output_type": "stream",
     "text": [
      "RF AUC (fold 1/1): 0.806772\n",
      "ET AUC (fold 1/1): 0.806170\n",
      "GB AUC (fold 1/1): 0.796830\n",
      "Ensemble AUC (fold 1/1): 0.854006\n",
      "Mean AUC: 0.854006\n"
     ]
    }
   ],
   "source": [
    "# Ensemble (Version 1)\n",
    "\n",
    "SEED = 42\n",
    "mean_auc = 0.0\n",
    "coeRF = 0.0\n",
    "coeET = 0.0\n",
    "coeGB = 0.0\n",
    "\n",
    "n = 1 # repeat the CV procedure 10 times to get more precise results\n",
    "# modelRF = RandomForestClassifier(criterion='entropy',n_estimators=500,max_depth=None,max_features='sqrt',min_samples_split=9,random_state=SEED)\n",
    "# modelET = ensemble.ExtraTreesClassifier(criterion='entropy',n_estimators=500,max_features='sqrt',min_samples_split=8,max_depth=None,random_state=SEED)\n",
    "# modelGB = GradientBoostingClassifier(max_depth=20,min_samples_split=9,random_state=SEED,learning_rate=0.2,n_estimators=50)\n",
    "\n",
    "modelRF = RandomForestClassifier()\n",
    "modelET = ensemble.ExtraTreesClassifier()\n",
    "modelGB = GradientBoostingClassifier()\n",
    "\n",
    "\n",
    "for i in range(n):\n",
    "    # for each iteration, randomly hold out 20% of the data as CV set\n",
    "    X_train, X_cv, y_train, y_cv = cross_validation.train_test_split(X, y, test_size=.20, random_state=i*SEED)\n",
    "\n",
    "    # if you want to perform feature selection / hyperparameter\n",
    "    # optimization, this is where you want to do it\n",
    "\n",
    "    # train model and make predictions\n",
    "    modelRF.fit(X_train, y_train) \n",
    "    modelET.fit(X_train, y_train) \n",
    "    modelGB.fit(X_train, y_train) \n",
    "    \n",
    "    predsRF = modelRF.predict_proba(X_cv)[:, 1]\n",
    "    predsRFP = modelRF.predict(X_cv)\n",
    "    predsET = modelET.predict_proba(X_cv)[:, 1]\n",
    "    predsGB = modelGB.predict_proba(X_cv)[:, 1]\n",
    "    predsC = (predsRF + predsET + predsGB)/3\n",
    "      \n",
    "    eX = np.hstack((predsRF,predsET,predsGB)).reshape(3,len(predsRF)).transpose()\n",
    "    modelE = linear_model.LogisticRegression()\n",
    "    modelE.fit(eX,y_cv)\n",
    "    \n",
    "    coeRF += modelE.coef_[0][0]\n",
    "    coeET += modelE.coef_[0][0]\n",
    "    coeGB += modelE.coef_[0][0]\n",
    "    \n",
    "\n",
    "    # compute AUC metric for this CV fold\n",
    "    fprRFP, tprRFP, _ = metrics.roc_curve(y_cv, predsRFP)\n",
    "    fprRF, tprRF, _ = metrics.roc_curve(y_cv, predsRF)\n",
    "    fprET, tprET, _ = metrics.roc_curve(y_cv, predsET)\n",
    "    fprGB, tprGB, _ = metrics.roc_curve(y_cv, predsGB)\n",
    "    fprC, tprC, _ = metrics.roc_curve(y_cv, predsC)\n",
    "    \n",
    "    roc_aucRF = metrics.auc(fprRFP, tprRFP)\n",
    "    roc_aucRF = metrics.auc(fprRF, tprRF)\n",
    "    roc_aucET = metrics.auc(fprET, tprET)\n",
    "    roc_aucGB = metrics.auc(fprGB, tprGB)\n",
    "    roc_aucC = metrics.auc(fprC, tprC)\n",
    "    \n",
    "    print(\"RF AUC (fold %d/%d): %f\" % (i + 1, n, roc_aucRF))\n",
    "    print(\"ET AUC (fold %d/%d): %f\" % (i + 1, n, roc_aucET))\n",
    "    print(\"GB AUC (fold %d/%d): %f\" % (i + 1, n, roc_aucGB))\n",
    "    print(\"Ensemble AUC (fold %d/%d): %f\" % (i + 1, n, roc_aucC))\n",
    "    mean_auc += roc_aucC\n",
    "    \n",
    "    fileObject = open(\"test.pickle\",'wb') \n",
    "    pickle.dump(RandomForestClassifier,fileObject)   \n",
    "    fileObject.close()\n",
    "\n",
    "print(\"Mean AUC: %f\" % (mean_auc/n))\n",
    "coeRF = coeRF / n\n",
    "coeET = coeET / n\n",
    "coeGB = coeGB / n\n",
    "\n",
    "# === Predictions === #\n",
    "# When making predictions, retrain the model on the whole training set\n",
    "modelRF.fit(X, y)\n",
    "modelET.fit(X, y)\n",
    "modelGB.fit(X, y)\n",
    "\n",
    "predsRF = modelRF.predict_proba(X_test)[:, 1]\n",
    "predsET = modelET.predict_proba(X_test)[:, 1]\n",
    "predsGB = modelGB.predict_proba(X_test)[:, 1]\n",
    "predsC = (predsRF + predsET + predsGB)/3\n",
    "\n",
    "predsE = coeRF * predsRF + coeGB * predsGB + coeET * predsET\n",
    "\n",
    "save_results(predsC, \"submit_e1.csv\")\n",
    "save_results(predsE, \"submit_e2.csv\")"
   ]
  },
  {
   "cell_type": "code",
   "execution_count": 25,
   "metadata": {
    "collapsed": false
   },
   "outputs": [
    {
     "data": {
      "image/png": "[encoded data removed]",
      "text/plain": [
       "<matplotlib.figure.Figure at 0x17109890>"
      ]
     },
     "metadata": {},
     "output_type": "display_data"
    },
    {
     "data": {
      "image/png": "[encoded data removed]",
      "text/plain": [
       "<matplotlib.figure.Figure at 0xf198ab0>"
      ]
     },
     "metadata": {},
     "output_type": "display_data"
    },
    {
     "data": {
      "image/png": "[encoded data removed]",
      "text/plain": [
       "<matplotlib.figure.Figure at 0xf1e9d30>"
      ]
     },
     "metadata": {},
     "output_type": "display_data"
    },
    {
     "data": {
      "image/png": "[encoded data removed]",
      "text/plain": [
       "<matplotlib.figure.Figure at 0x10271810>"
      ]
     },
     "metadata": {},
     "output_type": "display_data"
    },
    {
     "data": {
      "image/png": "[encoded data removed]",
      "text/plain": [
       "<matplotlib.figure.Figure at 0x119182f0>"
      ]
     },
     "metadata": {},
     "output_type": "display_data"
    }
   ],
   "source": [
    "# print(fprRF.shape)\n",
    "# print(tprRF.shape)\n",
    "# print(modelRF.predict_proba(X_cv)[1:6,:])\n",
    "# print(modelRF.predict(X_cv)[1:6])\n",
    "\n",
    "plt.plot(fprRFP,tprRFP)\n",
    "plt.show() \n",
    "\n",
    "plt.plot(fprRF,tprRF)\n",
    "plt.show() \n",
    "\n",
    "plt.plot(fprET,tprET)\n",
    "plt.show() \n",
    "\n",
    "plt.plot(fprGB,tprGB)\n",
    "plt.show() \n",
    "\n",
    "plt.plot(fprC,tprC)\n",
    "plt.show() \n"
   ]
  },
  {
   "cell_type": "code",
   "execution_count": 5,
   "metadata": {
    "collapsed": true
   },
   "outputs": [],
   "source": [
    "# Numpy Operations\n",
    "# print(np.fromiter(t_data[0],np.int32))\n",
    "# print(np.fromiter(t_data[1],np.int32))\n",
    "# print(np.fromiter(t_data[2],np.int32))\n",
    "# print(np.fromiter(t_data[3],np.int32))\n",
    "# print(np.fromiter(t_data[4],np.int32))\n",
    "# print(np.fromiter(t_data[5],np.int32))\n",
    "\n",
    "# Convert to numpy array - Use np.array(list)\n",
    "# for i in nparray - iterate through rows\n",
    "# for i in nparray.T - iterate through columns\n",
    "# Initialize np.zeros(5)\n",
    "\n",
    "# To view generator operators (Use list,tuples)\n",
    "# for i,j in enumerate(t_data):\n",
    "#     #lst_array[i] = np.array(list(j))\n",
    "#     lst_array[i] = np.fromiter(j,np.float)"
   ]
  },
  {
   "cell_type": "code",
   "execution_count": 14,
   "metadata": {
    "collapsed": false,
    "scrolled": true
   },
   "outputs": [
    {
     "name": "stdout",
     "output_type": "stream",
     "text": [
      "0.843093900006\n",
      "VotingClassifier(estimators=[('rfc', RandomForestClassifier(bootstrap=True, class_weight=None, criterion='gini',\n",
      "            max_depth=None, max_features='sqrt', max_leaf_nodes=None,\n",
      "            min_samples_leaf=1, min_samples_split=9,\n",
      "            min_weight_fraction_leaf=0.0, n_estimators=500, n_jobs=1,\n",
      "           ...ty='l2', random_state=None,\n",
      "          solver='liblinear', tol=0.0001, verbose=0, warm_start=False))],\n",
      "         voting='soft', weights=None)\n",
      "[ 0.76564228  0.85608069  0.89831971 ...,  0.87327189  0.86998157  0.822783  ]\n"
     ]
    }
   ],
   "source": [
    "#GridSearchCV\n",
    "\n",
    "SEED = 35\n",
    "\n",
    "clf1 = RandomForestClassifier(max_depth=None,max_features='sqrt',min_samples_split=9,random_state=SEED)\n",
    "clf2 = ensemble.ExtraTreesClassifier(max_features='sqrt',min_samples_split=8,max_depth=None,random_state=SEED)\n",
    "clf3 = GradientBoostingClassifier(max_depth=20,min_samples_split=9,random_state=SEED,learning_rate=0.2,n_estimators=50)\n",
    "clf4 = linear_model.LogisticRegression(C=1,penalty='l2',class_weight='balanced')\n",
    "\n",
    "\n",
    "#estimators = [('mrf',RandomForestClassifier()),('etc',ExtraTreesClassifier()),('gbc',GradientBoostingClassifier())]\n",
    "#pipeline = Pipeline([('mrf',RandomForestClassifier())])\n",
    "\n",
    "eclf = ensemble.VotingClassifier(estimators=[('rfc',clf1),('etc',clf2),('gbc',clf3),('lr',clf4)],voting='soft')\n",
    "params = {\n",
    "    'rfc__n_estimators' : [50,100,500],\n",
    "    'etc__n_estimators' : [50,100,500],\n",
    "    'gbc__max_depth' : [5,20]\n",
    "}\n",
    "\n",
    "grid = grid_search.GridSearchCV(estimator=eclf,param_grid=params,scoring='roc_auc',n_jobs=-1)\n",
    "grid.fit(X,y)\n",
    "\n",
    "print(grid.best_score_)\n",
    "print(grid.best_estimator_)\n",
    "pred_grid = grid.predict_proba(X_test)\n",
    "print(pred_grid[:, 1])\n",
    "\n",
    "save_results(pred_grid[:, 1], \"submit_v1.csv\")\n"
   ]
  },
  {
   "cell_type": "code",
   "execution_count": null,
   "metadata": {
    "collapsed": false,
    "scrolled": true
   },
   "outputs": [],
   "source": [
    "#Random Forest Ensemble\n",
    "\n",
    "Xf = rf_data.values[:test_offset,6:18]\n",
    "Xf_test = rf_data.values[test_offset:,6:18]\n",
    "\n",
    "SEED = 42\n",
    "\n",
    "clf1 = RandomForestClassifier(criterion='entropy',n_estimators=500,max_depth=None,max_features='sqrt',min_samples_split=9,random_state=SEED)\n",
    "clf2 = ensemble.ExtraTreesClassifier(criterion='entropy',n_estimators=500,max_features='sqrt',min_samples_split=8,max_depth=None,random_state=SEED)\n",
    "clf3 = GradientBoostingClassifier(max_depth=20,min_samples_split=9,random_state=SEED,learning_rate=0.2,n_estimators=50)\n",
    "clf4 = linear_model.LogisticRegression(C=1,penalty='l2',class_weight='balanced')\n",
    "\n",
    "# Try CalibratedClassifierCV (Especially for RF) -- See if any improvement on AUC\n",
    "# rfc = RandomForestClassifier(n_estimators=100, n_jobs=-1, random_state=1)\n",
    "# rfc_calib = CalibrationClassifierCV(base_estimator=rfc, cv=3, method='isotonic')\n",
    "# rfc_calib.train(train_x, train_y)\n",
    "# print log_loss(test_y, rfc_calib.predict_proba(test_x))\n",
    "\n",
    "etsrf = cross_validation.cross_val_score(clf2,Xf,y,scoring='roc_auc',cv=10)\n",
    "etsf = cross_validation.cross_val_score(clf2,X,y,scoring='roc_auc',cv=10)\n",
    "print(\"ET rf_data\",efsrf)\n",
    "print(\"ET Full Set\",etsf)\n",
    "\n",
    "\n",
    "\n",
    "# Use Log Loss with Scipy.Optimize to find the suitable weights\n",
    "#Does not support sparse array\n",
    "# rfs = cross_validation.cross_val_score(clf1,Xf,y,scoring='roc_auc',cv=10)\n",
    "#Supports Sparse array\n",
    "# ets = cross_validation.cross_val_score(clf2,Xf,y,scoring='roc_auc',cv=10)\n",
    "# gbs = cross_validation.cross_val_score(clf3,Xf,y,scoring='roc_auc',cv=10)\n",
    "# lrs = cross_validation.cross_val_score(clf4,X,y,scoring='roc_auc',cv=10)\n",
    "# print(\"RF\",rfs)\n",
    "# print(\"ET\",ets)\n",
    "# print(\"GB\",gbs)\n",
    "# print(\"LR\",lrs)\n",
    "\n",
    "# Try cross_validation.ShuffleSplit (Especially for having same index between Log Regression and the Decision Tree Classifiers)\n",
    "# rs = cross_validation.ShuffleSplit(len(y),n_iter=1,test_size=.5, random_state=SEED)\n",
    "# for train_index, test_index in rs:\n",
    "#     clf1.fit(Xf[train_index],y[train_index])\n",
    "#     clf2.fit(Xf[train_index],y[train_index])\n",
    "#     clf3.fit(Xf[train_index],y[train_index])\n",
    "#     clf4.fit(X[train_index],y[train_index])\n",
    "    \n",
    "#     pclf1 = clf1.predict_proba(Xf[test_index])[:, 1]\n",
    "#     pclf2 = clf1.predict_proba(Xf[test_index])[:, 1]\n",
    "#     pclf3 = clf1.predict_proba(Xf[test_index])[:, 1]\n",
    "#     pclf4 = clf1.predict_proba(X[test_index])[:, 1]\n",
    "    \n",
    "#     sclf1 = metrics.roc_auc_score(y[test_index], pclf1)\n",
    "#     sclf2 = metrics.roc_auc_score(y[test_index], pclf2)\n",
    "#     sclf3 = metrics.roc_auc_score(y[test_index], pclf3)\n",
    "#     sclf4 = metrics.roc_auc_score(y[test_index], pclf4)\n",
    "#     print(\"Train:\",len(train_index))\n",
    "#     print(\"Test:\",len(test_index))\n",
    "\n",
    "# === Predictions === #\n",
    "# When making predictions, retrain the model on the whole training set\n",
    "# clf1.fit(Xf, y)\n",
    "# clf2.fit(Xf, y)\n",
    "# clf3.fit(Xf, y)\n",
    "# clf4.fit(X, y)\n",
    "\n",
    "# predsRF = clf1.predict_proba(Xf_test)[:, 1]\n",
    "# predsET = clf2.predict_proba(Xf_test)[:, 1]\n",
    "# predsGB = clf3.predict_proba(Xf_test)[:, 1]\n",
    "# predsLR = clf4.predict_proba(X_test)[:, 1]\n",
    "\n",
    "# predsC = (predsRF + predsET + predsGB + 2*predsLR)/5\n",
    "# predsS = (np.amax(np.vstack((predsLR,predsGB,predsRF,predsET)),axis=0))\n",
    "\n",
    "# save_results(predsC, \"submit_v1.csv\") #0.91042 - (predsRF + predsET + predsGB + 2*predsLR)/5\n",
    "# save_results(predsS, \"submit_v2.csv\") #0.86148\n",
    "# print(\"Complete\")\n"
   ]
  },
  {
   "cell_type": "code",
   "execution_count": 39,
   "metadata": {
    "collapsed": false
   },
   "outputs": [],
   "source": [
    "predsS = (np.amax(np.vstack((predsLR,predsGB,predsRF,predsET)),axis=0))\n",
    "save_results(predsS, \"submit_v2.csv\") "
   ]
  },
  {
   "cell_type": "markdown",
   "metadata": {},
   "source": [
    "AUC = Logistic Regression returns the probability that a certain input features would be in a certain class\n",
    "ROC curve visualizaes all possible thresholds\n",
    "Misclassification rate is error rate for a single threshold\n",
    "\n",
    "\n",
    "Attempt with original features only : CV : ... , Public : 0.88515, Private : 0.88205\n",
    "\n",
    "Attempt with original features + combination of 3 : CV : 0.886375 , Public : 0.90141, Private 0.89582 \n",
    "ExtraTreeClassifier = submit_etc.csv\n",
    "\n",
    "\n",
    "Attempt with original features + combination of 3 : CV : 0.886375 , Public : 0.90141, Private 0.89582 \n",
    "Logistic C=1, class_weight='balanced',penalty='l2' = submit_c3.csv\n",
    "\n",
    "Attempt with DTC selected features : CV :  0.886555 (threshold >0) , Public : , Private \n",
    "j>0.001 or 0 \n",
    "Logistic\n",
    "\n",
    "Attempt with Random Lasso  : CV : 0.886439   , Public : , Private \n",
    "j>0\n",
    "Logistic C=1, class_weight='balanced',penalty='l2' = submit_rl.csv\n",
    "\n",
    "Cheat Sheet from Kaggle, CV : 0.895952\n",
    "Logistic C=1, class_weight='balanced',penalty='l2' = submit_kc.csv - Private = 0.89872"
   ]
  },
  {
   "cell_type": "code",
   "execution_count": null,
   "metadata": {
    "collapsed": false
   },
   "outputs": [],
   "source": [
    "X_test.shape"
   ]
  },
  {
   "cell_type": "code",
   "execution_count": 123,
   "metadata": {
    "collapsed": false
   },
   "outputs": [
    {
     "data": {
      "text/plain": [
       "array([[  7.00000000e+00,   1.45000000e+02,   1.62000000e+02, ...,\n",
       "          2.22271616e-04,   2.23851363e-04,   5.80000000e+01],\n",
       "       [  9.30000000e+01,   3.40000000e+01,   3.13000000e+02, ...,\n",
       "          3.44827586e-02,   3.44827586e-02,   2.70000000e+01],\n",
       "       [  8.00000000e+00,   7.00000000e+00,   2.70000000e+01, ...,\n",
       "          1.08695652e-02,   1.25000000e-02,   5.00000000e+00],\n",
       "       ..., \n",
       "       [  5.37000000e+02,   2.00000000e+01,   9.60000000e+01, ...,\n",
       "          2.00000000e-01,   2.00000000e-01,   9.00000000e+00],\n",
       "       [  1.30000000e+01,   4.70000000e+01,   4.84000000e+02, ...,\n",
       "          1.35869565e-03,   1.35869565e-03,   3.00000000e+01],\n",
       "       [  4.26000000e+02,   1.50000000e+01,   1.55000000e+02, ...,\n",
       "          7.69230769e-02,   7.69230769e-02,   1.20000000e+01]])"
      ]
     },
     "execution_count": 123,
     "metadata": {},
     "output_type": "execute_result"
    }
   ],
   "source": [
    "Xf"
   ]
  },
  {
   "cell_type": "code",
   "execution_count": 29,
   "metadata": {
    "collapsed": false
   },
   "outputs": [
    {
     "name": "stdout",
     "output_type": "stream",
     "text": [
      "[[ 1  2 30  4  5]\n",
      " [11  7  8  9 10]\n",
      " [ 3 12 13 14 15]]\n",
      "[11 12 30 14 15]\n"
     ]
    }
   ],
   "source": [
    "te1 = np.array([1,2,30,4,5])\n",
    "te2 = np.array([11,7,8,9,10])\n",
    "te3 = np.array([3,12,13,14,15])\n",
    "teh = np.vstack((te1,te2,te3))\n",
    "print(teh)\n",
    "print(np.amax(teh,axis=0))"
   ]
  },
  {
   "cell_type": "code",
   "execution_count": null,
   "metadata": {
    "collapsed": false
   },
   "outputs": [],
   "source": [
    "teh = np.hstack((te1,te2,te3)).reshape(3,5).transpose()\n",
    "print(teh)"
   ]
  },
  {
   "cell_type": "code",
   "execution_count": 6,
   "metadata": {
    "collapsed": false
   },
   "outputs": [],
   "source": [
    "fileObject = open(\"test.pickle\",'wb') \n",
    "pickle.dump(RandomForestClassifier,fileObject)   \n",
    "fileObject.close()"
   ]
  },
  {
   "cell_type": "code",
   "execution_count": 4,
   "metadata": {
    "collapsed": false,
    "scrolled": true
   },
   "outputs": [
    {
     "data": {
      "text/plain": [
       "['BernoulliNB',\n",
       " 'DecisionTreeClassifier',\n",
       " 'GradientBoostingClassifier',\n",
       " 'RFE',\n",
       " 'RandomForestClassifier',\n",
       " 'X',\n",
       " 'X_test',\n",
       " 'combinations',\n",
       " 'cross_validation',\n",
       " 'data',\n",
       " 'df',\n",
       " 'dft',\n",
       " 'encoder',\n",
       " 'ensemble',\n",
       " 'features',\n",
       " 'header',\n",
       " 'linear_model',\n",
       " 'metrics',\n",
       " 'np',\n",
       " 'pd',\n",
       " 'pickle',\n",
       " 'pivot_ui',\n",
       " 'plt',\n",
       " 'preprocessing',\n",
       " 'rf_data',\n",
       " 'sb',\n",
       " 'test_offset',\n",
       " 'widgets',\n",
       " 'y']"
      ]
     },
     "execution_count": 4,
     "metadata": {},
     "output_type": "execute_result"
    }
   ],
   "source": [
    "who_ls\n",
    "%reset_selective -f b"
   ]
  },
  {
   "cell_type": "code",
   "execution_count": null,
   "metadata": {
    "collapsed": true
   },
   "outputs": [],
   "source": []
  }
 ],
 "metadata": {
  "kernelspec": {
   "display_name": "Python 3",
   "language": "python",
   "name": "python3"
  },
  "language_info": {
   "codemirror_mode": {
    "name": "ipython",
    "version": 3
   },
   "file_extension": ".py",
   "mimetype": "text/x-python",
   "name": "python",
   "nbconvert_exporter": "python",
   "pygments_lexer": "ipython3",
   "version": "3.5.1"
  }
 },
 "nbformat": 4,
 "nbformat_minor": 0
}
