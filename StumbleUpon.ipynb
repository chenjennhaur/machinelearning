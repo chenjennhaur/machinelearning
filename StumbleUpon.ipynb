{
 "cells": [
  {
   "cell_type": "code",
   "execution_count": 6,
   "metadata": {
    "collapsed": true
   },
   "outputs": [],
   "source": [
    "import numpy as np\n",
    "from sklearn import metrics,preprocessing,cross_validation\n",
    "from sklearn.feature_extraction.text import TfidfVectorizer\n",
    "import sklearn.linear_model as lm\n",
    "import pandas as p"
   ]
  },
  {
   "cell_type": "code",
   "execution_count": null,
   "metadata": {
    "collapsed": true
   },
   "outputs": [],
   "source": [
    "#inside a ipython/nb session\n",
    "# %store encoder\n",
    "\n",
    "# Retrieve\n",
    "# %store -r encoder\n",
    "\n",
    "# f = open('stumble.pickle', 'wb')  \n",
    "# save = {\n",
    "#     'data': data,\n",
    "#     }\n",
    "# pickle.dump(save,f)\n",
    "# f.close()\n",
    "\n",
    "\n",
    "# with open(\"stumble.pickle\", 'rb') as f:\n",
    "#   save = pickle.load(f)\n",
    "#   data = save['data']"
   ]
  },
  {
   "cell_type": "code",
   "execution_count": 22,
   "metadata": {
    "collapsed": false
   },
   "outputs": [
    {
     "ename": "AttributeError",
     "evalue": "'str' object has no attribute 'dtype'",
     "output_type": "error",
     "traceback": [
      "\u001b[1;31m---------------------------------------------------------------------------\u001b[0m",
      "\u001b[1;31mAttributeError\u001b[0m                            Traceback (most recent call last)",
      "\u001b[1;32m<ipython-input-22-201096dd9f2c>\u001b[0m in \u001b[0;36m<module>\u001b[1;34m()\u001b[0m\n\u001b[1;32m----> 1\u001b[1;33m \u001b[0mtraindata\u001b[0m\u001b[1;33m[\u001b[0m\u001b[1;36m1\u001b[0m\u001b[1;33m]\u001b[0m\u001b[1;33m.\u001b[0m\u001b[0mdtype\u001b[0m\u001b[1;33m\u001b[0m\u001b[0m\n\u001b[0m",
      "\u001b[1;31mAttributeError\u001b[0m: 'str' object has no attribute 'dtype'"
     ]
    }
   ],
   "source": [
    "traindata[1]"
   ]
  },
  {
   "cell_type": "code",
   "execution_count": 23,
   "metadata": {
    "collapsed": false
   },
   "outputs": [
    {
     "name": "stdout",
     "output_type": "stream",
     "text": [
      "loading data..\n"
     ]
    }
   ],
   "source": [
    "print(\"loading data..\")\n",
    "train = p.read_table('train.tsv')\n",
    "test = p.read_table('test.tsv')\n",
    "traindata = list(np.array(train)[:,2])\n",
    "testdata = list(np.array(test)[:,2])\n",
    "y = np.array(p.read_table('train.tsv'))[:,-1]\n",
    "\n",
    "tfv = TfidfVectorizer(min_df=3,  max_features=None, strip_accents='unicode',analyzer='word',token_pattern=r'\\w{1,}',\n",
    "                      ngram_range=(1, 2), use_idf=1,smooth_idf=1,sublinear_tf=1)\n",
    "\n",
    "rd = lm.LogisticRegression(penalty='l2', dual=True, tol=0.0001, \n",
    "                             C=1, fit_intercept=True, intercept_scaling=1.0, \n",
    "                             class_weight=None, random_state=None)\n",
    "\n",
    "X_all = traindata + testdata\n",
    "lentrain = len(traindata)\n",
    "\n",
    "print(\"fitting pipeline\")\n",
    "tfv.fit(X_all)\n",
    "print(\"transforming data\")\n",
    "X_all = tfv.transform(X_all)\n",
    "\n",
    "X = X_all[:lentrain]\n",
    "X_test = X_all[lentrain:]"
   ]
  },
  {
   "cell_type": "code",
   "execution_count": 65,
   "metadata": {
    "collapsed": false
   },
   "outputs": [
    {
     "data": {
      "text/plain": [
       "array([ 0.86995491,  0.8799832 ,  0.8766238 ])"
      ]
     },
     "execution_count": 65,
     "metadata": {},
     "output_type": "execute_result"
    }
   ],
   "source": [
    "y = y.astype('int')\n",
    "cross_validation.cross_val_score(rd, X, y, cv=3, scoring='roc_auc')\n"
   ]
  },
  {
   "cell_type": "code",
   "execution_count": 67,
   "metadata": {
    "collapsed": false
   },
   "outputs": [
    {
     "name": "stdout",
     "output_type": "stream",
     "text": [
      "20 Fold CV Score:  0.877123838223\n",
      "training on full data\n",
      "submission file created..\n"
     ]
    }
   ],
   "source": [
    "\n",
    "\n",
    "\n",
    "print(\"20 Fold CV Score: \", np.mean(cross_validation.cross_val_score(rd, X, y, cv=20, scoring='roc_auc')))\n",
    "\n",
    "print(\"training on full data\")\n",
    "rd.fit(X,y)\n",
    "pred = rd.predict_proba(X_test)[:,1]\n",
    "testfile = p.read_csv('test.tsv', sep=\"\\t\", na_values=['?'], index_col=1)\n",
    "pred_df = p.DataFrame(pred, index=testfile.index, columns=['label'])\n",
    "pred_df.to_csv('benchmark.csv')\n",
    "print(\"submission file created..\")"
   ]
  },
  {
   "cell_type": "code",
   "execution_count": null,
   "metadata": {
    "collapsed": true
   },
   "outputs": [],
   "source": []
  }
 ],
 "metadata": {
  "kernelspec": {
   "display_name": "Python 3",
   "language": "python",
   "name": "python3"
  },
  "language_info": {
   "codemirror_mode": {
    "name": "ipython",
    "version": 3
   },
   "file_extension": ".py",
   "mimetype": "text/x-python",
   "name": "python",
   "nbconvert_exporter": "python",
   "pygments_lexer": "ipython3",
   "version": "3.5.1"
  }
 },
 "nbformat": 4,
 "nbformat_minor": 0
}
