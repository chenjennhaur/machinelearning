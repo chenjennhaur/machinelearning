{
 "cells": [
  {
   "cell_type": "code",
   "execution_count": 59,
   "metadata": {
    "collapsed": true
   },
   "outputs": [],
   "source": [
    "import numpy as np\n",
    "import random\n",
    "\n",
    "from scipy import sparse\n",
    "from scipy.spatial import distance\n",
    "\n",
    "from matplotlib import pyplot as plt\n",
    "%matplotlib inline\n",
    "\n"
   ]
  },
  {
   "cell_type": "code",
   "execution_count": 29,
   "metadata": {
    "collapsed": false
   },
   "outputs": [],
   "source": [
    "data = np.loadtxt('data/u.data')\n",
    "\n",
    "def load():\n",
    "    # user id and item id\n",
    "    ij = data[:, :2]\n",
    "    ij -= 1 # original data is in 1-based system\n",
    "    # rating\n",
    "    values = data[:, 2]\n",
    "    #reviews = sparse.csc_matrix((values, ij.T)).astype(float)\n",
    "    reviews = sparse.csc_matrix(data[:,:3]).astype(float)\n",
    "    return reviews.toarray()"
   ]
  },
  {
   "cell_type": "code",
   "execution_count": 30,
   "metadata": {
    "collapsed": false
   },
   "outputs": [],
   "source": [
    "reviews = load()"
   ]
  },
  {
   "cell_type": "code",
   "execution_count": 32,
   "metadata": {
    "collapsed": false
   },
   "outputs": [],
   "source": [
    "# U - row index, M - column index where condition (reviews) is true\n",
    "# Also means, return indices of row+column index where review is not empty\n",
    "U, M = np.where(reviews)"
   ]
  },
  {
   "cell_type": "code",
   "execution_count": 52,
   "metadata": {
    "collapsed": true
   },
   "outputs": [],
   "source": [
    "# // - Floor Division , create a sample between 0 to 299276 with shape 29927\n",
    "test_idxs = np.array(random.sample(range(len(U)), len(U)//10))\n",
    "# Set training data values to be zero\n",
    "train = reviews.copy()\n",
    "train[U[test_idxs], M[test_idxs]] = 0\n",
    "# Set test data values to be with values\n",
    "test = np.zeros_like(reviews)\n",
    "test[U[test_idxs], M[test_idxs]] = reviews[U[test_idxs],M[test_idxs]]"
   ]
  },
  {
   "cell_type": "code",
   "execution_count": 55,
   "metadata": {
    "collapsed": true
   },
   "outputs": [],
   "source": [
    "class NormalizePositive(object):\n",
    "    # axis = 0 is columns\n",
    "    def __init__(self, axis=0):\n",
    "        self.axis = axis\n",
    "        \n",
    "    def fit(self, features, y=None):\n",
    "       if self.axis == 1:\n",
    "        features = features.T\n",
    "        \n",
    "       # count features that are greater than zero in axis 0:\n",
    "       binary = (features > 0)\n",
    "       count0 = binary.sum(axis=0) \n",
    "       # to avoid division by zero, set zero counts to one:\n",
    "       count0[count0 == 0] = 1\n",
    "       # computing the mean is easy:\n",
    "       self.mean = features.sum(axis=0)/count0\n",
    "       # only consider differences where binary is True:\n",
    "       diff = (features - self.mean) * binary\n",
    "       diff **= 2\n",
    "       # regularize the estimate of std by adding 0.1\n",
    "       self.std = np.sqrt(0.1 + diff.sum(axis=0)/count0)\n",
    "       return self\n",
    "\n",
    "    def transform(self, features):\n",
    "        if self.axis == 1:\n",
    "            features = features.T\n",
    "        binary = (features > 0)\n",
    "        features = features - self.mean\n",
    "        features /= self.std\n",
    "        features *= binary\n",
    "        if self.axis == 1:\n",
    "            features = features.T\n",
    "        return features\n",
    "    \n",
    "    #un-normalize the data to view \n",
    "    def inverse_transform(self, features, copy=True):\n",
    "        if copy:\n",
    "            features = features.copy()\n",
    "        if self.axis == 1:\n",
    "            features = features.T\n",
    "        features *= self.std\n",
    "        features += self.mean\n",
    "        if self.axis == 1:\n",
    "            features = features.T\n",
    "        return features\n",
    "    \n",
    "    def fit_transform(self, features):\n",
    "        return self.fit(features).transform(features)"
   ]
  },
  {
   "cell_type": "code",
   "execution_count": 58,
   "metadata": {
    "collapsed": false
   },
   "outputs": [
    {
     "data": {
      "text/plain": [
       "<matplotlib.image.AxesImage at 0x266bc6ca3c8>"
      ]
     },
     "execution_count": 58,
     "metadata": {},
     "output_type": "execute_result"
    },
    {
     "data": {
      "image/png": "[encoded data removed]",
      "text/plain": [
       "<matplotlib.figure.Figure at 0x266bddb5668>"
      ]
     },
     "metadata": {},
     "output_type": "display_data"
    }
   ],
   "source": [
    "norm = NormalizePositive(axis=1)\n",
    "binary = (train > 0)\n",
    "train = norm.fit_transform(train)\n",
    "plt.imshow(binary[:200, :200], interpolation='nearest')"
   ]
  },
  {
   "cell_type": "code",
   "execution_count": null,
   "metadata": {
    "collapsed": true
   },
   "outputs": [],
   "source": [
    "# compute all pair-wise distances:\n",
    "dists = distance.pdist(binary, 'correlation')\n",
    "# Convert to square form, so that dists[i,j]\n",
    "# is distance between binary[i] and binary[j]:\n",
    "dists = distance.squareform(dists)"
   ]
  }
 ],
 "metadata": {
  "kernelspec": {
   "display_name": "Python 3",
   "language": "python",
   "name": "python3"
  },
  "language_info": {
   "codemirror_mode": {
    "name": "ipython",
    "version": 3
   },
   "file_extension": ".py",
   "mimetype": "text/x-python",
   "name": "python",
   "nbconvert_exporter": "python",
   "pygments_lexer": "ipython3",
   "version": "3.5.1"
  }
 },
 "nbformat": 4,
 "nbformat_minor": 0
}
